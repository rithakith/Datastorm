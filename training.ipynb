{
 "cells": [
  {
   "cell_type": "code",
   "execution_count": 1,
   "id": "aa092e22",
   "metadata": {
    "_cell_guid": "b1076dfc-b9ad-4769-8c92-a6c4dae69d19",
    "_uuid": "8f2839f25d086af736a60e9eeb907d3b93b6e0e5",
    "execution": {
     "iopub.execute_input": "2024-05-18T17:16:40.274399Z",
     "iopub.status.busy": "2024-05-18T17:16:40.273917Z",
     "iopub.status.idle": "2024-05-18T17:16:42.476548Z",
     "shell.execute_reply": "2024-05-18T17:16:42.475440Z"
    },
    "papermill": {
     "duration": 2.213384,
     "end_time": "2024-05-18T17:16:42.478790",
     "exception": false,
     "start_time": "2024-05-18T17:16:40.265406",
     "status": "completed"
    },
    "tags": []
   },
   "outputs": [
    {
     "name": "stdout",
     "output_type": "stream",
     "text": [
      "/kaggle/input/cleaned-train-df/cleanedTrain.csv\n"
     ]
    }
   ],
   "source": [
    "# This Python 3 environment comes with many helpful analytics libraries installed\n",
    "# It is defined by the kaggle/python Docker image: https://github.com/kaggle/docker-python\n",
    "# For example, here's several helpful packages to load\n",
    "\n",
    "import numpy as np # linear algebra\n",
    "import pandas as pd # data processing, CSV file I/O (e.g. pd.read_csv)\n",
    "from sklearn.model_selection import train_test_split\n",
    "\n",
    "\n",
    "# Input data files are available in the read-only \"../input/\" directory\n",
    "# For example, running this (by clicking run or pressing Shift+Enter) will list all files under the input directory\n",
    "\n",
    "import os\n",
    "for dirname, _, filenames in os.walk('/kaggle/input'):\n",
    "    for filename in filenames:\n",
    "        print(os.path.join(dirname, filename))\n",
    "\n",
    "# You can write up to 20GB to the current directory (/kaggle/working/) that gets preserved as output when you create a version using \"Save & Run All\" \n",
    "# You can also write temporary files to /kaggle/temp/, but they won't be saved outside of the current session"
   ]
  },
  {
   "cell_type": "markdown",
   "id": "93ba802e",
   "metadata": {
    "papermill": {
     "duration": 0.005905,
     "end_time": "2024-05-18T17:16:42.490898",
     "exception": false,
     "start_time": "2024-05-18T17:16:42.484993",
     "status": "completed"
    },
    "tags": []
   },
   "source": [
    "Downloading the dataset\n"
   ]
  },
  {
   "cell_type": "code",
   "execution_count": 2,
   "id": "543a74b8",
   "metadata": {
    "execution": {
     "iopub.execute_input": "2024-05-18T17:16:42.505231Z",
     "iopub.status.busy": "2024-05-18T17:16:42.504393Z",
     "iopub.status.idle": "2024-05-18T17:16:47.581651Z",
     "shell.execute_reply": "2024-05-18T17:16:47.580465Z"
    },
    "papermill": {
     "duration": 5.086924,
     "end_time": "2024-05-18T17:16:47.583866",
     "exception": false,
     "start_time": "2024-05-18T17:16:42.496942",
     "status": "completed"
    },
    "tags": []
   },
   "outputs": [
    {
     "data": {
      "text/html": [
       "<div>\n",
       "<style scoped>\n",
       "    .dataframe tbody tr th:only-of-type {\n",
       "        vertical-align: middle;\n",
       "    }\n",
       "\n",
       "    .dataframe tbody tr th {\n",
       "        vertical-align: top;\n",
       "    }\n",
       "\n",
       "    .dataframe thead th {\n",
       "        text-align: right;\n",
       "    }\n",
       "</style>\n",
       "<table border=\"1\" class=\"dataframe\">\n",
       "  <thead>\n",
       "    <tr style=\"text-align: right;\">\n",
       "      <th></th>\n",
       "      <th>Customer_ID</th>\n",
       "      <th>luxury_sales</th>\n",
       "      <th>fresh_sales</th>\n",
       "      <th>dry_sales</th>\n",
       "      <th>cluster_catgeory</th>\n",
       "      <th>outlet_city_Batticaloa</th>\n",
       "      <th>outlet_city_Colombo</th>\n",
       "      <th>outlet_city_Dehiwala-Mount Lavinia</th>\n",
       "      <th>outlet_city_Galle</th>\n",
       "      <th>outlet_city_Gampaha</th>\n",
       "      <th>...</th>\n",
       "      <th>outlet_city_Kelaniya</th>\n",
       "      <th>outlet_city_Kotte</th>\n",
       "      <th>outlet_city_Moratuwa</th>\n",
       "      <th>outlet_city_Negombo</th>\n",
       "      <th>outlet_city_Nuwara Eliya</th>\n",
       "      <th>outlet_city_Panadura</th>\n",
       "      <th>outlet_city_Peliyagoda</th>\n",
       "      <th>outlet_city_Trincomalee</th>\n",
       "      <th>outlet_city_Wattala</th>\n",
       "      <th>total_sales</th>\n",
       "    </tr>\n",
       "  </thead>\n",
       "  <tbody>\n",
       "    <tr>\n",
       "      <th>0</th>\n",
       "      <td>10493832</td>\n",
       "      <td>-0.709489</td>\n",
       "      <td>-1.101399</td>\n",
       "      <td>0.180599</td>\n",
       "      <td>4</td>\n",
       "      <td>False</td>\n",
       "      <td>False</td>\n",
       "      <td>False</td>\n",
       "      <td>False</td>\n",
       "      <td>False</td>\n",
       "      <td>...</td>\n",
       "      <td>True</td>\n",
       "      <td>False</td>\n",
       "      <td>False</td>\n",
       "      <td>False</td>\n",
       "      <td>False</td>\n",
       "      <td>False</td>\n",
       "      <td>False</td>\n",
       "      <td>False</td>\n",
       "      <td>False</td>\n",
       "      <td>-0.982408</td>\n",
       "    </tr>\n",
       "    <tr>\n",
       "      <th>1</th>\n",
       "      <td>10178643</td>\n",
       "      <td>-0.330507</td>\n",
       "      <td>-1.010208</td>\n",
       "      <td>0.390355</td>\n",
       "      <td>1</td>\n",
       "      <td>False</td>\n",
       "      <td>False</td>\n",
       "      <td>False</td>\n",
       "      <td>False</td>\n",
       "      <td>False</td>\n",
       "      <td>...</td>\n",
       "      <td>False</td>\n",
       "      <td>False</td>\n",
       "      <td>True</td>\n",
       "      <td>False</td>\n",
       "      <td>False</td>\n",
       "      <td>False</td>\n",
       "      <td>False</td>\n",
       "      <td>False</td>\n",
       "      <td>False</td>\n",
       "      <td>-0.617597</td>\n",
       "    </tr>\n",
       "    <tr>\n",
       "      <th>2</th>\n",
       "      <td>10513916</td>\n",
       "      <td>0.365429</td>\n",
       "      <td>-0.883967</td>\n",
       "      <td>1.313829</td>\n",
       "      <td>4</td>\n",
       "      <td>False</td>\n",
       "      <td>False</td>\n",
       "      <td>False</td>\n",
       "      <td>False</td>\n",
       "      <td>False</td>\n",
       "      <td>...</td>\n",
       "      <td>False</td>\n",
       "      <td>False</td>\n",
       "      <td>False</td>\n",
       "      <td>False</td>\n",
       "      <td>False</td>\n",
       "      <td>False</td>\n",
       "      <td>False</td>\n",
       "      <td>False</td>\n",
       "      <td>True</td>\n",
       "      <td>0.494808</td>\n",
       "    </tr>\n",
       "    <tr>\n",
       "      <th>3</th>\n",
       "      <td>10334589</td>\n",
       "      <td>0.351545</td>\n",
       "      <td>-0.806410</td>\n",
       "      <td>1.297473</td>\n",
       "      <td>4</td>\n",
       "      <td>False</td>\n",
       "      <td>False</td>\n",
       "      <td>False</td>\n",
       "      <td>False</td>\n",
       "      <td>False</td>\n",
       "      <td>...</td>\n",
       "      <td>False</td>\n",
       "      <td>False</td>\n",
       "      <td>False</td>\n",
       "      <td>False</td>\n",
       "      <td>False</td>\n",
       "      <td>False</td>\n",
       "      <td>False</td>\n",
       "      <td>False</td>\n",
       "      <td>True</td>\n",
       "      <td>0.544047</td>\n",
       "    </tr>\n",
       "    <tr>\n",
       "      <th>4</th>\n",
       "      <td>10458365</td>\n",
       "      <td>0.421810</td>\n",
       "      <td>-0.707480</td>\n",
       "      <td>1.339778</td>\n",
       "      <td>4</td>\n",
       "      <td>False</td>\n",
       "      <td>False</td>\n",
       "      <td>False</td>\n",
       "      <td>False</td>\n",
       "      <td>False</td>\n",
       "      <td>...</td>\n",
       "      <td>True</td>\n",
       "      <td>False</td>\n",
       "      <td>False</td>\n",
       "      <td>False</td>\n",
       "      <td>False</td>\n",
       "      <td>False</td>\n",
       "      <td>False</td>\n",
       "      <td>False</td>\n",
       "      <td>False</td>\n",
       "      <td>0.686005</td>\n",
       "    </tr>\n",
       "  </tbody>\n",
       "</table>\n",
       "<p>5 rows × 26 columns</p>\n",
       "</div>"
      ],
      "text/plain": [
       "   Customer_ID  luxury_sales  fresh_sales  dry_sales  cluster_catgeory  \\\n",
       "0     10493832     -0.709489    -1.101399   0.180599                 4   \n",
       "1     10178643     -0.330507    -1.010208   0.390355                 1   \n",
       "2     10513916      0.365429    -0.883967   1.313829                 4   \n",
       "3     10334589      0.351545    -0.806410   1.297473                 4   \n",
       "4     10458365      0.421810    -0.707480   1.339778                 4   \n",
       "\n",
       "   outlet_city_Batticaloa  outlet_city_Colombo  \\\n",
       "0                   False                False   \n",
       "1                   False                False   \n",
       "2                   False                False   \n",
       "3                   False                False   \n",
       "4                   False                False   \n",
       "\n",
       "   outlet_city_Dehiwala-Mount Lavinia  outlet_city_Galle  outlet_city_Gampaha  \\\n",
       "0                               False              False                False   \n",
       "1                               False              False                False   \n",
       "2                               False              False                False   \n",
       "3                               False              False                False   \n",
       "4                               False              False                False   \n",
       "\n",
       "   ...  outlet_city_Kelaniya  outlet_city_Kotte  outlet_city_Moratuwa  \\\n",
       "0  ...                  True              False                 False   \n",
       "1  ...                 False              False                  True   \n",
       "2  ...                 False              False                 False   \n",
       "3  ...                 False              False                 False   \n",
       "4  ...                  True              False                 False   \n",
       "\n",
       "   outlet_city_Negombo  outlet_city_Nuwara Eliya  outlet_city_Panadura  \\\n",
       "0                False                     False                 False   \n",
       "1                False                     False                 False   \n",
       "2                False                     False                 False   \n",
       "3                False                     False                 False   \n",
       "4                False                     False                 False   \n",
       "\n",
       "   outlet_city_Peliyagoda  outlet_city_Trincomalee  outlet_city_Wattala  \\\n",
       "0                   False                    False                False   \n",
       "1                   False                    False                False   \n",
       "2                   False                    False                 True   \n",
       "3                   False                    False                 True   \n",
       "4                   False                    False                False   \n",
       "\n",
       "   total_sales  \n",
       "0    -0.982408  \n",
       "1    -0.617597  \n",
       "2     0.494808  \n",
       "3     0.544047  \n",
       "4     0.686005  \n",
       "\n",
       "[5 rows x 26 columns]"
      ]
     },
     "execution_count": 2,
     "metadata": {},
     "output_type": "execute_result"
    }
   ],
   "source": [
    "cleaned_train_df=pd.read_csv(\"/kaggle/input/cleaned-train-df/cleanedTrain.csv\")\n",
    "cleaned_train_df.head()"
   ]
  },
  {
   "cell_type": "code",
   "execution_count": 3,
   "id": "df28bdb7",
   "metadata": {
    "execution": {
     "iopub.execute_input": "2024-05-18T17:16:47.599307Z",
     "iopub.status.busy": "2024-05-18T17:16:47.598903Z",
     "iopub.status.idle": "2024-05-18T17:16:47.605670Z",
     "shell.execute_reply": "2024-05-18T17:16:47.604632Z"
    },
    "papermill": {
     "duration": 0.016889,
     "end_time": "2024-05-18T17:16:47.607878",
     "exception": false,
     "start_time": "2024-05-18T17:16:47.590989",
     "status": "completed"
    },
    "tags": []
   },
   "outputs": [
    {
     "data": {
      "text/plain": [
       "Index(['Customer_ID', 'luxury_sales', 'fresh_sales', 'dry_sales',\n",
       "       'cluster_catgeory', 'outlet_city_Batticaloa', 'outlet_city_Colombo',\n",
       "       'outlet_city_Dehiwala-Mount Lavinia', 'outlet_city_Galle',\n",
       "       'outlet_city_Gampaha', 'outlet_city_Homagama', 'outlet_city_Jaffna',\n",
       "       'outlet_city_Kaduwela', 'outlet_city_Kalmunai', 'outlet_city_Kandy',\n",
       "       'outlet_city_Katunayake', 'outlet_city_Kelaniya', 'outlet_city_Kotte',\n",
       "       'outlet_city_Moratuwa', 'outlet_city_Negombo',\n",
       "       'outlet_city_Nuwara Eliya', 'outlet_city_Panadura',\n",
       "       'outlet_city_Peliyagoda', 'outlet_city_Trincomalee',\n",
       "       'outlet_city_Wattala', 'total_sales'],\n",
       "      dtype='object')"
      ]
     },
     "execution_count": 3,
     "metadata": {},
     "output_type": "execute_result"
    }
   ],
   "source": [
    "cleaned_train_df.columns\n"
   ]
  },
  {
   "cell_type": "markdown",
   "id": "d093ec15",
   "metadata": {
    "papermill": {
     "duration": 0.00681,
     "end_time": "2024-05-18T17:16:47.621222",
     "exception": false,
     "start_time": "2024-05-18T17:16:47.614412",
     "status": "completed"
    },
    "tags": []
   },
   "source": [
    "#  splitting data"
   ]
  },
  {
   "cell_type": "code",
   "execution_count": 4,
   "id": "f10f8df3",
   "metadata": {
    "execution": {
     "iopub.execute_input": "2024-05-18T17:16:47.636171Z",
     "iopub.status.busy": "2024-05-18T17:16:47.635785Z",
     "iopub.status.idle": "2024-05-18T17:16:47.662391Z",
     "shell.execute_reply": "2024-05-18T17:16:47.661082Z"
    },
    "papermill": {
     "duration": 0.037143,
     "end_time": "2024-05-18T17:16:47.664975",
     "exception": false,
     "start_time": "2024-05-18T17:16:47.627832",
     "status": "completed"
    },
    "tags": []
   },
   "outputs": [],
   "source": [
    "X = cleaned_train_df[['Customer_ID', 'luxury_sales', 'fresh_sales', 'dry_sales',\n",
    "       'outlet_city_Batticaloa', 'outlet_city_Colombo',\n",
    "       'outlet_city_Dehiwala-Mount Lavinia', 'outlet_city_Galle',\n",
    "       'outlet_city_Gampaha', 'outlet_city_Homagama', 'outlet_city_Jaffna',\n",
    "       'outlet_city_Kaduwela', 'outlet_city_Kalmunai', 'outlet_city_Kandy',\n",
    "       'outlet_city_Katunayake', 'outlet_city_Kelaniya', 'outlet_city_Kotte',\n",
    "       'outlet_city_Moratuwa', 'outlet_city_Negombo',\n",
    "       'outlet_city_Nuwara Eliya', 'outlet_city_Panadura',\n",
    "       'outlet_city_Peliyagoda', 'outlet_city_Trincomalee',\n",
    "       'outlet_city_Wattala', 'total_sales']]\n",
    "y = cleaned_train_df['cluster_catgeory']"
   ]
  },
  {
   "cell_type": "code",
   "execution_count": 5,
   "id": "28b8bed8",
   "metadata": {
    "execution": {
     "iopub.execute_input": "2024-05-18T17:16:47.680310Z",
     "iopub.status.busy": "2024-05-18T17:16:47.679899Z",
     "iopub.status.idle": "2024-05-18T17:16:47.830586Z",
     "shell.execute_reply": "2024-05-18T17:16:47.829426Z"
    },
    "papermill": {
     "duration": 0.161945,
     "end_time": "2024-05-18T17:16:47.833756",
     "exception": false,
     "start_time": "2024-05-18T17:16:47.671811",
     "status": "completed"
    },
    "tags": []
   },
   "outputs": [],
   "source": [
    "X_train, X_val, y_train, y_val = train_test_split(X, y, test_size=0.2, random_state=42)\n"
   ]
  },
  {
   "cell_type": "markdown",
   "id": "0ea7d8ad",
   "metadata": {
    "papermill": {
     "duration": 0.006466,
     "end_time": "2024-05-18T17:16:47.848299",
     "exception": false,
     "start_time": "2024-05-18T17:16:47.841833",
     "status": "completed"
    },
    "tags": []
   },
   "source": [
    "# Logistic Regression\n"
   ]
  },
  {
   "cell_type": "code",
   "execution_count": 6,
   "id": "d317a73b",
   "metadata": {
    "execution": {
     "iopub.execute_input": "2024-05-18T17:16:47.863713Z",
     "iopub.status.busy": "2024-05-18T17:16:47.863315Z",
     "iopub.status.idle": "2024-05-18T17:16:47.974361Z",
     "shell.execute_reply": "2024-05-18T17:16:47.973116Z"
    },
    "papermill": {
     "duration": 0.121845,
     "end_time": "2024-05-18T17:16:47.976918",
     "exception": false,
     "start_time": "2024-05-18T17:16:47.855073",
     "status": "completed"
    },
    "tags": []
   },
   "outputs": [],
   "source": [
    "from sklearn.linear_model import LogisticRegression\n",
    "from sklearn.metrics import accuracy_score, classification_report\n",
    "from sklearn.model_selection import train_test_split"
   ]
  },
  {
   "cell_type": "code",
   "execution_count": 7,
   "id": "4ef7fa83",
   "metadata": {
    "execution": {
     "iopub.execute_input": "2024-05-18T17:16:47.993106Z",
     "iopub.status.busy": "2024-05-18T17:16:47.992700Z",
     "iopub.status.idle": "2024-05-18T17:16:52.107732Z",
     "shell.execute_reply": "2024-05-18T17:16:52.106671Z"
    },
    "papermill": {
     "duration": 4.125487,
     "end_time": "2024-05-18T17:16:52.110185",
     "exception": false,
     "start_time": "2024-05-18T17:16:47.984698",
     "status": "completed"
    },
    "tags": []
   },
   "outputs": [
    {
     "data": {
      "text/html": [
       "<style>#sk-container-id-1 {color: black;background-color: white;}#sk-container-id-1 pre{padding: 0;}#sk-container-id-1 div.sk-toggleable {background-color: white;}#sk-container-id-1 label.sk-toggleable__label {cursor: pointer;display: block;width: 100%;margin-bottom: 0;padding: 0.3em;box-sizing: border-box;text-align: center;}#sk-container-id-1 label.sk-toggleable__label-arrow:before {content: \"▸\";float: left;margin-right: 0.25em;color: #696969;}#sk-container-id-1 label.sk-toggleable__label-arrow:hover:before {color: black;}#sk-container-id-1 div.sk-estimator:hover label.sk-toggleable__label-arrow:before {color: black;}#sk-container-id-1 div.sk-toggleable__content {max-height: 0;max-width: 0;overflow: hidden;text-align: left;background-color: #f0f8ff;}#sk-container-id-1 div.sk-toggleable__content pre {margin: 0.2em;color: black;border-radius: 0.25em;background-color: #f0f8ff;}#sk-container-id-1 input.sk-toggleable__control:checked~div.sk-toggleable__content {max-height: 200px;max-width: 100%;overflow: auto;}#sk-container-id-1 input.sk-toggleable__control:checked~label.sk-toggleable__label-arrow:before {content: \"▾\";}#sk-container-id-1 div.sk-estimator input.sk-toggleable__control:checked~label.sk-toggleable__label {background-color: #d4ebff;}#sk-container-id-1 div.sk-label input.sk-toggleable__control:checked~label.sk-toggleable__label {background-color: #d4ebff;}#sk-container-id-1 input.sk-hidden--visually {border: 0;clip: rect(1px 1px 1px 1px);clip: rect(1px, 1px, 1px, 1px);height: 1px;margin: -1px;overflow: hidden;padding: 0;position: absolute;width: 1px;}#sk-container-id-1 div.sk-estimator {font-family: monospace;background-color: #f0f8ff;border: 1px dotted black;border-radius: 0.25em;box-sizing: border-box;margin-bottom: 0.5em;}#sk-container-id-1 div.sk-estimator:hover {background-color: #d4ebff;}#sk-container-id-1 div.sk-parallel-item::after {content: \"\";width: 100%;border-bottom: 1px solid gray;flex-grow: 1;}#sk-container-id-1 div.sk-label:hover label.sk-toggleable__label {background-color: #d4ebff;}#sk-container-id-1 div.sk-serial::before {content: \"\";position: absolute;border-left: 1px solid gray;box-sizing: border-box;top: 0;bottom: 0;left: 50%;z-index: 0;}#sk-container-id-1 div.sk-serial {display: flex;flex-direction: column;align-items: center;background-color: white;padding-right: 0.2em;padding-left: 0.2em;position: relative;}#sk-container-id-1 div.sk-item {position: relative;z-index: 1;}#sk-container-id-1 div.sk-parallel {display: flex;align-items: stretch;justify-content: center;background-color: white;position: relative;}#sk-container-id-1 div.sk-item::before, #sk-container-id-1 div.sk-parallel-item::before {content: \"\";position: absolute;border-left: 1px solid gray;box-sizing: border-box;top: 0;bottom: 0;left: 50%;z-index: -1;}#sk-container-id-1 div.sk-parallel-item {display: flex;flex-direction: column;z-index: 1;position: relative;background-color: white;}#sk-container-id-1 div.sk-parallel-item:first-child::after {align-self: flex-end;width: 50%;}#sk-container-id-1 div.sk-parallel-item:last-child::after {align-self: flex-start;width: 50%;}#sk-container-id-1 div.sk-parallel-item:only-child::after {width: 0;}#sk-container-id-1 div.sk-dashed-wrapped {border: 1px dashed gray;margin: 0 0.4em 0.5em 0.4em;box-sizing: border-box;padding-bottom: 0.4em;background-color: white;}#sk-container-id-1 div.sk-label label {font-family: monospace;font-weight: bold;display: inline-block;line-height: 1.2em;}#sk-container-id-1 div.sk-label-container {text-align: center;}#sk-container-id-1 div.sk-container {/* jupyter's `normalize.less` sets `[hidden] { display: none; }` but bootstrap.min.css set `[hidden] { display: none !important; }` so we also need the `!important` here to be able to override the default hidden behavior on the sphinx rendered scikit-learn.org. See: https://github.com/scikit-learn/scikit-learn/issues/21755 */display: inline-block !important;position: relative;}#sk-container-id-1 div.sk-text-repr-fallback {display: none;}</style><div id=\"sk-container-id-1\" class=\"sk-top-container\"><div class=\"sk-text-repr-fallback\"><pre>LogisticRegression(max_iter=200, multi_class=&#x27;multinomial&#x27;, random_state=42)</pre><b>In a Jupyter environment, please rerun this cell to show the HTML representation or trust the notebook. <br />On GitHub, the HTML representation is unable to render, please try loading this page with nbviewer.org.</b></div><div class=\"sk-container\" hidden><div class=\"sk-item\"><div class=\"sk-estimator sk-toggleable\"><input class=\"sk-toggleable__control sk-hidden--visually\" id=\"sk-estimator-id-1\" type=\"checkbox\" checked><label for=\"sk-estimator-id-1\" class=\"sk-toggleable__label sk-toggleable__label-arrow\">LogisticRegression</label><div class=\"sk-toggleable__content\"><pre>LogisticRegression(max_iter=200, multi_class=&#x27;multinomial&#x27;, random_state=42)</pre></div></div></div></div></div>"
      ],
      "text/plain": [
       "LogisticRegression(max_iter=200, multi_class='multinomial', random_state=42)"
      ]
     },
     "execution_count": 7,
     "metadata": {},
     "output_type": "execute_result"
    }
   ],
   "source": [
    "# Initialize and train the Logistic Regression model\n",
    "lr_model = LogisticRegression(multi_class='multinomial', solver='lbfgs', max_iter=200, random_state=42)\n",
    "lr_model.fit(X_train, y_train)"
   ]
  },
  {
   "cell_type": "code",
   "execution_count": 8,
   "id": "3e71b319",
   "metadata": {
    "execution": {
     "iopub.execute_input": "2024-05-18T17:16:52.125528Z",
     "iopub.status.busy": "2024-05-18T17:16:52.125111Z",
     "iopub.status.idle": "2024-05-18T17:16:52.174701Z",
     "shell.execute_reply": "2024-05-18T17:16:52.173433Z"
    },
    "papermill": {
     "duration": 0.061242,
     "end_time": "2024-05-18T17:16:52.178340",
     "exception": false,
     "start_time": "2024-05-18T17:16:52.117098",
     "status": "completed"
    },
    "tags": []
   },
   "outputs": [],
   "source": [
    "# Make predictions on the validation set\n",
    "y_pred = lr_model.predict(X_val)"
   ]
  },
  {
   "cell_type": "code",
   "execution_count": 9,
   "id": "d294024d",
   "metadata": {
    "execution": {
     "iopub.execute_input": "2024-05-18T17:16:52.204020Z",
     "iopub.status.busy": "2024-05-18T17:16:52.203292Z",
     "iopub.status.idle": "2024-05-18T17:16:52.501089Z",
     "shell.execute_reply": "2024-05-18T17:16:52.499893Z"
    },
    "papermill": {
     "duration": 0.312914,
     "end_time": "2024-05-18T17:16:52.503437",
     "exception": false,
     "start_time": "2024-05-18T17:16:52.190523",
     "status": "completed"
    },
    "tags": []
   },
   "outputs": [
    {
     "name": "stdout",
     "output_type": "stream",
     "text": [
      "Accuracy: 0.2445456306917264\n",
      "              precision    recall  f1-score   support\n",
      "\n",
      "           1       0.24      1.00      0.39     37863\n",
      "           2       0.00      0.00      0.00     30989\n",
      "           3       0.00      0.00      0.00      9645\n",
      "           4       0.00      0.00      0.00     34418\n",
      "           5       0.00      0.00      0.00      7934\n",
      "           6       0.00      0.00      0.00     33981\n",
      "\n",
      "    accuracy                           0.24    154830\n",
      "   macro avg       0.04      0.17      0.07    154830\n",
      "weighted avg       0.06      0.24      0.10    154830\n",
      "\n"
     ]
    },
    {
     "name": "stderr",
     "output_type": "stream",
     "text": [
      "/opt/conda/lib/python3.10/site-packages/sklearn/metrics/_classification.py:1344: UndefinedMetricWarning: Precision and F-score are ill-defined and being set to 0.0 in labels with no predicted samples. Use `zero_division` parameter to control this behavior.\n",
      "  _warn_prf(average, modifier, msg_start, len(result))\n",
      "/opt/conda/lib/python3.10/site-packages/sklearn/metrics/_classification.py:1344: UndefinedMetricWarning: Precision and F-score are ill-defined and being set to 0.0 in labels with no predicted samples. Use `zero_division` parameter to control this behavior.\n",
      "  _warn_prf(average, modifier, msg_start, len(result))\n",
      "/opt/conda/lib/python3.10/site-packages/sklearn/metrics/_classification.py:1344: UndefinedMetricWarning: Precision and F-score are ill-defined and being set to 0.0 in labels with no predicted samples. Use `zero_division` parameter to control this behavior.\n",
      "  _warn_prf(average, modifier, msg_start, len(result))\n"
     ]
    }
   ],
   "source": [
    "# Evaluate model performance\n",
    "accuracy = accuracy_score(y_val, y_pred)\n",
    "print(\"Accuracy:\", accuracy)\n",
    "print(classification_report(y_val, y_pred))"
   ]
  },
  {
   "cell_type": "markdown",
   "id": "5dea7dbd",
   "metadata": {
    "papermill": {
     "duration": 0.006843,
     "end_time": "2024-05-18T17:16:52.517482",
     "exception": false,
     "start_time": "2024-05-18T17:16:52.510639",
     "status": "completed"
    },
    "tags": []
   },
   "source": [
    "# KNN Algorithm"
   ]
  },
  {
   "cell_type": "code",
   "execution_count": 10,
   "id": "23640fd0",
   "metadata": {
    "execution": {
     "iopub.execute_input": "2024-05-18T17:16:52.533700Z",
     "iopub.status.busy": "2024-05-18T17:16:52.533330Z",
     "iopub.status.idle": "2024-05-18T17:16:52.605359Z",
     "shell.execute_reply": "2024-05-18T17:16:52.604197Z"
    },
    "papermill": {
     "duration": 0.083249,
     "end_time": "2024-05-18T17:16:52.608086",
     "exception": false,
     "start_time": "2024-05-18T17:16:52.524837",
     "status": "completed"
    },
    "tags": []
   },
   "outputs": [],
   "source": [
    "from sklearn.neighbors import KNeighborsClassifier\n",
    "from sklearn.metrics import accuracy_score, classification_report\n",
    "from sklearn.model_selection import train_test_split"
   ]
  },
  {
   "cell_type": "code",
   "execution_count": 11,
   "id": "1e40b039",
   "metadata": {
    "execution": {
     "iopub.execute_input": "2024-05-18T17:16:52.624599Z",
     "iopub.status.busy": "2024-05-18T17:16:52.624115Z",
     "iopub.status.idle": "2024-05-18T17:16:52.820316Z",
     "shell.execute_reply": "2024-05-18T17:16:52.819214Z"
    },
    "papermill": {
     "duration": 0.206665,
     "end_time": "2024-05-18T17:16:52.822468",
     "exception": false,
     "start_time": "2024-05-18T17:16:52.615803",
     "status": "completed"
    },
    "tags": []
   },
   "outputs": [
    {
     "data": {
      "text/html": [
       "<style>#sk-container-id-2 {color: black;background-color: white;}#sk-container-id-2 pre{padding: 0;}#sk-container-id-2 div.sk-toggleable {background-color: white;}#sk-container-id-2 label.sk-toggleable__label {cursor: pointer;display: block;width: 100%;margin-bottom: 0;padding: 0.3em;box-sizing: border-box;text-align: center;}#sk-container-id-2 label.sk-toggleable__label-arrow:before {content: \"▸\";float: left;margin-right: 0.25em;color: #696969;}#sk-container-id-2 label.sk-toggleable__label-arrow:hover:before {color: black;}#sk-container-id-2 div.sk-estimator:hover label.sk-toggleable__label-arrow:before {color: black;}#sk-container-id-2 div.sk-toggleable__content {max-height: 0;max-width: 0;overflow: hidden;text-align: left;background-color: #f0f8ff;}#sk-container-id-2 div.sk-toggleable__content pre {margin: 0.2em;color: black;border-radius: 0.25em;background-color: #f0f8ff;}#sk-container-id-2 input.sk-toggleable__control:checked~div.sk-toggleable__content {max-height: 200px;max-width: 100%;overflow: auto;}#sk-container-id-2 input.sk-toggleable__control:checked~label.sk-toggleable__label-arrow:before {content: \"▾\";}#sk-container-id-2 div.sk-estimator input.sk-toggleable__control:checked~label.sk-toggleable__label {background-color: #d4ebff;}#sk-container-id-2 div.sk-label input.sk-toggleable__control:checked~label.sk-toggleable__label {background-color: #d4ebff;}#sk-container-id-2 input.sk-hidden--visually {border: 0;clip: rect(1px 1px 1px 1px);clip: rect(1px, 1px, 1px, 1px);height: 1px;margin: -1px;overflow: hidden;padding: 0;position: absolute;width: 1px;}#sk-container-id-2 div.sk-estimator {font-family: monospace;background-color: #f0f8ff;border: 1px dotted black;border-radius: 0.25em;box-sizing: border-box;margin-bottom: 0.5em;}#sk-container-id-2 div.sk-estimator:hover {background-color: #d4ebff;}#sk-container-id-2 div.sk-parallel-item::after {content: \"\";width: 100%;border-bottom: 1px solid gray;flex-grow: 1;}#sk-container-id-2 div.sk-label:hover label.sk-toggleable__label {background-color: #d4ebff;}#sk-container-id-2 div.sk-serial::before {content: \"\";position: absolute;border-left: 1px solid gray;box-sizing: border-box;top: 0;bottom: 0;left: 50%;z-index: 0;}#sk-container-id-2 div.sk-serial {display: flex;flex-direction: column;align-items: center;background-color: white;padding-right: 0.2em;padding-left: 0.2em;position: relative;}#sk-container-id-2 div.sk-item {position: relative;z-index: 1;}#sk-container-id-2 div.sk-parallel {display: flex;align-items: stretch;justify-content: center;background-color: white;position: relative;}#sk-container-id-2 div.sk-item::before, #sk-container-id-2 div.sk-parallel-item::before {content: \"\";position: absolute;border-left: 1px solid gray;box-sizing: border-box;top: 0;bottom: 0;left: 50%;z-index: -1;}#sk-container-id-2 div.sk-parallel-item {display: flex;flex-direction: column;z-index: 1;position: relative;background-color: white;}#sk-container-id-2 div.sk-parallel-item:first-child::after {align-self: flex-end;width: 50%;}#sk-container-id-2 div.sk-parallel-item:last-child::after {align-self: flex-start;width: 50%;}#sk-container-id-2 div.sk-parallel-item:only-child::after {width: 0;}#sk-container-id-2 div.sk-dashed-wrapped {border: 1px dashed gray;margin: 0 0.4em 0.5em 0.4em;box-sizing: border-box;padding-bottom: 0.4em;background-color: white;}#sk-container-id-2 div.sk-label label {font-family: monospace;font-weight: bold;display: inline-block;line-height: 1.2em;}#sk-container-id-2 div.sk-label-container {text-align: center;}#sk-container-id-2 div.sk-container {/* jupyter's `normalize.less` sets `[hidden] { display: none; }` but bootstrap.min.css set `[hidden] { display: none !important; }` so we also need the `!important` here to be able to override the default hidden behavior on the sphinx rendered scikit-learn.org. See: https://github.com/scikit-learn/scikit-learn/issues/21755 */display: inline-block !important;position: relative;}#sk-container-id-2 div.sk-text-repr-fallback {display: none;}</style><div id=\"sk-container-id-2\" class=\"sk-top-container\"><div class=\"sk-text-repr-fallback\"><pre>KNeighborsClassifier()</pre><b>In a Jupyter environment, please rerun this cell to show the HTML representation or trust the notebook. <br />On GitHub, the HTML representation is unable to render, please try loading this page with nbviewer.org.</b></div><div class=\"sk-container\" hidden><div class=\"sk-item\"><div class=\"sk-estimator sk-toggleable\"><input class=\"sk-toggleable__control sk-hidden--visually\" id=\"sk-estimator-id-2\" type=\"checkbox\" checked><label for=\"sk-estimator-id-2\" class=\"sk-toggleable__label sk-toggleable__label-arrow\">KNeighborsClassifier</label><div class=\"sk-toggleable__content\"><pre>KNeighborsClassifier()</pre></div></div></div></div></div>"
      ],
      "text/plain": [
       "KNeighborsClassifier()"
      ]
     },
     "execution_count": 11,
     "metadata": {},
     "output_type": "execute_result"
    }
   ],
   "source": [
    "knn_model = KNeighborsClassifier(n_neighbors=5)  # You can choose different k values\n",
    "knn_model.fit(X_train, y_train)"
   ]
  },
  {
   "cell_type": "code",
   "execution_count": 12,
   "id": "406d1c11",
   "metadata": {
    "execution": {
     "iopub.execute_input": "2024-05-18T17:16:52.838785Z",
     "iopub.status.busy": "2024-05-18T17:16:52.838409Z",
     "iopub.status.idle": "2024-05-18T17:20:42.270723Z",
     "shell.execute_reply": "2024-05-18T17:20:42.269507Z"
    },
    "papermill": {
     "duration": 229.443536,
     "end_time": "2024-05-18T17:20:42.273453",
     "exception": false,
     "start_time": "2024-05-18T17:16:52.829917",
     "status": "completed"
    },
    "tags": []
   },
   "outputs": [],
   "source": [
    "y_pred = knn_model.predict(X_val)"
   ]
  },
  {
   "cell_type": "code",
   "execution_count": 13,
   "id": "db462ab8",
   "metadata": {
    "execution": {
     "iopub.execute_input": "2024-05-18T17:20:42.290904Z",
     "iopub.status.busy": "2024-05-18T17:20:42.290001Z",
     "iopub.status.idle": "2024-05-18T17:20:42.614837Z",
     "shell.execute_reply": "2024-05-18T17:20:42.613567Z"
    },
    "papermill": {
     "duration": 0.336032,
     "end_time": "2024-05-18T17:20:42.617393",
     "exception": false,
     "start_time": "2024-05-18T17:20:42.281361",
     "status": "completed"
    },
    "tags": []
   },
   "outputs": [
    {
     "name": "stdout",
     "output_type": "stream",
     "text": [
      "Accuracy: 0.2666149970935865\n",
      "              precision    recall  f1-score   support\n",
      "\n",
      "           1       0.29      0.44      0.35     37863\n",
      "           2       0.24      0.28      0.26     30989\n",
      "           3       0.12      0.04      0.06      9645\n",
      "           4       0.25      0.25      0.25     34418\n",
      "           5       0.07      0.02      0.03      7934\n",
      "           6       0.31      0.20      0.24     33981\n",
      "\n",
      "    accuracy                           0.27    154830\n",
      "   macro avg       0.21      0.20      0.20    154830\n",
      "weighted avg       0.25      0.27      0.25    154830\n",
      "\n"
     ]
    }
   ],
   "source": [
    "accuracy = accuracy_score(y_val, y_pred)\n",
    "print(\"Accuracy:\", accuracy)\n",
    "print(classification_report(y_val, y_pred))"
   ]
  },
  {
   "cell_type": "markdown",
   "id": "d8db7966",
   "metadata": {
    "papermill": {
     "duration": 0.007583,
     "end_time": "2024-05-18T17:20:42.632557",
     "exception": false,
     "start_time": "2024-05-18T17:20:42.624974",
     "status": "completed"
    },
    "tags": []
   },
   "source": [
    "# Naive Bayes"
   ]
  },
  {
   "cell_type": "code",
   "execution_count": 14,
   "id": "8e67e617",
   "metadata": {
    "execution": {
     "iopub.execute_input": "2024-05-18T17:20:42.650011Z",
     "iopub.status.busy": "2024-05-18T17:20:42.649594Z",
     "iopub.status.idle": "2024-05-18T17:20:42.657162Z",
     "shell.execute_reply": "2024-05-18T17:20:42.656123Z"
    },
    "papermill": {
     "duration": 0.018848,
     "end_time": "2024-05-18T17:20:42.659399",
     "exception": false,
     "start_time": "2024-05-18T17:20:42.640551",
     "status": "completed"
    },
    "tags": []
   },
   "outputs": [],
   "source": [
    "from sklearn.naive_bayes import GaussianNB\n",
    "from sklearn.metrics import accuracy_score, classification_report\n",
    "from sklearn.model_selection import train_test_split"
   ]
  },
  {
   "cell_type": "code",
   "execution_count": 15,
   "id": "95861005",
   "metadata": {
    "execution": {
     "iopub.execute_input": "2024-05-18T17:20:42.676358Z",
     "iopub.status.busy": "2024-05-18T17:20:42.675724Z",
     "iopub.status.idle": "2024-05-18T17:20:43.134229Z",
     "shell.execute_reply": "2024-05-18T17:20:43.133207Z"
    },
    "papermill": {
     "duration": 0.469413,
     "end_time": "2024-05-18T17:20:43.136625",
     "exception": false,
     "start_time": "2024-05-18T17:20:42.667212",
     "status": "completed"
    },
    "tags": []
   },
   "outputs": [
    {
     "data": {
      "text/html": [
       "<style>#sk-container-id-3 {color: black;background-color: white;}#sk-container-id-3 pre{padding: 0;}#sk-container-id-3 div.sk-toggleable {background-color: white;}#sk-container-id-3 label.sk-toggleable__label {cursor: pointer;display: block;width: 100%;margin-bottom: 0;padding: 0.3em;box-sizing: border-box;text-align: center;}#sk-container-id-3 label.sk-toggleable__label-arrow:before {content: \"▸\";float: left;margin-right: 0.25em;color: #696969;}#sk-container-id-3 label.sk-toggleable__label-arrow:hover:before {color: black;}#sk-container-id-3 div.sk-estimator:hover label.sk-toggleable__label-arrow:before {color: black;}#sk-container-id-3 div.sk-toggleable__content {max-height: 0;max-width: 0;overflow: hidden;text-align: left;background-color: #f0f8ff;}#sk-container-id-3 div.sk-toggleable__content pre {margin: 0.2em;color: black;border-radius: 0.25em;background-color: #f0f8ff;}#sk-container-id-3 input.sk-toggleable__control:checked~div.sk-toggleable__content {max-height: 200px;max-width: 100%;overflow: auto;}#sk-container-id-3 input.sk-toggleable__control:checked~label.sk-toggleable__label-arrow:before {content: \"▾\";}#sk-container-id-3 div.sk-estimator input.sk-toggleable__control:checked~label.sk-toggleable__label {background-color: #d4ebff;}#sk-container-id-3 div.sk-label input.sk-toggleable__control:checked~label.sk-toggleable__label {background-color: #d4ebff;}#sk-container-id-3 input.sk-hidden--visually {border: 0;clip: rect(1px 1px 1px 1px);clip: rect(1px, 1px, 1px, 1px);height: 1px;margin: -1px;overflow: hidden;padding: 0;position: absolute;width: 1px;}#sk-container-id-3 div.sk-estimator {font-family: monospace;background-color: #f0f8ff;border: 1px dotted black;border-radius: 0.25em;box-sizing: border-box;margin-bottom: 0.5em;}#sk-container-id-3 div.sk-estimator:hover {background-color: #d4ebff;}#sk-container-id-3 div.sk-parallel-item::after {content: \"\";width: 100%;border-bottom: 1px solid gray;flex-grow: 1;}#sk-container-id-3 div.sk-label:hover label.sk-toggleable__label {background-color: #d4ebff;}#sk-container-id-3 div.sk-serial::before {content: \"\";position: absolute;border-left: 1px solid gray;box-sizing: border-box;top: 0;bottom: 0;left: 50%;z-index: 0;}#sk-container-id-3 div.sk-serial {display: flex;flex-direction: column;align-items: center;background-color: white;padding-right: 0.2em;padding-left: 0.2em;position: relative;}#sk-container-id-3 div.sk-item {position: relative;z-index: 1;}#sk-container-id-3 div.sk-parallel {display: flex;align-items: stretch;justify-content: center;background-color: white;position: relative;}#sk-container-id-3 div.sk-item::before, #sk-container-id-3 div.sk-parallel-item::before {content: \"\";position: absolute;border-left: 1px solid gray;box-sizing: border-box;top: 0;bottom: 0;left: 50%;z-index: -1;}#sk-container-id-3 div.sk-parallel-item {display: flex;flex-direction: column;z-index: 1;position: relative;background-color: white;}#sk-container-id-3 div.sk-parallel-item:first-child::after {align-self: flex-end;width: 50%;}#sk-container-id-3 div.sk-parallel-item:last-child::after {align-self: flex-start;width: 50%;}#sk-container-id-3 div.sk-parallel-item:only-child::after {width: 0;}#sk-container-id-3 div.sk-dashed-wrapped {border: 1px dashed gray;margin: 0 0.4em 0.5em 0.4em;box-sizing: border-box;padding-bottom: 0.4em;background-color: white;}#sk-container-id-3 div.sk-label label {font-family: monospace;font-weight: bold;display: inline-block;line-height: 1.2em;}#sk-container-id-3 div.sk-label-container {text-align: center;}#sk-container-id-3 div.sk-container {/* jupyter's `normalize.less` sets `[hidden] { display: none; }` but bootstrap.min.css set `[hidden] { display: none !important; }` so we also need the `!important` here to be able to override the default hidden behavior on the sphinx rendered scikit-learn.org. See: https://github.com/scikit-learn/scikit-learn/issues/21755 */display: inline-block !important;position: relative;}#sk-container-id-3 div.sk-text-repr-fallback {display: none;}</style><div id=\"sk-container-id-3\" class=\"sk-top-container\"><div class=\"sk-text-repr-fallback\"><pre>GaussianNB()</pre><b>In a Jupyter environment, please rerun this cell to show the HTML representation or trust the notebook. <br />On GitHub, the HTML representation is unable to render, please try loading this page with nbviewer.org.</b></div><div class=\"sk-container\" hidden><div class=\"sk-item\"><div class=\"sk-estimator sk-toggleable\"><input class=\"sk-toggleable__control sk-hidden--visually\" id=\"sk-estimator-id-3\" type=\"checkbox\" checked><label for=\"sk-estimator-id-3\" class=\"sk-toggleable__label sk-toggleable__label-arrow\">GaussianNB</label><div class=\"sk-toggleable__content\"><pre>GaussianNB()</pre></div></div></div></div></div>"
      ],
      "text/plain": [
       "GaussianNB()"
      ]
     },
     "execution_count": 15,
     "metadata": {},
     "output_type": "execute_result"
    }
   ],
   "source": [
    "nb_model = GaussianNB()\n",
    "nb_model.fit(X_train, y_train)"
   ]
  },
  {
   "cell_type": "code",
   "execution_count": 16,
   "id": "e395ff6c",
   "metadata": {
    "execution": {
     "iopub.execute_input": "2024-05-18T17:20:43.153622Z",
     "iopub.status.busy": "2024-05-18T17:20:43.153236Z",
     "iopub.status.idle": "2024-05-18T17:20:43.361807Z",
     "shell.execute_reply": "2024-05-18T17:20:43.360783Z"
    },
    "papermill": {
     "duration": 0.220053,
     "end_time": "2024-05-18T17:20:43.364272",
     "exception": false,
     "start_time": "2024-05-18T17:20:43.144219",
     "status": "completed"
    },
    "tags": []
   },
   "outputs": [],
   "source": [
    "y_pred = nb_model.predict(X_val)\n"
   ]
  },
  {
   "cell_type": "code",
   "execution_count": 17,
   "id": "5302637f",
   "metadata": {
    "execution": {
     "iopub.execute_input": "2024-05-18T17:20:43.381073Z",
     "iopub.status.busy": "2024-05-18T17:20:43.380674Z",
     "iopub.status.idle": "2024-05-18T17:20:43.645467Z",
     "shell.execute_reply": "2024-05-18T17:20:43.644312Z"
    },
    "papermill": {
     "duration": 0.276531,
     "end_time": "2024-05-18T17:20:43.648435",
     "exception": false,
     "start_time": "2024-05-18T17:20:43.371904",
     "status": "completed"
    },
    "tags": []
   },
   "outputs": [
    {
     "name": "stdout",
     "output_type": "stream",
     "text": [
      "Accuracy: 0.2920493444422915\n",
      "              precision    recall  f1-score   support\n",
      "\n",
      "           1       0.26      1.00      0.41     37863\n",
      "           2       0.00      0.00      0.00     30989\n",
      "           3       0.00      0.00      0.00      9645\n",
      "           4       0.00      0.00      0.00     34418\n",
      "           5       0.00      0.00      0.00      7934\n",
      "           6       1.00      0.22      0.36     33981\n",
      "\n",
      "    accuracy                           0.29    154830\n",
      "   macro avg       0.21      0.20      0.13    154830\n",
      "weighted avg       0.28      0.29      0.18    154830\n",
      "\n"
     ]
    },
    {
     "name": "stderr",
     "output_type": "stream",
     "text": [
      "/opt/conda/lib/python3.10/site-packages/sklearn/metrics/_classification.py:1344: UndefinedMetricWarning: Precision and F-score are ill-defined and being set to 0.0 in labels with no predicted samples. Use `zero_division` parameter to control this behavior.\n",
      "  _warn_prf(average, modifier, msg_start, len(result))\n",
      "/opt/conda/lib/python3.10/site-packages/sklearn/metrics/_classification.py:1344: UndefinedMetricWarning: Precision and F-score are ill-defined and being set to 0.0 in labels with no predicted samples. Use `zero_division` parameter to control this behavior.\n",
      "  _warn_prf(average, modifier, msg_start, len(result))\n",
      "/opt/conda/lib/python3.10/site-packages/sklearn/metrics/_classification.py:1344: UndefinedMetricWarning: Precision and F-score are ill-defined and being set to 0.0 in labels with no predicted samples. Use `zero_division` parameter to control this behavior.\n",
      "  _warn_prf(average, modifier, msg_start, len(result))\n"
     ]
    }
   ],
   "source": [
    "accuracy = accuracy_score(y_val, y_pred)\n",
    "print(\"Accuracy:\", accuracy)\n",
    "print(classification_report(y_val, y_pred))\n",
    "\n"
   ]
  },
  {
   "cell_type": "markdown",
   "id": "c72558e2",
   "metadata": {
    "papermill": {
     "duration": 0.007466,
     "end_time": "2024-05-18T17:20:43.663646",
     "exception": false,
     "start_time": "2024-05-18T17:20:43.656180",
     "status": "completed"
    },
    "tags": []
   },
   "source": [
    "# Random Forest"
   ]
  },
  {
   "cell_type": "code",
   "execution_count": 18,
   "id": "e79e5a28",
   "metadata": {
    "execution": {
     "iopub.execute_input": "2024-05-18T17:20:43.680906Z",
     "iopub.status.busy": "2024-05-18T17:20:43.680495Z",
     "iopub.status.idle": "2024-05-18T17:20:43.873665Z",
     "shell.execute_reply": "2024-05-18T17:20:43.872523Z"
    },
    "papermill": {
     "duration": 0.204794,
     "end_time": "2024-05-18T17:20:43.876376",
     "exception": false,
     "start_time": "2024-05-18T17:20:43.671582",
     "status": "completed"
    },
    "tags": []
   },
   "outputs": [],
   "source": [
    "from sklearn.ensemble import RandomForestClassifier\n",
    "from sklearn.metrics import accuracy_score, classification_report"
   ]
  },
  {
   "cell_type": "code",
   "execution_count": 19,
   "id": "f14dba9d",
   "metadata": {
    "execution": {
     "iopub.execute_input": "2024-05-18T17:20:43.893901Z",
     "iopub.status.busy": "2024-05-18T17:20:43.893503Z",
     "iopub.status.idle": "2024-05-18T17:24:47.488153Z",
     "shell.execute_reply": "2024-05-18T17:24:47.486889Z"
    },
    "papermill": {
     "duration": 243.61559,
     "end_time": "2024-05-18T17:24:47.499890",
     "exception": false,
     "start_time": "2024-05-18T17:20:43.884300",
     "status": "completed"
    },
    "tags": []
   },
   "outputs": [
    {
     "data": {
      "text/html": [
       "<style>#sk-container-id-4 {color: black;background-color: white;}#sk-container-id-4 pre{padding: 0;}#sk-container-id-4 div.sk-toggleable {background-color: white;}#sk-container-id-4 label.sk-toggleable__label {cursor: pointer;display: block;width: 100%;margin-bottom: 0;padding: 0.3em;box-sizing: border-box;text-align: center;}#sk-container-id-4 label.sk-toggleable__label-arrow:before {content: \"▸\";float: left;margin-right: 0.25em;color: #696969;}#sk-container-id-4 label.sk-toggleable__label-arrow:hover:before {color: black;}#sk-container-id-4 div.sk-estimator:hover label.sk-toggleable__label-arrow:before {color: black;}#sk-container-id-4 div.sk-toggleable__content {max-height: 0;max-width: 0;overflow: hidden;text-align: left;background-color: #f0f8ff;}#sk-container-id-4 div.sk-toggleable__content pre {margin: 0.2em;color: black;border-radius: 0.25em;background-color: #f0f8ff;}#sk-container-id-4 input.sk-toggleable__control:checked~div.sk-toggleable__content {max-height: 200px;max-width: 100%;overflow: auto;}#sk-container-id-4 input.sk-toggleable__control:checked~label.sk-toggleable__label-arrow:before {content: \"▾\";}#sk-container-id-4 div.sk-estimator input.sk-toggleable__control:checked~label.sk-toggleable__label {background-color: #d4ebff;}#sk-container-id-4 div.sk-label input.sk-toggleable__control:checked~label.sk-toggleable__label {background-color: #d4ebff;}#sk-container-id-4 input.sk-hidden--visually {border: 0;clip: rect(1px 1px 1px 1px);clip: rect(1px, 1px, 1px, 1px);height: 1px;margin: -1px;overflow: hidden;padding: 0;position: absolute;width: 1px;}#sk-container-id-4 div.sk-estimator {font-family: monospace;background-color: #f0f8ff;border: 1px dotted black;border-radius: 0.25em;box-sizing: border-box;margin-bottom: 0.5em;}#sk-container-id-4 div.sk-estimator:hover {background-color: #d4ebff;}#sk-container-id-4 div.sk-parallel-item::after {content: \"\";width: 100%;border-bottom: 1px solid gray;flex-grow: 1;}#sk-container-id-4 div.sk-label:hover label.sk-toggleable__label {background-color: #d4ebff;}#sk-container-id-4 div.sk-serial::before {content: \"\";position: absolute;border-left: 1px solid gray;box-sizing: border-box;top: 0;bottom: 0;left: 50%;z-index: 0;}#sk-container-id-4 div.sk-serial {display: flex;flex-direction: column;align-items: center;background-color: white;padding-right: 0.2em;padding-left: 0.2em;position: relative;}#sk-container-id-4 div.sk-item {position: relative;z-index: 1;}#sk-container-id-4 div.sk-parallel {display: flex;align-items: stretch;justify-content: center;background-color: white;position: relative;}#sk-container-id-4 div.sk-item::before, #sk-container-id-4 div.sk-parallel-item::before {content: \"\";position: absolute;border-left: 1px solid gray;box-sizing: border-box;top: 0;bottom: 0;left: 50%;z-index: -1;}#sk-container-id-4 div.sk-parallel-item {display: flex;flex-direction: column;z-index: 1;position: relative;background-color: white;}#sk-container-id-4 div.sk-parallel-item:first-child::after {align-self: flex-end;width: 50%;}#sk-container-id-4 div.sk-parallel-item:last-child::after {align-self: flex-start;width: 50%;}#sk-container-id-4 div.sk-parallel-item:only-child::after {width: 0;}#sk-container-id-4 div.sk-dashed-wrapped {border: 1px dashed gray;margin: 0 0.4em 0.5em 0.4em;box-sizing: border-box;padding-bottom: 0.4em;background-color: white;}#sk-container-id-4 div.sk-label label {font-family: monospace;font-weight: bold;display: inline-block;line-height: 1.2em;}#sk-container-id-4 div.sk-label-container {text-align: center;}#sk-container-id-4 div.sk-container {/* jupyter's `normalize.less` sets `[hidden] { display: none; }` but bootstrap.min.css set `[hidden] { display: none !important; }` so we also need the `!important` here to be able to override the default hidden behavior on the sphinx rendered scikit-learn.org. See: https://github.com/scikit-learn/scikit-learn/issues/21755 */display: inline-block !important;position: relative;}#sk-container-id-4 div.sk-text-repr-fallback {display: none;}</style><div id=\"sk-container-id-4\" class=\"sk-top-container\"><div class=\"sk-text-repr-fallback\"><pre>RandomForestClassifier(random_state=42)</pre><b>In a Jupyter environment, please rerun this cell to show the HTML representation or trust the notebook. <br />On GitHub, the HTML representation is unable to render, please try loading this page with nbviewer.org.</b></div><div class=\"sk-container\" hidden><div class=\"sk-item\"><div class=\"sk-estimator sk-toggleable\"><input class=\"sk-toggleable__control sk-hidden--visually\" id=\"sk-estimator-id-4\" type=\"checkbox\" checked><label for=\"sk-estimator-id-4\" class=\"sk-toggleable__label sk-toggleable__label-arrow\">RandomForestClassifier</label><div class=\"sk-toggleable__content\"><pre>RandomForestClassifier(random_state=42)</pre></div></div></div></div></div>"
      ],
      "text/plain": [
       "RandomForestClassifier(random_state=42)"
      ]
     },
     "execution_count": 19,
     "metadata": {},
     "output_type": "execute_result"
    }
   ],
   "source": [
    "clf = RandomForestClassifier(n_estimators=100, random_state=42)\n",
    "clf.fit(X_train, y_train)"
   ]
  },
  {
   "cell_type": "code",
   "execution_count": 20,
   "id": "e03e6553",
   "metadata": {
    "execution": {
     "iopub.execute_input": "2024-05-18T17:24:47.518337Z",
     "iopub.status.busy": "2024-05-18T17:24:47.517891Z",
     "iopub.status.idle": "2024-05-18T17:24:50.030633Z",
     "shell.execute_reply": "2024-05-18T17:24:50.029437Z"
    },
    "papermill": {
     "duration": 2.52467,
     "end_time": "2024-05-18T17:24:50.033051",
     "exception": false,
     "start_time": "2024-05-18T17:24:47.508381",
     "status": "completed"
    },
    "tags": []
   },
   "outputs": [],
   "source": [
    "y_pred = clf.predict(X_val)"
   ]
  },
  {
   "cell_type": "code",
   "execution_count": 21,
   "id": "ae658e94",
   "metadata": {
    "execution": {
     "iopub.execute_input": "2024-05-18T17:24:50.051445Z",
     "iopub.status.busy": "2024-05-18T17:24:50.050917Z",
     "iopub.status.idle": "2024-05-18T17:24:50.386479Z",
     "shell.execute_reply": "2024-05-18T17:24:50.385077Z"
    },
    "papermill": {
     "duration": 0.347163,
     "end_time": "2024-05-18T17:24:50.388875",
     "exception": false,
     "start_time": "2024-05-18T17:24:50.041712",
     "status": "completed"
    },
    "tags": []
   },
   "outputs": [
    {
     "name": "stdout",
     "output_type": "stream",
     "text": [
      "Accuracy: 0.9997610282245043\n",
      "              precision    recall  f1-score   support\n",
      "\n",
      "           1       1.00      1.00      1.00     37863\n",
      "           2       1.00      1.00      1.00     30989\n",
      "           3       1.00      1.00      1.00      9645\n",
      "           4       1.00      1.00      1.00     34418\n",
      "           5       1.00      1.00      1.00      7934\n",
      "           6       1.00      1.00      1.00     33981\n",
      "\n",
      "    accuracy                           1.00    154830\n",
      "   macro avg       1.00      1.00      1.00    154830\n",
      "weighted avg       1.00      1.00      1.00    154830\n",
      "\n"
     ]
    }
   ],
   "source": [
    "accuracy = accuracy_score(y_val, y_pred)\n",
    "print(\"Accuracy:\", accuracy)\n",
    "print(classification_report(y_val, y_pred))"
   ]
  }
 ],
 "metadata": {
  "kaggle": {
   "accelerator": "none",
   "dataSources": [
    {
     "datasetId": 5036442,
     "sourceId": 8451168,
     "sourceType": "datasetVersion"
    }
   ],
   "dockerImageVersionId": 30698,
   "isGpuEnabled": false,
   "isInternetEnabled": false,
   "language": "python",
   "sourceType": "notebook"
  },
  "kernelspec": {
   "display_name": "Python 3",
   "language": "python",
   "name": "python3"
  },
  "language_info": {
   "codemirror_mode": {
    "name": "ipython",
    "version": 3
   },
   "file_extension": ".py",
   "mimetype": "text/x-python",
   "name": "python",
   "nbconvert_exporter": "python",
   "pygments_lexer": "ipython3",
   "version": "3.10.13"
  },
  "papermill": {
   "default_parameters": {},
   "duration": 493.551256,
   "end_time": "2024-05-18T17:24:51.019249",
   "environment_variables": {},
   "exception": null,
   "input_path": "__notebook__.ipynb",
   "output_path": "__notebook__.ipynb",
   "parameters": {},
   "start_time": "2024-05-18T17:16:37.467993",
   "version": "2.5.0"
  }
 },
 "nbformat": 4,
 "nbformat_minor": 5
}
