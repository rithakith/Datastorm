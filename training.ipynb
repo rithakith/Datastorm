{
 "cells": [
  {
   "cell_type": "code",
   "execution_count": 1,
   "id": "d95829de",
   "metadata": {
    "_cell_guid": "b1076dfc-b9ad-4769-8c92-a6c4dae69d19",
    "_uuid": "8f2839f25d086af736a60e9eeb907d3b93b6e0e5",
    "execution": {
     "iopub.execute_input": "2024-05-19T08:59:26.469949Z",
     "iopub.status.busy": "2024-05-19T08:59:26.469280Z",
     "iopub.status.idle": "2024-05-19T08:59:28.367885Z",
     "shell.execute_reply": "2024-05-19T08:59:28.366836Z"
    },
    "papermill": {
     "duration": 1.910579,
     "end_time": "2024-05-19T08:59:28.369961",
     "exception": false,
     "start_time": "2024-05-19T08:59:26.459382",
     "status": "completed"
    },
    "tags": []
   },
   "outputs": [
    {
     "name": "stdout",
     "output_type": "stream",
     "text": [
      "/kaggle/input/cleaned-train-df/cleanedTrain.csv\n"
     ]
    }
   ],
   "source": [
    "# This Python 3 environment comes with many helpful analytics libraries installed\n",
    "# It is defined by the kaggle/python Docker image: https://github.com/kaggle/docker-python\n",
    "# For example, here's several helpful packages to load\n",
    "\n",
    "import numpy as np # linear algebra\n",
    "import pandas as pd # data processing, CSV file I/O (e.g. pd.read_csv)\n",
    "from sklearn.model_selection import train_test_split\n",
    "\n",
    "\n",
    "# Input data files are available in the read-only \"../input/\" directory\n",
    "# For example, running this (by clicking run or pressing Shift+Enter) will list all files under the input directory\n",
    "\n",
    "import os\n",
    "for dirname, _, filenames in os.walk('/kaggle/input'):\n",
    "    for filename in filenames:\n",
    "        print(os.path.join(dirname, filename))\n",
    "\n",
    "# You can write up to 20GB to the current directory (/kaggle/working/) that gets preserved as output when you create a version using \"Save & Run All\" \n",
    "# You can also write temporary files to /kaggle/temp/, but they won't be saved outside of the current session"
   ]
  },
  {
   "cell_type": "markdown",
   "id": "fde979b7",
   "metadata": {
    "papermill": {
     "duration": 0.006496,
     "end_time": "2024-05-19T08:59:28.383637",
     "exception": false,
     "start_time": "2024-05-19T08:59:28.377141",
     "status": "completed"
    },
    "tags": []
   },
   "source": [
    "Downloading the dataset\n"
   ]
  },
  {
   "cell_type": "code",
   "execution_count": 2,
   "id": "39fcd9d2",
   "metadata": {
    "execution": {
     "iopub.execute_input": "2024-05-19T08:59:28.399402Z",
     "iopub.status.busy": "2024-05-19T08:59:28.398603Z",
     "iopub.status.idle": "2024-05-19T08:59:32.942836Z",
     "shell.execute_reply": "2024-05-19T08:59:32.941958Z"
    },
    "papermill": {
     "duration": 4.554543,
     "end_time": "2024-05-19T08:59:32.945069",
     "exception": false,
     "start_time": "2024-05-19T08:59:28.390526",
     "status": "completed"
    },
    "tags": []
   },
   "outputs": [
    {
     "data": {
      "text/html": [
       "<div>\n",
       "<style scoped>\n",
       "    .dataframe tbody tr th:only-of-type {\n",
       "        vertical-align: middle;\n",
       "    }\n",
       "\n",
       "    .dataframe tbody tr th {\n",
       "        vertical-align: top;\n",
       "    }\n",
       "\n",
       "    .dataframe thead th {\n",
       "        text-align: right;\n",
       "    }\n",
       "</style>\n",
       "<table border=\"1\" class=\"dataframe\">\n",
       "  <thead>\n",
       "    <tr style=\"text-align: right;\">\n",
       "      <th></th>\n",
       "      <th>Customer_ID</th>\n",
       "      <th>luxury_sales</th>\n",
       "      <th>fresh_sales</th>\n",
       "      <th>dry_sales</th>\n",
       "      <th>cluster_catgeory</th>\n",
       "      <th>outlet_city_Batticaloa</th>\n",
       "      <th>outlet_city_Colombo</th>\n",
       "      <th>outlet_city_Dehiwala-Mount Lavinia</th>\n",
       "      <th>outlet_city_Galle</th>\n",
       "      <th>outlet_city_Gampaha</th>\n",
       "      <th>...</th>\n",
       "      <th>outlet_city_Kelaniya</th>\n",
       "      <th>outlet_city_Kotte</th>\n",
       "      <th>outlet_city_Moratuwa</th>\n",
       "      <th>outlet_city_Negombo</th>\n",
       "      <th>outlet_city_Nuwara Eliya</th>\n",
       "      <th>outlet_city_Panadura</th>\n",
       "      <th>outlet_city_Peliyagoda</th>\n",
       "      <th>outlet_city_Trincomalee</th>\n",
       "      <th>outlet_city_Wattala</th>\n",
       "      <th>total_sales</th>\n",
       "    </tr>\n",
       "  </thead>\n",
       "  <tbody>\n",
       "    <tr>\n",
       "      <th>0</th>\n",
       "      <td>10493832</td>\n",
       "      <td>-0.709489</td>\n",
       "      <td>-1.101399</td>\n",
       "      <td>0.180599</td>\n",
       "      <td>4</td>\n",
       "      <td>False</td>\n",
       "      <td>False</td>\n",
       "      <td>False</td>\n",
       "      <td>False</td>\n",
       "      <td>False</td>\n",
       "      <td>...</td>\n",
       "      <td>True</td>\n",
       "      <td>False</td>\n",
       "      <td>False</td>\n",
       "      <td>False</td>\n",
       "      <td>False</td>\n",
       "      <td>False</td>\n",
       "      <td>False</td>\n",
       "      <td>False</td>\n",
       "      <td>False</td>\n",
       "      <td>-0.982408</td>\n",
       "    </tr>\n",
       "    <tr>\n",
       "      <th>1</th>\n",
       "      <td>10178643</td>\n",
       "      <td>-0.330507</td>\n",
       "      <td>-1.010208</td>\n",
       "      <td>0.390355</td>\n",
       "      <td>1</td>\n",
       "      <td>False</td>\n",
       "      <td>False</td>\n",
       "      <td>False</td>\n",
       "      <td>False</td>\n",
       "      <td>False</td>\n",
       "      <td>...</td>\n",
       "      <td>False</td>\n",
       "      <td>False</td>\n",
       "      <td>True</td>\n",
       "      <td>False</td>\n",
       "      <td>False</td>\n",
       "      <td>False</td>\n",
       "      <td>False</td>\n",
       "      <td>False</td>\n",
       "      <td>False</td>\n",
       "      <td>-0.617597</td>\n",
       "    </tr>\n",
       "    <tr>\n",
       "      <th>2</th>\n",
       "      <td>10513916</td>\n",
       "      <td>0.365429</td>\n",
       "      <td>-0.883967</td>\n",
       "      <td>1.313829</td>\n",
       "      <td>4</td>\n",
       "      <td>False</td>\n",
       "      <td>False</td>\n",
       "      <td>False</td>\n",
       "      <td>False</td>\n",
       "      <td>False</td>\n",
       "      <td>...</td>\n",
       "      <td>False</td>\n",
       "      <td>False</td>\n",
       "      <td>False</td>\n",
       "      <td>False</td>\n",
       "      <td>False</td>\n",
       "      <td>False</td>\n",
       "      <td>False</td>\n",
       "      <td>False</td>\n",
       "      <td>True</td>\n",
       "      <td>0.494808</td>\n",
       "    </tr>\n",
       "    <tr>\n",
       "      <th>3</th>\n",
       "      <td>10334589</td>\n",
       "      <td>0.351545</td>\n",
       "      <td>-0.806410</td>\n",
       "      <td>1.297473</td>\n",
       "      <td>4</td>\n",
       "      <td>False</td>\n",
       "      <td>False</td>\n",
       "      <td>False</td>\n",
       "      <td>False</td>\n",
       "      <td>False</td>\n",
       "      <td>...</td>\n",
       "      <td>False</td>\n",
       "      <td>False</td>\n",
       "      <td>False</td>\n",
       "      <td>False</td>\n",
       "      <td>False</td>\n",
       "      <td>False</td>\n",
       "      <td>False</td>\n",
       "      <td>False</td>\n",
       "      <td>True</td>\n",
       "      <td>0.544047</td>\n",
       "    </tr>\n",
       "    <tr>\n",
       "      <th>4</th>\n",
       "      <td>10458365</td>\n",
       "      <td>0.421810</td>\n",
       "      <td>-0.707480</td>\n",
       "      <td>1.339778</td>\n",
       "      <td>4</td>\n",
       "      <td>False</td>\n",
       "      <td>False</td>\n",
       "      <td>False</td>\n",
       "      <td>False</td>\n",
       "      <td>False</td>\n",
       "      <td>...</td>\n",
       "      <td>True</td>\n",
       "      <td>False</td>\n",
       "      <td>False</td>\n",
       "      <td>False</td>\n",
       "      <td>False</td>\n",
       "      <td>False</td>\n",
       "      <td>False</td>\n",
       "      <td>False</td>\n",
       "      <td>False</td>\n",
       "      <td>0.686005</td>\n",
       "    </tr>\n",
       "  </tbody>\n",
       "</table>\n",
       "<p>5 rows × 26 columns</p>\n",
       "</div>"
      ],
      "text/plain": [
       "   Customer_ID  luxury_sales  fresh_sales  dry_sales  cluster_catgeory  \\\n",
       "0     10493832     -0.709489    -1.101399   0.180599                 4   \n",
       "1     10178643     -0.330507    -1.010208   0.390355                 1   \n",
       "2     10513916      0.365429    -0.883967   1.313829                 4   \n",
       "3     10334589      0.351545    -0.806410   1.297473                 4   \n",
       "4     10458365      0.421810    -0.707480   1.339778                 4   \n",
       "\n",
       "   outlet_city_Batticaloa  outlet_city_Colombo  \\\n",
       "0                   False                False   \n",
       "1                   False                False   \n",
       "2                   False                False   \n",
       "3                   False                False   \n",
       "4                   False                False   \n",
       "\n",
       "   outlet_city_Dehiwala-Mount Lavinia  outlet_city_Galle  outlet_city_Gampaha  \\\n",
       "0                               False              False                False   \n",
       "1                               False              False                False   \n",
       "2                               False              False                False   \n",
       "3                               False              False                False   \n",
       "4                               False              False                False   \n",
       "\n",
       "   ...  outlet_city_Kelaniya  outlet_city_Kotte  outlet_city_Moratuwa  \\\n",
       "0  ...                  True              False                 False   \n",
       "1  ...                 False              False                  True   \n",
       "2  ...                 False              False                 False   \n",
       "3  ...                 False              False                 False   \n",
       "4  ...                  True              False                 False   \n",
       "\n",
       "   outlet_city_Negombo  outlet_city_Nuwara Eliya  outlet_city_Panadura  \\\n",
       "0                False                     False                 False   \n",
       "1                False                     False                 False   \n",
       "2                False                     False                 False   \n",
       "3                False                     False                 False   \n",
       "4                False                     False                 False   \n",
       "\n",
       "   outlet_city_Peliyagoda  outlet_city_Trincomalee  outlet_city_Wattala  \\\n",
       "0                   False                    False                False   \n",
       "1                   False                    False                False   \n",
       "2                   False                    False                 True   \n",
       "3                   False                    False                 True   \n",
       "4                   False                    False                False   \n",
       "\n",
       "   total_sales  \n",
       "0    -0.982408  \n",
       "1    -0.617597  \n",
       "2     0.494808  \n",
       "3     0.544047  \n",
       "4     0.686005  \n",
       "\n",
       "[5 rows x 26 columns]"
      ]
     },
     "execution_count": 2,
     "metadata": {},
     "output_type": "execute_result"
    }
   ],
   "source": [
    "cleaned_train_df=pd.read_csv(\"/kaggle/input/cleaned-train-df/cleanedTrain.csv\")\n",
    "cleaned_train_df.head()"
   ]
  },
  {
   "cell_type": "code",
   "execution_count": 3,
   "id": "01406775",
   "metadata": {
    "execution": {
     "iopub.execute_input": "2024-05-19T08:59:32.961875Z",
     "iopub.status.busy": "2024-05-19T08:59:32.961279Z",
     "iopub.status.idle": "2024-05-19T08:59:32.968007Z",
     "shell.execute_reply": "2024-05-19T08:59:32.966876Z"
    },
    "papermill": {
     "duration": 0.017803,
     "end_time": "2024-05-19T08:59:32.970285",
     "exception": false,
     "start_time": "2024-05-19T08:59:32.952482",
     "status": "completed"
    },
    "tags": []
   },
   "outputs": [
    {
     "data": {
      "text/plain": [
       "Index(['Customer_ID', 'luxury_sales', 'fresh_sales', 'dry_sales',\n",
       "       'cluster_catgeory', 'outlet_city_Batticaloa', 'outlet_city_Colombo',\n",
       "       'outlet_city_Dehiwala-Mount Lavinia', 'outlet_city_Galle',\n",
       "       'outlet_city_Gampaha', 'outlet_city_Homagama', 'outlet_city_Jaffna',\n",
       "       'outlet_city_Kaduwela', 'outlet_city_Kalmunai', 'outlet_city_Kandy',\n",
       "       'outlet_city_Katunayake', 'outlet_city_Kelaniya', 'outlet_city_Kotte',\n",
       "       'outlet_city_Moratuwa', 'outlet_city_Negombo',\n",
       "       'outlet_city_Nuwara Eliya', 'outlet_city_Panadura',\n",
       "       'outlet_city_Peliyagoda', 'outlet_city_Trincomalee',\n",
       "       'outlet_city_Wattala', 'total_sales'],\n",
       "      dtype='object')"
      ]
     },
     "execution_count": 3,
     "metadata": {},
     "output_type": "execute_result"
    }
   ],
   "source": [
    "cleaned_train_df.columns\n"
   ]
  },
  {
   "cell_type": "markdown",
   "id": "ee53e57c",
   "metadata": {
    "papermill": {
     "duration": 0.007504,
     "end_time": "2024-05-19T08:59:32.985403",
     "exception": false,
     "start_time": "2024-05-19T08:59:32.977899",
     "status": "completed"
    },
    "tags": []
   },
   "source": [
    "#  splitting data"
   ]
  },
  {
   "cell_type": "code",
   "execution_count": 4,
   "id": "6fe13ea3",
   "metadata": {
    "execution": {
     "iopub.execute_input": "2024-05-19T08:59:33.002826Z",
     "iopub.status.busy": "2024-05-19T08:59:33.001597Z",
     "iopub.status.idle": "2024-05-19T08:59:33.028974Z",
     "shell.execute_reply": "2024-05-19T08:59:33.027710Z"
    },
    "papermill": {
     "duration": 0.038897,
     "end_time": "2024-05-19T08:59:33.031762",
     "exception": false,
     "start_time": "2024-05-19T08:59:32.992865",
     "status": "completed"
    },
    "tags": []
   },
   "outputs": [],
   "source": [
    "X = cleaned_train_df[['luxury_sales', 'fresh_sales', 'dry_sales',\n",
    "       'outlet_city_Batticaloa', 'outlet_city_Colombo',\n",
    "       'outlet_city_Dehiwala-Mount Lavinia', 'outlet_city_Galle',\n",
    "       'outlet_city_Gampaha', 'outlet_city_Homagama', 'outlet_city_Jaffna',\n",
    "       'outlet_city_Kaduwela', 'outlet_city_Kalmunai', 'outlet_city_Kandy',\n",
    "       'outlet_city_Katunayake', 'outlet_city_Kelaniya', 'outlet_city_Kotte',\n",
    "       'outlet_city_Moratuwa', 'outlet_city_Negombo',\n",
    "       'outlet_city_Nuwara Eliya', 'outlet_city_Panadura',\n",
    "       'outlet_city_Peliyagoda', 'outlet_city_Trincomalee',\n",
    "       'outlet_city_Wattala', 'total_sales']]\n",
    "y = cleaned_train_df['cluster_catgeory']"
   ]
  },
  {
   "cell_type": "code",
   "execution_count": 5,
   "id": "ee8f925c",
   "metadata": {
    "execution": {
     "iopub.execute_input": "2024-05-19T08:59:33.049935Z",
     "iopub.status.busy": "2024-05-19T08:59:33.049535Z",
     "iopub.status.idle": "2024-05-19T08:59:33.184432Z",
     "shell.execute_reply": "2024-05-19T08:59:33.183279Z"
    },
    "papermill": {
     "duration": 0.146586,
     "end_time": "2024-05-19T08:59:33.186935",
     "exception": false,
     "start_time": "2024-05-19T08:59:33.040349",
     "status": "completed"
    },
    "tags": []
   },
   "outputs": [],
   "source": [
    "X_train, X_val, y_train, y_val = train_test_split(X, y, test_size=0.2, random_state=42)\n"
   ]
  },
  {
   "cell_type": "markdown",
   "id": "8287c813",
   "metadata": {
    "papermill": {
     "duration": 0.007129,
     "end_time": "2024-05-19T08:59:33.201663",
     "exception": false,
     "start_time": "2024-05-19T08:59:33.194534",
     "status": "completed"
    },
    "tags": []
   },
   "source": [
    "# Logistic Regression\n"
   ]
  },
  {
   "cell_type": "code",
   "execution_count": 6,
   "id": "f11d331a",
   "metadata": {
    "execution": {
     "iopub.execute_input": "2024-05-19T08:59:33.218736Z",
     "iopub.status.busy": "2024-05-19T08:59:33.218038Z",
     "iopub.status.idle": "2024-05-19T08:59:33.311756Z",
     "shell.execute_reply": "2024-05-19T08:59:33.310521Z"
    },
    "papermill": {
     "duration": 0.105486,
     "end_time": "2024-05-19T08:59:33.314475",
     "exception": false,
     "start_time": "2024-05-19T08:59:33.208989",
     "status": "completed"
    },
    "tags": []
   },
   "outputs": [],
   "source": [
    "from sklearn.linear_model import LogisticRegression\n",
    "from sklearn.metrics import accuracy_score, classification_report\n",
    "from sklearn.model_selection import train_test_split"
   ]
  },
  {
   "cell_type": "code",
   "execution_count": 7,
   "id": "7ff7b975",
   "metadata": {
    "execution": {
     "iopub.execute_input": "2024-05-19T08:59:33.333476Z",
     "iopub.status.busy": "2024-05-19T08:59:33.332665Z",
     "iopub.status.idle": "2024-05-19T09:00:03.122870Z",
     "shell.execute_reply": "2024-05-19T09:00:03.120885Z"
    },
    "papermill": {
     "duration": 29.803793,
     "end_time": "2024-05-19T09:00:03.126596",
     "exception": false,
     "start_time": "2024-05-19T08:59:33.322803",
     "status": "completed"
    },
    "tags": []
   },
   "outputs": [
    {
     "data": {
      "text/html": [
       "<style>#sk-container-id-1 {color: black;background-color: white;}#sk-container-id-1 pre{padding: 0;}#sk-container-id-1 div.sk-toggleable {background-color: white;}#sk-container-id-1 label.sk-toggleable__label {cursor: pointer;display: block;width: 100%;margin-bottom: 0;padding: 0.3em;box-sizing: border-box;text-align: center;}#sk-container-id-1 label.sk-toggleable__label-arrow:before {content: \"▸\";float: left;margin-right: 0.25em;color: #696969;}#sk-container-id-1 label.sk-toggleable__label-arrow:hover:before {color: black;}#sk-container-id-1 div.sk-estimator:hover label.sk-toggleable__label-arrow:before {color: black;}#sk-container-id-1 div.sk-toggleable__content {max-height: 0;max-width: 0;overflow: hidden;text-align: left;background-color: #f0f8ff;}#sk-container-id-1 div.sk-toggleable__content pre {margin: 0.2em;color: black;border-radius: 0.25em;background-color: #f0f8ff;}#sk-container-id-1 input.sk-toggleable__control:checked~div.sk-toggleable__content {max-height: 200px;max-width: 100%;overflow: auto;}#sk-container-id-1 input.sk-toggleable__control:checked~label.sk-toggleable__label-arrow:before {content: \"▾\";}#sk-container-id-1 div.sk-estimator input.sk-toggleable__control:checked~label.sk-toggleable__label {background-color: #d4ebff;}#sk-container-id-1 div.sk-label input.sk-toggleable__control:checked~label.sk-toggleable__label {background-color: #d4ebff;}#sk-container-id-1 input.sk-hidden--visually {border: 0;clip: rect(1px 1px 1px 1px);clip: rect(1px, 1px, 1px, 1px);height: 1px;margin: -1px;overflow: hidden;padding: 0;position: absolute;width: 1px;}#sk-container-id-1 div.sk-estimator {font-family: monospace;background-color: #f0f8ff;border: 1px dotted black;border-radius: 0.25em;box-sizing: border-box;margin-bottom: 0.5em;}#sk-container-id-1 div.sk-estimator:hover {background-color: #d4ebff;}#sk-container-id-1 div.sk-parallel-item::after {content: \"\";width: 100%;border-bottom: 1px solid gray;flex-grow: 1;}#sk-container-id-1 div.sk-label:hover label.sk-toggleable__label {background-color: #d4ebff;}#sk-container-id-1 div.sk-serial::before {content: \"\";position: absolute;border-left: 1px solid gray;box-sizing: border-box;top: 0;bottom: 0;left: 50%;z-index: 0;}#sk-container-id-1 div.sk-serial {display: flex;flex-direction: column;align-items: center;background-color: white;padding-right: 0.2em;padding-left: 0.2em;position: relative;}#sk-container-id-1 div.sk-item {position: relative;z-index: 1;}#sk-container-id-1 div.sk-parallel {display: flex;align-items: stretch;justify-content: center;background-color: white;position: relative;}#sk-container-id-1 div.sk-item::before, #sk-container-id-1 div.sk-parallel-item::before {content: \"\";position: absolute;border-left: 1px solid gray;box-sizing: border-box;top: 0;bottom: 0;left: 50%;z-index: -1;}#sk-container-id-1 div.sk-parallel-item {display: flex;flex-direction: column;z-index: 1;position: relative;background-color: white;}#sk-container-id-1 div.sk-parallel-item:first-child::after {align-self: flex-end;width: 50%;}#sk-container-id-1 div.sk-parallel-item:last-child::after {align-self: flex-start;width: 50%;}#sk-container-id-1 div.sk-parallel-item:only-child::after {width: 0;}#sk-container-id-1 div.sk-dashed-wrapped {border: 1px dashed gray;margin: 0 0.4em 0.5em 0.4em;box-sizing: border-box;padding-bottom: 0.4em;background-color: white;}#sk-container-id-1 div.sk-label label {font-family: monospace;font-weight: bold;display: inline-block;line-height: 1.2em;}#sk-container-id-1 div.sk-label-container {text-align: center;}#sk-container-id-1 div.sk-container {/* jupyter's `normalize.less` sets `[hidden] { display: none; }` but bootstrap.min.css set `[hidden] { display: none !important; }` so we also need the `!important` here to be able to override the default hidden behavior on the sphinx rendered scikit-learn.org. See: https://github.com/scikit-learn/scikit-learn/issues/21755 */display: inline-block !important;position: relative;}#sk-container-id-1 div.sk-text-repr-fallback {display: none;}</style><div id=\"sk-container-id-1\" class=\"sk-top-container\"><div class=\"sk-text-repr-fallback\"><pre>LogisticRegression(max_iter=200, multi_class=&#x27;multinomial&#x27;, random_state=42)</pre><b>In a Jupyter environment, please rerun this cell to show the HTML representation or trust the notebook. <br />On GitHub, the HTML representation is unable to render, please try loading this page with nbviewer.org.</b></div><div class=\"sk-container\" hidden><div class=\"sk-item\"><div class=\"sk-estimator sk-toggleable\"><input class=\"sk-toggleable__control sk-hidden--visually\" id=\"sk-estimator-id-1\" type=\"checkbox\" checked><label for=\"sk-estimator-id-1\" class=\"sk-toggleable__label sk-toggleable__label-arrow\">LogisticRegression</label><div class=\"sk-toggleable__content\"><pre>LogisticRegression(max_iter=200, multi_class=&#x27;multinomial&#x27;, random_state=42)</pre></div></div></div></div></div>"
      ],
      "text/plain": [
       "LogisticRegression(max_iter=200, multi_class='multinomial', random_state=42)"
      ]
     },
     "execution_count": 7,
     "metadata": {},
     "output_type": "execute_result"
    }
   ],
   "source": [
    "# Initialize and train the Logistic Regression model\n",
    "lr_model = LogisticRegression(multi_class='multinomial', solver='lbfgs', max_iter=200, random_state=42)\n",
    "lr_model.fit(X_train, y_train)"
   ]
  },
  {
   "cell_type": "code",
   "execution_count": 8,
   "id": "cd132762",
   "metadata": {
    "execution": {
     "iopub.execute_input": "2024-05-19T09:00:03.152570Z",
     "iopub.status.busy": "2024-05-19T09:00:03.152013Z",
     "iopub.status.idle": "2024-05-19T09:00:03.208517Z",
     "shell.execute_reply": "2024-05-19T09:00:03.207113Z"
    },
    "papermill": {
     "duration": 0.072521,
     "end_time": "2024-05-19T09:00:03.212556",
     "exception": false,
     "start_time": "2024-05-19T09:00:03.140035",
     "status": "completed"
    },
    "tags": []
   },
   "outputs": [],
   "source": [
    "# Make predictions on the validation set\n",
    "y_pred = lr_model.predict(X_val)"
   ]
  },
  {
   "cell_type": "code",
   "execution_count": 9,
   "id": "334a3bd5",
   "metadata": {
    "execution": {
     "iopub.execute_input": "2024-05-19T09:00:03.246225Z",
     "iopub.status.busy": "2024-05-19T09:00:03.245670Z",
     "iopub.status.idle": "2024-05-19T09:00:03.647966Z",
     "shell.execute_reply": "2024-05-19T09:00:03.646716Z"
    },
    "papermill": {
     "duration": 0.421626,
     "end_time": "2024-05-19T09:00:03.650400",
     "exception": false,
     "start_time": "2024-05-19T09:00:03.228774",
     "status": "completed"
    },
    "tags": []
   },
   "outputs": [
    {
     "name": "stdout",
     "output_type": "stream",
     "text": [
      "Accuracy: 0.9997674869211393\n",
      "              precision    recall  f1-score   support\n",
      "\n",
      "           1       1.00      1.00      1.00     37863\n",
      "           2       1.00      1.00      1.00     30989\n",
      "           3       1.00      1.00      1.00      9645\n",
      "           4       1.00      1.00      1.00     34418\n",
      "           5       1.00      1.00      1.00      7934\n",
      "           6       1.00      1.00      1.00     33981\n",
      "\n",
      "    accuracy                           1.00    154830\n",
      "   macro avg       1.00      1.00      1.00    154830\n",
      "weighted avg       1.00      1.00      1.00    154830\n",
      "\n"
     ]
    }
   ],
   "source": [
    "# Evaluate model performance\n",
    "accuracy = accuracy_score(y_val, y_pred)\n",
    "print(\"Accuracy:\", accuracy)\n",
    "print(classification_report(y_val, y_pred))"
   ]
  },
  {
   "cell_type": "markdown",
   "id": "766655bb",
   "metadata": {
    "papermill": {
     "duration": 0.008108,
     "end_time": "2024-05-19T09:00:03.666801",
     "exception": false,
     "start_time": "2024-05-19T09:00:03.658693",
     "status": "completed"
    },
    "tags": []
   },
   "source": [
    "# KNN Algorithm"
   ]
  },
  {
   "cell_type": "code",
   "execution_count": 10,
   "id": "12a8f77d",
   "metadata": {
    "execution": {
     "iopub.execute_input": "2024-05-19T09:00:03.684419Z",
     "iopub.status.busy": "2024-05-19T09:00:03.684018Z",
     "iopub.status.idle": "2024-05-19T09:00:03.752894Z",
     "shell.execute_reply": "2024-05-19T09:00:03.751545Z"
    },
    "papermill": {
     "duration": 0.081079,
     "end_time": "2024-05-19T09:00:03.755730",
     "exception": false,
     "start_time": "2024-05-19T09:00:03.674651",
     "status": "completed"
    },
    "tags": []
   },
   "outputs": [],
   "source": [
    "from sklearn.neighbors import KNeighborsClassifier\n",
    "from sklearn.metrics import accuracy_score, classification_report\n",
    "from sklearn.model_selection import train_test_split"
   ]
  },
  {
   "cell_type": "code",
   "execution_count": 11,
   "id": "c19dc9c5",
   "metadata": {
    "execution": {
     "iopub.execute_input": "2024-05-19T09:00:03.773651Z",
     "iopub.status.busy": "2024-05-19T09:00:03.773280Z",
     "iopub.status.idle": "2024-05-19T09:00:03.971844Z",
     "shell.execute_reply": "2024-05-19T09:00:03.970736Z"
    },
    "papermill": {
     "duration": 0.210278,
     "end_time": "2024-05-19T09:00:03.974277",
     "exception": false,
     "start_time": "2024-05-19T09:00:03.763999",
     "status": "completed"
    },
    "tags": []
   },
   "outputs": [
    {
     "data": {
      "text/html": [
       "<style>#sk-container-id-2 {color: black;background-color: white;}#sk-container-id-2 pre{padding: 0;}#sk-container-id-2 div.sk-toggleable {background-color: white;}#sk-container-id-2 label.sk-toggleable__label {cursor: pointer;display: block;width: 100%;margin-bottom: 0;padding: 0.3em;box-sizing: border-box;text-align: center;}#sk-container-id-2 label.sk-toggleable__label-arrow:before {content: \"▸\";float: left;margin-right: 0.25em;color: #696969;}#sk-container-id-2 label.sk-toggleable__label-arrow:hover:before {color: black;}#sk-container-id-2 div.sk-estimator:hover label.sk-toggleable__label-arrow:before {color: black;}#sk-container-id-2 div.sk-toggleable__content {max-height: 0;max-width: 0;overflow: hidden;text-align: left;background-color: #f0f8ff;}#sk-container-id-2 div.sk-toggleable__content pre {margin: 0.2em;color: black;border-radius: 0.25em;background-color: #f0f8ff;}#sk-container-id-2 input.sk-toggleable__control:checked~div.sk-toggleable__content {max-height: 200px;max-width: 100%;overflow: auto;}#sk-container-id-2 input.sk-toggleable__control:checked~label.sk-toggleable__label-arrow:before {content: \"▾\";}#sk-container-id-2 div.sk-estimator input.sk-toggleable__control:checked~label.sk-toggleable__label {background-color: #d4ebff;}#sk-container-id-2 div.sk-label input.sk-toggleable__control:checked~label.sk-toggleable__label {background-color: #d4ebff;}#sk-container-id-2 input.sk-hidden--visually {border: 0;clip: rect(1px 1px 1px 1px);clip: rect(1px, 1px, 1px, 1px);height: 1px;margin: -1px;overflow: hidden;padding: 0;position: absolute;width: 1px;}#sk-container-id-2 div.sk-estimator {font-family: monospace;background-color: #f0f8ff;border: 1px dotted black;border-radius: 0.25em;box-sizing: border-box;margin-bottom: 0.5em;}#sk-container-id-2 div.sk-estimator:hover {background-color: #d4ebff;}#sk-container-id-2 div.sk-parallel-item::after {content: \"\";width: 100%;border-bottom: 1px solid gray;flex-grow: 1;}#sk-container-id-2 div.sk-label:hover label.sk-toggleable__label {background-color: #d4ebff;}#sk-container-id-2 div.sk-serial::before {content: \"\";position: absolute;border-left: 1px solid gray;box-sizing: border-box;top: 0;bottom: 0;left: 50%;z-index: 0;}#sk-container-id-2 div.sk-serial {display: flex;flex-direction: column;align-items: center;background-color: white;padding-right: 0.2em;padding-left: 0.2em;position: relative;}#sk-container-id-2 div.sk-item {position: relative;z-index: 1;}#sk-container-id-2 div.sk-parallel {display: flex;align-items: stretch;justify-content: center;background-color: white;position: relative;}#sk-container-id-2 div.sk-item::before, #sk-container-id-2 div.sk-parallel-item::before {content: \"\";position: absolute;border-left: 1px solid gray;box-sizing: border-box;top: 0;bottom: 0;left: 50%;z-index: -1;}#sk-container-id-2 div.sk-parallel-item {display: flex;flex-direction: column;z-index: 1;position: relative;background-color: white;}#sk-container-id-2 div.sk-parallel-item:first-child::after {align-self: flex-end;width: 50%;}#sk-container-id-2 div.sk-parallel-item:last-child::after {align-self: flex-start;width: 50%;}#sk-container-id-2 div.sk-parallel-item:only-child::after {width: 0;}#sk-container-id-2 div.sk-dashed-wrapped {border: 1px dashed gray;margin: 0 0.4em 0.5em 0.4em;box-sizing: border-box;padding-bottom: 0.4em;background-color: white;}#sk-container-id-2 div.sk-label label {font-family: monospace;font-weight: bold;display: inline-block;line-height: 1.2em;}#sk-container-id-2 div.sk-label-container {text-align: center;}#sk-container-id-2 div.sk-container {/* jupyter's `normalize.less` sets `[hidden] { display: none; }` but bootstrap.min.css set `[hidden] { display: none !important; }` so we also need the `!important` here to be able to override the default hidden behavior on the sphinx rendered scikit-learn.org. See: https://github.com/scikit-learn/scikit-learn/issues/21755 */display: inline-block !important;position: relative;}#sk-container-id-2 div.sk-text-repr-fallback {display: none;}</style><div id=\"sk-container-id-2\" class=\"sk-top-container\"><div class=\"sk-text-repr-fallback\"><pre>KNeighborsClassifier()</pre><b>In a Jupyter environment, please rerun this cell to show the HTML representation or trust the notebook. <br />On GitHub, the HTML representation is unable to render, please try loading this page with nbviewer.org.</b></div><div class=\"sk-container\" hidden><div class=\"sk-item\"><div class=\"sk-estimator sk-toggleable\"><input class=\"sk-toggleable__control sk-hidden--visually\" id=\"sk-estimator-id-2\" type=\"checkbox\" checked><label for=\"sk-estimator-id-2\" class=\"sk-toggleable__label sk-toggleable__label-arrow\">KNeighborsClassifier</label><div class=\"sk-toggleable__content\"><pre>KNeighborsClassifier()</pre></div></div></div></div></div>"
      ],
      "text/plain": [
       "KNeighborsClassifier()"
      ]
     },
     "execution_count": 11,
     "metadata": {},
     "output_type": "execute_result"
    }
   ],
   "source": [
    "knn_model = KNeighborsClassifier(n_neighbors=5)  # You can choose different k values\n",
    "knn_model.fit(X_train, y_train)"
   ]
  },
  {
   "cell_type": "code",
   "execution_count": 12,
   "id": "02d8afbd",
   "metadata": {
    "execution": {
     "iopub.execute_input": "2024-05-19T09:00:03.992239Z",
     "iopub.status.busy": "2024-05-19T09:00:03.991684Z",
     "iopub.status.idle": "2024-05-19T09:03:51.292336Z",
     "shell.execute_reply": "2024-05-19T09:03:51.291102Z"
    },
    "papermill": {
     "duration": 227.312599,
     "end_time": "2024-05-19T09:03:51.295029",
     "exception": false,
     "start_time": "2024-05-19T09:00:03.982430",
     "status": "completed"
    },
    "tags": []
   },
   "outputs": [],
   "source": [
    "y_pred = knn_model.predict(X_val)"
   ]
  },
  {
   "cell_type": "code",
   "execution_count": 13,
   "id": "9972ced3",
   "metadata": {
    "execution": {
     "iopub.execute_input": "2024-05-19T09:03:51.313278Z",
     "iopub.status.busy": "2024-05-19T09:03:51.312794Z",
     "iopub.status.idle": "2024-05-19T09:03:51.641730Z",
     "shell.execute_reply": "2024-05-19T09:03:51.640164Z"
    },
    "papermill": {
     "duration": 0.340389,
     "end_time": "2024-05-19T09:03:51.643919",
     "exception": false,
     "start_time": "2024-05-19T09:03:51.303530",
     "status": "completed"
    },
    "tags": []
   },
   "outputs": [
    {
     "name": "stdout",
     "output_type": "stream",
     "text": [
      "Accuracy: 0.9997610282245043\n",
      "              precision    recall  f1-score   support\n",
      "\n",
      "           1       1.00      1.00      1.00     37863\n",
      "           2       1.00      1.00      1.00     30989\n",
      "           3       1.00      1.00      1.00      9645\n",
      "           4       1.00      1.00      1.00     34418\n",
      "           5       1.00      1.00      1.00      7934\n",
      "           6       1.00      1.00      1.00     33981\n",
      "\n",
      "    accuracy                           1.00    154830\n",
      "   macro avg       1.00      1.00      1.00    154830\n",
      "weighted avg       1.00      1.00      1.00    154830\n",
      "\n"
     ]
    }
   ],
   "source": [
    "accuracy = accuracy_score(y_val, y_pred)\n",
    "print(\"Accuracy:\", accuracy)\n",
    "print(classification_report(y_val, y_pred))"
   ]
  },
  {
   "cell_type": "markdown",
   "id": "e139f3d0",
   "metadata": {
    "papermill": {
     "duration": 0.007791,
     "end_time": "2024-05-19T09:03:51.659653",
     "exception": false,
     "start_time": "2024-05-19T09:03:51.651862",
     "status": "completed"
    },
    "tags": []
   },
   "source": [
    "# Naive Bayes"
   ]
  },
  {
   "cell_type": "code",
   "execution_count": 14,
   "id": "d6f68297",
   "metadata": {
    "execution": {
     "iopub.execute_input": "2024-05-19T09:03:51.677441Z",
     "iopub.status.busy": "2024-05-19T09:03:51.677063Z",
     "iopub.status.idle": "2024-05-19T09:03:51.683656Z",
     "shell.execute_reply": "2024-05-19T09:03:51.682904Z"
    },
    "papermill": {
     "duration": 0.018073,
     "end_time": "2024-05-19T09:03:51.685682",
     "exception": false,
     "start_time": "2024-05-19T09:03:51.667609",
     "status": "completed"
    },
    "tags": []
   },
   "outputs": [],
   "source": [
    "from sklearn.naive_bayes import GaussianNB\n",
    "from sklearn.metrics import accuracy_score, classification_report\n",
    "from sklearn.model_selection import train_test_split"
   ]
  },
  {
   "cell_type": "code",
   "execution_count": 15,
   "id": "a2a9a710",
   "metadata": {
    "execution": {
     "iopub.execute_input": "2024-05-19T09:03:51.703901Z",
     "iopub.status.busy": "2024-05-19T09:03:51.703227Z",
     "iopub.status.idle": "2024-05-19T09:03:52.119979Z",
     "shell.execute_reply": "2024-05-19T09:03:52.118858Z"
    },
    "papermill": {
     "duration": 0.428545,
     "end_time": "2024-05-19T09:03:52.122515",
     "exception": false,
     "start_time": "2024-05-19T09:03:51.693970",
     "status": "completed"
    },
    "tags": []
   },
   "outputs": [
    {
     "data": {
      "text/html": [
       "<style>#sk-container-id-3 {color: black;background-color: white;}#sk-container-id-3 pre{padding: 0;}#sk-container-id-3 div.sk-toggleable {background-color: white;}#sk-container-id-3 label.sk-toggleable__label {cursor: pointer;display: block;width: 100%;margin-bottom: 0;padding: 0.3em;box-sizing: border-box;text-align: center;}#sk-container-id-3 label.sk-toggleable__label-arrow:before {content: \"▸\";float: left;margin-right: 0.25em;color: #696969;}#sk-container-id-3 label.sk-toggleable__label-arrow:hover:before {color: black;}#sk-container-id-3 div.sk-estimator:hover label.sk-toggleable__label-arrow:before {color: black;}#sk-container-id-3 div.sk-toggleable__content {max-height: 0;max-width: 0;overflow: hidden;text-align: left;background-color: #f0f8ff;}#sk-container-id-3 div.sk-toggleable__content pre {margin: 0.2em;color: black;border-radius: 0.25em;background-color: #f0f8ff;}#sk-container-id-3 input.sk-toggleable__control:checked~div.sk-toggleable__content {max-height: 200px;max-width: 100%;overflow: auto;}#sk-container-id-3 input.sk-toggleable__control:checked~label.sk-toggleable__label-arrow:before {content: \"▾\";}#sk-container-id-3 div.sk-estimator input.sk-toggleable__control:checked~label.sk-toggleable__label {background-color: #d4ebff;}#sk-container-id-3 div.sk-label input.sk-toggleable__control:checked~label.sk-toggleable__label {background-color: #d4ebff;}#sk-container-id-3 input.sk-hidden--visually {border: 0;clip: rect(1px 1px 1px 1px);clip: rect(1px, 1px, 1px, 1px);height: 1px;margin: -1px;overflow: hidden;padding: 0;position: absolute;width: 1px;}#sk-container-id-3 div.sk-estimator {font-family: monospace;background-color: #f0f8ff;border: 1px dotted black;border-radius: 0.25em;box-sizing: border-box;margin-bottom: 0.5em;}#sk-container-id-3 div.sk-estimator:hover {background-color: #d4ebff;}#sk-container-id-3 div.sk-parallel-item::after {content: \"\";width: 100%;border-bottom: 1px solid gray;flex-grow: 1;}#sk-container-id-3 div.sk-label:hover label.sk-toggleable__label {background-color: #d4ebff;}#sk-container-id-3 div.sk-serial::before {content: \"\";position: absolute;border-left: 1px solid gray;box-sizing: border-box;top: 0;bottom: 0;left: 50%;z-index: 0;}#sk-container-id-3 div.sk-serial {display: flex;flex-direction: column;align-items: center;background-color: white;padding-right: 0.2em;padding-left: 0.2em;position: relative;}#sk-container-id-3 div.sk-item {position: relative;z-index: 1;}#sk-container-id-3 div.sk-parallel {display: flex;align-items: stretch;justify-content: center;background-color: white;position: relative;}#sk-container-id-3 div.sk-item::before, #sk-container-id-3 div.sk-parallel-item::before {content: \"\";position: absolute;border-left: 1px solid gray;box-sizing: border-box;top: 0;bottom: 0;left: 50%;z-index: -1;}#sk-container-id-3 div.sk-parallel-item {display: flex;flex-direction: column;z-index: 1;position: relative;background-color: white;}#sk-container-id-3 div.sk-parallel-item:first-child::after {align-self: flex-end;width: 50%;}#sk-container-id-3 div.sk-parallel-item:last-child::after {align-self: flex-start;width: 50%;}#sk-container-id-3 div.sk-parallel-item:only-child::after {width: 0;}#sk-container-id-3 div.sk-dashed-wrapped {border: 1px dashed gray;margin: 0 0.4em 0.5em 0.4em;box-sizing: border-box;padding-bottom: 0.4em;background-color: white;}#sk-container-id-3 div.sk-label label {font-family: monospace;font-weight: bold;display: inline-block;line-height: 1.2em;}#sk-container-id-3 div.sk-label-container {text-align: center;}#sk-container-id-3 div.sk-container {/* jupyter's `normalize.less` sets `[hidden] { display: none; }` but bootstrap.min.css set `[hidden] { display: none !important; }` so we also need the `!important` here to be able to override the default hidden behavior on the sphinx rendered scikit-learn.org. See: https://github.com/scikit-learn/scikit-learn/issues/21755 */display: inline-block !important;position: relative;}#sk-container-id-3 div.sk-text-repr-fallback {display: none;}</style><div id=\"sk-container-id-3\" class=\"sk-top-container\"><div class=\"sk-text-repr-fallback\"><pre>GaussianNB()</pre><b>In a Jupyter environment, please rerun this cell to show the HTML representation or trust the notebook. <br />On GitHub, the HTML representation is unable to render, please try loading this page with nbviewer.org.</b></div><div class=\"sk-container\" hidden><div class=\"sk-item\"><div class=\"sk-estimator sk-toggleable\"><input class=\"sk-toggleable__control sk-hidden--visually\" id=\"sk-estimator-id-3\" type=\"checkbox\" checked><label for=\"sk-estimator-id-3\" class=\"sk-toggleable__label sk-toggleable__label-arrow\">GaussianNB</label><div class=\"sk-toggleable__content\"><pre>GaussianNB()</pre></div></div></div></div></div>"
      ],
      "text/plain": [
       "GaussianNB()"
      ]
     },
     "execution_count": 15,
     "metadata": {},
     "output_type": "execute_result"
    }
   ],
   "source": [
    "nb_model = GaussianNB()\n",
    "nb_model.fit(X_train, y_train)"
   ]
  },
  {
   "cell_type": "code",
   "execution_count": 16,
   "id": "5870dd57",
   "metadata": {
    "execution": {
     "iopub.execute_input": "2024-05-19T09:03:52.141328Z",
     "iopub.status.busy": "2024-05-19T09:03:52.140901Z",
     "iopub.status.idle": "2024-05-19T09:03:52.314201Z",
     "shell.execute_reply": "2024-05-19T09:03:52.313070Z"
    },
    "papermill": {
     "duration": 0.185536,
     "end_time": "2024-05-19T09:03:52.316780",
     "exception": false,
     "start_time": "2024-05-19T09:03:52.131244",
     "status": "completed"
    },
    "tags": []
   },
   "outputs": [],
   "source": [
    "y_pred = nb_model.predict(X_val)\n"
   ]
  },
  {
   "cell_type": "code",
   "execution_count": 17,
   "id": "f7f08751",
   "metadata": {
    "execution": {
     "iopub.execute_input": "2024-05-19T09:03:52.334683Z",
     "iopub.status.busy": "2024-05-19T09:03:52.334245Z",
     "iopub.status.idle": "2024-05-19T09:03:52.661067Z",
     "shell.execute_reply": "2024-05-19T09:03:52.659973Z"
    },
    "papermill": {
     "duration": 0.338339,
     "end_time": "2024-05-19T09:03:52.663303",
     "exception": false,
     "start_time": "2024-05-19T09:03:52.324964",
     "status": "completed"
    },
    "tags": []
   },
   "outputs": [
    {
     "name": "stdout",
     "output_type": "stream",
     "text": [
      "Accuracy: 0.8594781373118905\n",
      "              precision    recall  f1-score   support\n",
      "\n",
      "           1       1.00      0.85      0.92     37863\n",
      "           2       1.00      1.00      1.00     30989\n",
      "           3       0.37      1.00      0.54      9645\n",
      "           4       0.87      1.00      0.93     34418\n",
      "           5       1.00      0.33      0.50      7934\n",
      "           6       1.00      0.68      0.81     33981\n",
      "\n",
      "    accuracy                           0.86    154830\n",
      "   macro avg       0.87      0.81      0.78    154830\n",
      "weighted avg       0.93      0.86      0.87    154830\n",
      "\n"
     ]
    }
   ],
   "source": [
    "accuracy = accuracy_score(y_val, y_pred)\n",
    "print(\"Accuracy:\", accuracy)\n",
    "print(classification_report(y_val, y_pred))\n",
    "\n"
   ]
  },
  {
   "cell_type": "markdown",
   "id": "01bc0207",
   "metadata": {
    "papermill": {
     "duration": 0.00808,
     "end_time": "2024-05-19T09:03:52.679833",
     "exception": false,
     "start_time": "2024-05-19T09:03:52.671753",
     "status": "completed"
    },
    "tags": []
   },
   "source": [
    "# Random Forest"
   ]
  },
  {
   "cell_type": "code",
   "execution_count": 18,
   "id": "6f808223",
   "metadata": {
    "execution": {
     "iopub.execute_input": "2024-05-19T09:03:52.698817Z",
     "iopub.status.busy": "2024-05-19T09:03:52.697686Z",
     "iopub.status.idle": "2024-05-19T09:03:52.875942Z",
     "shell.execute_reply": "2024-05-19T09:03:52.874594Z"
    },
    "papermill": {
     "duration": 0.190461,
     "end_time": "2024-05-19T09:03:52.878520",
     "exception": false,
     "start_time": "2024-05-19T09:03:52.688059",
     "status": "completed"
    },
    "tags": []
   },
   "outputs": [],
   "source": [
    "from sklearn.ensemble import RandomForestClassifier\n",
    "from sklearn.metrics import accuracy_score, classification_report"
   ]
  },
  {
   "cell_type": "code",
   "execution_count": 19,
   "id": "683edee9",
   "metadata": {
    "execution": {
     "iopub.execute_input": "2024-05-19T09:03:52.897723Z",
     "iopub.status.busy": "2024-05-19T09:03:52.897291Z",
     "iopub.status.idle": "2024-05-19T09:06:50.440691Z",
     "shell.execute_reply": "2024-05-19T09:06:50.439486Z"
    },
    "papermill": {
     "duration": 177.564855,
     "end_time": "2024-05-19T09:06:50.451851",
     "exception": false,
     "start_time": "2024-05-19T09:03:52.886996",
     "status": "completed"
    },
    "tags": []
   },
   "outputs": [
    {
     "data": {
      "text/html": [
       "<style>#sk-container-id-4 {color: black;background-color: white;}#sk-container-id-4 pre{padding: 0;}#sk-container-id-4 div.sk-toggleable {background-color: white;}#sk-container-id-4 label.sk-toggleable__label {cursor: pointer;display: block;width: 100%;margin-bottom: 0;padding: 0.3em;box-sizing: border-box;text-align: center;}#sk-container-id-4 label.sk-toggleable__label-arrow:before {content: \"▸\";float: left;margin-right: 0.25em;color: #696969;}#sk-container-id-4 label.sk-toggleable__label-arrow:hover:before {color: black;}#sk-container-id-4 div.sk-estimator:hover label.sk-toggleable__label-arrow:before {color: black;}#sk-container-id-4 div.sk-toggleable__content {max-height: 0;max-width: 0;overflow: hidden;text-align: left;background-color: #f0f8ff;}#sk-container-id-4 div.sk-toggleable__content pre {margin: 0.2em;color: black;border-radius: 0.25em;background-color: #f0f8ff;}#sk-container-id-4 input.sk-toggleable__control:checked~div.sk-toggleable__content {max-height: 200px;max-width: 100%;overflow: auto;}#sk-container-id-4 input.sk-toggleable__control:checked~label.sk-toggleable__label-arrow:before {content: \"▾\";}#sk-container-id-4 div.sk-estimator input.sk-toggleable__control:checked~label.sk-toggleable__label {background-color: #d4ebff;}#sk-container-id-4 div.sk-label input.sk-toggleable__control:checked~label.sk-toggleable__label {background-color: #d4ebff;}#sk-container-id-4 input.sk-hidden--visually {border: 0;clip: rect(1px 1px 1px 1px);clip: rect(1px, 1px, 1px, 1px);height: 1px;margin: -1px;overflow: hidden;padding: 0;position: absolute;width: 1px;}#sk-container-id-4 div.sk-estimator {font-family: monospace;background-color: #f0f8ff;border: 1px dotted black;border-radius: 0.25em;box-sizing: border-box;margin-bottom: 0.5em;}#sk-container-id-4 div.sk-estimator:hover {background-color: #d4ebff;}#sk-container-id-4 div.sk-parallel-item::after {content: \"\";width: 100%;border-bottom: 1px solid gray;flex-grow: 1;}#sk-container-id-4 div.sk-label:hover label.sk-toggleable__label {background-color: #d4ebff;}#sk-container-id-4 div.sk-serial::before {content: \"\";position: absolute;border-left: 1px solid gray;box-sizing: border-box;top: 0;bottom: 0;left: 50%;z-index: 0;}#sk-container-id-4 div.sk-serial {display: flex;flex-direction: column;align-items: center;background-color: white;padding-right: 0.2em;padding-left: 0.2em;position: relative;}#sk-container-id-4 div.sk-item {position: relative;z-index: 1;}#sk-container-id-4 div.sk-parallel {display: flex;align-items: stretch;justify-content: center;background-color: white;position: relative;}#sk-container-id-4 div.sk-item::before, #sk-container-id-4 div.sk-parallel-item::before {content: \"\";position: absolute;border-left: 1px solid gray;box-sizing: border-box;top: 0;bottom: 0;left: 50%;z-index: -1;}#sk-container-id-4 div.sk-parallel-item {display: flex;flex-direction: column;z-index: 1;position: relative;background-color: white;}#sk-container-id-4 div.sk-parallel-item:first-child::after {align-self: flex-end;width: 50%;}#sk-container-id-4 div.sk-parallel-item:last-child::after {align-self: flex-start;width: 50%;}#sk-container-id-4 div.sk-parallel-item:only-child::after {width: 0;}#sk-container-id-4 div.sk-dashed-wrapped {border: 1px dashed gray;margin: 0 0.4em 0.5em 0.4em;box-sizing: border-box;padding-bottom: 0.4em;background-color: white;}#sk-container-id-4 div.sk-label label {font-family: monospace;font-weight: bold;display: inline-block;line-height: 1.2em;}#sk-container-id-4 div.sk-label-container {text-align: center;}#sk-container-id-4 div.sk-container {/* jupyter's `normalize.less` sets `[hidden] { display: none; }` but bootstrap.min.css set `[hidden] { display: none !important; }` so we also need the `!important` here to be able to override the default hidden behavior on the sphinx rendered scikit-learn.org. See: https://github.com/scikit-learn/scikit-learn/issues/21755 */display: inline-block !important;position: relative;}#sk-container-id-4 div.sk-text-repr-fallback {display: none;}</style><div id=\"sk-container-id-4\" class=\"sk-top-container\"><div class=\"sk-text-repr-fallback\"><pre>RandomForestClassifier(random_state=42)</pre><b>In a Jupyter environment, please rerun this cell to show the HTML representation or trust the notebook. <br />On GitHub, the HTML representation is unable to render, please try loading this page with nbviewer.org.</b></div><div class=\"sk-container\" hidden><div class=\"sk-item\"><div class=\"sk-estimator sk-toggleable\"><input class=\"sk-toggleable__control sk-hidden--visually\" id=\"sk-estimator-id-4\" type=\"checkbox\" checked><label for=\"sk-estimator-id-4\" class=\"sk-toggleable__label sk-toggleable__label-arrow\">RandomForestClassifier</label><div class=\"sk-toggleable__content\"><pre>RandomForestClassifier(random_state=42)</pre></div></div></div></div></div>"
      ],
      "text/plain": [
       "RandomForestClassifier(random_state=42)"
      ]
     },
     "execution_count": 19,
     "metadata": {},
     "output_type": "execute_result"
    }
   ],
   "source": [
    "clf = RandomForestClassifier(n_estimators=100, random_state=42)\n",
    "clf.fit(X_train, y_train)"
   ]
  },
  {
   "cell_type": "code",
   "execution_count": 20,
   "id": "aaab1695",
   "metadata": {
    "execution": {
     "iopub.execute_input": "2024-05-19T09:06:50.471959Z",
     "iopub.status.busy": "2024-05-19T09:06:50.470902Z",
     "iopub.status.idle": "2024-05-19T09:06:52.994682Z",
     "shell.execute_reply": "2024-05-19T09:06:52.993629Z"
    },
    "papermill": {
     "duration": 2.536271,
     "end_time": "2024-05-19T09:06:52.997113",
     "exception": false,
     "start_time": "2024-05-19T09:06:50.460842",
     "status": "completed"
    },
    "tags": []
   },
   "outputs": [],
   "source": [
    "y_pred = clf.predict(X_val)"
   ]
  },
  {
   "cell_type": "code",
   "execution_count": 21,
   "id": "7f059359",
   "metadata": {
    "execution": {
     "iopub.execute_input": "2024-05-19T09:06:53.016422Z",
     "iopub.status.busy": "2024-05-19T09:06:53.015981Z",
     "iopub.status.idle": "2024-05-19T09:06:53.350457Z",
     "shell.execute_reply": "2024-05-19T09:06:53.348830Z"
    },
    "papermill": {
     "duration": 0.347066,
     "end_time": "2024-05-19T09:06:53.352867",
     "exception": false,
     "start_time": "2024-05-19T09:06:53.005801",
     "status": "completed"
    },
    "tags": []
   },
   "outputs": [
    {
     "name": "stdout",
     "output_type": "stream",
     "text": [
      "Accuracy: 0.9997674869211393\n",
      "              precision    recall  f1-score   support\n",
      "\n",
      "           1       1.00      1.00      1.00     37863\n",
      "           2       1.00      1.00      1.00     30989\n",
      "           3       1.00      1.00      1.00      9645\n",
      "           4       1.00      1.00      1.00     34418\n",
      "           5       1.00      1.00      1.00      7934\n",
      "           6       1.00      1.00      1.00     33981\n",
      "\n",
      "    accuracy                           1.00    154830\n",
      "   macro avg       1.00      1.00      1.00    154830\n",
      "weighted avg       1.00      1.00      1.00    154830\n",
      "\n"
     ]
    }
   ],
   "source": [
    "accuracy = accuracy_score(y_val, y_pred)\n",
    "print(\"Accuracy:\", accuracy)\n",
    "print(classification_report(y_val, y_pred))"
   ]
  },
  {
   "cell_type": "markdown",
   "id": "ae2f078e",
   "metadata": {
    "papermill": {
     "duration": 0.008545,
     "end_time": "2024-05-19T09:06:53.370347",
     "exception": false,
     "start_time": "2024-05-19T09:06:53.361802",
     "status": "completed"
    },
    "tags": []
   },
   "source": [
    "# Clustering"
   ]
  },
  {
   "cell_type": "code",
   "execution_count": 22,
   "id": "f657ce7e",
   "metadata": {
    "execution": {
     "iopub.execute_input": "2024-05-19T09:06:53.389458Z",
     "iopub.status.busy": "2024-05-19T09:06:53.389046Z",
     "iopub.status.idle": "2024-05-19T09:06:53.709665Z",
     "shell.execute_reply": "2024-05-19T09:06:53.708570Z"
    },
    "papermill": {
     "duration": 0.333166,
     "end_time": "2024-05-19T09:06:53.712274",
     "exception": false,
     "start_time": "2024-05-19T09:06:53.379108",
     "status": "completed"
    },
    "tags": []
   },
   "outputs": [],
   "source": [
    "import matplotlib.pyplot as plt\n",
    "import seaborn as sns"
   ]
  },
  {
   "cell_type": "code",
   "execution_count": 23,
   "id": "ac53a20d",
   "metadata": {
    "execution": {
     "iopub.execute_input": "2024-05-19T09:06:53.731386Z",
     "iopub.status.busy": "2024-05-19T09:06:53.731002Z",
     "iopub.status.idle": "2024-05-19T09:06:54.002194Z",
     "shell.execute_reply": "2024-05-19T09:06:54.000418Z"
    },
    "papermill": {
     "duration": 0.283737,
     "end_time": "2024-05-19T09:06:54.004640",
     "exception": false,
     "start_time": "2024-05-19T09:06:53.720903",
     "status": "completed"
    },
    "tags": []
   },
   "outputs": [
    {
     "name": "stdout",
     "output_type": "stream",
     "text": [
      "Cluster: Cluster 1\n",
      "Cluster Characteristics:\n",
      "        luxury_sales    fresh_sales      dry_sales    total_sales\n",
      "count  188984.000000  188984.000000  188984.000000  188984.000000\n",
      "mean       -0.357387      -0.671782       1.102895       0.302635\n",
      "std         0.575330       0.235544       0.860108       1.105018\n",
      "min        -1.416222      -1.103153      -1.179123      -1.698544\n",
      "25%        -0.843057      -0.872170       0.356647      -0.654965\n",
      "50%        -0.381122      -0.676306       1.102970       0.302204\n",
      "75%         0.081382      -0.481114       1.846134       1.256754\n",
      "max         3.095870       2.429325       2.734583       2.596554\n",
      "\n",
      "\n",
      "Cluster: Cluster 2\n",
      "Cluster Characteristics:\n",
      "        luxury_sales    fresh_sales      dry_sales    total_sales\n",
      "count  155064.000000  155064.000000  155064.000000  155064.000000\n",
      "mean       -0.669590       0.694786      -0.858384      -0.334125\n",
      "std         0.392704       0.586652       0.155899       0.737390\n",
      "min        -1.416122      -1.058724      -1.151595      -1.696902\n",
      "25%        -0.993377       0.188613      -0.989612      -0.968799\n",
      "50%        -0.689072       0.692345      -0.862269      -0.336741\n",
      "75%        -0.376242       1.199529      -0.734949       0.297819\n",
      "max         4.970015       2.005345       1.559158       2.256087\n",
      "\n",
      "\n",
      "Cluster: Cluster 3\n",
      "Cluster Characteristics:\n",
      "       luxury_sales   fresh_sales     dry_sales   total_sales\n",
      "count  48907.000000  48907.000000  48907.000000  48907.000000\n",
      "mean       2.139759     -0.107126     -0.177819      0.308844\n",
      "std        1.416055      0.426905      0.416942      1.104125\n",
      "min       -1.300491     -0.977011     -1.015101     -1.673383\n",
      "25%        0.919102     -0.475788     -0.538670     -0.647353\n",
      "50%        2.131682     -0.108886     -0.177199      0.310657\n",
      "75%        3.353016      0.255800      0.177079      1.262116\n",
      "max        5.057162      1.730173      1.951300      2.531986\n",
      "\n",
      "\n",
      "Cluster: Cluster 4\n",
      "Cluster Characteristics:\n",
      "        luxury_sales    fresh_sales      dry_sales    total_sales\n",
      "count  172439.000000  172439.000000  172439.000000  172439.000000\n",
      "mean       -0.172624      -0.953217       0.606083      -0.335060\n",
      "std         0.528024       0.119434       0.574719       0.738604\n",
      "min        -1.167083      -1.178170      -1.114271      -1.683824\n",
      "25%        -0.620466      -1.051629       0.107625      -0.974652\n",
      "50%        -0.186810      -0.959287       0.604176      -0.338680\n",
      "75%         0.248603      -0.864303       1.100266       0.298451\n",
      "max         4.265056       2.494029       1.707775       2.075164\n",
      "\n",
      "\n",
      "Cluster: Cluster 5\n",
      "Cluster Characteristics:\n",
      "       luxury_sales   fresh_sales     dry_sales   total_sales\n",
      "count  39540.000000  39540.000000  39540.000000  39540.000000\n",
      "mean       1.318909     -0.353846     -0.419410     -0.335056\n",
      "std        0.950023      0.287315      0.279891      0.738391\n",
      "min       -1.073711     -1.057285     -1.088283     -1.686433\n",
      "25%        0.504462     -0.600577     -0.659674     -0.972592\n",
      "50%        1.305265     -0.358112     -0.422319     -0.341470\n",
      "75%        2.122587     -0.112530     -0.184960      0.298410\n",
      "max        4.106061      2.398449      1.316196      1.903161\n",
      "\n",
      "\n",
      "Cluster: Cluster 6\n",
      "Cluster Characteristics:\n",
      "        luxury_sales    fresh_sales      dry_sales    total_sales\n",
      "count  169215.000000  169215.000000  169215.000000  169215.000000\n",
      "mean        0.262022       1.198604      -0.913378       0.298665\n",
      "std         0.779165       0.877257       0.169700       1.102411\n",
      "min        -1.167232      -1.068237      -1.224968      -1.686196\n",
      "25%        -0.399373       0.441338      -1.055549      -0.651161\n",
      "50%         0.243165       1.194707      -0.921058       0.292762\n",
      "75%         0.892306       1.951392      -0.784600       1.243083\n",
      "max         4.777725       2.869700       1.136575       2.585334\n",
      "\n",
      "\n"
     ]
    }
   ],
   "source": [
    "\n",
    "\n",
    "# Assuming 'cleaned_train_df' contains the cleaned dataset with 'cluster_category' column\n",
    "# Group data by cluster category\n",
    "cluster_groups = cleaned_train_df.groupby('cluster_catgeory')\n",
    "\n",
    "# Define cluster names (you can customize these)\n",
    "cluster_names = {\n",
    "    1: \"Cluster 1\",\n",
    "    2: \"Cluster 2\",\n",
    "    3: \"Cluster 3\",\n",
    "    4: \"Cluster 4\",\n",
    "    5: \"Cluster 5\",\n",
    "    6: \"Cluster 6\"\n",
    "}\n",
    "\n",
    "# Iterate over each cluster group\n",
    "for cluster_id, group_df in cluster_groups:\n",
    "    print(f\"Cluster: {cluster_names[cluster_id]}\")\n",
    "    print(\"Cluster Characteristics:\")\n",
    "    \n",
    "    # Calculate statistics for relevant features\n",
    "    features = group_df[[ 'luxury_sales', 'fresh_sales', 'dry_sales',\n",
    "       'outlet_city_Batticaloa', 'outlet_city_Colombo',\n",
    "       'outlet_city_Dehiwala-Mount Lavinia', 'outlet_city_Galle',\n",
    "       'outlet_city_Gampaha', 'outlet_city_Homagama', 'outlet_city_Jaffna',\n",
    "       'outlet_city_Kaduwela', 'outlet_city_Kalmunai', 'outlet_city_Kandy',\n",
    "       'outlet_city_Katunayake', 'outlet_city_Kelaniya', 'outlet_city_Kotte',\n",
    "       'outlet_city_Moratuwa', 'outlet_city_Negombo',\n",
    "       'outlet_city_Nuwara Eliya', 'outlet_city_Panadura',\n",
    "       'outlet_city_Peliyagoda', 'outlet_city_Trincomalee',\n",
    "       'outlet_city_Wattala', 'total_sales']].describe()\n",
    "    \n",
    "    # Print statistics\n",
    "    print(features)\n",
    "    print(\"\\n\")\n"
   ]
  },
  {
   "cell_type": "code",
   "execution_count": 24,
   "id": "de016552",
   "metadata": {
    "execution": {
     "iopub.execute_input": "2024-05-19T09:06:54.024191Z",
     "iopub.status.busy": "2024-05-19T09:06:54.023835Z",
     "iopub.status.idle": "2024-05-19T09:06:55.360538Z",
     "shell.execute_reply": "2024-05-19T09:06:55.359460Z"
    },
    "papermill": {
     "duration": 1.350575,
     "end_time": "2024-05-19T09:06:55.364380",
     "exception": false,
     "start_time": "2024-05-19T09:06:54.013805",
     "status": "completed"
    },
    "tags": []
   },
   "outputs": [
    {
     "data": {
      "image/png": "[encoded data removed]",
      "text/plain": [
       "<Figure size 1000x600 with 1 Axes>"
      ]
     },
     "metadata": {},
     "output_type": "display_data"
    },
    {
     "data": {
      "image/png": "[encoded data removed]",
      "text/plain": [
       "<Figure size 1000x600 with 1 Axes>"
      ]
     },
     "metadata": {},
     "output_type": "display_data"
    },
    {
     "data": {
      "image/png": "[encoded data removed]",
      "text/plain": [
       "<Figure size 1000x600 with 1 Axes>"
      ]
     },
     "metadata": {},
     "output_type": "display_data"
    },
    {
     "data": {
      "image/png": "[encoded data removed]",
      "text/plain": [
       "<Figure size 1000x600 with 1 Axes>"
      ]
     },
     "metadata": {},
     "output_type": "display_data"
    }
   ],
   "source": [
    "for feature in features:\n",
    "    # Create a box plot for each feature\n",
    "    plt.figure(figsize=(10, 6))\n",
    "    sns.boxplot(x='cluster_catgeory', y=feature, data=cleaned_train_df)\n",
    "    plt.title(f\"{feature} by Cluster\")\n",
    "    plt.xlabel(\"Cluster\")\n",
    "    plt.ylabel(feature)\n",
    "    plt.xticks(ticks=range(1, 7), labels=[cluster_names[i] for i in range(1, 7)])\n",
    "    plt.show()"
   ]
  }
 ],
 "metadata": {
  "kaggle": {
   "accelerator": "none",
   "dataSources": [
    {
     "datasetId": 5036442,
     "sourceId": 8451168,
     "sourceType": "datasetVersion"
    }
   ],
   "dockerImageVersionId": 30698,
   "isGpuEnabled": false,
   "isInternetEnabled": false,
   "language": "python",
   "sourceType": "notebook"
  },
  "kernelspec": {
   "display_name": "Python 3",
   "language": "python",
   "name": "python3"
  },
  "language_info": {
   "codemirror_mode": {
    "name": "ipython",
    "version": 3
   },
   "file_extension": ".py",
   "mimetype": "text/x-python",
   "name": "python",
   "nbconvert_exporter": "python",
   "pygments_lexer": "ipython3",
   "version": "3.10.13"
  },
  "papermill": {
   "default_parameters": {},
   "duration": 452.292688,
   "end_time": "2024-05-19T09:06:56.101389",
   "environment_variables": {},
   "exception": null,
   "input_path": "__notebook__.ipynb",
   "output_path": "__notebook__.ipynb",
   "parameters": {},
   "start_time": "2024-05-19T08:59:23.808701",
   "version": "2.5.0"
  }
 },
 "nbformat": 4,
 "nbformat_minor": 5
}
