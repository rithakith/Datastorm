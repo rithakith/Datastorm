{
 "cells": [
  {
   "cell_type": "code",
   "execution_count": 1,
   "id": "2290aeb2",
   "metadata": {
    "_cell_guid": "b1076dfc-b9ad-4769-8c92-a6c4dae69d19",
    "_uuid": "8f2839f25d086af736a60e9eeb907d3b93b6e0e5",
    "execution": {
     "iopub.execute_input": "2024-05-19T08:38:18.748962Z",
     "iopub.status.busy": "2024-05-19T08:38:18.748282Z",
     "iopub.status.idle": "2024-05-19T08:38:20.655749Z",
     "shell.execute_reply": "2024-05-19T08:38:20.653830Z"
    },
    "papermill": {
     "duration": 1.931093,
     "end_time": "2024-05-19T08:38:20.658109",
     "exception": false,
     "start_time": "2024-05-19T08:38:18.727016",
     "status": "completed"
    },
    "tags": []
   },
   "outputs": [
    {
     "name": "stdout",
     "output_type": "stream",
     "text": [
      "/kaggle/input/data-storm-5-0/train_kaggle.csv\n",
      "/kaggle/input/data-storm-5-0/test_kaggle.csv\n"
     ]
    }
   ],
   "source": [
    "# This Python 3 environment comes with many helpful analytics libraries installed\n",
    "# It is defined by the kaggle/python Docker image: https://github.com/kaggle/docker-python\n",
    "# For example, here's several helpful packages to load\n",
    "\n",
    "import numpy as np # linear algebra\n",
    "import pandas as pd # data processing, CSV file I/O (e.g. pd.read_csv)\n",
    "from sklearn.preprocessing import LabelEncoder\n",
    "from sklearn.ensemble import RandomForestClassifier\n",
    "from sklearn.metrics import accuracy_score,classification_report\n",
    "from sklearn.preprocessing import StandardScaler\n",
    "\n",
    "\n",
    "# Input data files are available in the read-only \"../input/\" directory\n",
    "# For example, running this (by clicking run or pressing Shift+Enter) will list all files under the input directory\n",
    "\n",
    "import os\n",
    "for dirname, _, filenames in os.walk('/kaggle/input'):\n",
    "    for filename in filenames:\n",
    "        print(os.path.join(dirname, filename))\n",
    "\n",
    "# You can write up to 20GB to the current directory (/kaggle/working/) that gets preserved as output when you create a version using \"Save & Run All\" \n",
    "# You can also write temporary files to /kaggle/temp/, but they won't be saved outside of the current session"
   ]
  },
  {
   "cell_type": "code",
   "execution_count": 2,
   "id": "54a14359",
   "metadata": {
    "execution": {
     "iopub.execute_input": "2024-05-19T08:38:20.698468Z",
     "iopub.status.busy": "2024-05-19T08:38:20.697397Z",
     "iopub.status.idle": "2024-05-19T08:38:22.220175Z",
     "shell.execute_reply": "2024-05-19T08:38:22.219029Z"
    },
    "papermill": {
     "duration": 1.544758,
     "end_time": "2024-05-19T08:38:22.222707",
     "exception": false,
     "start_time": "2024-05-19T08:38:20.677949",
     "status": "completed"
    },
    "tags": []
   },
   "outputs": [
    {
     "name": "stderr",
     "output_type": "stream",
     "text": [
      "/tmp/ipykernel_18/2988013644.py:1: DtypeWarning: Columns (3,4,5) have mixed types. Specify dtype option on import or set low_memory=False.\n",
      "  train_df = pd.read_csv(\"/kaggle/input/data-storm-5-0/train_kaggle.csv\")\n"
     ]
    },
    {
     "data": {
      "text/html": [
       "<div>\n",
       "<style scoped>\n",
       "    .dataframe tbody tr th:only-of-type {\n",
       "        vertical-align: middle;\n",
       "    }\n",
       "\n",
       "    .dataframe tbody tr th {\n",
       "        vertical-align: top;\n",
       "    }\n",
       "\n",
       "    .dataframe thead th {\n",
       "        text-align: right;\n",
       "    }\n",
       "</style>\n",
       "<table border=\"1\" class=\"dataframe\">\n",
       "  <thead>\n",
       "    <tr style=\"text-align: right;\">\n",
       "      <th></th>\n",
       "      <th>Customer_ID</th>\n",
       "      <th>outlet_city</th>\n",
       "      <th>luxury_sales</th>\n",
       "      <th>fresh_sales</th>\n",
       "      <th>dry_sales</th>\n",
       "    </tr>\n",
       "  </thead>\n",
       "  <tbody>\n",
       "    <tr>\n",
       "      <th>0</th>\n",
       "      <td>33574</td>\n",
       "      <td>batticaloa</td>\n",
       "      <td>2686.5</td>\n",
       "      <td>3582</td>\n",
       "      <td>12537</td>\n",
       "    </tr>\n",
       "    <tr>\n",
       "      <th>1</th>\n",
       "      <td>10089</td>\n",
       "      <td>batticaloa</td>\n",
       "      <td>1717.56</td>\n",
       "      <td>2576.34</td>\n",
       "      <td>9446.58</td>\n",
       "    </tr>\n",
       "    <tr>\n",
       "      <th>2</th>\n",
       "      <td>38329</td>\n",
       "      <td>batticaloa</td>\n",
       "      <td>854.04</td>\n",
       "      <td>1242.24</td>\n",
       "      <td>5201.88</td>\n",
       "    </tr>\n",
       "    <tr>\n",
       "      <th>3</th>\n",
       "      <td>11376</td>\n",
       "      <td>batticaloa</td>\n",
       "      <td>1638.12</td>\n",
       "      <td>2320.67</td>\n",
       "      <td>9282.68</td>\n",
       "    </tr>\n",
       "    <tr>\n",
       "      <th>4</th>\n",
       "      <td>12410</td>\n",
       "      <td>batticaloa</td>\n",
       "      <td>1039.09</td>\n",
       "      <td>1518.67</td>\n",
       "      <td>5435.24</td>\n",
       "    </tr>\n",
       "  </tbody>\n",
       "</table>\n",
       "</div>"
      ],
      "text/plain": [
       "   Customer_ID outlet_city luxury_sales fresh_sales dry_sales\n",
       "0        33574  batticaloa       2686.5        3582     12537\n",
       "1        10089  batticaloa      1717.56     2576.34   9446.58\n",
       "2        38329  batticaloa       854.04     1242.24   5201.88\n",
       "3        11376  batticaloa      1638.12     2320.67   9282.68\n",
       "4        12410  batticaloa      1039.09     1518.67   5435.24"
      ]
     },
     "execution_count": 2,
     "metadata": {},
     "output_type": "execute_result"
    }
   ],
   "source": [
    "train_df = pd.read_csv(\"/kaggle/input/data-storm-5-0/train_kaggle.csv\")\n",
    "test_df = pd.read_csv(\"/kaggle/input/data-storm-5-0/test_kaggle.csv\")\n",
    "test_df.head()"
   ]
  },
  {
   "cell_type": "code",
   "execution_count": 3,
   "id": "8b13bc36",
   "metadata": {
    "execution": {
     "iopub.execute_input": "2024-05-19T08:38:22.262449Z",
     "iopub.status.busy": "2024-05-19T08:38:22.261291Z",
     "iopub.status.idle": "2024-05-19T08:38:23.401312Z",
     "shell.execute_reply": "2024-05-19T08:38:23.400161Z"
    },
    "papermill": {
     "duration": 1.162084,
     "end_time": "2024-05-19T08:38:23.403668",
     "exception": false,
     "start_time": "2024-05-19T08:38:22.241584",
     "status": "completed"
    },
    "tags": []
   },
   "outputs": [
    {
     "name": "stderr",
     "output_type": "stream",
     "text": [
      "/tmp/ipykernel_18/398655442.py:1: DtypeWarning: Columns (3,4,5) have mixed types. Specify dtype option on import or set low_memory=False.\n",
      "  train_df = pd.read_csv(\"/kaggle/input/data-storm-5-0/train_kaggle.csv\")\n"
     ]
    }
   ],
   "source": [
    "train_df = pd.read_csv(\"/kaggle/input/data-storm-5-0/train_kaggle.csv\")\n"
   ]
  },
  {
   "cell_type": "code",
   "execution_count": 4,
   "id": "1fe9b8ba",
   "metadata": {
    "execution": {
     "iopub.execute_input": "2024-05-19T08:38:23.443061Z",
     "iopub.status.busy": "2024-05-19T08:38:23.442708Z",
     "iopub.status.idle": "2024-05-19T08:38:23.514915Z",
     "shell.execute_reply": "2024-05-19T08:38:23.513663Z"
    },
    "papermill": {
     "duration": 0.094537,
     "end_time": "2024-05-19T08:38:23.517119",
     "exception": false,
     "start_time": "2024-05-19T08:38:23.422582",
     "status": "completed"
    },
    "tags": []
   },
   "outputs": [
    {
     "data": {
      "text/html": [
       "<div>\n",
       "<style scoped>\n",
       "    .dataframe tbody tr th:only-of-type {\n",
       "        vertical-align: middle;\n",
       "    }\n",
       "\n",
       "    .dataframe tbody tr th {\n",
       "        vertical-align: top;\n",
       "    }\n",
       "\n",
       "    .dataframe thead th {\n",
       "        text-align: right;\n",
       "    }\n",
       "</style>\n",
       "<table border=\"1\" class=\"dataframe\">\n",
       "  <thead>\n",
       "    <tr style=\"text-align: right;\">\n",
       "      <th></th>\n",
       "      <th>Customer_ID</th>\n",
       "      <th>outlet_city</th>\n",
       "      <th>luxury_sales</th>\n",
       "      <th>fresh_sales</th>\n",
       "      <th>dry_sales</th>\n",
       "    </tr>\n",
       "  </thead>\n",
       "  <tbody>\n",
       "    <tr>\n",
       "      <th>0</th>\n",
       "      <td>33574</td>\n",
       "      <td>batticaloa</td>\n",
       "      <td>2686.5</td>\n",
       "      <td>3582</td>\n",
       "      <td>12537</td>\n",
       "    </tr>\n",
       "    <tr>\n",
       "      <th>1</th>\n",
       "      <td>10089</td>\n",
       "      <td>batticaloa</td>\n",
       "      <td>1717.56</td>\n",
       "      <td>2576.34</td>\n",
       "      <td>9446.58</td>\n",
       "    </tr>\n",
       "    <tr>\n",
       "      <th>2</th>\n",
       "      <td>38329</td>\n",
       "      <td>batticaloa</td>\n",
       "      <td>854.04</td>\n",
       "      <td>1242.24</td>\n",
       "      <td>5201.88</td>\n",
       "    </tr>\n",
       "    <tr>\n",
       "      <th>3</th>\n",
       "      <td>11376</td>\n",
       "      <td>batticaloa</td>\n",
       "      <td>1638.12</td>\n",
       "      <td>2320.67</td>\n",
       "      <td>9282.68</td>\n",
       "    </tr>\n",
       "    <tr>\n",
       "      <th>4</th>\n",
       "      <td>12410</td>\n",
       "      <td>batticaloa</td>\n",
       "      <td>1039.09</td>\n",
       "      <td>1518.67</td>\n",
       "      <td>5435.24</td>\n",
       "    </tr>\n",
       "  </tbody>\n",
       "</table>\n",
       "</div>"
      ],
      "text/plain": [
       "   Customer_ID outlet_city luxury_sales fresh_sales dry_sales\n",
       "0        33574  batticaloa       2686.5        3582     12537\n",
       "1        10089  batticaloa      1717.56     2576.34   9446.58\n",
       "2        38329  batticaloa       854.04     1242.24   5201.88\n",
       "3        11376  batticaloa      1638.12     2320.67   9282.68\n",
       "4        12410  batticaloa      1039.09     1518.67   5435.24"
      ]
     },
     "execution_count": 4,
     "metadata": {},
     "output_type": "execute_result"
    }
   ],
   "source": [
    "test_df = pd.read_csv(\"/kaggle/input/data-storm-5-0/test_kaggle.csv\")\n",
    "test_df.head()"
   ]
  },
  {
   "cell_type": "markdown",
   "id": "3de8446c",
   "metadata": {
    "papermill": {
     "duration": 0.018795,
     "end_time": "2024-05-19T08:38:23.555175",
     "exception": false,
     "start_time": "2024-05-19T08:38:23.536380",
     "status": "completed"
    },
    "tags": []
   },
   "source": [
    "# Convert dry_sales"
   ]
  },
  {
   "cell_type": "code",
   "execution_count": 5,
   "id": "e5878eba",
   "metadata": {
    "execution": {
     "iopub.execute_input": "2024-05-19T08:38:23.594716Z",
     "iopub.status.busy": "2024-05-19T08:38:23.593900Z",
     "iopub.status.idle": "2024-05-19T08:38:23.764732Z",
     "shell.execute_reply": "2024-05-19T08:38:23.763460Z"
    },
    "papermill": {
     "duration": 0.1932,
     "end_time": "2024-05-19T08:38:23.767162",
     "exception": false,
     "start_time": "2024-05-19T08:38:23.573962",
     "status": "completed"
    },
    "tags": []
   },
   "outputs": [
    {
     "name": "stdout",
     "output_type": "stream",
     "text": [
      "        Customer_ID                              dry_sales\n",
      "4929     10414692.0                                    NaN\n",
      "78400    10504943.0                                    NaN\n",
      "148029   10190107.0  Four thousand and two hundread ruppes\n",
      "174631   10273730.0                                    nul\n",
      "174720   10039004.0                                    nul\n",
      "175278   10347733.0                                    nul\n",
      "268571   10047014.0                                    nul\n",
      "296621   10215937.0                                    nul\n",
      "327168   10649653.0                                    NaN\n",
      "327169   10737280.0                                    NaN\n",
      "327170   10010850.0                                    NaN\n",
      "327171   10347930.0                                    NaN\n",
      "327172   10351890.0                                    NaN\n",
      "327173   10025449.0                                    NaN\n",
      "327174   10638161.0                                    NaN\n",
      "327495   10099173.0                                    nul\n",
      "327505   10312003.0                                    nul\n",
      "329931   10540582.0                                    NaN\n",
      "345090   10186598.0                                    NaN\n",
      "345091   10215208.0                                    NaN\n",
      "345092   10530946.0                                    NaN\n",
      "353317   10659375.0                                    NaN\n",
      "496135   10501123.0                                    NaN\n",
      "497003   10367366.0                                    NaN\n",
      "497464   10155270.0                                    NaN\n",
      "497583   10234709.0                                    NaN\n",
      "497597   10345956.0                                    NaN\n",
      "554998   10420777.0                                    NaN\n",
      "555305   10224685.0                                    NaN\n",
      "555469   10692500.0                                    NaN\n",
      "555536   10092366.0                                    NaN\n",
      "555604   10063564.0                                    NaN\n",
      "753448   10460776.0                                    NaN\n",
      "753449   10396264.0                                    NaN\n",
      "753450   10178858.0                                    NaN\n",
      "753696   10090034.0                                    NaN\n",
      "754306   10726566.0                                    NaN\n",
      "774147   10493702.0                                    NaN\n"
     ]
    }
   ],
   "source": [
    "# Convert 'dry_sales' column to numeric, coerce errors to NaN\n",
    "train_df['dry_sales_numeric'] = pd.to_numeric(train_df['dry_sales'], errors='coerce')\n",
    "\n",
    "# Find rows where 'dry_sales' could not be converted to numeric\n",
    "invalid_rows = train_df[train_df['dry_sales_numeric'].isna()]\n",
    "\n",
    "# Display rows with invalid 'dry_sales' values\n",
    "print(invalid_rows[['Customer_ID', 'dry_sales']])\n"
   ]
  },
  {
   "cell_type": "code",
   "execution_count": 6,
   "id": "8a71a446",
   "metadata": {
    "execution": {
     "iopub.execute_input": "2024-05-19T08:38:23.807910Z",
     "iopub.status.busy": "2024-05-19T08:38:23.807518Z",
     "iopub.status.idle": "2024-05-19T08:38:23.822801Z",
     "shell.execute_reply": "2024-05-19T08:38:23.821747Z"
    },
    "papermill": {
     "duration": 0.038137,
     "end_time": "2024-05-19T08:38:23.824761",
     "exception": false,
     "start_time": "2024-05-19T08:38:23.786624",
     "status": "completed"
    },
    "tags": []
   },
   "outputs": [
    {
     "name": "stdout",
     "output_type": "stream",
     "text": [
      "        Customer_ID             outlet_city luxury_sales fresh_sales  \\\n",
      "148029   10190107.0  Dehiwala-Mount Lavinia        931.5       931.5   \n",
      "\n",
      "       dry_sales cluster_catgeory  dry_sales_numeric  \n",
      "148029      4200                4                NaN  \n"
     ]
    }
   ],
   "source": [
    "# Locate the row with Customer_ID 10604532 and change the value of cluster_catgeory to 6\n",
    "train_df.loc[train_df['Customer_ID'] == 10190107, 'dry_sales'] = 4200\n",
    "\n",
    "# Verify the change\n",
    "print(train_df[train_df['Customer_ID'] == 10190107])\n"
   ]
  },
  {
   "cell_type": "markdown",
   "id": "3e4f1cc4",
   "metadata": {
    "papermill": {
     "duration": 0.01883,
     "end_time": "2024-05-19T08:38:23.863132",
     "exception": false,
     "start_time": "2024-05-19T08:38:23.844302",
     "status": "completed"
    },
    "tags": []
   },
   "source": [
    "# Convert fresh_sales"
   ]
  },
  {
   "cell_type": "code",
   "execution_count": 7,
   "id": "2d1562fe",
   "metadata": {
    "execution": {
     "iopub.execute_input": "2024-05-19T08:38:23.903574Z",
     "iopub.status.busy": "2024-05-19T08:38:23.902513Z",
     "iopub.status.idle": "2024-05-19T08:38:24.138749Z",
     "shell.execute_reply": "2024-05-19T08:38:24.137399Z"
    },
    "papermill": {
     "duration": 0.258622,
     "end_time": "2024-05-19T08:38:24.140881",
     "exception": false,
     "start_time": "2024-05-19T08:38:23.882259",
     "status": "completed"
    },
    "tags": []
   },
   "outputs": [
    {
     "name": "stdout",
     "output_type": "stream",
     "text": [
      "        Customer_ID                          fresh_sales\n",
      "4326     10531406.0                                  NaN\n",
      "4327     10311229.0                                  NaN\n",
      "4333     10361798.0                                  NaN\n",
      "4929     10414692.0                                  NaN\n",
      "5379     10600529.0                                  NaN\n",
      "5403     10484539.0                                  NaN\n",
      "5408     10321643.0                                  NaN\n",
      "78367    10424117.0                                  NaN\n",
      "78380    10343473.0                                  NaN\n",
      "78400    10504943.0                                  NaN\n",
      "161810   10261075.0         Six hundread and five ruppes\n",
      "174714   10358037.0                                  nul\n",
      "268571   10047014.0                                  nul\n",
      "326334   10006007.0     Three thousana and five hundread\n",
      "326763   10301959.0                                  NaN\n",
      "326764   10671014.0                                  NaN\n",
      "326765   10687830.0                                  NaN\n",
      "327495   10099173.0                                  nul\n",
      "327505   10312003.0                                  nul\n",
      "329931   10540582.0                                  NaN\n",
      "352298   10703170.0                                  NaN\n",
      "352658   10418309.0                                  NaN\n",
      "354153   10210509.0                                  NaN\n",
      "496138   10559183.0                                  NaN\n",
      "497003   10367366.0                                  NaN\n",
      "497445   10168166.0                                  NaN\n",
      "497446   10545713.0                                  NaN\n",
      "497447   10624363.0                                  NaN\n",
      "497598   10570526.0                                  NaN\n",
      "555470   10403312.0                                  NaN\n",
      "555607   10488405.0                                  NaN\n",
      "555764   10335139.0                                  NaN\n",
      "558897   10314616.0             thirteen thousand ruppes\n",
      "628150   10608125.0                                  NaN\n",
      "695316   10028364.0                                  NaN\n",
      "722329   10119144.0                                  NaN\n",
      "723874   10387271.0                                  NaN\n",
      "724767   10549421.0                                  NaN\n",
      "724768   10092521.0                                  NaN\n",
      "724769   10477511.0                                  NaN\n",
      "752560   10328899.0                                  NaN\n",
      "752816   10369123.0                 Five thousand ruppes\n",
      "753256   10369199.0  Two thousand seven hundread ruppess\n",
      "753378   10390803.0                                  NaN\n",
      "753379   10199267.0                                  NaN\n",
      "753380   10698117.0                                  NaN\n",
      "753454   10668547.0                                  NaN\n",
      "753696   10090034.0                                  NaN\n",
      "754304   10006333.0                                  NaN\n",
      "765777   10499622.0                                  NaN\n"
     ]
    }
   ],
   "source": [
    "# Convert 'dry_sales' column to numeric, coerce errors to NaN\n",
    "train_df['fresh_sales_numeric'] = pd.to_numeric(train_df['fresh_sales'], errors='coerce')\n",
    "\n",
    "# Find rows where 'dry_sales' could not be converted to numeric\n",
    "invalid_rows = train_df[train_df['fresh_sales_numeric'].isna()]\n",
    "\n",
    "# Display rows with invalid 'dry_sales' values\n",
    "print(invalid_rows[['Customer_ID', 'fresh_sales']])\n"
   ]
  },
  {
   "cell_type": "code",
   "execution_count": 8,
   "id": "369088cb",
   "metadata": {
    "execution": {
     "iopub.execute_input": "2024-05-19T08:38:24.181690Z",
     "iopub.status.busy": "2024-05-19T08:38:24.181302Z",
     "iopub.status.idle": "2024-05-19T08:38:24.198550Z",
     "shell.execute_reply": "2024-05-19T08:38:24.197434Z"
    },
    "papermill": {
     "duration": 0.040258,
     "end_time": "2024-05-19T08:38:24.200623",
     "exception": false,
     "start_time": "2024-05-19T08:38:24.160365",
     "status": "completed"
    },
    "tags": []
   },
   "outputs": [
    {
     "name": "stdout",
     "output_type": "stream",
     "text": [
      "        Customer_ID outlet_city luxury_sales fresh_sales dry_sales  \\\n",
      "326334   10006007.0    Kaduwela       758.52        3500   1029.42   \n",
      "\n",
      "       cluster_catgeory  dry_sales_numeric  fresh_sales_numeric  \n",
      "326334                2            1029.42                  NaN  \n"
     ]
    }
   ],
   "source": [
    "# Locate the row with Customer_ID 10604532 and change the value of cluster_catgeory to 6\n",
    "train_df.loc[train_df['Customer_ID'] == 10006007.0 , 'fresh_sales'] = 3500\n",
    "\n",
    "# Verify the change\n",
    "print(train_df[train_df['Customer_ID'] == 10006007.0 ])\n"
   ]
  },
  {
   "cell_type": "code",
   "execution_count": 9,
   "id": "bae7a2ca",
   "metadata": {
    "execution": {
     "iopub.execute_input": "2024-05-19T08:38:24.288958Z",
     "iopub.status.busy": "2024-05-19T08:38:24.288600Z",
     "iopub.status.idle": "2024-05-19T08:38:24.305543Z",
     "shell.execute_reply": "2024-05-19T08:38:24.304295Z"
    },
    "papermill": {
     "duration": 0.040246,
     "end_time": "2024-05-19T08:38:24.307639",
     "exception": false,
     "start_time": "2024-05-19T08:38:24.267393",
     "status": "completed"
    },
    "tags": []
   },
   "outputs": [
    {
     "name": "stdout",
     "output_type": "stream",
     "text": [
      "        Customer_ID outlet_city luxury_sales fresh_sales dry_sales  \\\n",
      "558897   10314616.0  Batticaloa      3027.36       13000   2081.31   \n",
      "\n",
      "       cluster_catgeory  dry_sales_numeric  fresh_sales_numeric  \n",
      "558897              6.0            2081.31                  NaN  \n"
     ]
    }
   ],
   "source": [
    "# Locate the row with Customer_ID 10604532 and change the value of cluster_catgeory to 6\n",
    "train_df.loc[train_df['Customer_ID'] == 10314616.0  , 'fresh_sales'] = 13000\n",
    "\n",
    "# Verify the change\n",
    "print(train_df[train_df['Customer_ID'] == 10314616.0  ])\n"
   ]
  },
  {
   "cell_type": "code",
   "execution_count": 10,
   "id": "f7600c97",
   "metadata": {
    "execution": {
     "iopub.execute_input": "2024-05-19T08:38:24.347882Z",
     "iopub.status.busy": "2024-05-19T08:38:24.347489Z",
     "iopub.status.idle": "2024-05-19T08:38:24.363958Z",
     "shell.execute_reply": "2024-05-19T08:38:24.362811Z"
    },
    "papermill": {
     "duration": 0.039033,
     "end_time": "2024-05-19T08:38:24.366029",
     "exception": false,
     "start_time": "2024-05-19T08:38:24.326996",
     "status": "completed"
    },
    "tags": []
   },
   "outputs": [
    {
     "name": "stdout",
     "output_type": "stream",
     "text": [
      "        Customer_ID  outlet_city luxury_sales fresh_sales dry_sales  \\\n",
      "752816   10369123.0  Trincomalee      5501.57        5000   5679.04   \n",
      "\n",
      "       cluster_catgeory  dry_sales_numeric  fresh_sales_numeric  \n",
      "752816                3            5679.04                  NaN  \n"
     ]
    }
   ],
   "source": [
    "# Locate the row with Customer_ID 10604532 and change the value of cluster_catgeory to 6\n",
    "train_df.loc[train_df['Customer_ID'] == 10369123.0  , 'fresh_sales'] = 5000\n",
    "\n",
    "# Verify the change\n",
    "print(train_df[train_df['Customer_ID'] == 10369123.0  ])\n"
   ]
  },
  {
   "cell_type": "code",
   "execution_count": 11,
   "id": "42dca480",
   "metadata": {
    "execution": {
     "iopub.execute_input": "2024-05-19T08:38:24.407002Z",
     "iopub.status.busy": "2024-05-19T08:38:24.406288Z",
     "iopub.status.idle": "2024-05-19T08:38:24.422961Z",
     "shell.execute_reply": "2024-05-19T08:38:24.421711Z"
    },
    "papermill": {
     "duration": 0.039139,
     "end_time": "2024-05-19T08:38:24.424823",
     "exception": false,
     "start_time": "2024-05-19T08:38:24.385684",
     "status": "completed"
    },
    "tags": []
   },
   "outputs": [
    {
     "name": "stdout",
     "output_type": "stream",
     "text": [
      "        Customer_ID outlet_city luxury_sales fresh_sales dry_sales  \\\n",
      "161810   10261075.0    Panadura       887.36         605    3604.9   \n",
      "\n",
      "       cluster_catgeory  dry_sales_numeric  fresh_sales_numeric  \n",
      "161810                4             3604.9                  NaN  \n"
     ]
    }
   ],
   "source": [
    "# Locate the row with Customer_ID 10604532 and change the value of cluster_catgeory to 6\n",
    "train_df.loc[train_df['Customer_ID'] == 10261075.0 , 'fresh_sales'] = 605\n",
    "\n",
    "# Verify the change\n",
    "print(train_df[train_df['Customer_ID'] == 10261075.0 ])"
   ]
  },
  {
   "cell_type": "code",
   "execution_count": 12,
   "id": "c5e387b0",
   "metadata": {
    "execution": {
     "iopub.execute_input": "2024-05-19T08:38:24.465314Z",
     "iopub.status.busy": "2024-05-19T08:38:24.464969Z",
     "iopub.status.idle": "2024-05-19T08:38:24.480891Z",
     "shell.execute_reply": "2024-05-19T08:38:24.479871Z"
    },
    "papermill": {
     "duration": 0.038887,
     "end_time": "2024-05-19T08:38:24.483274",
     "exception": false,
     "start_time": "2024-05-19T08:38:24.444387",
     "status": "completed"
    },
    "tags": []
   },
   "outputs": [
    {
     "name": "stdout",
     "output_type": "stream",
     "text": [
      "        Customer_ID outlet_city luxury_sales fresh_sales dry_sales  \\\n",
      "753256   10369199.0     Colombo       2692.8        2700    2861.1   \n",
      "\n",
      "       cluster_catgeory  dry_sales_numeric  fresh_sales_numeric  \n",
      "753256                1             2861.1                  NaN  \n"
     ]
    }
   ],
   "source": [
    "train_df.loc[train_df['Customer_ID'] == 10369199, 'fresh_sales'] = 2700\n",
    "\n",
    "# Verify the change\n",
    "print(train_df[train_df['Customer_ID'] == 10369199])"
   ]
  },
  {
   "cell_type": "code",
   "execution_count": 13,
   "id": "d8cbb6a3",
   "metadata": {
    "execution": {
     "iopub.execute_input": "2024-05-19T08:38:24.524080Z",
     "iopub.status.busy": "2024-05-19T08:38:24.523265Z",
     "iopub.status.idle": "2024-05-19T08:38:24.539540Z",
     "shell.execute_reply": "2024-05-19T08:38:24.538569Z"
    },
    "papermill": {
     "duration": 0.038524,
     "end_time": "2024-05-19T08:38:24.541476",
     "exception": false,
     "start_time": "2024-05-19T08:38:24.502952",
     "status": "completed"
    },
    "tags": []
   },
   "outputs": [
    {
     "name": "stdout",
     "output_type": "stream",
     "text": [
      "        Customer_ID outlet_city luxury_sales fresh_sales dry_sales  \\\n",
      "753256   10369199.0     Colombo       2692.8        2700    2861.1   \n",
      "\n",
      "       cluster_catgeory  dry_sales_numeric  fresh_sales_numeric  \n",
      "753256                1             2861.1                  NaN  \n"
     ]
    }
   ],
   "source": [
    "train_df.loc[train_df['Customer_ID'] == 10369199, 'fresh_sales'] = 2700\n",
    "\n",
    "# Verify the change\n",
    "print(train_df[train_df['Customer_ID'] == 10369199])"
   ]
  },
  {
   "cell_type": "markdown",
   "id": "c7eb704a",
   "metadata": {
    "papermill": {
     "duration": 0.019469,
     "end_time": "2024-05-19T08:38:24.581325",
     "exception": false,
     "start_time": "2024-05-19T08:38:24.561856",
     "status": "completed"
    },
    "tags": []
   },
   "source": [
    "# Convert luxury_values"
   ]
  },
  {
   "cell_type": "code",
   "execution_count": 14,
   "id": "8d28d7f1",
   "metadata": {
    "execution": {
     "iopub.execute_input": "2024-05-19T08:38:24.622590Z",
     "iopub.status.busy": "2024-05-19T08:38:24.622197Z",
     "iopub.status.idle": "2024-05-19T08:38:24.952745Z",
     "shell.execute_reply": "2024-05-19T08:38:24.950721Z"
    },
    "papermill": {
     "duration": 0.354237,
     "end_time": "2024-05-19T08:38:24.955166",
     "exception": false,
     "start_time": "2024-05-19T08:38:24.600929",
     "status": "completed"
    },
    "tags": []
   },
   "outputs": [
    {
     "name": "stdout",
     "output_type": "stream",
     "text": [
      "        Customer_ID                         luxury_sales\n",
      "4234     10101878.0                                  NaN\n",
      "4333     10361798.0                                  NaN\n",
      "5375     10556752.0                                  NaN\n",
      "5408     10321643.0                                  NaN\n",
      "78367    10424117.0                                  NaN\n",
      "78380    10343473.0                                  NaN\n",
      "80043    10774052.0    One thousand four hundread ruppes\n",
      "174628   10207785.0                                  NaN\n",
      "175278   10347733.0                                  nul\n",
      "296621   10215937.0                                  nul\n",
      "297911   10189925.0               Eight hundread ruppess\n",
      "326593   10467590.0              six hundread and hirty \n",
      "327258   10615996.0                                  NaN\n",
      "327259   10346205.0                                  NaN\n",
      "327260   10722463.0                                  NaN\n",
      "327261   10221069.0                                  NaN\n",
      "329847   10328520.0                                  NaN\n",
      "329848   10155003.0                                  NaN\n",
      "329849   10600486.0                                  NaN\n",
      "352298   10703170.0                                  NaN\n",
      "352662   10638607.0                                  NaN\n",
      "352663   10223839.0                                  NaN\n",
      "352664   10418282.0                                  NaN\n",
      "367935   10445384.0                                  nul\n",
      "496140   10616379.0                                  NaN\n",
      "497177   10537755.0               Thousand tow hundread \n",
      "497245   10468127.0      seven hundread and nine ruppees\n",
      "497485   10751852.0                                  NaN\n",
      "554998   10420777.0                                  NaN\n",
      "555305   10224685.0                                  NaN\n",
      "555469   10692500.0                                  NaN\n",
      "555573   10294701.0                                  NaN\n",
      "555610   10262970.0                                  NaN\n",
      "555764   10335139.0                                  NaN\n",
      "558562   10076064.0  Three thousand two hundread ruppess\n",
      "722325   10109635.0                                  NaN\n",
      "723874   10387271.0                                  NaN\n",
      "752560   10328899.0                                  NaN\n",
      "753131   10695296.0   Four thousand one hundread ruppess\n",
      "753275   10680540.0                                  NaN\n",
      "753276   10634600.0                                  NaN\n",
      "753277   10140621.0                                  NaN\n",
      "753278   10659621.0                                  NaN\n",
      "753454   10668547.0                                  NaN\n",
      "755630   10537627.0                                  NaN\n"
     ]
    }
   ],
   "source": [
    "# Convert 'dry_sales' column to numeric, coerce errors to NaN\n",
    "train_df['luxury_sales_numeric'] = pd.to_numeric(train_df['luxury_sales'], errors='coerce')\n",
    "\n",
    "# Find rows where 'dry_sales' could not be converted to numeric\n",
    "invalid_rows = train_df[train_df['luxury_sales_numeric'].isna()]\n",
    "\n",
    "# Display rows with invalid 'dry_sales' values\n",
    "print(invalid_rows[['Customer_ID', 'luxury_sales']])\n"
   ]
  },
  {
   "cell_type": "code",
   "execution_count": 15,
   "id": "68abaf97",
   "metadata": {
    "execution": {
     "iopub.execute_input": "2024-05-19T08:38:25.000338Z",
     "iopub.status.busy": "2024-05-19T08:38:24.999451Z",
     "iopub.status.idle": "2024-05-19T08:38:25.023152Z",
     "shell.execute_reply": "2024-05-19T08:38:25.022123Z"
    },
    "papermill": {
     "duration": 0.047404,
     "end_time": "2024-05-19T08:38:25.025745",
     "exception": false,
     "start_time": "2024-05-19T08:38:24.978341",
     "status": "completed"
    },
    "tags": []
   },
   "outputs": [
    {
     "name": "stdout",
     "output_type": "stream",
     "text": [
      "       Customer_ID outlet_city luxury_sales fresh_sales dry_sales  \\\n",
      "80043   10774052.0    Kelaniya         1400      1118.0    5934.0   \n",
      "\n",
      "      cluster_catgeory  dry_sales_numeric  fresh_sales_numeric  \\\n",
      "80043                4             5934.0               1118.0   \n",
      "\n",
      "       luxury_sales_numeric  \n",
      "80043                   NaN  \n"
     ]
    }
   ],
   "source": [
    "# Locate the row with Customer_ID 10604532 and change the value of cluster_catgeory to 6\n",
    "train_df.loc[train_df['Customer_ID'] == 10774052.0 , 'luxury_sales'] = 1400\n",
    "\n",
    "# Verify the change\n",
    "print(train_df[train_df['Customer_ID'] == 10774052.0 ])"
   ]
  },
  {
   "cell_type": "code",
   "execution_count": 16,
   "id": "25e06ba4",
   "metadata": {
    "execution": {
     "iopub.execute_input": "2024-05-19T08:38:25.081707Z",
     "iopub.status.busy": "2024-05-19T08:38:25.081327Z",
     "iopub.status.idle": "2024-05-19T08:38:25.098594Z",
     "shell.execute_reply": "2024-05-19T08:38:25.097454Z"
    },
    "papermill": {
     "duration": 0.045708,
     "end_time": "2024-05-19T08:38:25.100686",
     "exception": false,
     "start_time": "2024-05-19T08:38:25.054978",
     "status": "completed"
    },
    "tags": []
   },
   "outputs": [
    {
     "name": "stdout",
     "output_type": "stream",
     "text": [
      "        Customer_ID outlet_city luxury_sales fresh_sales dry_sales  \\\n",
      "297911   10189925.0    Kelaniya          800     4003.84   1059.84   \n",
      "\n",
      "       cluster_catgeory  dry_sales_numeric  fresh_sales_numeric  \\\n",
      "297911                2            1059.84              4003.84   \n",
      "\n",
      "        luxury_sales_numeric  \n",
      "297911                   NaN  \n"
     ]
    }
   ],
   "source": [
    "# Locate the row with Customer_ID 10604532 and change the value of cluster_catgeory to 6\n",
    "train_df.loc[train_df['Customer_ID'] == 10189925.0 , 'luxury_sales'] = 800\n",
    "\n",
    "# Verify the change\n",
    "print(train_df[train_df['Customer_ID'] == 10189925.0])"
   ]
  },
  {
   "cell_type": "code",
   "execution_count": 17,
   "id": "c1cd43ac",
   "metadata": {
    "execution": {
     "iopub.execute_input": "2024-05-19T08:38:25.143242Z",
     "iopub.status.busy": "2024-05-19T08:38:25.142652Z",
     "iopub.status.idle": "2024-05-19T08:38:25.160329Z",
     "shell.execute_reply": "2024-05-19T08:38:25.159399Z"
    },
    "papermill": {
     "duration": 0.040932,
     "end_time": "2024-05-19T08:38:25.162247",
     "exception": false,
     "start_time": "2024-05-19T08:38:25.121315",
     "status": "completed"
    },
    "tags": []
   },
   "outputs": [
    {
     "name": "stdout",
     "output_type": "stream",
     "text": [
      "        Customer_ID   outlet_city luxury_sales fresh_sales dry_sales  \\\n",
      "326593   10467590.0  Nuwara Eliya          630      3420.3    894.54   \n",
      "\n",
      "       cluster_catgeory  dry_sales_numeric  fresh_sales_numeric  \\\n",
      "326593                2             894.54               3420.3   \n",
      "\n",
      "        luxury_sales_numeric  \n",
      "326593                   NaN  \n"
     ]
    }
   ],
   "source": [
    "# Locate the row with Customer_ID 10604532 and change the value of cluster_catgeory to 6\n",
    "train_df.loc[train_df['Customer_ID'] == 10467590.0  , 'luxury_sales'] = 630\n",
    "\n",
    "# Verify the change\n",
    "print(train_df[train_df['Customer_ID'] == 10467590.0 ])"
   ]
  },
  {
   "cell_type": "code",
   "execution_count": 18,
   "id": "b06f3cd3",
   "metadata": {
    "execution": {
     "iopub.execute_input": "2024-05-19T08:38:25.205371Z",
     "iopub.status.busy": "2024-05-19T08:38:25.205001Z",
     "iopub.status.idle": "2024-05-19T08:38:25.223136Z",
     "shell.execute_reply": "2024-05-19T08:38:25.221770Z"
    },
    "papermill": {
     "duration": 0.041959,
     "end_time": "2024-05-19T08:38:25.225196",
     "exception": false,
     "start_time": "2024-05-19T08:38:25.183237",
     "status": "completed"
    },
    "tags": []
   },
   "outputs": [
    {
     "name": "stdout",
     "output_type": "stream",
     "text": [
      "        Customer_ID outlet_city luxury_sales fresh_sales dry_sales  \\\n",
      "497177   10537755.0       Kandy         1200      2041.0    6939.4   \n",
      "\n",
      "       cluster_catgeory  dry_sales_numeric  fresh_sales_numeric  \\\n",
      "497177                1             6939.4               2041.0   \n",
      "\n",
      "        luxury_sales_numeric  \n",
      "497177                   NaN  \n"
     ]
    }
   ],
   "source": [
    "# Locate the row with Customer_ID 10604532 and change the value of cluster_catgeory to 6\n",
    "train_df.loc[train_df['Customer_ID'] == 10537755.0   , 'luxury_sales'] = 1200\n",
    "\n",
    "# Verify the change\n",
    "print(train_df[train_df['Customer_ID'] == 10537755.0  ])"
   ]
  },
  {
   "cell_type": "code",
   "execution_count": 19,
   "id": "f9b960fe",
   "metadata": {
    "execution": {
     "iopub.execute_input": "2024-05-19T08:38:25.266684Z",
     "iopub.status.busy": "2024-05-19T08:38:25.266339Z",
     "iopub.status.idle": "2024-05-19T08:38:25.288315Z",
     "shell.execute_reply": "2024-05-19T08:38:25.286874Z"
    },
    "papermill": {
     "duration": 0.045622,
     "end_time": "2024-05-19T08:38:25.291025",
     "exception": false,
     "start_time": "2024-05-19T08:38:25.245403",
     "status": "completed"
    },
    "tags": []
   },
   "outputs": [
    {
     "name": "stdout",
     "output_type": "stream",
     "text": [
      "        Customer_ID outlet_city luxury_sales fresh_sales dry_sales  \\\n",
      "497245   10468127.0       Kandy          709     1032.48   4194.45   \n",
      "\n",
      "       cluster_catgeory  dry_sales_numeric  fresh_sales_numeric  \\\n",
      "497245                1            4194.45              1032.48   \n",
      "\n",
      "        luxury_sales_numeric  \n",
      "497245                   NaN  \n"
     ]
    }
   ],
   "source": [
    "# Locate the row with Customer_ID 10604532 and change the value of cluster_catgeory to 6\n",
    "train_df.loc[train_df['Customer_ID'] == 10468127.0   , 'luxury_sales'] = 709\n",
    "\n",
    "# Verify the change\n",
    "print(train_df[train_df['Customer_ID'] == 10468127.0  ])"
   ]
  },
  {
   "cell_type": "code",
   "execution_count": 20,
   "id": "ca853f61",
   "metadata": {
    "execution": {
     "iopub.execute_input": "2024-05-19T08:38:25.339034Z",
     "iopub.status.busy": "2024-05-19T08:38:25.338688Z",
     "iopub.status.idle": "2024-05-19T08:38:25.358504Z",
     "shell.execute_reply": "2024-05-19T08:38:25.356954Z"
    },
    "papermill": {
     "duration": 0.043978,
     "end_time": "2024-05-19T08:38:25.360989",
     "exception": false,
     "start_time": "2024-05-19T08:38:25.317011",
     "status": "completed"
    },
    "tags": []
   },
   "outputs": [
    {
     "name": "stdout",
     "output_type": "stream",
     "text": [
      "        Customer_ID  outlet_city luxury_sales fresh_sales dry_sales  \\\n",
      "558562   10076064.0  Trincomalee         3200     10416.9   1923.12   \n",
      "\n",
      "       cluster_catgeory  dry_sales_numeric  fresh_sales_numeric  \\\n",
      "558562              6.0            1923.12              10416.9   \n",
      "\n",
      "        luxury_sales_numeric  \n",
      "558562                   NaN  \n"
     ]
    }
   ],
   "source": [
    "# Locate the row with Customer_ID 10604532 and change the value of cluster_catgeory to 6\n",
    "train_df.loc[train_df['Customer_ID'] ==  10076064.0  , 'luxury_sales'] = 3200\n",
    "\n",
    "# Verify the change\n",
    "print(train_df[train_df['Customer_ID'] ==  10076064.0])"
   ]
  },
  {
   "cell_type": "code",
   "execution_count": 21,
   "id": "d158a7af",
   "metadata": {
    "execution": {
     "iopub.execute_input": "2024-05-19T08:38:25.404035Z",
     "iopub.status.busy": "2024-05-19T08:38:25.403078Z",
     "iopub.status.idle": "2024-05-19T08:38:25.421039Z",
     "shell.execute_reply": "2024-05-19T08:38:25.419875Z"
    },
    "papermill": {
     "duration": 0.041326,
     "end_time": "2024-05-19T08:38:25.422965",
     "exception": false,
     "start_time": "2024-05-19T08:38:25.381639",
     "status": "completed"
    },
    "tags": []
   },
   "outputs": [
    {
     "name": "stdout",
     "output_type": "stream",
     "text": [
      "        Customer_ID outlet_city luxury_sales fresh_sales dry_sales  \\\n",
      "753131   10695296.0  Batticaloa         4100     4286.72   4034.56   \n",
      "\n",
      "       cluster_catgeory  dry_sales_numeric  fresh_sales_numeric  \\\n",
      "753131                3            4034.56              4286.72   \n",
      "\n",
      "        luxury_sales_numeric  \n",
      "753131                   NaN  \n"
     ]
    }
   ],
   "source": [
    "# Locate the row with Customer_ID 10604532 and change the value of cluster_catgeory to 6\n",
    "train_df.loc[train_df['Customer_ID'] == 10695296.0   , 'luxury_sales'] = 4100\n",
    "\n",
    "# Verify the change\n",
    "print(train_df[train_df['Customer_ID'] == 10695296.0  ])"
   ]
  },
  {
   "cell_type": "markdown",
   "id": "4e9e8391",
   "metadata": {
    "papermill": {
     "duration": 0.01981,
     "end_time": "2024-05-19T08:38:25.463277",
     "exception": false,
     "start_time": "2024-05-19T08:38:25.443467",
     "status": "completed"
    },
    "tags": []
   },
   "source": [
    "# ClusterCategory"
   ]
  },
  {
   "cell_type": "code",
   "execution_count": 22,
   "id": "69a133b8",
   "metadata": {
    "execution": {
     "iopub.execute_input": "2024-05-19T08:38:25.505146Z",
     "iopub.status.busy": "2024-05-19T08:38:25.504777Z",
     "iopub.status.idle": "2024-05-19T08:38:25.751680Z",
     "shell.execute_reply": "2024-05-19T08:38:25.750846Z"
    },
    "papermill": {
     "duration": 0.270353,
     "end_time": "2024-05-19T08:38:25.753814",
     "exception": false,
     "start_time": "2024-05-19T08:38:25.483461",
     "status": "completed"
    },
    "tags": []
   },
   "outputs": [
    {
     "name": "stdout",
     "output_type": "stream",
     "text": [
      "        Customer_ID cluster_catgeory\n",
      "3560     10604532.0               6\\\n",
      "555560   10158111.0              NaN\n"
     ]
    }
   ],
   "source": [
    "# Convert 'dry_sales' column to numeric, coerce errors to NaN\n",
    "train_df['clusterCategory_numeric'] = pd.to_numeric(train_df['cluster_catgeory'], errors='coerce')\n",
    "\n",
    "# Find rows where 'dry_sales' could not be converted to numeric\n",
    "invalid_rows = train_df[train_df['clusterCategory_numeric'].isna()]\n",
    "\n",
    "# Display rows with invalid 'dry_sales' values\n",
    "print(invalid_rows[['Customer_ID', 'cluster_catgeory']])\n"
   ]
  },
  {
   "cell_type": "code",
   "execution_count": 23,
   "id": "ccd8d35a",
   "metadata": {
    "execution": {
     "iopub.execute_input": "2024-05-19T08:38:25.796513Z",
     "iopub.status.busy": "2024-05-19T08:38:25.795834Z",
     "iopub.status.idle": "2024-05-19T08:38:25.811140Z",
     "shell.execute_reply": "2024-05-19T08:38:25.810055Z"
    },
    "papermill": {
     "duration": 0.038858,
     "end_time": "2024-05-19T08:38:25.813363",
     "exception": false,
     "start_time": "2024-05-19T08:38:25.774505",
     "status": "completed"
    },
    "tags": []
   },
   "outputs": [
    {
     "name": "stdout",
     "output_type": "stream",
     "text": [
      "      Customer_ID             outlet_city luxury_sales fresh_sales dry_sales  \\\n",
      "3560   10604532.0  Dehiwala-Mount Lavinia      1811.34     1408.82   6641.58   \n",
      "\n",
      "     cluster_catgeory  dry_sales_numeric  fresh_sales_numeric  \\\n",
      "3560                6            6641.58              1408.82   \n",
      "\n",
      "      luxury_sales_numeric  clusterCategory_numeric  \n",
      "3560               1811.34                      NaN  \n"
     ]
    }
   ],
   "source": [
    "# Locate the row with Customer_ID 10604532 and change the value of cluster_catgeory to 6\n",
    "train_df.loc[train_df['Customer_ID'] == 10604532, 'cluster_catgeory'] = 6\n",
    "\n",
    "# Verify the change\n",
    "print(train_df[train_df['Customer_ID'] == 10604532])"
   ]
  },
  {
   "cell_type": "code",
   "execution_count": 24,
   "id": "d986d92e",
   "metadata": {
    "execution": {
     "iopub.execute_input": "2024-05-19T08:38:25.857023Z",
     "iopub.status.busy": "2024-05-19T08:38:25.856056Z",
     "iopub.status.idle": "2024-05-19T08:38:25.979343Z",
     "shell.execute_reply": "2024-05-19T08:38:25.978269Z"
    },
    "papermill": {
     "duration": 0.147415,
     "end_time": "2024-05-19T08:38:25.981536",
     "exception": false,
     "start_time": "2024-05-19T08:38:25.834121",
     "status": "completed"
    },
    "tags": []
   },
   "outputs": [
    {
     "name": "stdout",
     "output_type": "stream",
     "text": [
      "Empty DataFrame\n",
      "Columns: [Customer_ID, outlet_city, luxury_sales, fresh_sales, dry_sales, cluster_catgeory, dry_sales_numeric, fresh_sales_numeric, luxury_sales_numeric, clusterCategory_numeric]\n",
      "Index: []\n"
     ]
    }
   ],
   "source": [
    "\n",
    "# Remove the row with Customer_ID 10158111.0\n",
    "train_df = train_df[train_df['Customer_ID'] != 10158111.0]\n",
    "\n",
    "# Verify the removal\n",
    "print(train_df[train_df['Customer_ID'] == 10158111.0])\n"
   ]
  },
  {
   "cell_type": "code",
   "execution_count": 25,
   "id": "02e2fee7",
   "metadata": {
    "execution": {
     "iopub.execute_input": "2024-05-19T08:38:26.026750Z",
     "iopub.status.busy": "2024-05-19T08:38:26.025661Z",
     "iopub.status.idle": "2024-05-19T08:38:26.079087Z",
     "shell.execute_reply": "2024-05-19T08:38:26.078009Z"
    },
    "papermill": {
     "duration": 0.078345,
     "end_time": "2024-05-19T08:38:26.081281",
     "exception": false,
     "start_time": "2024-05-19T08:38:26.002936",
     "status": "completed"
    },
    "tags": []
   },
   "outputs": [
    {
     "name": "stdout",
     "output_type": "stream",
     "text": [
      "Mode of cluster_category: 0    1\n",
      "Name: cluster_catgeory, dtype: object\n"
     ]
    }
   ],
   "source": [
    "# Find the mode of 'cluster_category'\n",
    "mode_cluster_category = train_df['cluster_catgeory'].mode()\n",
    "\n",
    "print(\"Mode of cluster_category:\", mode_cluster_category)"
   ]
  },
  {
   "cell_type": "code",
   "execution_count": 26,
   "id": "365e5c28",
   "metadata": {
    "execution": {
     "iopub.execute_input": "2024-05-19T08:38:26.128043Z",
     "iopub.status.busy": "2024-05-19T08:38:26.126952Z",
     "iopub.status.idle": "2024-05-19T08:38:26.357946Z",
     "shell.execute_reply": "2024-05-19T08:38:26.357153Z"
    },
    "papermill": {
     "duration": 0.256675,
     "end_time": "2024-05-19T08:38:26.359906",
     "exception": false,
     "start_time": "2024-05-19T08:38:26.103231",
     "status": "completed"
    },
    "tags": []
   },
   "outputs": [],
   "source": [
    "# Convert 'cluster_catgeory' column to numeric data type\n",
    "train_df['cluster_catgeory'] = pd.to_numeric(train_df['cluster_catgeory'], errors='coerce')\n",
    "\n"
   ]
  },
  {
   "cell_type": "code",
   "execution_count": 27,
   "id": "9034dfd4",
   "metadata": {
    "execution": {
     "iopub.execute_input": "2024-05-19T08:38:26.402971Z",
     "iopub.status.busy": "2024-05-19T08:38:26.402631Z",
     "iopub.status.idle": "2024-05-19T08:38:26.509432Z",
     "shell.execute_reply": "2024-05-19T08:38:26.508091Z"
    },
    "papermill": {
     "duration": 0.130645,
     "end_time": "2024-05-19T08:38:26.511382",
     "exception": false,
     "start_time": "2024-05-19T08:38:26.380737",
     "status": "completed"
    },
    "tags": []
   },
   "outputs": [
    {
     "name": "stdout",
     "output_type": "stream",
     "text": [
      "Number of rows removed: 5\n"
     ]
    }
   ],
   "source": [
    "# Count rows before removal\n",
    "rows_before_removal = len(train_df)\n",
    "\n",
    "# Remove rows where cluster_catgeory is greater than 6\n",
    "train_df = train_df[train_df['cluster_catgeory'] <= 6]\n",
    "\n",
    "# Count rows after removal\n",
    "rows_after_removal = len(train_df)\n",
    "\n",
    "# Calculate the number of rows removed\n",
    "rows_removed = rows_before_removal - rows_after_removal\n",
    "\n",
    "print(\"Number of rows removed:\", rows_removed)\n"
   ]
  },
  {
   "cell_type": "code",
   "execution_count": 28,
   "id": "72a9410a",
   "metadata": {
    "execution": {
     "iopub.execute_input": "2024-05-19T08:38:26.554522Z",
     "iopub.status.busy": "2024-05-19T08:38:26.553904Z",
     "iopub.status.idle": "2024-05-19T08:38:26.791507Z",
     "shell.execute_reply": "2024-05-19T08:38:26.790478Z"
    },
    "papermill": {
     "duration": 0.261457,
     "end_time": "2024-05-19T08:38:26.793701",
     "exception": false,
     "start_time": "2024-05-19T08:38:26.532244",
     "status": "completed"
    },
    "tags": []
   },
   "outputs": [
    {
     "data": {
      "text/html": [
       "<div>\n",
       "<style scoped>\n",
       "    .dataframe tbody tr th:only-of-type {\n",
       "        vertical-align: middle;\n",
       "    }\n",
       "\n",
       "    .dataframe tbody tr th {\n",
       "        vertical-align: top;\n",
       "    }\n",
       "\n",
       "    .dataframe thead th {\n",
       "        text-align: right;\n",
       "    }\n",
       "</style>\n",
       "<table border=\"1\" class=\"dataframe\">\n",
       "  <thead>\n",
       "    <tr style=\"text-align: right;\">\n",
       "      <th></th>\n",
       "      <th>Customer_ID</th>\n",
       "      <th>cluster_catgeory</th>\n",
       "      <th>dry_sales_numeric</th>\n",
       "      <th>fresh_sales_numeric</th>\n",
       "      <th>luxury_sales_numeric</th>\n",
       "      <th>clusterCategory_numeric</th>\n",
       "    </tr>\n",
       "  </thead>\n",
       "  <tbody>\n",
       "    <tr>\n",
       "      <th>count</th>\n",
       "      <td>7.741470e+05</td>\n",
       "      <td>774149.000000</td>\n",
       "      <td>774111.000000</td>\n",
       "      <td>774099.000000</td>\n",
       "      <td>774104.000000</td>\n",
       "      <td>774148.000000</td>\n",
       "    </tr>\n",
       "    <tr>\n",
       "      <th>mean</th>\n",
       "      <td>1.038708e+07</td>\n",
       "      <td>3.292104</td>\n",
       "      <td>4676.283901</td>\n",
       "      <td>4428.685403</td>\n",
       "      <td>1921.970078</td>\n",
       "      <td>3.292100</td>\n",
       "    </tr>\n",
       "    <tr>\n",
       "      <th>std</th>\n",
       "      <td>2.234797e+05</td>\n",
       "      <td>1.867014</td>\n",
       "      <td>3409.386412</td>\n",
       "      <td>3334.660285</td>\n",
       "      <td>1004.080045</td>\n",
       "      <td>1.867013</td>\n",
       "    </tr>\n",
       "    <tr>\n",
       "      <th>min</th>\n",
       "      <td>1.000000e+07</td>\n",
       "      <td>1.000000</td>\n",
       "      <td>500.000000</td>\n",
       "      <td>500.000000</td>\n",
       "      <td>500.000000</td>\n",
       "      <td>1.000000</td>\n",
       "    </tr>\n",
       "    <tr>\n",
       "      <th>25%</th>\n",
       "      <td>1.019354e+07</td>\n",
       "      <td>2.000000</td>\n",
       "      <td>1787.940000</td>\n",
       "      <td>1620.190000</td>\n",
       "      <td>1213.530000</td>\n",
       "      <td>2.000000</td>\n",
       "    </tr>\n",
       "    <tr>\n",
       "      <th>50%</th>\n",
       "      <td>1.038708e+07</td>\n",
       "      <td>3.000000</td>\n",
       "      <td>3727.760000</td>\n",
       "      <td>3356.480000</td>\n",
       "      <td>1715.280000</td>\n",
       "      <td>3.000000</td>\n",
       "    </tr>\n",
       "    <tr>\n",
       "      <th>75%</th>\n",
       "      <td>1.058062e+07</td>\n",
       "      <td>5.000000</td>\n",
       "      <td>7162.200000</td>\n",
       "      <td>6671.610000</td>\n",
       "      <td>2338.700000</td>\n",
       "      <td>5.000000</td>\n",
       "    </tr>\n",
       "    <tr>\n",
       "      <th>max</th>\n",
       "      <td>1.077415e+07</td>\n",
       "      <td>6.000000</td>\n",
       "      <td>13999.300000</td>\n",
       "      <td>13997.900000</td>\n",
       "      <td>6999.650000</td>\n",
       "      <td>6.000000</td>\n",
       "    </tr>\n",
       "  </tbody>\n",
       "</table>\n",
       "</div>"
      ],
      "text/plain": [
       "        Customer_ID  cluster_catgeory  dry_sales_numeric  fresh_sales_numeric  \\\n",
       "count  7.741470e+05     774149.000000      774111.000000        774099.000000   \n",
       "mean   1.038708e+07          3.292104        4676.283901          4428.685403   \n",
       "std    2.234797e+05          1.867014        3409.386412          3334.660285   \n",
       "min    1.000000e+07          1.000000         500.000000           500.000000   \n",
       "25%    1.019354e+07          2.000000        1787.940000          1620.190000   \n",
       "50%    1.038708e+07          3.000000        3727.760000          3356.480000   \n",
       "75%    1.058062e+07          5.000000        7162.200000          6671.610000   \n",
       "max    1.077415e+07          6.000000       13999.300000         13997.900000   \n",
       "\n",
       "       luxury_sales_numeric  clusterCategory_numeric  \n",
       "count         774104.000000            774148.000000  \n",
       "mean            1921.970078                 3.292100  \n",
       "std             1004.080045                 1.867013  \n",
       "min              500.000000                 1.000000  \n",
       "25%             1213.530000                 2.000000  \n",
       "50%             1715.280000                 3.000000  \n",
       "75%             2338.700000                 5.000000  \n",
       "max             6999.650000                 6.000000  "
      ]
     },
     "execution_count": 28,
     "metadata": {},
     "output_type": "execute_result"
    }
   ],
   "source": [
    "train_df.describe()"
   ]
  },
  {
   "cell_type": "markdown",
   "id": "fe5bac9d",
   "metadata": {
    "papermill": {
     "duration": 0.020859,
     "end_time": "2024-05-19T08:38:26.835793",
     "exception": false,
     "start_time": "2024-05-19T08:38:26.814934",
     "status": "completed"
    },
    "tags": []
   },
   "source": [
    "mode is 1"
   ]
  },
  {
   "cell_type": "code",
   "execution_count": 29,
   "id": "dc1f045c",
   "metadata": {
    "execution": {
     "iopub.execute_input": "2024-05-19T08:38:26.880164Z",
     "iopub.status.busy": "2024-05-19T08:38:26.879121Z",
     "iopub.status.idle": "2024-05-19T08:38:26.895285Z",
     "shell.execute_reply": "2024-05-19T08:38:26.894343Z"
    },
    "papermill": {
     "duration": 0.040453,
     "end_time": "2024-05-19T08:38:26.897315",
     "exception": false,
     "start_time": "2024-05-19T08:38:26.856862",
     "status": "completed"
    },
    "tags": []
   },
   "outputs": [
    {
     "name": "stdout",
     "output_type": "stream",
     "text": [
      "[4. 1. 2. 5. 3. 6.]\n"
     ]
    }
   ],
   "source": [
    "unique_cluster_categories = train_df['cluster_catgeory'].unique()\n",
    "print(unique_cluster_categories)\n"
   ]
  },
  {
   "cell_type": "code",
   "execution_count": 30,
   "id": "9ab38ecc",
   "metadata": {
    "execution": {
     "iopub.execute_input": "2024-05-19T08:38:26.941803Z",
     "iopub.status.busy": "2024-05-19T08:38:26.940897Z",
     "iopub.status.idle": "2024-05-19T08:38:26.949223Z",
     "shell.execute_reply": "2024-05-19T08:38:26.948364Z"
    },
    "papermill": {
     "duration": 0.032646,
     "end_time": "2024-05-19T08:38:26.951186",
     "exception": false,
     "start_time": "2024-05-19T08:38:26.918540",
     "status": "completed"
    },
    "tags": []
   },
   "outputs": [],
   "source": [
    "train_df['cluster_catgeory'] = train_df['cluster_catgeory'].astype(int)\n"
   ]
  },
  {
   "cell_type": "markdown",
   "id": "cc2edbd5",
   "metadata": {
    "papermill": {
     "duration": 0.020847,
     "end_time": "2024-05-19T08:38:26.993205",
     "exception": false,
     "start_time": "2024-05-19T08:38:26.972358",
     "status": "completed"
    },
    "tags": []
   },
   "source": [
    "# OUTLET city in train_df and test_df check"
   ]
  },
  {
   "cell_type": "markdown",
   "id": "cb7c1131",
   "metadata": {
    "papermill": {
     "duration": 0.021113,
     "end_time": "2024-05-19T08:38:27.035291",
     "exception": false,
     "start_time": "2024-05-19T08:38:27.014178",
     "status": "completed"
    },
    "tags": []
   },
   "source": [
    "* train_data"
   ]
  },
  {
   "cell_type": "code",
   "execution_count": 31,
   "id": "b9f989a9",
   "metadata": {
    "execution": {
     "iopub.execute_input": "2024-05-19T08:38:27.078783Z",
     "iopub.status.busy": "2024-05-19T08:38:27.077870Z",
     "iopub.status.idle": "2024-05-19T08:38:27.118370Z",
     "shell.execute_reply": "2024-05-19T08:38:27.117656Z"
    },
    "papermill": {
     "duration": 0.064181,
     "end_time": "2024-05-19T08:38:27.120271",
     "exception": false,
     "start_time": "2024-05-19T08:38:27.056090",
     "status": "completed"
    },
    "tags": []
   },
   "outputs": [
    {
     "name": "stdout",
     "output_type": "stream",
     "text": [
      "['Kelaniya' 'Moratuwa' 'Wattala' 'Homagama' 'Dehiwala-Mount Lavinia'\n",
      " 'Panadura' 'Kaduwela' 'Peliyagoda' 'Kotte' 'Nuwara Eliya' 'Batticaloa'\n",
      " 'Colombo' 'Jaffna' 'Gampaha' 'Kalmunai' 'Galle' 'Katunayake' 'Negombo'\n",
      " 'Trincomalee' 'Kandy' nan]\n"
     ]
    }
   ],
   "source": [
    "unique_city_categories = train_df['outlet_city'].unique()\n",
    "print(unique_city_categories)"
   ]
  },
  {
   "cell_type": "code",
   "execution_count": 32,
   "id": "ab94928b",
   "metadata": {
    "execution": {
     "iopub.execute_input": "2024-05-19T08:38:27.165250Z",
     "iopub.status.busy": "2024-05-19T08:38:27.164369Z",
     "iopub.status.idle": "2024-05-19T08:38:27.282851Z",
     "shell.execute_reply": "2024-05-19T08:38:27.282068Z"
    },
    "papermill": {
     "duration": 0.142841,
     "end_time": "2024-05-19T08:38:27.285037",
     "exception": false,
     "start_time": "2024-05-19T08:38:27.142196",
     "status": "completed"
    },
    "tags": []
   },
   "outputs": [],
   "source": [
    "# Find the mode of 'outlet_city'\n",
    "mode_outlet_city = train_df['outlet_city'].mode()[0]\n",
    "\n",
    "# Replace NaN values with the mode value\n",
    "train_df['outlet_city'] = train_df['outlet_city'].fillna(mode_outlet_city)\n"
   ]
  },
  {
   "cell_type": "code",
   "execution_count": 33,
   "id": "14343e16",
   "metadata": {
    "execution": {
     "iopub.execute_input": "2024-05-19T08:38:27.329244Z",
     "iopub.status.busy": "2024-05-19T08:38:27.328707Z",
     "iopub.status.idle": "2024-05-19T08:38:27.566282Z",
     "shell.execute_reply": "2024-05-19T08:38:27.564964Z"
    },
    "papermill": {
     "duration": 0.262638,
     "end_time": "2024-05-19T08:38:27.569029",
     "exception": false,
     "start_time": "2024-05-19T08:38:27.306391",
     "status": "completed"
    },
    "tags": []
   },
   "outputs": [
    {
     "name": "stdout",
     "output_type": "stream",
     "text": [
      "   Customer_ID luxury_sales fresh_sales dry_sales  cluster_catgeory  \\\n",
      "0   10493832.0       1209.6       756.0    5292.0                 4   \n",
      "1   10178643.0      1590.12     1060.08   6007.12                 1   \n",
      "2   10513916.0      2288.88     1481.04   9155.52                 4   \n",
      "3   10334589.0      2274.94     1739.66   9099.76                 4   \n",
      "4   10458365.0      2345.49     2069.55   9243.99                 4   \n",
      "\n",
      "   dry_sales_numeric  fresh_sales_numeric  luxury_sales_numeric  \\\n",
      "0            5292.00               756.00               1209.60   \n",
      "1            6007.12              1060.08               1590.12   \n",
      "2            9155.52              1481.04               2288.88   \n",
      "3            9099.76              1739.66               2274.94   \n",
      "4            9243.99              2069.55               2345.49   \n",
      "\n",
      "   clusterCategory_numeric  outlet_city_Batticaloa  ...  \\\n",
      "0                      4.0                   False  ...   \n",
      "1                      1.0                   False  ...   \n",
      "2                      4.0                   False  ...   \n",
      "3                      4.0                   False  ...   \n",
      "4                      4.0                   False  ...   \n",
      "\n",
      "   outlet_city_Katunayake  outlet_city_Kelaniya  outlet_city_Kotte  \\\n",
      "0                   False                  True              False   \n",
      "1                   False                 False              False   \n",
      "2                   False                 False              False   \n",
      "3                   False                 False              False   \n",
      "4                   False                  True              False   \n",
      "\n",
      "   outlet_city_Moratuwa  outlet_city_Negombo  outlet_city_Nuwara Eliya  \\\n",
      "0                 False                False                     False   \n",
      "1                  True                False                     False   \n",
      "2                 False                False                     False   \n",
      "3                 False                False                     False   \n",
      "4                 False                False                     False   \n",
      "\n",
      "   outlet_city_Panadura  outlet_city_Peliyagoda  outlet_city_Trincomalee  \\\n",
      "0                 False                   False                    False   \n",
      "1                 False                   False                    False   \n",
      "2                 False                   False                    False   \n",
      "3                 False                   False                    False   \n",
      "4                 False                   False                    False   \n",
      "\n",
      "   outlet_city_Wattala  \n",
      "0                False  \n",
      "1                False  \n",
      "2                 True  \n",
      "3                 True  \n",
      "4                False  \n",
      "\n",
      "[5 rows x 29 columns]\n"
     ]
    }
   ],
   "source": [
    "\n",
    "\n",
    "# One-hot encode the 'outlet_city' column\n",
    "train_df = pd.get_dummies(train_df, columns=['outlet_city'])\n",
    "\n",
    "# Display the first few rows of the DataFrame to verify the changes\n",
    "print(train_df.head())\n"
   ]
  },
  {
   "cell_type": "code",
   "execution_count": null,
   "id": "d0b6efb6",
   "metadata": {
    "papermill": {
     "duration": 0.021116,
     "end_time": "2024-05-19T08:38:27.611735",
     "exception": false,
     "start_time": "2024-05-19T08:38:27.590619",
     "status": "completed"
    },
    "tags": []
   },
   "outputs": [],
   "source": []
  },
  {
   "cell_type": "code",
   "execution_count": 34,
   "id": "0aecceb2",
   "metadata": {
    "execution": {
     "iopub.execute_input": "2024-05-19T08:38:27.655296Z",
     "iopub.status.busy": "2024-05-19T08:38:27.654913Z",
     "iopub.status.idle": "2024-05-19T08:38:27.661325Z",
     "shell.execute_reply": "2024-05-19T08:38:27.660430Z"
    },
    "papermill": {
     "duration": 0.030656,
     "end_time": "2024-05-19T08:38:27.663444",
     "exception": false,
     "start_time": "2024-05-19T08:38:27.632788",
     "status": "completed"
    },
    "tags": []
   },
   "outputs": [
    {
     "data": {
      "text/plain": [
       "Index(['Customer_ID', 'luxury_sales', 'fresh_sales', 'dry_sales',\n",
       "       'cluster_catgeory', 'dry_sales_numeric', 'fresh_sales_numeric',\n",
       "       'luxury_sales_numeric', 'clusterCategory_numeric',\n",
       "       'outlet_city_Batticaloa', 'outlet_city_Colombo',\n",
       "       'outlet_city_Dehiwala-Mount Lavinia', 'outlet_city_Galle',\n",
       "       'outlet_city_Gampaha', 'outlet_city_Homagama', 'outlet_city_Jaffna',\n",
       "       'outlet_city_Kaduwela', 'outlet_city_Kalmunai', 'outlet_city_Kandy',\n",
       "       'outlet_city_Katunayake', 'outlet_city_Kelaniya', 'outlet_city_Kotte',\n",
       "       'outlet_city_Moratuwa', 'outlet_city_Negombo',\n",
       "       'outlet_city_Nuwara Eliya', 'outlet_city_Panadura',\n",
       "       'outlet_city_Peliyagoda', 'outlet_city_Trincomalee',\n",
       "       'outlet_city_Wattala'],\n",
       "      dtype='object')"
      ]
     },
     "execution_count": 34,
     "metadata": {},
     "output_type": "execute_result"
    }
   ],
   "source": [
    "train_df.columns"
   ]
  },
  {
   "cell_type": "markdown",
   "id": "188116ee",
   "metadata": {
    "papermill": {
     "duration": 0.02074,
     "end_time": "2024-05-19T08:38:27.705137",
     "exception": false,
     "start_time": "2024-05-19T08:38:27.684397",
     "status": "completed"
    },
    "tags": []
   },
   "source": [
    "* test_df"
   ]
  },
  {
   "cell_type": "code",
   "execution_count": 35,
   "id": "9bc85976",
   "metadata": {
    "execution": {
     "iopub.execute_input": "2024-05-19T08:38:27.749005Z",
     "iopub.status.busy": "2024-05-19T08:38:27.748319Z",
     "iopub.status.idle": "2024-05-19T08:38:27.757083Z",
     "shell.execute_reply": "2024-05-19T08:38:27.755770Z"
    },
    "papermill": {
     "duration": 0.033016,
     "end_time": "2024-05-19T08:38:27.759073",
     "exception": false,
     "start_time": "2024-05-19T08:38:27.726057",
     "status": "completed"
    },
    "tags": []
   },
   "outputs": [
    {
     "name": "stdout",
     "output_type": "stream",
     "text": [
      "['batticaloa' 'Batticaloa' 'Colombo' 'Dehiwala-Mount Lavinia'\n",
      " 'Anuradhapura' 'Galle' 'Gampaha' 'Homagama' 'Jaffna' 'Kaduwela'\n",
      " 'Kalmunai' 'kalmunai' 'Kandy' 'Katunayake' 'Kelaniya' 'Madawachiya'\n",
      " 'Kotte' 'Moratuwa' 'MoraTuwa' 'Negombo' 'Nuwara Eliya' 'Panadura'\n",
      " 'Peliyagoda' 'PeliyagodA' 'Trincomale' 'Trincomalee' 'Wattala']\n"
     ]
    }
   ],
   "source": [
    "unique_city_categories = test_df['outlet_city'].unique()\n",
    "print(unique_city_categories)"
   ]
  },
  {
   "cell_type": "markdown",
   "id": "6d29b805",
   "metadata": {
    "papermill": {
     "duration": 0.021618,
     "end_time": "2024-05-19T08:38:27.802107",
     "exception": false,
     "start_time": "2024-05-19T08:38:27.780489",
     "status": "completed"
    },
    "tags": []
   },
   "source": [
    "# Check unique values "
   ]
  },
  {
   "cell_type": "markdown",
   "id": "7b1bced2",
   "metadata": {
    "papermill": {
     "duration": 0.021111,
     "end_time": "2024-05-19T08:38:27.844701",
     "exception": false,
     "start_time": "2024-05-19T08:38:27.823590",
     "status": "completed"
    },
    "tags": []
   },
   "source": [
    "1. luxury_sales"
   ]
  },
  {
   "cell_type": "code",
   "execution_count": 36,
   "id": "3257acb2",
   "metadata": {
    "execution": {
     "iopub.execute_input": "2024-05-19T08:38:27.888843Z",
     "iopub.status.busy": "2024-05-19T08:38:27.888503Z",
     "iopub.status.idle": "2024-05-19T08:38:28.182643Z",
     "shell.execute_reply": "2024-05-19T08:38:28.181198Z"
    },
    "papermill": {
     "duration": 0.318901,
     "end_time": "2024-05-19T08:38:28.184800",
     "exception": false,
     "start_time": "2024-05-19T08:38:27.865899",
     "status": "completed"
    },
    "tags": []
   },
   "outputs": [
    {
     "name": "stdout",
     "output_type": "stream",
     "text": [
      "        Customer_ID luxury_sales\n",
      "4234     10101878.0          NaN\n",
      "4333     10361798.0          NaN\n",
      "5375     10556752.0          NaN\n",
      "5408     10321643.0          NaN\n",
      "78367    10424117.0          NaN\n",
      "78380    10343473.0          NaN\n",
      "174628   10207785.0          NaN\n",
      "175278   10347733.0          nul\n",
      "296621   10215937.0          nul\n",
      "327258   10615996.0          NaN\n",
      "327259   10346205.0          NaN\n",
      "327260   10722463.0          NaN\n",
      "327261   10221069.0          NaN\n",
      "329847   10328520.0          NaN\n",
      "329848   10155003.0          NaN\n",
      "329849   10600486.0          NaN\n",
      "352298   10703170.0          NaN\n",
      "352662   10638607.0          NaN\n",
      "352663   10223839.0          NaN\n",
      "352664   10418282.0          NaN\n",
      "367935   10445384.0          nul\n",
      "496140   10616379.0          NaN\n",
      "497485   10751852.0          NaN\n",
      "554998   10420777.0          NaN\n",
      "555305   10224685.0          NaN\n",
      "555469   10692500.0          NaN\n",
      "555573   10294701.0          NaN\n",
      "555610   10262970.0          NaN\n",
      "555764   10335139.0          NaN\n",
      "722325   10109635.0          NaN\n",
      "723874   10387271.0          NaN\n",
      "752560   10328899.0          NaN\n",
      "753275   10680540.0          NaN\n",
      "753276   10634600.0          NaN\n",
      "753277   10140621.0          NaN\n",
      "753278   10659621.0          NaN\n",
      "753454   10668547.0          NaN\n",
      "755630   10537627.0          NaN\n"
     ]
    }
   ],
   "source": [
    "# Convert 'dry_sales' column to numeric, coerce errors to NaN\n",
    "train_df['luxury_sales_numeric'] = pd.to_numeric(train_df['luxury_sales'], errors='coerce')\n",
    "\n",
    "# Find rows where 'dry_sales' could not be converted to numeric\n",
    "invalid_rows = train_df[train_df['luxury_sales_numeric'].isna()]\n",
    "\n",
    "# Display rows with invalid 'dry_sales' values\n",
    "print(invalid_rows[['Customer_ID', 'luxury_sales']])\n"
   ]
  },
  {
   "cell_type": "markdown",
   "id": "2fe4fa9f",
   "metadata": {
    "papermill": {
     "duration": 0.02173,
     "end_time": "2024-05-19T08:38:28.228631",
     "exception": false,
     "start_time": "2024-05-19T08:38:28.206901",
     "status": "completed"
    },
    "tags": []
   },
   "source": []
  },
  {
   "cell_type": "markdown",
   "id": "d8cfa9fe",
   "metadata": {
    "papermill": {
     "duration": 0.021699,
     "end_time": "2024-05-19T08:38:28.272136",
     "exception": false,
     "start_time": "2024-05-19T08:38:28.250437",
     "status": "completed"
    },
    "tags": []
   },
   "source": [
    "2. fresh_Sales"
   ]
  },
  {
   "cell_type": "code",
   "execution_count": 37,
   "id": "bd6f4a3d",
   "metadata": {
    "execution": {
     "iopub.execute_input": "2024-05-19T08:38:28.317905Z",
     "iopub.status.busy": "2024-05-19T08:38:28.316962Z",
     "iopub.status.idle": "2024-05-19T08:38:28.534422Z",
     "shell.execute_reply": "2024-05-19T08:38:28.533462Z"
    },
    "papermill": {
     "duration": 0.242742,
     "end_time": "2024-05-19T08:38:28.536778",
     "exception": false,
     "start_time": "2024-05-19T08:38:28.294036",
     "status": "completed"
    },
    "tags": []
   },
   "outputs": [
    {
     "name": "stdout",
     "output_type": "stream",
     "text": [
      "        Customer_ID fresh_sales\n",
      "4326     10531406.0         NaN\n",
      "4327     10311229.0         NaN\n",
      "4333     10361798.0         NaN\n",
      "4929     10414692.0         NaN\n",
      "5379     10600529.0         NaN\n",
      "5403     10484539.0         NaN\n",
      "5408     10321643.0         NaN\n",
      "78367    10424117.0         NaN\n",
      "78380    10343473.0         NaN\n",
      "78400    10504943.0         NaN\n",
      "174714   10358037.0         nul\n",
      "268571   10047014.0         nul\n",
      "326763   10301959.0         NaN\n",
      "326764   10671014.0         NaN\n",
      "326765   10687830.0         NaN\n",
      "327495   10099173.0         nul\n",
      "327505   10312003.0         nul\n",
      "329931   10540582.0         NaN\n",
      "352298   10703170.0         NaN\n",
      "352658   10418309.0         NaN\n",
      "354153   10210509.0         NaN\n",
      "496138   10559183.0         NaN\n",
      "497003   10367366.0         NaN\n",
      "497445   10168166.0         NaN\n",
      "497446   10545713.0         NaN\n",
      "497447   10624363.0         NaN\n",
      "497598   10570526.0         NaN\n",
      "555470   10403312.0         NaN\n",
      "555607   10488405.0         NaN\n",
      "555764   10335139.0         NaN\n",
      "628150   10608125.0         NaN\n",
      "695316   10028364.0         NaN\n",
      "722329   10119144.0         NaN\n",
      "723874   10387271.0         NaN\n",
      "724767   10549421.0         NaN\n",
      "724768   10092521.0         NaN\n",
      "724769   10477511.0         NaN\n",
      "752560   10328899.0         NaN\n",
      "753378   10390803.0         NaN\n",
      "753379   10199267.0         NaN\n",
      "753380   10698117.0         NaN\n",
      "753454   10668547.0         NaN\n",
      "753696   10090034.0         NaN\n",
      "754304   10006333.0         NaN\n",
      "765777   10499622.0         NaN\n"
     ]
    }
   ],
   "source": [
    "# Convert 'dry_sales' column to numeric, coerce errors to NaN\n",
    "train_df['fresh_sales_numeric'] = pd.to_numeric(train_df['fresh_sales'], errors='coerce')\n",
    "\n",
    "# Find rows where 'dry_sales' could not be converted to numeric\n",
    "invalid_rows = train_df[train_df['fresh_sales_numeric'].isna()]\n",
    "\n",
    "# Display rows with invalid 'dry_sales' values\n",
    "print(invalid_rows[['Customer_ID', 'fresh_sales']])\n"
   ]
  },
  {
   "cell_type": "markdown",
   "id": "e5591110",
   "metadata": {
    "papermill": {
     "duration": 0.021783,
     "end_time": "2024-05-19T08:38:28.580549",
     "exception": false,
     "start_time": "2024-05-19T08:38:28.558766",
     "status": "completed"
    },
    "tags": []
   },
   "source": [
    "3.dry_sales"
   ]
  },
  {
   "cell_type": "code",
   "execution_count": 38,
   "id": "7fec927e",
   "metadata": {
    "execution": {
     "iopub.execute_input": "2024-05-19T08:38:28.625072Z",
     "iopub.status.busy": "2024-05-19T08:38:28.624700Z",
     "iopub.status.idle": "2024-05-19T08:38:28.785830Z",
     "shell.execute_reply": "2024-05-19T08:38:28.784722Z"
    },
    "papermill": {
     "duration": 0.186508,
     "end_time": "2024-05-19T08:38:28.788580",
     "exception": false,
     "start_time": "2024-05-19T08:38:28.602072",
     "status": "completed"
    },
    "tags": []
   },
   "outputs": [
    {
     "name": "stdout",
     "output_type": "stream",
     "text": [
      "        Customer_ID dry_sales\n",
      "4929     10414692.0       NaN\n",
      "78400    10504943.0       NaN\n",
      "174631   10273730.0       nul\n",
      "174720   10039004.0       nul\n",
      "175278   10347733.0       nul\n",
      "268571   10047014.0       nul\n",
      "296621   10215937.0       nul\n",
      "327168   10649653.0       NaN\n",
      "327169   10737280.0       NaN\n",
      "327170   10010850.0       NaN\n",
      "327171   10347930.0       NaN\n",
      "327172   10351890.0       NaN\n",
      "327173   10025449.0       NaN\n",
      "327174   10638161.0       NaN\n",
      "327495   10099173.0       nul\n",
      "327505   10312003.0       nul\n",
      "329931   10540582.0       NaN\n",
      "345090   10186598.0       NaN\n",
      "345091   10215208.0       NaN\n",
      "345092   10530946.0       NaN\n",
      "353317   10659375.0       NaN\n",
      "496135   10501123.0       NaN\n",
      "497003   10367366.0       NaN\n",
      "497464   10155270.0       NaN\n",
      "497583   10234709.0       NaN\n",
      "497597   10345956.0       NaN\n",
      "554998   10420777.0       NaN\n",
      "555305   10224685.0       NaN\n",
      "555469   10692500.0       NaN\n",
      "555536   10092366.0       NaN\n",
      "555604   10063564.0       NaN\n",
      "753448   10460776.0       NaN\n",
      "753449   10396264.0       NaN\n",
      "753450   10178858.0       NaN\n",
      "753696   10090034.0       NaN\n",
      "754306   10726566.0       NaN\n",
      "774147   10493702.0       NaN\n"
     ]
    }
   ],
   "source": [
    "# Convert 'dry_sales' column to numeric, coerce errors to NaN\n",
    "train_df['dry_sales_numeric'] = pd.to_numeric(train_df['dry_sales'], errors='coerce')\n",
    "\n",
    "# Find rows where 'dry_sales' could not be converted to numeric\n",
    "invalid_rows = train_df[train_df['dry_sales_numeric'].isna()]\n",
    "\n",
    "# Display rows with invalid 'dry_sales' values\n",
    "print(invalid_rows[['Customer_ID', 'dry_sales']])\n"
   ]
  },
  {
   "cell_type": "markdown",
   "id": "f4ef7e69",
   "metadata": {
    "papermill": {
     "duration": 0.021467,
     "end_time": "2024-05-19T08:38:28.832167",
     "exception": false,
     "start_time": "2024-05-19T08:38:28.810700",
     "status": "completed"
    },
    "tags": []
   },
   "source": [
    "# "
   ]
  },
  {
   "cell_type": "markdown",
   "id": "bbee077c",
   "metadata": {
    "papermill": {
     "duration": 0.021329,
     "end_time": "2024-05-19T08:38:28.875080",
     "exception": false,
     "start_time": "2024-05-19T08:38:28.853751",
     "status": "completed"
    },
    "tags": []
   },
   "source": [
    "# remove null and NAN of dry_sales,fresh_sales and luxury_Sales and fill them with mean values"
   ]
  },
  {
   "cell_type": "code",
   "execution_count": null,
   "id": "faa549e8",
   "metadata": {
    "papermill": {
     "duration": 0.021166,
     "end_time": "2024-05-19T08:38:28.917955",
     "exception": false,
     "start_time": "2024-05-19T08:38:28.896789",
     "status": "completed"
    },
    "tags": []
   },
   "outputs": [],
   "source": []
  },
  {
   "cell_type": "code",
   "execution_count": 39,
   "id": "c06cf794",
   "metadata": {
    "execution": {
     "iopub.execute_input": "2024-05-19T08:38:28.964111Z",
     "iopub.status.busy": "2024-05-19T08:38:28.963324Z",
     "iopub.status.idle": "2024-05-19T08:38:29.700611Z",
     "shell.execute_reply": "2024-05-19T08:38:29.699764Z"
    },
    "papermill": {
     "duration": 0.76347,
     "end_time": "2024-05-19T08:38:29.703017",
     "exception": false,
     "start_time": "2024-05-19T08:38:28.939547",
     "status": "completed"
    },
    "tags": []
   },
   "outputs": [],
   "source": [
    "# Convert columns 3, 4, and 5 to numeric types, coercing errors to NaN\n",
    "train_df[['luxury_sales', 'fresh_sales', 'dry_sales']] = train_df[['luxury_sales', 'fresh_sales', 'dry_sales']].apply(pd.to_numeric, errors='coerce')\n",
    "\n",
    "# Replace NaN values with mean of each column\n",
    "train_df['luxury_sales'] = train_df['luxury_sales'].fillna(train_df['luxury_sales'].mean())\n",
    "train_df['fresh_sales'] = train_df['fresh_sales'].fillna(train_df['fresh_sales'].mean())\n",
    "train_df['dry_sales'] = train_df['dry_sales'].fillna(train_df['dry_sales'].mean())\n"
   ]
  },
  {
   "cell_type": "code",
   "execution_count": 40,
   "id": "65a54f67",
   "metadata": {
    "execution": {
     "iopub.execute_input": "2024-05-19T08:38:29.748774Z",
     "iopub.status.busy": "2024-05-19T08:38:29.748128Z",
     "iopub.status.idle": "2024-05-19T08:38:29.760534Z",
     "shell.execute_reply": "2024-05-19T08:38:29.759453Z"
    },
    "papermill": {
     "duration": 0.037568,
     "end_time": "2024-05-19T08:38:29.762619",
     "exception": false,
     "start_time": "2024-05-19T08:38:29.725051",
     "status": "completed"
    },
    "tags": []
   },
   "outputs": [
    {
     "name": "stdout",
     "output_type": "stream",
     "text": [
      "        Customer_ID\n",
      "497678          NaN\n",
      "497698          NaN\n"
     ]
    }
   ],
   "source": [
    "# Convert 'dry_sales' column to numeric, coerce errors to NaN\n",
    "train_df['Customer_ID'] = pd.to_numeric(train_df['Customer_ID'], errors='coerce')\n",
    "\n",
    "# Find rows where 'dry_sales' could not be converted to numeric\n",
    "invalid_rows = train_df[train_df['Customer_ID'].isna()]\n",
    "\n",
    "# Display rows with invalid 'dry_sales' values\n",
    "print(invalid_rows[['Customer_ID']])\n"
   ]
  },
  {
   "cell_type": "code",
   "execution_count": 41,
   "id": "16e8bcf3",
   "metadata": {
    "execution": {
     "iopub.execute_input": "2024-05-19T08:38:29.808456Z",
     "iopub.status.busy": "2024-05-19T08:38:29.807757Z",
     "iopub.status.idle": "2024-05-19T08:38:30.131226Z",
     "shell.execute_reply": "2024-05-19T08:38:30.130088Z"
    },
    "papermill": {
     "duration": 0.34878,
     "end_time": "2024-05-19T08:38:30.133462",
     "exception": false,
     "start_time": "2024-05-19T08:38:29.784682",
     "status": "completed"
    },
    "tags": []
   },
   "outputs": [
    {
     "data": {
      "text/html": [
       "<div>\n",
       "<style scoped>\n",
       "    .dataframe tbody tr th:only-of-type {\n",
       "        vertical-align: middle;\n",
       "    }\n",
       "\n",
       "    .dataframe tbody tr th {\n",
       "        vertical-align: top;\n",
       "    }\n",
       "\n",
       "    .dataframe thead th {\n",
       "        text-align: right;\n",
       "    }\n",
       "</style>\n",
       "<table border=\"1\" class=\"dataframe\">\n",
       "  <thead>\n",
       "    <tr style=\"text-align: right;\">\n",
       "      <th></th>\n",
       "      <th>Customer_ID</th>\n",
       "      <th>luxury_sales</th>\n",
       "      <th>fresh_sales</th>\n",
       "      <th>dry_sales</th>\n",
       "      <th>cluster_catgeory</th>\n",
       "      <th>dry_sales_numeric</th>\n",
       "      <th>fresh_sales_numeric</th>\n",
       "      <th>luxury_sales_numeric</th>\n",
       "      <th>clusterCategory_numeric</th>\n",
       "    </tr>\n",
       "  </thead>\n",
       "  <tbody>\n",
       "    <tr>\n",
       "      <th>count</th>\n",
       "      <td>7.741470e+05</td>\n",
       "      <td>774149.000000</td>\n",
       "      <td>774149.000000</td>\n",
       "      <td>774149.000000</td>\n",
       "      <td>774149.000000</td>\n",
       "      <td>774112.000000</td>\n",
       "      <td>774104.000000</td>\n",
       "      <td>774111.000000</td>\n",
       "      <td>774148.000000</td>\n",
       "    </tr>\n",
       "    <tr>\n",
       "      <th>mean</th>\n",
       "      <td>1.038708e+07</td>\n",
       "      <td>1921.968250</td>\n",
       "      <td>4428.688842</td>\n",
       "      <td>4676.283285</td>\n",
       "      <td>3.292104</td>\n",
       "      <td>4676.283285</td>\n",
       "      <td>4428.688842</td>\n",
       "      <td>1921.968250</td>\n",
       "      <td>3.292100</td>\n",
       "    </tr>\n",
       "    <tr>\n",
       "      <th>std</th>\n",
       "      <td>2.234797e+05</td>\n",
       "      <td>1004.058305</td>\n",
       "      <td>3334.570466</td>\n",
       "      <td>3409.302777</td>\n",
       "      <td>1.867014</td>\n",
       "      <td>3409.384253</td>\n",
       "      <td>3334.667387</td>\n",
       "      <td>1004.082949</td>\n",
       "      <td>1.867013</td>\n",
       "    </tr>\n",
       "    <tr>\n",
       "      <th>min</th>\n",
       "      <td>1.000000e+07</td>\n",
       "      <td>500.000000</td>\n",
       "      <td>500.000000</td>\n",
       "      <td>500.000000</td>\n",
       "      <td>1.000000</td>\n",
       "      <td>500.000000</td>\n",
       "      <td>500.000000</td>\n",
       "      <td>500.000000</td>\n",
       "      <td>1.000000</td>\n",
       "    </tr>\n",
       "    <tr>\n",
       "      <th>25%</th>\n",
       "      <td>1.019354e+07</td>\n",
       "      <td>1213.550000</td>\n",
       "      <td>1620.220000</td>\n",
       "      <td>1788.000000</td>\n",
       "      <td>2.000000</td>\n",
       "      <td>1787.940000</td>\n",
       "      <td>1620.190000</td>\n",
       "      <td>1213.525000</td>\n",
       "      <td>2.000000</td>\n",
       "    </tr>\n",
       "    <tr>\n",
       "      <th>50%</th>\n",
       "      <td>1.038708e+07</td>\n",
       "      <td>1715.320000</td>\n",
       "      <td>3356.730000</td>\n",
       "      <td>3728.060000</td>\n",
       "      <td>3.000000</td>\n",
       "      <td>3727.760000</td>\n",
       "      <td>3356.510000</td>\n",
       "      <td>1715.280000</td>\n",
       "      <td>3.000000</td>\n",
       "    </tr>\n",
       "    <tr>\n",
       "      <th>75%</th>\n",
       "      <td>1.058062e+07</td>\n",
       "      <td>2338.690000</td>\n",
       "      <td>6671.280000</td>\n",
       "      <td>7161.760000</td>\n",
       "      <td>5.000000</td>\n",
       "      <td>7162.200000</td>\n",
       "      <td>6671.610000</td>\n",
       "      <td>2338.700000</td>\n",
       "      <td>5.000000</td>\n",
       "    </tr>\n",
       "    <tr>\n",
       "      <th>max</th>\n",
       "      <td>1.077415e+07</td>\n",
       "      <td>6999.650000</td>\n",
       "      <td>13997.900000</td>\n",
       "      <td>13999.300000</td>\n",
       "      <td>6.000000</td>\n",
       "      <td>13999.300000</td>\n",
       "      <td>13997.900000</td>\n",
       "      <td>6999.650000</td>\n",
       "      <td>6.000000</td>\n",
       "    </tr>\n",
       "  </tbody>\n",
       "</table>\n",
       "</div>"
      ],
      "text/plain": [
       "        Customer_ID   luxury_sales    fresh_sales      dry_sales  \\\n",
       "count  7.741470e+05  774149.000000  774149.000000  774149.000000   \n",
       "mean   1.038708e+07    1921.968250    4428.688842    4676.283285   \n",
       "std    2.234797e+05    1004.058305    3334.570466    3409.302777   \n",
       "min    1.000000e+07     500.000000     500.000000     500.000000   \n",
       "25%    1.019354e+07    1213.550000    1620.220000    1788.000000   \n",
       "50%    1.038708e+07    1715.320000    3356.730000    3728.060000   \n",
       "75%    1.058062e+07    2338.690000    6671.280000    7161.760000   \n",
       "max    1.077415e+07    6999.650000   13997.900000   13999.300000   \n",
       "\n",
       "       cluster_catgeory  dry_sales_numeric  fresh_sales_numeric  \\\n",
       "count     774149.000000      774112.000000        774104.000000   \n",
       "mean           3.292104        4676.283285          4428.688842   \n",
       "std            1.867014        3409.384253          3334.667387   \n",
       "min            1.000000         500.000000           500.000000   \n",
       "25%            2.000000        1787.940000          1620.190000   \n",
       "50%            3.000000        3727.760000          3356.510000   \n",
       "75%            5.000000        7162.200000          6671.610000   \n",
       "max            6.000000       13999.300000         13997.900000   \n",
       "\n",
       "       luxury_sales_numeric  clusterCategory_numeric  \n",
       "count         774111.000000            774148.000000  \n",
       "mean            1921.968250                 3.292100  \n",
       "std             1004.082949                 1.867013  \n",
       "min              500.000000                 1.000000  \n",
       "25%             1213.525000                 2.000000  \n",
       "50%             1715.280000                 3.000000  \n",
       "75%             2338.700000                 5.000000  \n",
       "max             6999.650000                 6.000000  "
      ]
     },
     "execution_count": 41,
     "metadata": {},
     "output_type": "execute_result"
    }
   ],
   "source": [
    "train_df.describe()"
   ]
  },
  {
   "cell_type": "code",
   "execution_count": 42,
   "id": "0cd2802d",
   "metadata": {
    "execution": {
     "iopub.execute_input": "2024-05-19T08:38:30.182130Z",
     "iopub.status.busy": "2024-05-19T08:38:30.181302Z",
     "iopub.status.idle": "2024-05-19T08:38:30.220136Z",
     "shell.execute_reply": "2024-05-19T08:38:30.218972Z"
    },
    "papermill": {
     "duration": 0.066934,
     "end_time": "2024-05-19T08:38:30.223287",
     "exception": false,
     "start_time": "2024-05-19T08:38:30.156353",
     "status": "completed"
    },
    "tags": []
   },
   "outputs": [],
   "source": [
    "# Find the maximum existing Customer_ID\n",
    "max_id = train_df['Customer_ID'].max()\n",
    "\n",
    "# Identify the indices where Customer_ID is missing\n",
    "missing_indices = train_df[train_df['Customer_ID'].isnull()].index\n",
    "\n",
    "# Generate new unique IDs starting from max_id + 1\n",
    "new_ids = range(int(max_id) + 1, int(max_id) + 1 + len(missing_indices))\n",
    "\n",
    "# Assign the new IDs to the missing Customer_ID entries\n",
    "train_df.loc[missing_indices, 'Customer_ID'] = new_ids"
   ]
  },
  {
   "cell_type": "code",
   "execution_count": 43,
   "id": "5459ee38",
   "metadata": {
    "execution": {
     "iopub.execute_input": "2024-05-19T08:38:30.270509Z",
     "iopub.status.busy": "2024-05-19T08:38:30.270126Z",
     "iopub.status.idle": "2024-05-19T08:38:30.278978Z",
     "shell.execute_reply": "2024-05-19T08:38:30.277893Z"
    },
    "papermill": {
     "duration": 0.034947,
     "end_time": "2024-05-19T08:38:30.281250",
     "exception": false,
     "start_time": "2024-05-19T08:38:30.246303",
     "status": "completed"
    },
    "tags": []
   },
   "outputs": [],
   "source": [
    "# Convert 'Customer_ID' to integer\n",
    "train_df['Customer_ID'] = train_df['Customer_ID'].astype(int)"
   ]
  },
  {
   "cell_type": "code",
   "execution_count": 44,
   "id": "787ab3e7",
   "metadata": {
    "execution": {
     "iopub.execute_input": "2024-05-19T08:38:30.328036Z",
     "iopub.status.busy": "2024-05-19T08:38:30.327200Z",
     "iopub.status.idle": "2024-05-19T08:38:30.638529Z",
     "shell.execute_reply": "2024-05-19T08:38:30.637495Z"
    },
    "papermill": {
     "duration": 0.337015,
     "end_time": "2024-05-19T08:38:30.640799",
     "exception": false,
     "start_time": "2024-05-19T08:38:30.303784",
     "status": "completed"
    },
    "tags": []
   },
   "outputs": [
    {
     "data": {
      "text/html": [
       "<div>\n",
       "<style scoped>\n",
       "    .dataframe tbody tr th:only-of-type {\n",
       "        vertical-align: middle;\n",
       "    }\n",
       "\n",
       "    .dataframe tbody tr th {\n",
       "        vertical-align: top;\n",
       "    }\n",
       "\n",
       "    .dataframe thead th {\n",
       "        text-align: right;\n",
       "    }\n",
       "</style>\n",
       "<table border=\"1\" class=\"dataframe\">\n",
       "  <thead>\n",
       "    <tr style=\"text-align: right;\">\n",
       "      <th></th>\n",
       "      <th>Customer_ID</th>\n",
       "      <th>luxury_sales</th>\n",
       "      <th>fresh_sales</th>\n",
       "      <th>dry_sales</th>\n",
       "      <th>cluster_catgeory</th>\n",
       "      <th>dry_sales_numeric</th>\n",
       "      <th>fresh_sales_numeric</th>\n",
       "      <th>luxury_sales_numeric</th>\n",
       "      <th>clusterCategory_numeric</th>\n",
       "    </tr>\n",
       "  </thead>\n",
       "  <tbody>\n",
       "    <tr>\n",
       "      <th>count</th>\n",
       "      <td>7.741490e+05</td>\n",
       "      <td>774149.000000</td>\n",
       "      <td>774149.000000</td>\n",
       "      <td>774149.000000</td>\n",
       "      <td>774149.000000</td>\n",
       "      <td>774112.000000</td>\n",
       "      <td>774104.000000</td>\n",
       "      <td>774111.000000</td>\n",
       "      <td>774148.000000</td>\n",
       "    </tr>\n",
       "    <tr>\n",
       "      <th>mean</th>\n",
       "      <td>1.038708e+07</td>\n",
       "      <td>1921.968250</td>\n",
       "      <td>4428.688842</td>\n",
       "      <td>4676.283285</td>\n",
       "      <td>3.292104</td>\n",
       "      <td>4676.283285</td>\n",
       "      <td>4428.688842</td>\n",
       "      <td>1921.968250</td>\n",
       "      <td>3.292100</td>\n",
       "    </tr>\n",
       "    <tr>\n",
       "      <th>std</th>\n",
       "      <td>2.234803e+05</td>\n",
       "      <td>1004.058305</td>\n",
       "      <td>3334.570466</td>\n",
       "      <td>3409.302777</td>\n",
       "      <td>1.867014</td>\n",
       "      <td>3409.384253</td>\n",
       "      <td>3334.667387</td>\n",
       "      <td>1004.082949</td>\n",
       "      <td>1.867013</td>\n",
       "    </tr>\n",
       "    <tr>\n",
       "      <th>min</th>\n",
       "      <td>1.000000e+07</td>\n",
       "      <td>500.000000</td>\n",
       "      <td>500.000000</td>\n",
       "      <td>500.000000</td>\n",
       "      <td>1.000000</td>\n",
       "      <td>500.000000</td>\n",
       "      <td>500.000000</td>\n",
       "      <td>500.000000</td>\n",
       "      <td>1.000000</td>\n",
       "    </tr>\n",
       "    <tr>\n",
       "      <th>25%</th>\n",
       "      <td>1.019354e+07</td>\n",
       "      <td>1213.550000</td>\n",
       "      <td>1620.220000</td>\n",
       "      <td>1788.000000</td>\n",
       "      <td>2.000000</td>\n",
       "      <td>1787.940000</td>\n",
       "      <td>1620.190000</td>\n",
       "      <td>1213.525000</td>\n",
       "      <td>2.000000</td>\n",
       "    </tr>\n",
       "    <tr>\n",
       "      <th>50%</th>\n",
       "      <td>1.038708e+07</td>\n",
       "      <td>1715.320000</td>\n",
       "      <td>3356.730000</td>\n",
       "      <td>3728.060000</td>\n",
       "      <td>3.000000</td>\n",
       "      <td>3727.760000</td>\n",
       "      <td>3356.510000</td>\n",
       "      <td>1715.280000</td>\n",
       "      <td>3.000000</td>\n",
       "    </tr>\n",
       "    <tr>\n",
       "      <th>75%</th>\n",
       "      <td>1.058062e+07</td>\n",
       "      <td>2338.690000</td>\n",
       "      <td>6671.280000</td>\n",
       "      <td>7161.760000</td>\n",
       "      <td>5.000000</td>\n",
       "      <td>7162.200000</td>\n",
       "      <td>6671.610000</td>\n",
       "      <td>2338.700000</td>\n",
       "      <td>5.000000</td>\n",
       "    </tr>\n",
       "    <tr>\n",
       "      <th>max</th>\n",
       "      <td>1.077416e+07</td>\n",
       "      <td>6999.650000</td>\n",
       "      <td>13997.900000</td>\n",
       "      <td>13999.300000</td>\n",
       "      <td>6.000000</td>\n",
       "      <td>13999.300000</td>\n",
       "      <td>13997.900000</td>\n",
       "      <td>6999.650000</td>\n",
       "      <td>6.000000</td>\n",
       "    </tr>\n",
       "  </tbody>\n",
       "</table>\n",
       "</div>"
      ],
      "text/plain": [
       "        Customer_ID   luxury_sales    fresh_sales      dry_sales  \\\n",
       "count  7.741490e+05  774149.000000  774149.000000  774149.000000   \n",
       "mean   1.038708e+07    1921.968250    4428.688842    4676.283285   \n",
       "std    2.234803e+05    1004.058305    3334.570466    3409.302777   \n",
       "min    1.000000e+07     500.000000     500.000000     500.000000   \n",
       "25%    1.019354e+07    1213.550000    1620.220000    1788.000000   \n",
       "50%    1.038708e+07    1715.320000    3356.730000    3728.060000   \n",
       "75%    1.058062e+07    2338.690000    6671.280000    7161.760000   \n",
       "max    1.077416e+07    6999.650000   13997.900000   13999.300000   \n",
       "\n",
       "       cluster_catgeory  dry_sales_numeric  fresh_sales_numeric  \\\n",
       "count     774149.000000      774112.000000        774104.000000   \n",
       "mean           3.292104        4676.283285          4428.688842   \n",
       "std            1.867014        3409.384253          3334.667387   \n",
       "min            1.000000         500.000000           500.000000   \n",
       "25%            2.000000        1787.940000          1620.190000   \n",
       "50%            3.000000        3727.760000          3356.510000   \n",
       "75%            5.000000        7162.200000          6671.610000   \n",
       "max            6.000000       13999.300000         13997.900000   \n",
       "\n",
       "       luxury_sales_numeric  clusterCategory_numeric  \n",
       "count         774111.000000            774148.000000  \n",
       "mean            1921.968250                 3.292100  \n",
       "std             1004.082949                 1.867013  \n",
       "min              500.000000                 1.000000  \n",
       "25%             1213.525000                 2.000000  \n",
       "50%             1715.280000                 3.000000  \n",
       "75%             2338.700000                 5.000000  \n",
       "max             6999.650000                 6.000000  "
      ]
     },
     "execution_count": 44,
     "metadata": {},
     "output_type": "execute_result"
    }
   ],
   "source": [
    "train_df.describe()"
   ]
  },
  {
   "cell_type": "code",
   "execution_count": 45,
   "id": "9d4be727",
   "metadata": {
    "execution": {
     "iopub.execute_input": "2024-05-19T08:38:30.687732Z",
     "iopub.status.busy": "2024-05-19T08:38:30.687324Z",
     "iopub.status.idle": "2024-05-19T08:38:31.157471Z",
     "shell.execute_reply": "2024-05-19T08:38:31.156490Z"
    },
    "papermill": {
     "duration": 0.495896,
     "end_time": "2024-05-19T08:38:31.159705",
     "exception": false,
     "start_time": "2024-05-19T08:38:30.663809",
     "status": "completed"
    },
    "tags": []
   },
   "outputs": [
    {
     "data": {
      "text/plain": [
       "0"
      ]
     },
     "execution_count": 45,
     "metadata": {},
     "output_type": "execute_result"
    }
   ],
   "source": [
    "duplicates = train_df.duplicated()\n",
    "duplicates.sum()"
   ]
  },
  {
   "cell_type": "markdown",
   "id": "160755cb",
   "metadata": {
    "papermill": {
     "duration": 0.023101,
     "end_time": "2024-05-19T08:38:31.205649",
     "exception": false,
     "start_time": "2024-05-19T08:38:31.182548",
     "status": "completed"
    },
    "tags": []
   },
   "source": [
    "> # three sales are sorted"
   ]
  },
  {
   "cell_type": "code",
   "execution_count": 46,
   "id": "2d8fcf74",
   "metadata": {
    "execution": {
     "iopub.execute_input": "2024-05-19T08:38:31.252670Z",
     "iopub.status.busy": "2024-05-19T08:38:31.252287Z",
     "iopub.status.idle": "2024-05-19T08:38:31.259988Z",
     "shell.execute_reply": "2024-05-19T08:38:31.259031Z"
    },
    "papermill": {
     "duration": 0.033774,
     "end_time": "2024-05-19T08:38:31.262062",
     "exception": false,
     "start_time": "2024-05-19T08:38:31.228288",
     "status": "completed"
    },
    "tags": []
   },
   "outputs": [
    {
     "data": {
      "text/plain": [
       "Customer_ID                             int64\n",
       "luxury_sales                          float64\n",
       "fresh_sales                           float64\n",
       "dry_sales                             float64\n",
       "cluster_catgeory                        int64\n",
       "dry_sales_numeric                     float64\n",
       "fresh_sales_numeric                   float64\n",
       "luxury_sales_numeric                  float64\n",
       "clusterCategory_numeric               float64\n",
       "outlet_city_Batticaloa                   bool\n",
       "outlet_city_Colombo                      bool\n",
       "outlet_city_Dehiwala-Mount Lavinia       bool\n",
       "outlet_city_Galle                        bool\n",
       "outlet_city_Gampaha                      bool\n",
       "outlet_city_Homagama                     bool\n",
       "outlet_city_Jaffna                       bool\n",
       "outlet_city_Kaduwela                     bool\n",
       "outlet_city_Kalmunai                     bool\n",
       "outlet_city_Kandy                        bool\n",
       "outlet_city_Katunayake                   bool\n",
       "outlet_city_Kelaniya                     bool\n",
       "outlet_city_Kotte                        bool\n",
       "outlet_city_Moratuwa                     bool\n",
       "outlet_city_Negombo                      bool\n",
       "outlet_city_Nuwara Eliya                 bool\n",
       "outlet_city_Panadura                     bool\n",
       "outlet_city_Peliyagoda                   bool\n",
       "outlet_city_Trincomalee                  bool\n",
       "outlet_city_Wattala                      bool\n",
       "dtype: object"
      ]
     },
     "execution_count": 46,
     "metadata": {},
     "output_type": "execute_result"
    }
   ],
   "source": [
    "train_df.dtypes"
   ]
  },
  {
   "cell_type": "code",
   "execution_count": 47,
   "id": "99cb7e84",
   "metadata": {
    "execution": {
     "iopub.execute_input": "2024-05-19T08:38:31.309229Z",
     "iopub.status.busy": "2024-05-19T08:38:31.308289Z",
     "iopub.status.idle": "2024-05-19T08:38:31.338397Z",
     "shell.execute_reply": "2024-05-19T08:38:31.337479Z"
    },
    "papermill": {
     "duration": 0.05586,
     "end_time": "2024-05-19T08:38:31.340539",
     "exception": false,
     "start_time": "2024-05-19T08:38:31.284679",
     "status": "completed"
    },
    "tags": []
   },
   "outputs": [
    {
     "data": {
      "text/plain": [
       "Customer_ID                            0\n",
       "luxury_sales                           0\n",
       "fresh_sales                            0\n",
       "dry_sales                              0\n",
       "cluster_catgeory                       0\n",
       "dry_sales_numeric                     37\n",
       "fresh_sales_numeric                   45\n",
       "luxury_sales_numeric                  38\n",
       "clusterCategory_numeric                1\n",
       "outlet_city_Batticaloa                 0\n",
       "outlet_city_Colombo                    0\n",
       "outlet_city_Dehiwala-Mount Lavinia     0\n",
       "outlet_city_Galle                      0\n",
       "outlet_city_Gampaha                    0\n",
       "outlet_city_Homagama                   0\n",
       "outlet_city_Jaffna                     0\n",
       "outlet_city_Kaduwela                   0\n",
       "outlet_city_Kalmunai                   0\n",
       "outlet_city_Kandy                      0\n",
       "outlet_city_Katunayake                 0\n",
       "outlet_city_Kelaniya                   0\n",
       "outlet_city_Kotte                      0\n",
       "outlet_city_Moratuwa                   0\n",
       "outlet_city_Negombo                    0\n",
       "outlet_city_Nuwara Eliya               0\n",
       "outlet_city_Panadura                   0\n",
       "outlet_city_Peliyagoda                 0\n",
       "outlet_city_Trincomalee                0\n",
       "outlet_city_Wattala                    0\n",
       "dtype: int64"
      ]
     },
     "execution_count": 47,
     "metadata": {},
     "output_type": "execute_result"
    }
   ],
   "source": [
    "train_df.isnull().sum()"
   ]
  },
  {
   "cell_type": "code",
   "execution_count": 48,
   "id": "ce2e495b",
   "metadata": {
    "execution": {
     "iopub.execute_input": "2024-05-19T08:38:31.387971Z",
     "iopub.status.busy": "2024-05-19T08:38:31.387601Z",
     "iopub.status.idle": "2024-05-19T08:38:31.395349Z",
     "shell.execute_reply": "2024-05-19T08:38:31.394442Z"
    },
    "papermill": {
     "duration": 0.033629,
     "end_time": "2024-05-19T08:38:31.397452",
     "exception": false,
     "start_time": "2024-05-19T08:38:31.363823",
     "status": "completed"
    },
    "tags": []
   },
   "outputs": [
    {
     "data": {
      "text/plain": [
       "Customer_ID                             int64\n",
       "luxury_sales                          float64\n",
       "fresh_sales                           float64\n",
       "dry_sales                             float64\n",
       "cluster_catgeory                        int64\n",
       "dry_sales_numeric                     float64\n",
       "fresh_sales_numeric                   float64\n",
       "luxury_sales_numeric                  float64\n",
       "clusterCategory_numeric               float64\n",
       "outlet_city_Batticaloa                   bool\n",
       "outlet_city_Colombo                      bool\n",
       "outlet_city_Dehiwala-Mount Lavinia       bool\n",
       "outlet_city_Galle                        bool\n",
       "outlet_city_Gampaha                      bool\n",
       "outlet_city_Homagama                     bool\n",
       "outlet_city_Jaffna                       bool\n",
       "outlet_city_Kaduwela                     bool\n",
       "outlet_city_Kalmunai                     bool\n",
       "outlet_city_Kandy                        bool\n",
       "outlet_city_Katunayake                   bool\n",
       "outlet_city_Kelaniya                     bool\n",
       "outlet_city_Kotte                        bool\n",
       "outlet_city_Moratuwa                     bool\n",
       "outlet_city_Negombo                      bool\n",
       "outlet_city_Nuwara Eliya                 bool\n",
       "outlet_city_Panadura                     bool\n",
       "outlet_city_Peliyagoda                   bool\n",
       "outlet_city_Trincomalee                  bool\n",
       "outlet_city_Wattala                      bool\n",
       "dtype: object"
      ]
     },
     "execution_count": 48,
     "metadata": {},
     "output_type": "execute_result"
    }
   ],
   "source": [
    "train_df.dtypes"
   ]
  },
  {
   "cell_type": "markdown",
   "id": "07eb856d",
   "metadata": {
    "papermill": {
     "duration": 0.022467,
     "end_time": "2024-05-19T08:38:31.442747",
     "exception": false,
     "start_time": "2024-05-19T08:38:31.420280",
     "status": "completed"
    },
    "tags": []
   },
   "source": [
    "# scaling"
   ]
  },
  {
   "cell_type": "code",
   "execution_count": null,
   "id": "0b106df7",
   "metadata": {
    "papermill": {
     "duration": 0.022367,
     "end_time": "2024-05-19T08:38:31.488210",
     "exception": false,
     "start_time": "2024-05-19T08:38:31.465843",
     "status": "completed"
    },
    "tags": []
   },
   "outputs": [],
   "source": []
  },
  {
   "cell_type": "code",
   "execution_count": 49,
   "id": "e7274d22",
   "metadata": {
    "execution": {
     "iopub.execute_input": "2024-05-19T08:38:31.535146Z",
     "iopub.status.busy": "2024-05-19T08:38:31.534796Z",
     "iopub.status.idle": "2024-05-19T08:38:31.840319Z",
     "shell.execute_reply": "2024-05-19T08:38:31.839294Z"
    },
    "papermill": {
     "duration": 0.331786,
     "end_time": "2024-05-19T08:38:31.842618",
     "exception": false,
     "start_time": "2024-05-19T08:38:31.510832",
     "status": "completed"
    },
    "tags": []
   },
   "outputs": [
    {
     "data": {
      "text/html": [
       "<div>\n",
       "<style scoped>\n",
       "    .dataframe tbody tr th:only-of-type {\n",
       "        vertical-align: middle;\n",
       "    }\n",
       "\n",
       "    .dataframe tbody tr th {\n",
       "        vertical-align: top;\n",
       "    }\n",
       "\n",
       "    .dataframe thead th {\n",
       "        text-align: right;\n",
       "    }\n",
       "</style>\n",
       "<table border=\"1\" class=\"dataframe\">\n",
       "  <thead>\n",
       "    <tr style=\"text-align: right;\">\n",
       "      <th></th>\n",
       "      <th>Customer_ID</th>\n",
       "      <th>luxury_sales</th>\n",
       "      <th>fresh_sales</th>\n",
       "      <th>dry_sales</th>\n",
       "      <th>cluster_catgeory</th>\n",
       "      <th>dry_sales_numeric</th>\n",
       "      <th>fresh_sales_numeric</th>\n",
       "      <th>luxury_sales_numeric</th>\n",
       "      <th>clusterCategory_numeric</th>\n",
       "    </tr>\n",
       "  </thead>\n",
       "  <tbody>\n",
       "    <tr>\n",
       "      <th>count</th>\n",
       "      <td>7.741490e+05</td>\n",
       "      <td>774149.000000</td>\n",
       "      <td>774149.000000</td>\n",
       "      <td>774149.000000</td>\n",
       "      <td>774149.000000</td>\n",
       "      <td>774112.000000</td>\n",
       "      <td>774104.000000</td>\n",
       "      <td>774111.000000</td>\n",
       "      <td>774148.000000</td>\n",
       "    </tr>\n",
       "    <tr>\n",
       "      <th>mean</th>\n",
       "      <td>1.038708e+07</td>\n",
       "      <td>1921.968250</td>\n",
       "      <td>4428.688842</td>\n",
       "      <td>4676.283285</td>\n",
       "      <td>3.292104</td>\n",
       "      <td>4676.283285</td>\n",
       "      <td>4428.688842</td>\n",
       "      <td>1921.968250</td>\n",
       "      <td>3.292100</td>\n",
       "    </tr>\n",
       "    <tr>\n",
       "      <th>std</th>\n",
       "      <td>2.234803e+05</td>\n",
       "      <td>1004.058305</td>\n",
       "      <td>3334.570466</td>\n",
       "      <td>3409.302777</td>\n",
       "      <td>1.867014</td>\n",
       "      <td>3409.384253</td>\n",
       "      <td>3334.667387</td>\n",
       "      <td>1004.082949</td>\n",
       "      <td>1.867013</td>\n",
       "    </tr>\n",
       "    <tr>\n",
       "      <th>min</th>\n",
       "      <td>1.000000e+07</td>\n",
       "      <td>500.000000</td>\n",
       "      <td>500.000000</td>\n",
       "      <td>500.000000</td>\n",
       "      <td>1.000000</td>\n",
       "      <td>500.000000</td>\n",
       "      <td>500.000000</td>\n",
       "      <td>500.000000</td>\n",
       "      <td>1.000000</td>\n",
       "    </tr>\n",
       "    <tr>\n",
       "      <th>25%</th>\n",
       "      <td>1.019354e+07</td>\n",
       "      <td>1213.550000</td>\n",
       "      <td>1620.220000</td>\n",
       "      <td>1788.000000</td>\n",
       "      <td>2.000000</td>\n",
       "      <td>1787.940000</td>\n",
       "      <td>1620.190000</td>\n",
       "      <td>1213.525000</td>\n",
       "      <td>2.000000</td>\n",
       "    </tr>\n",
       "    <tr>\n",
       "      <th>50%</th>\n",
       "      <td>1.038708e+07</td>\n",
       "      <td>1715.320000</td>\n",
       "      <td>3356.730000</td>\n",
       "      <td>3728.060000</td>\n",
       "      <td>3.000000</td>\n",
       "      <td>3727.760000</td>\n",
       "      <td>3356.510000</td>\n",
       "      <td>1715.280000</td>\n",
       "      <td>3.000000</td>\n",
       "    </tr>\n",
       "    <tr>\n",
       "      <th>75%</th>\n",
       "      <td>1.058062e+07</td>\n",
       "      <td>2338.690000</td>\n",
       "      <td>6671.280000</td>\n",
       "      <td>7161.760000</td>\n",
       "      <td>5.000000</td>\n",
       "      <td>7162.200000</td>\n",
       "      <td>6671.610000</td>\n",
       "      <td>2338.700000</td>\n",
       "      <td>5.000000</td>\n",
       "    </tr>\n",
       "    <tr>\n",
       "      <th>max</th>\n",
       "      <td>1.077416e+07</td>\n",
       "      <td>6999.650000</td>\n",
       "      <td>13997.900000</td>\n",
       "      <td>13999.300000</td>\n",
       "      <td>6.000000</td>\n",
       "      <td>13999.300000</td>\n",
       "      <td>13997.900000</td>\n",
       "      <td>6999.650000</td>\n",
       "      <td>6.000000</td>\n",
       "    </tr>\n",
       "  </tbody>\n",
       "</table>\n",
       "</div>"
      ],
      "text/plain": [
       "        Customer_ID   luxury_sales    fresh_sales      dry_sales  \\\n",
       "count  7.741490e+05  774149.000000  774149.000000  774149.000000   \n",
       "mean   1.038708e+07    1921.968250    4428.688842    4676.283285   \n",
       "std    2.234803e+05    1004.058305    3334.570466    3409.302777   \n",
       "min    1.000000e+07     500.000000     500.000000     500.000000   \n",
       "25%    1.019354e+07    1213.550000    1620.220000    1788.000000   \n",
       "50%    1.038708e+07    1715.320000    3356.730000    3728.060000   \n",
       "75%    1.058062e+07    2338.690000    6671.280000    7161.760000   \n",
       "max    1.077416e+07    6999.650000   13997.900000   13999.300000   \n",
       "\n",
       "       cluster_catgeory  dry_sales_numeric  fresh_sales_numeric  \\\n",
       "count     774149.000000      774112.000000        774104.000000   \n",
       "mean           3.292104        4676.283285          4428.688842   \n",
       "std            1.867014        3409.384253          3334.667387   \n",
       "min            1.000000         500.000000           500.000000   \n",
       "25%            2.000000        1787.940000          1620.190000   \n",
       "50%            3.000000        3727.760000          3356.510000   \n",
       "75%            5.000000        7162.200000          6671.610000   \n",
       "max            6.000000       13999.300000         13997.900000   \n",
       "\n",
       "       luxury_sales_numeric  clusterCategory_numeric  \n",
       "count         774111.000000            774148.000000  \n",
       "mean            1921.968250                 3.292100  \n",
       "std             1004.082949                 1.867013  \n",
       "min              500.000000                 1.000000  \n",
       "25%             1213.525000                 2.000000  \n",
       "50%             1715.280000                 3.000000  \n",
       "75%             2338.700000                 5.000000  \n",
       "max             6999.650000                 6.000000  "
      ]
     },
     "execution_count": 49,
     "metadata": {},
     "output_type": "execute_result"
    }
   ],
   "source": [
    "train_df.describe()"
   ]
  },
  {
   "cell_type": "code",
   "execution_count": 50,
   "id": "486f1702",
   "metadata": {
    "execution": {
     "iopub.execute_input": "2024-05-19T08:38:31.890921Z",
     "iopub.status.busy": "2024-05-19T08:38:31.890265Z",
     "iopub.status.idle": "2024-05-19T08:38:31.909399Z",
     "shell.execute_reply": "2024-05-19T08:38:31.908181Z"
    },
    "papermill": {
     "duration": 0.045355,
     "end_time": "2024-05-19T08:38:31.911311",
     "exception": false,
     "start_time": "2024-05-19T08:38:31.865956",
     "status": "completed"
    },
    "tags": []
   },
   "outputs": [
    {
     "name": "stdout",
     "output_type": "stream",
     "text": [
      "   Customer_ID  luxury_sales  fresh_sales  dry_sales  cluster_catgeory  \\\n",
      "0     10493832       1209.60       756.00    5292.00                 4   \n",
      "1     10178643       1590.12      1060.08    6007.12                 1   \n",
      "2     10513916       2288.88      1481.04    9155.52                 4   \n",
      "3     10334589       2274.94      1739.66    9099.76                 4   \n",
      "4     10458365       2345.49      2069.55    9243.99                 4   \n",
      "\n",
      "   dry_sales_numeric  fresh_sales_numeric  luxury_sales_numeric  \\\n",
      "0            5292.00               756.00               1209.60   \n",
      "1            6007.12              1060.08               1590.12   \n",
      "2            9155.52              1481.04               2288.88   \n",
      "3            9099.76              1739.66               2274.94   \n",
      "4            9243.99              2069.55               2345.49   \n",
      "\n",
      "   clusterCategory_numeric  outlet_city_Batticaloa  ...  outlet_city_Kelaniya  \\\n",
      "0                      4.0                   False  ...                  True   \n",
      "1                      1.0                   False  ...                 False   \n",
      "2                      4.0                   False  ...                 False   \n",
      "3                      4.0                   False  ...                 False   \n",
      "4                      4.0                   False  ...                  True   \n",
      "\n",
      "   outlet_city_Kotte  outlet_city_Moratuwa  outlet_city_Negombo  \\\n",
      "0              False                 False                False   \n",
      "1              False                  True                False   \n",
      "2              False                 False                False   \n",
      "3              False                 False                False   \n",
      "4              False                 False                False   \n",
      "\n",
      "   outlet_city_Nuwara Eliya  outlet_city_Panadura  outlet_city_Peliyagoda  \\\n",
      "0                     False                 False                   False   \n",
      "1                     False                 False                   False   \n",
      "2                     False                 False                   False   \n",
      "3                     False                 False                   False   \n",
      "4                     False                 False                   False   \n",
      "\n",
      "   outlet_city_Trincomalee  outlet_city_Wattala  total_sales  \n",
      "0                    False                False      7257.60  \n",
      "1                    False                False      8657.32  \n",
      "2                    False                 True     12925.44  \n",
      "3                    False                 True     13114.36  \n",
      "4                    False                False     13659.03  \n",
      "\n",
      "[5 rows x 30 columns]\n"
     ]
    }
   ],
   "source": [
    "# Create 'total_sales' column by summing 'luxury_sales', 'fresh_sales', and 'dry_sales'\n",
    "train_df['total_sales'] = train_df['luxury_sales'] + train_df['fresh_sales'] + train_df['dry_sales']\n",
    "\n",
    "# Display the first few rows of the DataFrame to verify the new column\n",
    "print(train_df.head())\n"
   ]
  },
  {
   "cell_type": "code",
   "execution_count": 51,
   "id": "28a76286",
   "metadata": {
    "execution": {
     "iopub.execute_input": "2024-05-19T08:38:31.959431Z",
     "iopub.status.busy": "2024-05-19T08:38:31.958881Z",
     "iopub.status.idle": "2024-05-19T08:38:32.023611Z",
     "shell.execute_reply": "2024-05-19T08:38:32.022472Z"
    },
    "papermill": {
     "duration": 0.091361,
     "end_time": "2024-05-19T08:38:32.026155",
     "exception": false,
     "start_time": "2024-05-19T08:38:31.934794",
     "status": "completed"
    },
    "tags": []
   },
   "outputs": [],
   "source": [
    "\n",
    "# Extract the columns to be scaled\n",
    "columns_to_scale = ['luxury_sales', 'fresh_sales', 'dry_sales','total_sales']\n",
    "\n",
    "# Initialize the StandardScaler\n",
    "scaler = StandardScaler()\n",
    "\n",
    "# Fit the scaler to the data and transform the columns\n",
    "train_df[columns_to_scale] = scaler.fit_transform(train_df[columns_to_scale])"
   ]
  },
  {
   "cell_type": "markdown",
   "id": "8d373c78",
   "metadata": {
    "papermill": {
     "duration": 0.023821,
     "end_time": "2024-05-19T08:38:32.074690",
     "exception": false,
     "start_time": "2024-05-19T08:38:32.050869",
     "status": "completed"
    },
    "tags": []
   },
   "source": [
    "# Testing data set"
   ]
  },
  {
   "cell_type": "code",
   "execution_count": 52,
   "id": "4ddb66b5",
   "metadata": {
    "execution": {
     "iopub.execute_input": "2024-05-19T08:38:32.124905Z",
     "iopub.status.busy": "2024-05-19T08:38:32.124242Z",
     "iopub.status.idle": "2024-05-19T08:38:32.135199Z",
     "shell.execute_reply": "2024-05-19T08:38:32.134316Z"
    },
    "papermill": {
     "duration": 0.03778,
     "end_time": "2024-05-19T08:38:32.137050",
     "exception": false,
     "start_time": "2024-05-19T08:38:32.099270",
     "status": "completed"
    },
    "tags": []
   },
   "outputs": [
    {
     "data": {
      "text/html": [
       "<div>\n",
       "<style scoped>\n",
       "    .dataframe tbody tr th:only-of-type {\n",
       "        vertical-align: middle;\n",
       "    }\n",
       "\n",
       "    .dataframe tbody tr th {\n",
       "        vertical-align: top;\n",
       "    }\n",
       "\n",
       "    .dataframe thead th {\n",
       "        text-align: right;\n",
       "    }\n",
       "</style>\n",
       "<table border=\"1\" class=\"dataframe\">\n",
       "  <thead>\n",
       "    <tr style=\"text-align: right;\">\n",
       "      <th></th>\n",
       "      <th>Customer_ID</th>\n",
       "      <th>outlet_city</th>\n",
       "      <th>luxury_sales</th>\n",
       "      <th>fresh_sales</th>\n",
       "      <th>dry_sales</th>\n",
       "    </tr>\n",
       "  </thead>\n",
       "  <tbody>\n",
       "    <tr>\n",
       "      <th>0</th>\n",
       "      <td>33574</td>\n",
       "      <td>batticaloa</td>\n",
       "      <td>2686.5</td>\n",
       "      <td>3582</td>\n",
       "      <td>12537</td>\n",
       "    </tr>\n",
       "    <tr>\n",
       "      <th>1</th>\n",
       "      <td>10089</td>\n",
       "      <td>batticaloa</td>\n",
       "      <td>1717.56</td>\n",
       "      <td>2576.34</td>\n",
       "      <td>9446.58</td>\n",
       "    </tr>\n",
       "    <tr>\n",
       "      <th>2</th>\n",
       "      <td>38329</td>\n",
       "      <td>batticaloa</td>\n",
       "      <td>854.04</td>\n",
       "      <td>1242.24</td>\n",
       "      <td>5201.88</td>\n",
       "    </tr>\n",
       "    <tr>\n",
       "      <th>3</th>\n",
       "      <td>11376</td>\n",
       "      <td>batticaloa</td>\n",
       "      <td>1638.12</td>\n",
       "      <td>2320.67</td>\n",
       "      <td>9282.68</td>\n",
       "    </tr>\n",
       "    <tr>\n",
       "      <th>4</th>\n",
       "      <td>12410</td>\n",
       "      <td>batticaloa</td>\n",
       "      <td>1039.09</td>\n",
       "      <td>1518.67</td>\n",
       "      <td>5435.24</td>\n",
       "    </tr>\n",
       "  </tbody>\n",
       "</table>\n",
       "</div>"
      ],
      "text/plain": [
       "   Customer_ID outlet_city luxury_sales fresh_sales dry_sales\n",
       "0        33574  batticaloa       2686.5        3582     12537\n",
       "1        10089  batticaloa      1717.56     2576.34   9446.58\n",
       "2        38329  batticaloa       854.04     1242.24   5201.88\n",
       "3        11376  batticaloa      1638.12     2320.67   9282.68\n",
       "4        12410  batticaloa      1039.09     1518.67   5435.24"
      ]
     },
     "execution_count": 52,
     "metadata": {},
     "output_type": "execute_result"
    }
   ],
   "source": [
    "test_df.head()"
   ]
  },
  {
   "cell_type": "markdown",
   "id": "1ad77233",
   "metadata": {
    "papermill": {
     "duration": 0.024036,
     "end_time": "2024-05-19T08:38:32.184961",
     "exception": false,
     "start_time": "2024-05-19T08:38:32.160925",
     "status": "completed"
    },
    "tags": []
   },
   "source": [
    "# luxury_sales"
   ]
  },
  {
   "cell_type": "code",
   "execution_count": 53,
   "id": "bccb42ae",
   "metadata": {
    "execution": {
     "iopub.execute_input": "2024-05-19T08:38:32.234862Z",
     "iopub.status.busy": "2024-05-19T08:38:32.234522Z",
     "iopub.status.idle": "2024-05-19T08:38:32.259522Z",
     "shell.execute_reply": "2024-05-19T08:38:32.258219Z"
    },
    "papermill": {
     "duration": 0.052087,
     "end_time": "2024-05-19T08:38:32.261278",
     "exception": false,
     "start_time": "2024-05-19T08:38:32.209191",
     "status": "completed"
    },
    "tags": []
   },
   "outputs": [
    {
     "name": "stdout",
     "output_type": "stream",
     "text": [
      "      Customer_ID                       luxury_sales\n",
      "6           10364   Seven Hundread and sixty Ruppees\n",
      "6299         4059  Eight Hundread and fifteen ruppes\n"
     ]
    }
   ],
   "source": [
    "# Convert 'dry_sales' column to numeric, coerce errors to NaN\n",
    "test_df['luxury_sales_numeric'] = pd.to_numeric(test_df['luxury_sales'], errors='coerce')\n",
    "\n",
    "# Find rows where 'dry_sales' could not be converted to numeric\n",
    "invalid_rows = test_df[test_df['luxury_sales_numeric'].isna()]\n",
    "\n",
    "# Display rows with invalid 'dry_sales' values\n",
    "print(invalid_rows[['Customer_ID', 'luxury_sales']])\n"
   ]
  },
  {
   "cell_type": "code",
   "execution_count": 54,
   "id": "1f559c64",
   "metadata": {
    "execution": {
     "iopub.execute_input": "2024-05-19T08:38:32.310942Z",
     "iopub.status.busy": "2024-05-19T08:38:32.310569Z",
     "iopub.status.idle": "2024-05-19T08:38:32.319723Z",
     "shell.execute_reply": "2024-05-19T08:38:32.318610Z"
    },
    "papermill": {
     "duration": 0.036093,
     "end_time": "2024-05-19T08:38:32.321588",
     "exception": false,
     "start_time": "2024-05-19T08:38:32.285495",
     "status": "completed"
    },
    "tags": []
   },
   "outputs": [
    {
     "name": "stdout",
     "output_type": "stream",
     "text": [
      "   Customer_ID outlet_city luxury_sales fresh_sales dry_sales  \\\n",
      "6        10364  batticaloa          760       914.4    3352.8   \n",
      "\n",
      "   luxury_sales_numeric  \n",
      "6                   NaN  \n"
     ]
    }
   ],
   "source": [
    "# Locate the row with Customer_ID 10604532 and change the value of cluster_catgeory to 6\n",
    "test_df.loc[test_df['Customer_ID'] == 10364  , 'luxury_sales'] =760\n",
    "# Verify the change\n",
    "print(test_df[test_df['Customer_ID'] == 10364  ])"
   ]
  },
  {
   "cell_type": "code",
   "execution_count": 55,
   "id": "782943bc",
   "metadata": {
    "execution": {
     "iopub.execute_input": "2024-05-19T08:38:32.371365Z",
     "iopub.status.busy": "2024-05-19T08:38:32.370743Z",
     "iopub.status.idle": "2024-05-19T08:38:32.380269Z",
     "shell.execute_reply": "2024-05-19T08:38:32.379089Z"
    },
    "papermill": {
     "duration": 0.036861,
     "end_time": "2024-05-19T08:38:32.382270",
     "exception": false,
     "start_time": "2024-05-19T08:38:32.345409",
     "status": "completed"
    },
    "tags": []
   },
   "outputs": [
    {
     "name": "stdout",
     "output_type": "stream",
     "text": [
      "      Customer_ID   outlet_city luxury_sales fresh_sales dry_sales  \\\n",
      "6299         4059  Anuradhapura          815     1548.69    5705.7   \n",
      "\n",
      "      luxury_sales_numeric  \n",
      "6299                   NaN  \n"
     ]
    }
   ],
   "source": [
    "# Locate the row with Customer_ID 10604532 and change the value of cluster_catgeory to 6\n",
    "test_df.loc[test_df['Customer_ID'] == 4059 , 'luxury_sales'] =815\n",
    "# Verify the change\n",
    "print(test_df[test_df['Customer_ID'] == 4059 ])"
   ]
  },
  {
   "cell_type": "markdown",
   "id": "07f3a3c5",
   "metadata": {
    "papermill": {
     "duration": 0.023423,
     "end_time": "2024-05-19T08:38:32.430048",
     "exception": false,
     "start_time": "2024-05-19T08:38:32.406625",
     "status": "completed"
    },
    "tags": []
   },
   "source": [
    "# fresh_sales"
   ]
  },
  {
   "cell_type": "code",
   "execution_count": 56,
   "id": "39c33694",
   "metadata": {
    "execution": {
     "iopub.execute_input": "2024-05-19T08:38:32.479515Z",
     "iopub.status.busy": "2024-05-19T08:38:32.479063Z",
     "iopub.status.idle": "2024-05-19T08:38:32.506027Z",
     "shell.execute_reply": "2024-05-19T08:38:32.504683Z"
    },
    "papermill": {
     "duration": 0.054294,
     "end_time": "2024-05-19T08:38:32.508083",
     "exception": false,
     "start_time": "2024-05-19T08:38:32.453789",
     "status": "completed"
    },
    "tags": []
   },
   "outputs": [
    {
     "name": "stdout",
     "output_type": "stream",
     "text": [
      "       Customer_ID            fresh_sales\n",
      "13949        28662  Nine thousand ruppess\n"
     ]
    }
   ],
   "source": [
    "# Convert 'dry_sales' column to numeric, coerce errors to NaN\n",
    "test_df['fresh_sales_numeric'] = pd.to_numeric(test_df['fresh_sales'], errors='coerce')\n",
    "\n",
    "# Find rows where 'dry_sales' could not be converted to numeric\n",
    "invalid_rows = test_df[test_df['fresh_sales_numeric'].isna()]\n",
    "\n",
    "# Display rows with invalid 'dry_sales' values\n",
    "print(invalid_rows[['Customer_ID', 'fresh_sales']])\n"
   ]
  },
  {
   "cell_type": "code",
   "execution_count": 57,
   "id": "acaf122b",
   "metadata": {
    "execution": {
     "iopub.execute_input": "2024-05-19T08:38:32.557683Z",
     "iopub.status.busy": "2024-05-19T08:38:32.557036Z",
     "iopub.status.idle": "2024-05-19T08:38:32.568385Z",
     "shell.execute_reply": "2024-05-19T08:38:32.567066Z"
    },
    "papermill": {
     "duration": 0.038511,
     "end_time": "2024-05-19T08:38:32.570500",
     "exception": false,
     "start_time": "2024-05-19T08:38:32.531989",
     "status": "completed"
    },
    "tags": []
   },
   "outputs": [
    {
     "name": "stdout",
     "output_type": "stream",
     "text": [
      "       Customer_ID outlet_city luxury_sales fresh_sales dry_sales  \\\n",
      "13949        28662      Jaffna      2195.84        9000   1509.64   \n",
      "\n",
      "       luxury_sales_numeric  fresh_sales_numeric  \n",
      "13949               2195.84                  NaN  \n"
     ]
    }
   ],
   "source": [
    "# Locate the row with Customer_ID 10604532 and change the value of cluster_catgeory to 6\n",
    "test_df.loc[test_df['Customer_ID'] == 28662  , 'fresh_sales'] = 9000\n",
    "# Verify the change\n",
    "print(test_df[test_df['Customer_ID'] == 28662  ])\n"
   ]
  },
  {
   "cell_type": "markdown",
   "id": "6afe8fba",
   "metadata": {
    "papermill": {
     "duration": 0.023879,
     "end_time": "2024-05-19T08:38:32.618468",
     "exception": false,
     "start_time": "2024-05-19T08:38:32.594589",
     "status": "completed"
    },
    "tags": []
   },
   "source": [
    "# dry_sales"
   ]
  },
  {
   "cell_type": "code",
   "execution_count": 58,
   "id": "5cd153f8",
   "metadata": {
    "execution": {
     "iopub.execute_input": "2024-05-19T08:38:32.667508Z",
     "iopub.status.busy": "2024-05-19T08:38:32.667139Z",
     "iopub.status.idle": "2024-05-19T08:38:32.692007Z",
     "shell.execute_reply": "2024-05-19T08:38:32.690776Z"
    },
    "papermill": {
     "duration": 0.05193,
     "end_time": "2024-05-19T08:38:32.694058",
     "exception": false,
     "start_time": "2024-05-19T08:38:32.642128",
     "status": "completed"
    },
    "tags": []
   },
   "outputs": [
    {
     "name": "stdout",
     "output_type": "stream",
     "text": [
      "       Customer_ID                              dry_sales\n",
      "40746        28664  Three Thousand seven hundread ruppees\n"
     ]
    }
   ],
   "source": [
    "# Convert 'dry_sales' column to numeric, coerce errors to NaN\n",
    "test_df['dry_sales_numeric'] = pd.to_numeric(test_df['dry_sales'], errors='coerce')\n",
    "\n",
    "# Find rows where 'dry_sales' could not be converted to numeric\n",
    "invalid_rows = test_df[test_df['dry_sales_numeric'].isna()]\n",
    "\n",
    "# Display rows with invalid 'dry_sales' values\n",
    "print(invalid_rows[['Customer_ID', 'dry_sales']])\n"
   ]
  },
  {
   "cell_type": "code",
   "execution_count": 59,
   "id": "a57653e8",
   "metadata": {
    "execution": {
     "iopub.execute_input": "2024-05-19T08:38:32.743623Z",
     "iopub.status.busy": "2024-05-19T08:38:32.743249Z",
     "iopub.status.idle": "2024-05-19T08:38:32.753984Z",
     "shell.execute_reply": "2024-05-19T08:38:32.752951Z"
    },
    "papermill": {
     "duration": 0.037635,
     "end_time": "2024-05-19T08:38:32.755709",
     "exception": false,
     "start_time": "2024-05-19T08:38:32.718074",
     "status": "completed"
    },
    "tags": []
   },
   "outputs": [
    {
     "name": "stdout",
     "output_type": "stream",
     "text": [
      "       Customer_ID outlet_city luxury_sales fresh_sales dry_sales  \\\n",
      "40746        28664     Wattala       3838.6      3951.5      3700   \n",
      "\n",
      "       luxury_sales_numeric  fresh_sales_numeric  dry_sales_numeric  \n",
      "40746                3838.6               3951.5                NaN  \n"
     ]
    }
   ],
   "source": [
    "# Locate the row with Customer_ID 10604532 and change the value of cluster_catgeory to 6\n",
    "test_df.loc[test_df['Customer_ID'] == 28664  , 'dry_sales'] = 3700\n",
    "\n",
    "# Verify the change\n",
    "print(test_df[test_df['Customer_ID'] == 28664  ])\n"
   ]
  },
  {
   "cell_type": "code",
   "execution_count": 60,
   "id": "06955b32",
   "metadata": {
    "execution": {
     "iopub.execute_input": "2024-05-19T08:38:32.805523Z",
     "iopub.status.busy": "2024-05-19T08:38:32.805182Z",
     "iopub.status.idle": "2024-05-19T08:38:32.821210Z",
     "shell.execute_reply": "2024-05-19T08:38:32.820538Z"
    },
    "papermill": {
     "duration": 0.043027,
     "end_time": "2024-05-19T08:38:32.822943",
     "exception": false,
     "start_time": "2024-05-19T08:38:32.779916",
     "status": "completed"
    },
    "tags": []
   },
   "outputs": [
    {
     "data": {
      "text/plain": [
       "Customer_ID             0\n",
       "outlet_city             0\n",
       "luxury_sales            0\n",
       "fresh_sales             0\n",
       "dry_sales               0\n",
       "luxury_sales_numeric    2\n",
       "fresh_sales_numeric     1\n",
       "dry_sales_numeric       1\n",
       "dtype: int64"
      ]
     },
     "execution_count": 60,
     "metadata": {},
     "output_type": "execute_result"
    }
   ],
   "source": [
    "test_df.isnull().sum()"
   ]
  },
  {
   "cell_type": "markdown",
   "id": "567053af",
   "metadata": {
    "papermill": {
     "duration": 0.023903,
     "end_time": "2024-05-19T08:38:32.871140",
     "exception": false,
     "start_time": "2024-05-19T08:38:32.847237",
     "status": "completed"
    },
    "tags": []
   },
   "source": [
    "# convert NAN values in test data set"
   ]
  },
  {
   "cell_type": "code",
   "execution_count": 61,
   "id": "d098223a",
   "metadata": {
    "execution": {
     "iopub.execute_input": "2024-05-19T08:38:32.921643Z",
     "iopub.status.busy": "2024-05-19T08:38:32.921018Z",
     "iopub.status.idle": "2024-05-19T08:38:32.976769Z",
     "shell.execute_reply": "2024-05-19T08:38:32.975917Z"
    },
    "papermill": {
     "duration": 0.08378,
     "end_time": "2024-05-19T08:38:32.978981",
     "exception": false,
     "start_time": "2024-05-19T08:38:32.895201",
     "status": "completed"
    },
    "tags": []
   },
   "outputs": [],
   "source": [
    "# Convert columns 3, 4, and 5 to numeric types, coercing errors to NaN\n",
    "test_df[['luxury_sales', 'fresh_sales', 'dry_sales']] = test_df[['luxury_sales', 'fresh_sales', 'dry_sales']].apply(pd.to_numeric, errors='coerce')\n",
    "\n",
    "# Replace NaN values with mean of each column\n",
    "test_df['luxury_sales'] = test_df['luxury_sales'].fillna(test_df['luxury_sales'].mean())\n",
    "test_df['fresh_sales'] =test_df['fresh_sales'].fillna(test_df['fresh_sales'].mean())\n",
    "test_df['dry_sales'] = test_df['dry_sales'].fillna(test_df['dry_sales'].mean())\n"
   ]
  },
  {
   "cell_type": "code",
   "execution_count": null,
   "id": "8a3d3bee",
   "metadata": {
    "papermill": {
     "duration": 0.024073,
     "end_time": "2024-05-19T08:38:33.027658",
     "exception": false,
     "start_time": "2024-05-19T08:38:33.003585",
     "status": "completed"
    },
    "tags": []
   },
   "outputs": [],
   "source": []
  },
  {
   "cell_type": "code",
   "execution_count": null,
   "id": "372b684d",
   "metadata": {
    "papermill": {
     "duration": 0.024021,
     "end_time": "2024-05-19T08:38:33.076175",
     "exception": false,
     "start_time": "2024-05-19T08:38:33.052154",
     "status": "completed"
    },
    "tags": []
   },
   "outputs": [],
   "source": []
  },
  {
   "cell_type": "code",
   "execution_count": 62,
   "id": "78387aae",
   "metadata": {
    "execution": {
     "iopub.execute_input": "2024-05-19T08:38:33.127614Z",
     "iopub.status.busy": "2024-05-19T08:38:33.127193Z",
     "iopub.status.idle": "2024-05-19T08:38:33.138676Z",
     "shell.execute_reply": "2024-05-19T08:38:33.137481Z"
    },
    "papermill": {
     "duration": 0.040225,
     "end_time": "2024-05-19T08:38:33.140667",
     "exception": false,
     "start_time": "2024-05-19T08:38:33.100442",
     "status": "completed"
    },
    "tags": []
   },
   "outputs": [
    {
     "name": "stdout",
     "output_type": "stream",
     "text": [
      "   Customer_ID outlet_city  luxury_sales  fresh_sales  dry_sales  \\\n",
      "0        33574  batticaloa       2686.50      3582.00   12537.00   \n",
      "1        10089  batticaloa       1717.56      2576.34    9446.58   \n",
      "2        38329  batticaloa        854.04      1242.24    5201.88   \n",
      "3        11376  batticaloa       1638.12      2320.67    9282.68   \n",
      "4        12410  batticaloa       1039.09      1518.67    5435.24   \n",
      "\n",
      "   luxury_sales_numeric  fresh_sales_numeric  dry_sales_numeric  total_sales  \n",
      "0               2686.50              3582.00           12537.00     18805.50  \n",
      "1               1717.56              2576.34            9446.58     13740.48  \n",
      "2                854.04              1242.24            5201.88      7298.16  \n",
      "3               1638.12              2320.67            9282.68     13241.47  \n",
      "4               1039.09              1518.67            5435.24      7993.00  \n"
     ]
    }
   ],
   "source": [
    "# Create 'total_sales' column by summing 'luxury_sales', 'fresh_sales', and 'dry_sales'\n",
    "test_df['total_sales'] = test_df['luxury_sales'] + test_df['fresh_sales'] + test_df['dry_sales']\n",
    "\n",
    "# Display the first few rows of the DataFrame to verify the new column\n",
    "print(test_df.head())\n"
   ]
  },
  {
   "cell_type": "code",
   "execution_count": 63,
   "id": "8300a0ba",
   "metadata": {
    "execution": {
     "iopub.execute_input": "2024-05-19T08:38:33.192071Z",
     "iopub.status.busy": "2024-05-19T08:38:33.190883Z",
     "iopub.status.idle": "2024-05-19T08:38:33.202946Z",
     "shell.execute_reply": "2024-05-19T08:38:33.202211Z"
    },
    "papermill": {
     "duration": 0.039681,
     "end_time": "2024-05-19T08:38:33.205000",
     "exception": false,
     "start_time": "2024-05-19T08:38:33.165319",
     "status": "completed"
    },
    "tags": []
   },
   "outputs": [],
   "source": [
    "# Extract the columns to be scaled\n",
    "columns_to_scale = ['luxury_sales', 'fresh_sales', 'dry_sales','total_sales']\n",
    "\n",
    "# Initialize the StandardScaler\n",
    "scaler = StandardScaler()\n",
    "\n",
    "# Fit the scaler to the data and transform the columns\n",
    "test_df[columns_to_scale] = scaler.fit_transform(test_df[columns_to_scale])"
   ]
  },
  {
   "cell_type": "code",
   "execution_count": 64,
   "id": "b8ee09bc",
   "metadata": {
    "execution": {
     "iopub.execute_input": "2024-05-19T08:38:33.256662Z",
     "iopub.status.busy": "2024-05-19T08:38:33.255991Z",
     "iopub.status.idle": "2024-05-19T08:38:33.278671Z",
     "shell.execute_reply": "2024-05-19T08:38:33.277612Z"
    },
    "papermill": {
     "duration": 0.050994,
     "end_time": "2024-05-19T08:38:33.281020",
     "exception": false,
     "start_time": "2024-05-19T08:38:33.230026",
     "status": "completed"
    },
    "tags": []
   },
   "outputs": [
    {
     "name": "stdout",
     "output_type": "stream",
     "text": [
      "   Customer_ID  luxury_sales  fresh_sales  dry_sales  luxury_sales_numeric  \\\n",
      "0        33574      0.756569    -0.257052   2.300097               2686.50   \n",
      "1        10089     -0.208718    -0.557303   1.394065               1717.56   \n",
      "2        38329     -1.068982    -0.955614   0.149628                854.04   \n",
      "3        11376     -0.287859    -0.633636   1.346014               1638.12   \n",
      "4        12410     -0.884630    -0.873082   0.218043               1039.09   \n",
      "\n",
      "   fresh_sales_numeric  dry_sales_numeric  total_sales  \\\n",
      "0              3582.00           12537.00     2.020720   \n",
      "1              2576.34            9446.58     0.699045   \n",
      "2              1242.24            5201.88    -0.982024   \n",
      "3              2320.67            9282.68     0.568833   \n",
      "4              1518.67            5435.24    -0.800712   \n",
      "\n",
      "   outlet_city_Anuradhapura  outlet_city_Batticaloa  ...  outlet_city_Negombo  \\\n",
      "0                     False                   False  ...                False   \n",
      "1                     False                   False  ...                False   \n",
      "2                     False                   False  ...                False   \n",
      "3                     False                   False  ...                False   \n",
      "4                     False                   False  ...                False   \n",
      "\n",
      "   outlet_city_Nuwara Eliya  outlet_city_Panadura  outlet_city_PeliyagodA  \\\n",
      "0                     False                 False                   False   \n",
      "1                     False                 False                   False   \n",
      "2                     False                 False                   False   \n",
      "3                     False                 False                   False   \n",
      "4                     False                 False                   False   \n",
      "\n",
      "   outlet_city_Peliyagoda  outlet_city_Trincomale  outlet_city_Trincomalee  \\\n",
      "0                   False                   False                    False   \n",
      "1                   False                   False                    False   \n",
      "2                   False                   False                    False   \n",
      "3                   False                   False                    False   \n",
      "4                   False                   False                    False   \n",
      "\n",
      "   outlet_city_Wattala  outlet_city_batticaloa  outlet_city_kalmunai  \n",
      "0                False                    True                 False  \n",
      "1                False                    True                 False  \n",
      "2                False                    True                 False  \n",
      "3                False                    True                 False  \n",
      "4                False                    True                 False  \n",
      "\n",
      "[5 rows x 35 columns]\n"
     ]
    }
   ],
   "source": [
    "# One-hot encode the 'outlet_city' column\n",
    "test_df = pd.get_dummies(test_df, columns=['outlet_city'])\n",
    "\n",
    "# Display the first few rows of the DataFrame to verify the changes\n",
    "print(test_df.head())\n"
   ]
  },
  {
   "cell_type": "code",
   "execution_count": 65,
   "id": "1d7f7ee2",
   "metadata": {
    "execution": {
     "iopub.execute_input": "2024-05-19T08:38:33.332287Z",
     "iopub.status.busy": "2024-05-19T08:38:33.331914Z",
     "iopub.status.idle": "2024-05-19T08:38:33.337252Z",
     "shell.execute_reply": "2024-05-19T08:38:33.336419Z"
    },
    "papermill": {
     "duration": 0.03333,
     "end_time": "2024-05-19T08:38:33.339232",
     "exception": false,
     "start_time": "2024-05-19T08:38:33.305902",
     "status": "completed"
    },
    "tags": []
   },
   "outputs": [],
   "source": [
    "# Convert 'Customer_ID' to integer\n",
    "test_df['Customer_ID'] = test_df['Customer_ID'].astype(int)\n",
    "\n",
    "\n"
   ]
  },
  {
   "cell_type": "code",
   "execution_count": 66,
   "id": "07f105e2",
   "metadata": {
    "execution": {
     "iopub.execute_input": "2024-05-19T08:38:33.390210Z",
     "iopub.status.busy": "2024-05-19T08:38:33.389200Z",
     "iopub.status.idle": "2024-05-19T08:38:33.397166Z",
     "shell.execute_reply": "2024-05-19T08:38:33.396308Z"
    },
    "papermill": {
     "duration": 0.035249,
     "end_time": "2024-05-19T08:38:33.398993",
     "exception": false,
     "start_time": "2024-05-19T08:38:33.363744",
     "status": "completed"
    },
    "tags": []
   },
   "outputs": [
    {
     "data": {
      "text/plain": [
       "Customer_ID                             int64\n",
       "luxury_sales                          float64\n",
       "fresh_sales                           float64\n",
       "dry_sales                             float64\n",
       "luxury_sales_numeric                  float64\n",
       "fresh_sales_numeric                   float64\n",
       "dry_sales_numeric                     float64\n",
       "total_sales                           float64\n",
       "outlet_city_Anuradhapura                 bool\n",
       "outlet_city_Batticaloa                   bool\n",
       "outlet_city_Colombo                      bool\n",
       "outlet_city_Dehiwala-Mount Lavinia       bool\n",
       "outlet_city_Galle                        bool\n",
       "outlet_city_Gampaha                      bool\n",
       "outlet_city_Homagama                     bool\n",
       "outlet_city_Jaffna                       bool\n",
       "outlet_city_Kaduwela                     bool\n",
       "outlet_city_Kalmunai                     bool\n",
       "outlet_city_Kandy                        bool\n",
       "outlet_city_Katunayake                   bool\n",
       "outlet_city_Kelaniya                     bool\n",
       "outlet_city_Kotte                        bool\n",
       "outlet_city_Madawachiya                  bool\n",
       "outlet_city_MoraTuwa                     bool\n",
       "outlet_city_Moratuwa                     bool\n",
       "outlet_city_Negombo                      bool\n",
       "outlet_city_Nuwara Eliya                 bool\n",
       "outlet_city_Panadura                     bool\n",
       "outlet_city_PeliyagodA                   bool\n",
       "outlet_city_Peliyagoda                   bool\n",
       "outlet_city_Trincomale                   bool\n",
       "outlet_city_Trincomalee                  bool\n",
       "outlet_city_Wattala                      bool\n",
       "outlet_city_batticaloa                   bool\n",
       "outlet_city_kalmunai                     bool\n",
       "dtype: object"
      ]
     },
     "execution_count": 66,
     "metadata": {},
     "output_type": "execute_result"
    }
   ],
   "source": [
    "test_df.dtypes"
   ]
  },
  {
   "cell_type": "code",
   "execution_count": 67,
   "id": "b29c6f5d",
   "metadata": {
    "execution": {
     "iopub.execute_input": "2024-05-19T08:38:33.450644Z",
     "iopub.status.busy": "2024-05-19T08:38:33.450023Z",
     "iopub.status.idle": "2024-05-19T08:38:33.457874Z",
     "shell.execute_reply": "2024-05-19T08:38:33.457081Z"
    },
    "papermill": {
     "duration": 0.035622,
     "end_time": "2024-05-19T08:38:33.459719",
     "exception": false,
     "start_time": "2024-05-19T08:38:33.424097",
     "status": "completed"
    },
    "tags": []
   },
   "outputs": [
    {
     "data": {
      "text/plain": [
       "Customer_ID                             int64\n",
       "luxury_sales                          float64\n",
       "fresh_sales                           float64\n",
       "dry_sales                             float64\n",
       "cluster_catgeory                        int64\n",
       "dry_sales_numeric                     float64\n",
       "fresh_sales_numeric                   float64\n",
       "luxury_sales_numeric                  float64\n",
       "clusterCategory_numeric               float64\n",
       "outlet_city_Batticaloa                   bool\n",
       "outlet_city_Colombo                      bool\n",
       "outlet_city_Dehiwala-Mount Lavinia       bool\n",
       "outlet_city_Galle                        bool\n",
       "outlet_city_Gampaha                      bool\n",
       "outlet_city_Homagama                     bool\n",
       "outlet_city_Jaffna                       bool\n",
       "outlet_city_Kaduwela                     bool\n",
       "outlet_city_Kalmunai                     bool\n",
       "outlet_city_Kandy                        bool\n",
       "outlet_city_Katunayake                   bool\n",
       "outlet_city_Kelaniya                     bool\n",
       "outlet_city_Kotte                        bool\n",
       "outlet_city_Moratuwa                     bool\n",
       "outlet_city_Negombo                      bool\n",
       "outlet_city_Nuwara Eliya                 bool\n",
       "outlet_city_Panadura                     bool\n",
       "outlet_city_Peliyagoda                   bool\n",
       "outlet_city_Trincomalee                  bool\n",
       "outlet_city_Wattala                      bool\n",
       "total_sales                           float64\n",
       "dtype: object"
      ]
     },
     "execution_count": 67,
     "metadata": {},
     "output_type": "execute_result"
    }
   ],
   "source": [
    "train_df.dtypes"
   ]
  },
  {
   "cell_type": "markdown",
   "id": "68c55a63",
   "metadata": {
    "papermill": {
     "duration": 0.024426,
     "end_time": "2024-05-19T08:38:33.508897",
     "exception": false,
     "start_time": "2024-05-19T08:38:33.484471",
     "status": "completed"
    },
    "tags": []
   },
   "source": [
    "# finishing cleaning the training dataset"
   ]
  },
  {
   "cell_type": "code",
   "execution_count": 68,
   "id": "438ddc5c",
   "metadata": {
    "execution": {
     "iopub.execute_input": "2024-05-19T08:38:33.560517Z",
     "iopub.status.busy": "2024-05-19T08:38:33.559896Z",
     "iopub.status.idle": "2024-05-19T08:38:33.913202Z",
     "shell.execute_reply": "2024-05-19T08:38:33.912147Z"
    },
    "papermill": {
     "duration": 0.38154,
     "end_time": "2024-05-19T08:38:33.915438",
     "exception": false,
     "start_time": "2024-05-19T08:38:33.533898",
     "status": "completed"
    },
    "tags": []
   },
   "outputs": [
    {
     "data": {
      "text/html": [
       "<div>\n",
       "<style scoped>\n",
       "    .dataframe tbody tr th:only-of-type {\n",
       "        vertical-align: middle;\n",
       "    }\n",
       "\n",
       "    .dataframe tbody tr th {\n",
       "        vertical-align: top;\n",
       "    }\n",
       "\n",
       "    .dataframe thead th {\n",
       "        text-align: right;\n",
       "    }\n",
       "</style>\n",
       "<table border=\"1\" class=\"dataframe\">\n",
       "  <thead>\n",
       "    <tr style=\"text-align: right;\">\n",
       "      <th></th>\n",
       "      <th>Customer_ID</th>\n",
       "      <th>luxury_sales</th>\n",
       "      <th>fresh_sales</th>\n",
       "      <th>dry_sales</th>\n",
       "      <th>cluster_catgeory</th>\n",
       "      <th>dry_sales_numeric</th>\n",
       "      <th>fresh_sales_numeric</th>\n",
       "      <th>luxury_sales_numeric</th>\n",
       "      <th>clusterCategory_numeric</th>\n",
       "      <th>total_sales</th>\n",
       "    </tr>\n",
       "  </thead>\n",
       "  <tbody>\n",
       "    <tr>\n",
       "      <th>count</th>\n",
       "      <td>7.741490e+05</td>\n",
       "      <td>7.741490e+05</td>\n",
       "      <td>7.741490e+05</td>\n",
       "      <td>7.741490e+05</td>\n",
       "      <td>774149.000000</td>\n",
       "      <td>774112.000000</td>\n",
       "      <td>774104.000000</td>\n",
       "      <td>774111.000000</td>\n",
       "      <td>774148.000000</td>\n",
       "      <td>7.741490e+05</td>\n",
       "    </tr>\n",
       "    <tr>\n",
       "      <th>mean</th>\n",
       "      <td>1.038708e+07</td>\n",
       "      <td>5.803668e-16</td>\n",
       "      <td>-8.914035e-17</td>\n",
       "      <td>-2.847498e-16</td>\n",
       "      <td>3.292104</td>\n",
       "      <td>4676.283285</td>\n",
       "      <td>4428.688842</td>\n",
       "      <td>1921.968250</td>\n",
       "      <td>3.292100</td>\n",
       "      <td>-4.144218e-16</td>\n",
       "    </tr>\n",
       "    <tr>\n",
       "      <th>std</th>\n",
       "      <td>2.234803e+05</td>\n",
       "      <td>1.000001e+00</td>\n",
       "      <td>1.000001e+00</td>\n",
       "      <td>1.000001e+00</td>\n",
       "      <td>1.867014</td>\n",
       "      <td>3409.384253</td>\n",
       "      <td>3334.667387</td>\n",
       "      <td>1004.082949</td>\n",
       "      <td>1.867013</td>\n",
       "      <td>1.000001e+00</td>\n",
       "    </tr>\n",
       "    <tr>\n",
       "      <th>min</th>\n",
       "      <td>1.000000e+07</td>\n",
       "      <td>-1.416222e+00</td>\n",
       "      <td>-1.178170e+00</td>\n",
       "      <td>-1.224968e+00</td>\n",
       "      <td>1.000000</td>\n",
       "      <td>500.000000</td>\n",
       "      <td>500.000000</td>\n",
       "      <td>500.000000</td>\n",
       "      <td>1.000000</td>\n",
       "      <td>-1.698544e+00</td>\n",
       "    </tr>\n",
       "    <tr>\n",
       "      <th>25%</th>\n",
       "      <td>1.019354e+07</td>\n",
       "      <td>-7.055553e-01</td>\n",
       "      <td>-8.422286e-01</td>\n",
       "      <td>-8.471777e-01</td>\n",
       "      <td>2.000000</td>\n",
       "      <td>1787.940000</td>\n",
       "      <td>1620.190000</td>\n",
       "      <td>1213.525000</td>\n",
       "      <td>2.000000</td>\n",
       "      <td>-8.363423e-01</td>\n",
       "    </tr>\n",
       "    <tr>\n",
       "      <th>50%</th>\n",
       "      <td>1.038708e+07</td>\n",
       "      <td>-2.058131e-01</td>\n",
       "      <td>-3.214686e-01</td>\n",
       "      <td>-2.781284e-01</td>\n",
       "      <td>3.000000</td>\n",
       "      <td>3727.760000</td>\n",
       "      <td>3356.510000</td>\n",
       "      <td>1715.280000</td>\n",
       "      <td>3.000000</td>\n",
       "      <td>-6.716999e-02</td>\n",
       "    </tr>\n",
       "    <tr>\n",
       "      <th>75%</th>\n",
       "      <td>1.058062e+07</td>\n",
       "      <td>4.150377e-01</td>\n",
       "      <td>6.725282e-01</td>\n",
       "      <td>7.290283e-01</td>\n",
       "      <td>5.000000</td>\n",
       "      <td>7162.200000</td>\n",
       "      <td>6671.610000</td>\n",
       "      <td>2338.700000</td>\n",
       "      <td>5.000000</td>\n",
       "      <td>7.053880e-01</td>\n",
       "    </tr>\n",
       "    <tr>\n",
       "      <th>max</th>\n",
       "      <td>1.077416e+07</td>\n",
       "      <td>5.057162e+00</td>\n",
       "      <td>2.869700e+00</td>\n",
       "      <td>2.734583e+00</td>\n",
       "      <td>6.000000</td>\n",
       "      <td>13999.300000</td>\n",
       "      <td>13997.900000</td>\n",
       "      <td>6999.650000</td>\n",
       "      <td>6.000000</td>\n",
       "      <td>2.596554e+00</td>\n",
       "    </tr>\n",
       "  </tbody>\n",
       "</table>\n",
       "</div>"
      ],
      "text/plain": [
       "        Customer_ID  luxury_sales   fresh_sales     dry_sales  \\\n",
       "count  7.741490e+05  7.741490e+05  7.741490e+05  7.741490e+05   \n",
       "mean   1.038708e+07  5.803668e-16 -8.914035e-17 -2.847498e-16   \n",
       "std    2.234803e+05  1.000001e+00  1.000001e+00  1.000001e+00   \n",
       "min    1.000000e+07 -1.416222e+00 -1.178170e+00 -1.224968e+00   \n",
       "25%    1.019354e+07 -7.055553e-01 -8.422286e-01 -8.471777e-01   \n",
       "50%    1.038708e+07 -2.058131e-01 -3.214686e-01 -2.781284e-01   \n",
       "75%    1.058062e+07  4.150377e-01  6.725282e-01  7.290283e-01   \n",
       "max    1.077416e+07  5.057162e+00  2.869700e+00  2.734583e+00   \n",
       "\n",
       "       cluster_catgeory  dry_sales_numeric  fresh_sales_numeric  \\\n",
       "count     774149.000000      774112.000000        774104.000000   \n",
       "mean           3.292104        4676.283285          4428.688842   \n",
       "std            1.867014        3409.384253          3334.667387   \n",
       "min            1.000000         500.000000           500.000000   \n",
       "25%            2.000000        1787.940000          1620.190000   \n",
       "50%            3.000000        3727.760000          3356.510000   \n",
       "75%            5.000000        7162.200000          6671.610000   \n",
       "max            6.000000       13999.300000         13997.900000   \n",
       "\n",
       "       luxury_sales_numeric  clusterCategory_numeric   total_sales  \n",
       "count         774111.000000            774148.000000  7.741490e+05  \n",
       "mean            1921.968250                 3.292100 -4.144218e-16  \n",
       "std             1004.082949                 1.867013  1.000001e+00  \n",
       "min              500.000000                 1.000000 -1.698544e+00  \n",
       "25%             1213.525000                 2.000000 -8.363423e-01  \n",
       "50%             1715.280000                 3.000000 -6.716999e-02  \n",
       "75%             2338.700000                 5.000000  7.053880e-01  \n",
       "max             6999.650000                 6.000000  2.596554e+00  "
      ]
     },
     "execution_count": 68,
     "metadata": {},
     "output_type": "execute_result"
    }
   ],
   "source": [
    "train_df.describe()"
   ]
  },
  {
   "cell_type": "code",
   "execution_count": 69,
   "id": "ffaddfbb",
   "metadata": {
    "execution": {
     "iopub.execute_input": "2024-05-19T08:38:33.968746Z",
     "iopub.status.busy": "2024-05-19T08:38:33.968366Z",
     "iopub.status.idle": "2024-05-19T08:38:33.974314Z",
     "shell.execute_reply": "2024-05-19T08:38:33.973454Z"
    },
    "papermill": {
     "duration": 0.035006,
     "end_time": "2024-05-19T08:38:33.976186",
     "exception": false,
     "start_time": "2024-05-19T08:38:33.941180",
     "status": "completed"
    },
    "tags": []
   },
   "outputs": [
    {
     "data": {
      "text/plain": [
       "Index(['Customer_ID', 'luxury_sales', 'fresh_sales', 'dry_sales',\n",
       "       'cluster_catgeory', 'dry_sales_numeric', 'fresh_sales_numeric',\n",
       "       'luxury_sales_numeric', 'clusterCategory_numeric',\n",
       "       'outlet_city_Batticaloa', 'outlet_city_Colombo',\n",
       "       'outlet_city_Dehiwala-Mount Lavinia', 'outlet_city_Galle',\n",
       "       'outlet_city_Gampaha', 'outlet_city_Homagama', 'outlet_city_Jaffna',\n",
       "       'outlet_city_Kaduwela', 'outlet_city_Kalmunai', 'outlet_city_Kandy',\n",
       "       'outlet_city_Katunayake', 'outlet_city_Kelaniya', 'outlet_city_Kotte',\n",
       "       'outlet_city_Moratuwa', 'outlet_city_Negombo',\n",
       "       'outlet_city_Nuwara Eliya', 'outlet_city_Panadura',\n",
       "       'outlet_city_Peliyagoda', 'outlet_city_Trincomalee',\n",
       "       'outlet_city_Wattala', 'total_sales'],\n",
       "      dtype='object')"
      ]
     },
     "execution_count": 69,
     "metadata": {},
     "output_type": "execute_result"
    }
   ],
   "source": [
    "train_df.columns"
   ]
  },
  {
   "cell_type": "code",
   "execution_count": 70,
   "id": "73d18f7d",
   "metadata": {
    "execution": {
     "iopub.execute_input": "2024-05-19T08:38:34.028030Z",
     "iopub.status.busy": "2024-05-19T08:38:34.027393Z",
     "iopub.status.idle": "2024-05-19T08:38:34.090431Z",
     "shell.execute_reply": "2024-05-19T08:38:34.089026Z"
    },
    "papermill": {
     "duration": 0.09181,
     "end_time": "2024-05-19T08:38:34.093042",
     "exception": false,
     "start_time": "2024-05-19T08:38:34.001232",
     "status": "completed"
    },
    "tags": []
   },
   "outputs": [],
   "source": [
    "# Select columns to include in the cleaned DataFrame\n",
    "selected_columns = ['Customer_ID', 'luxury_sales', 'fresh_sales', 'dry_sales',\n",
    "       'cluster_catgeory', \n",
    "       'outlet_city_Batticaloa', 'outlet_city_Colombo',\n",
    "       'outlet_city_Dehiwala-Mount Lavinia', 'outlet_city_Galle',\n",
    "       'outlet_city_Gampaha', 'outlet_city_Homagama', 'outlet_city_Jaffna',\n",
    "       'outlet_city_Kaduwela', 'outlet_city_Kalmunai', 'outlet_city_Kandy',\n",
    "       'outlet_city_Katunayake', 'outlet_city_Kelaniya', 'outlet_city_Kotte',\n",
    "       'outlet_city_Moratuwa', 'outlet_city_Negombo',\n",
    "       'outlet_city_Nuwara Eliya', 'outlet_city_Panadura',\n",
    "       'outlet_city_Peliyagoda', 'outlet_city_Trincomalee',\n",
    "       'outlet_city_Wattala', 'total_sales']\n",
    "# Create the cleaned DataFrame\n",
    "cleaned_train_df = train_df.loc[:, selected_columns].copy()\n"
   ]
  },
  {
   "cell_type": "code",
   "execution_count": 71,
   "id": "53f63c76",
   "metadata": {
    "execution": {
     "iopub.execute_input": "2024-05-19T08:38:34.146346Z",
     "iopub.status.busy": "2024-05-19T08:38:34.145251Z",
     "iopub.status.idle": "2024-05-19T08:38:34.167043Z",
     "shell.execute_reply": "2024-05-19T08:38:34.166016Z"
    },
    "papermill": {
     "duration": 0.051031,
     "end_time": "2024-05-19T08:38:34.169224",
     "exception": false,
     "start_time": "2024-05-19T08:38:34.118193",
     "status": "completed"
    },
    "tags": []
   },
   "outputs": [
    {
     "data": {
      "text/html": [
       "<div>\n",
       "<style scoped>\n",
       "    .dataframe tbody tr th:only-of-type {\n",
       "        vertical-align: middle;\n",
       "    }\n",
       "\n",
       "    .dataframe tbody tr th {\n",
       "        vertical-align: top;\n",
       "    }\n",
       "\n",
       "    .dataframe thead th {\n",
       "        text-align: right;\n",
       "    }\n",
       "</style>\n",
       "<table border=\"1\" class=\"dataframe\">\n",
       "  <thead>\n",
       "    <tr style=\"text-align: right;\">\n",
       "      <th></th>\n",
       "      <th>Customer_ID</th>\n",
       "      <th>luxury_sales</th>\n",
       "      <th>fresh_sales</th>\n",
       "      <th>dry_sales</th>\n",
       "      <th>cluster_catgeory</th>\n",
       "      <th>outlet_city_Batticaloa</th>\n",
       "      <th>outlet_city_Colombo</th>\n",
       "      <th>outlet_city_Dehiwala-Mount Lavinia</th>\n",
       "      <th>outlet_city_Galle</th>\n",
       "      <th>outlet_city_Gampaha</th>\n",
       "      <th>...</th>\n",
       "      <th>outlet_city_Kelaniya</th>\n",
       "      <th>outlet_city_Kotte</th>\n",
       "      <th>outlet_city_Moratuwa</th>\n",
       "      <th>outlet_city_Negombo</th>\n",
       "      <th>outlet_city_Nuwara Eliya</th>\n",
       "      <th>outlet_city_Panadura</th>\n",
       "      <th>outlet_city_Peliyagoda</th>\n",
       "      <th>outlet_city_Trincomalee</th>\n",
       "      <th>outlet_city_Wattala</th>\n",
       "      <th>total_sales</th>\n",
       "    </tr>\n",
       "  </thead>\n",
       "  <tbody>\n",
       "    <tr>\n",
       "      <th>0</th>\n",
       "      <td>10493832</td>\n",
       "      <td>-0.709489</td>\n",
       "      <td>-1.101399</td>\n",
       "      <td>0.180599</td>\n",
       "      <td>4</td>\n",
       "      <td>False</td>\n",
       "      <td>False</td>\n",
       "      <td>False</td>\n",
       "      <td>False</td>\n",
       "      <td>False</td>\n",
       "      <td>...</td>\n",
       "      <td>True</td>\n",
       "      <td>False</td>\n",
       "      <td>False</td>\n",
       "      <td>False</td>\n",
       "      <td>False</td>\n",
       "      <td>False</td>\n",
       "      <td>False</td>\n",
       "      <td>False</td>\n",
       "      <td>False</td>\n",
       "      <td>-0.982408</td>\n",
       "    </tr>\n",
       "    <tr>\n",
       "      <th>1</th>\n",
       "      <td>10178643</td>\n",
       "      <td>-0.330507</td>\n",
       "      <td>-1.010208</td>\n",
       "      <td>0.390355</td>\n",
       "      <td>1</td>\n",
       "      <td>False</td>\n",
       "      <td>False</td>\n",
       "      <td>False</td>\n",
       "      <td>False</td>\n",
       "      <td>False</td>\n",
       "      <td>...</td>\n",
       "      <td>False</td>\n",
       "      <td>False</td>\n",
       "      <td>True</td>\n",
       "      <td>False</td>\n",
       "      <td>False</td>\n",
       "      <td>False</td>\n",
       "      <td>False</td>\n",
       "      <td>False</td>\n",
       "      <td>False</td>\n",
       "      <td>-0.617597</td>\n",
       "    </tr>\n",
       "    <tr>\n",
       "      <th>2</th>\n",
       "      <td>10513916</td>\n",
       "      <td>0.365429</td>\n",
       "      <td>-0.883967</td>\n",
       "      <td>1.313829</td>\n",
       "      <td>4</td>\n",
       "      <td>False</td>\n",
       "      <td>False</td>\n",
       "      <td>False</td>\n",
       "      <td>False</td>\n",
       "      <td>False</td>\n",
       "      <td>...</td>\n",
       "      <td>False</td>\n",
       "      <td>False</td>\n",
       "      <td>False</td>\n",
       "      <td>False</td>\n",
       "      <td>False</td>\n",
       "      <td>False</td>\n",
       "      <td>False</td>\n",
       "      <td>False</td>\n",
       "      <td>True</td>\n",
       "      <td>0.494808</td>\n",
       "    </tr>\n",
       "    <tr>\n",
       "      <th>3</th>\n",
       "      <td>10334589</td>\n",
       "      <td>0.351545</td>\n",
       "      <td>-0.806410</td>\n",
       "      <td>1.297473</td>\n",
       "      <td>4</td>\n",
       "      <td>False</td>\n",
       "      <td>False</td>\n",
       "      <td>False</td>\n",
       "      <td>False</td>\n",
       "      <td>False</td>\n",
       "      <td>...</td>\n",
       "      <td>False</td>\n",
       "      <td>False</td>\n",
       "      <td>False</td>\n",
       "      <td>False</td>\n",
       "      <td>False</td>\n",
       "      <td>False</td>\n",
       "      <td>False</td>\n",
       "      <td>False</td>\n",
       "      <td>True</td>\n",
       "      <td>0.544047</td>\n",
       "    </tr>\n",
       "    <tr>\n",
       "      <th>4</th>\n",
       "      <td>10458365</td>\n",
       "      <td>0.421810</td>\n",
       "      <td>-0.707480</td>\n",
       "      <td>1.339778</td>\n",
       "      <td>4</td>\n",
       "      <td>False</td>\n",
       "      <td>False</td>\n",
       "      <td>False</td>\n",
       "      <td>False</td>\n",
       "      <td>False</td>\n",
       "      <td>...</td>\n",
       "      <td>True</td>\n",
       "      <td>False</td>\n",
       "      <td>False</td>\n",
       "      <td>False</td>\n",
       "      <td>False</td>\n",
       "      <td>False</td>\n",
       "      <td>False</td>\n",
       "      <td>False</td>\n",
       "      <td>False</td>\n",
       "      <td>0.686005</td>\n",
       "    </tr>\n",
       "  </tbody>\n",
       "</table>\n",
       "<p>5 rows × 26 columns</p>\n",
       "</div>"
      ],
      "text/plain": [
       "   Customer_ID  luxury_sales  fresh_sales  dry_sales  cluster_catgeory  \\\n",
       "0     10493832     -0.709489    -1.101399   0.180599                 4   \n",
       "1     10178643     -0.330507    -1.010208   0.390355                 1   \n",
       "2     10513916      0.365429    -0.883967   1.313829                 4   \n",
       "3     10334589      0.351545    -0.806410   1.297473                 4   \n",
       "4     10458365      0.421810    -0.707480   1.339778                 4   \n",
       "\n",
       "   outlet_city_Batticaloa  outlet_city_Colombo  \\\n",
       "0                   False                False   \n",
       "1                   False                False   \n",
       "2                   False                False   \n",
       "3                   False                False   \n",
       "4                   False                False   \n",
       "\n",
       "   outlet_city_Dehiwala-Mount Lavinia  outlet_city_Galle  outlet_city_Gampaha  \\\n",
       "0                               False              False                False   \n",
       "1                               False              False                False   \n",
       "2                               False              False                False   \n",
       "3                               False              False                False   \n",
       "4                               False              False                False   \n",
       "\n",
       "   ...  outlet_city_Kelaniya  outlet_city_Kotte  outlet_city_Moratuwa  \\\n",
       "0  ...                  True              False                 False   \n",
       "1  ...                 False              False                  True   \n",
       "2  ...                 False              False                 False   \n",
       "3  ...                 False              False                 False   \n",
       "4  ...                  True              False                 False   \n",
       "\n",
       "   outlet_city_Negombo  outlet_city_Nuwara Eliya  outlet_city_Panadura  \\\n",
       "0                False                     False                 False   \n",
       "1                False                     False                 False   \n",
       "2                False                     False                 False   \n",
       "3                False                     False                 False   \n",
       "4                False                     False                 False   \n",
       "\n",
       "   outlet_city_Peliyagoda  outlet_city_Trincomalee  outlet_city_Wattala  \\\n",
       "0                   False                    False                False   \n",
       "1                   False                    False                False   \n",
       "2                   False                    False                 True   \n",
       "3                   False                    False                 True   \n",
       "4                   False                    False                False   \n",
       "\n",
       "   total_sales  \n",
       "0    -0.982408  \n",
       "1    -0.617597  \n",
       "2     0.494808  \n",
       "3     0.544047  \n",
       "4     0.686005  \n",
       "\n",
       "[5 rows x 26 columns]"
      ]
     },
     "execution_count": 71,
     "metadata": {},
     "output_type": "execute_result"
    }
   ],
   "source": [
    "cleaned_train_df.head()"
   ]
  },
  {
   "cell_type": "code",
   "execution_count": 72,
   "id": "acf5df78",
   "metadata": {
    "execution": {
     "iopub.execute_input": "2024-05-19T08:38:34.223360Z",
     "iopub.status.busy": "2024-05-19T08:38:34.222991Z",
     "iopub.status.idle": "2024-05-19T08:38:34.229464Z",
     "shell.execute_reply": "2024-05-19T08:38:34.228471Z"
    },
    "papermill": {
     "duration": 0.035601,
     "end_time": "2024-05-19T08:38:34.231396",
     "exception": false,
     "start_time": "2024-05-19T08:38:34.195795",
     "status": "completed"
    },
    "tags": []
   },
   "outputs": [
    {
     "data": {
      "text/plain": [
       "Index(['Customer_ID', 'luxury_sales', 'fresh_sales', 'dry_sales',\n",
       "       'luxury_sales_numeric', 'fresh_sales_numeric', 'dry_sales_numeric',\n",
       "       'total_sales', 'outlet_city_Anuradhapura', 'outlet_city_Batticaloa',\n",
       "       'outlet_city_Colombo', 'outlet_city_Dehiwala-Mount Lavinia',\n",
       "       'outlet_city_Galle', 'outlet_city_Gampaha', 'outlet_city_Homagama',\n",
       "       'outlet_city_Jaffna', 'outlet_city_Kaduwela', 'outlet_city_Kalmunai',\n",
       "       'outlet_city_Kandy', 'outlet_city_Katunayake', 'outlet_city_Kelaniya',\n",
       "       'outlet_city_Kotte', 'outlet_city_Madawachiya', 'outlet_city_MoraTuwa',\n",
       "       'outlet_city_Moratuwa', 'outlet_city_Negombo',\n",
       "       'outlet_city_Nuwara Eliya', 'outlet_city_Panadura',\n",
       "       'outlet_city_PeliyagodA', 'outlet_city_Peliyagoda',\n",
       "       'outlet_city_Trincomale', 'outlet_city_Trincomalee',\n",
       "       'outlet_city_Wattala', 'outlet_city_batticaloa',\n",
       "       'outlet_city_kalmunai'],\n",
       "      dtype='object')"
      ]
     },
     "execution_count": 72,
     "metadata": {},
     "output_type": "execute_result"
    }
   ],
   "source": [
    "test_df.columns"
   ]
  },
  {
   "cell_type": "code",
   "execution_count": 73,
   "id": "58cbf7b2",
   "metadata": {
    "execution": {
     "iopub.execute_input": "2024-05-19T08:38:34.286322Z",
     "iopub.status.busy": "2024-05-19T08:38:34.285724Z",
     "iopub.status.idle": "2024-05-19T08:38:34.292692Z",
     "shell.execute_reply": "2024-05-19T08:38:34.291923Z"
    },
    "papermill": {
     "duration": 0.036374,
     "end_time": "2024-05-19T08:38:34.294631",
     "exception": false,
     "start_time": "2024-05-19T08:38:34.258257",
     "status": "completed"
    },
    "tags": []
   },
   "outputs": [],
   "source": [
    "X_test = test_df[['luxury_sales', 'fresh_sales', 'dry_sales', \n",
    "       'outlet_city_Batticaloa', 'outlet_city_Colombo',\n",
    "       'outlet_city_Dehiwala-Mount Lavinia', 'outlet_city_Galle',\n",
    "       'outlet_city_Gampaha', 'outlet_city_Homagama', 'outlet_city_Jaffna',\n",
    "       'outlet_city_Kaduwela', 'outlet_city_Kalmunai', 'outlet_city_Kandy',\n",
    "       'outlet_city_Katunayake', 'outlet_city_Kelaniya', 'outlet_city_Kotte',\n",
    "       'outlet_city_Moratuwa', 'outlet_city_Negombo',\n",
    "       'outlet_city_Nuwara Eliya', 'outlet_city_Panadura',\n",
    "       'outlet_city_Peliyagoda', 'outlet_city_Trincomalee',\n",
    "       'outlet_city_Wattala','total_sales']]\n"
   ]
  },
  {
   "cell_type": "code",
   "execution_count": 74,
   "id": "851a358c",
   "metadata": {
    "execution": {
     "iopub.execute_input": "2024-05-19T08:38:34.348159Z",
     "iopub.status.busy": "2024-05-19T08:38:34.347552Z",
     "iopub.status.idle": "2024-05-19T08:38:34.351842Z",
     "shell.execute_reply": "2024-05-19T08:38:34.350948Z"
    },
    "papermill": {
     "duration": 0.033441,
     "end_time": "2024-05-19T08:38:34.353770",
     "exception": false,
     "start_time": "2024-05-19T08:38:34.320329",
     "status": "completed"
    },
    "tags": []
   },
   "outputs": [],
   "source": [
    "# y_pred = clf.predict(X_test)"
   ]
  },
  {
   "cell_type": "code",
   "execution_count": 75,
   "id": "6ecca6be",
   "metadata": {
    "execution": {
     "iopub.execute_input": "2024-05-19T08:38:34.406870Z",
     "iopub.status.busy": "2024-05-19T08:38:34.406233Z",
     "iopub.status.idle": "2024-05-19T08:38:43.893886Z",
     "shell.execute_reply": "2024-05-19T08:38:43.892970Z"
    },
    "papermill": {
     "duration": 9.517258,
     "end_time": "2024-05-19T08:38:43.896740",
     "exception": false,
     "start_time": "2024-05-19T08:38:34.379482",
     "status": "completed"
    },
    "tags": []
   },
   "outputs": [],
   "source": [
    "\n",
    "cleaned_train_df.to_csv('cleanedTrain.csv',index=False)"
   ]
  }
 ],
 "metadata": {
  "kaggle": {
   "accelerator": "none",
   "dataSources": [
    {
     "databundleVersionId": 8564874,
     "sourceId": 78060,
     "sourceType": "competition"
    }
   ],
   "dockerImageVersionId": 30698,
   "isGpuEnabled": false,
   "isInternetEnabled": false,
   "language": "python",
   "sourceType": "notebook"
  },
  "kernelspec": {
   "display_name": "Python 3",
   "language": "python",
   "name": "python3"
  },
  "language_info": {
   "codemirror_mode": {
    "name": "ipython",
    "version": 3
   },
   "file_extension": ".py",
   "mimetype": "text/x-python",
   "name": "python",
   "nbconvert_exporter": "python",
   "pygments_lexer": "ipython3",
   "version": "3.10.13"
  },
  "papermill": {
   "default_parameters": {},
   "duration": 28.389977,
   "end_time": "2024-05-19T08:38:44.442522",
   "environment_variables": {},
   "exception": null,
   "input_path": "__notebook__.ipynb",
   "output_path": "__notebook__.ipynb",
   "parameters": {},
   "start_time": "2024-05-19T08:38:16.052545",
   "version": "2.5.0"
  }
 },
 "nbformat": 4,
 "nbformat_minor": 5
}
