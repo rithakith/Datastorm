{
 "cells": [
  {
   "cell_type": "code",
   "execution_count": 1,
   "id": "aabc00bc",
   "metadata": {
    "_cell_guid": "b1076dfc-b9ad-4769-8c92-a6c4dae69d19",
    "_uuid": "8f2839f25d086af736a60e9eeb907d3b93b6e0e5",
    "execution": {
     "iopub.execute_input": "2024-05-19T08:38:59.855292Z",
     "iopub.status.busy": "2024-05-19T08:38:59.854526Z",
     "iopub.status.idle": "2024-05-19T08:39:02.492240Z",
     "shell.execute_reply": "2024-05-19T08:39:02.491065Z"
    },
    "papermill": {
     "duration": 2.671716,
     "end_time": "2024-05-19T08:39:02.494823",
     "exception": false,
     "start_time": "2024-05-19T08:38:59.823107",
     "status": "completed"
    },
    "tags": []
   },
   "outputs": [
    {
     "name": "stdout",
     "output_type": "stream",
     "text": [
      "/kaggle/input/data-storm-5-0/train_kaggle.csv\n",
      "/kaggle/input/data-storm-5-0/test_kaggle.csv\n"
     ]
    }
   ],
   "source": [
    "# This Python 3 environment comes with many helpful analytics libraries installed\n",
    "# It is defined by the kaggle/python Docker image: https://github.com/kaggle/docker-python\n",
    "# For example, here's several helpful packages to load\n",
    "\n",
    "import numpy as np # linear algebra\n",
    "import pandas as pd # data processing, CSV file I/O (e.g. pd.read_csv)\n",
    "from sklearn.preprocessing import LabelEncoder\n",
    "from sklearn.ensemble import RandomForestClassifier\n",
    "from sklearn.metrics import accuracy_score,classification_report\n",
    "from sklearn.preprocessing import StandardScaler\n",
    "\n",
    "\n",
    "# Input data files are available in the read-only \"../input/\" directory\n",
    "# For example, running this (by clicking run or pressing Shift+Enter) will list all files under the input directory\n",
    "\n",
    "import os\n",
    "for dirname, _, filenames in os.walk('/kaggle/input'):\n",
    "    for filename in filenames:\n",
    "        print(os.path.join(dirname, filename))\n",
    "\n",
    "# You can write up to 20GB to the current directory (/kaggle/working/) that gets preserved as output when you create a version using \"Save & Run All\" \n",
    "# You can also write temporary files to /kaggle/temp/, but they won't be saved outside of the current session"
   ]
  },
  {
   "cell_type": "code",
   "execution_count": 2,
   "id": "4fe60e96",
   "metadata": {
    "execution": {
     "iopub.execute_input": "2024-05-19T08:39:02.536737Z",
     "iopub.status.busy": "2024-05-19T08:39:02.536179Z",
     "iopub.status.idle": "2024-05-19T08:39:04.277111Z",
     "shell.execute_reply": "2024-05-19T08:39:04.276013Z"
    },
    "papermill": {
     "duration": 1.763908,
     "end_time": "2024-05-19T08:39:04.279561",
     "exception": false,
     "start_time": "2024-05-19T08:39:02.515653",
     "status": "completed"
    },
    "tags": []
   },
   "outputs": [
    {
     "name": "stderr",
     "output_type": "stream",
     "text": [
      "/tmp/ipykernel_18/2988013644.py:1: DtypeWarning: Columns (3,4,5) have mixed types. Specify dtype option on import or set low_memory=False.\n",
      "  train_df = pd.read_csv(\"/kaggle/input/data-storm-5-0/train_kaggle.csv\")\n"
     ]
    },
    {
     "data": {
      "text/html": [
       "<div>\n",
       "<style scoped>\n",
       "    .dataframe tbody tr th:only-of-type {\n",
       "        vertical-align: middle;\n",
       "    }\n",
       "\n",
       "    .dataframe tbody tr th {\n",
       "        vertical-align: top;\n",
       "    }\n",
       "\n",
       "    .dataframe thead th {\n",
       "        text-align: right;\n",
       "    }\n",
       "</style>\n",
       "<table border=\"1\" class=\"dataframe\">\n",
       "  <thead>\n",
       "    <tr style=\"text-align: right;\">\n",
       "      <th></th>\n",
       "      <th>Customer_ID</th>\n",
       "      <th>outlet_city</th>\n",
       "      <th>luxury_sales</th>\n",
       "      <th>fresh_sales</th>\n",
       "      <th>dry_sales</th>\n",
       "    </tr>\n",
       "  </thead>\n",
       "  <tbody>\n",
       "    <tr>\n",
       "      <th>0</th>\n",
       "      <td>33574</td>\n",
       "      <td>batticaloa</td>\n",
       "      <td>2686.5</td>\n",
       "      <td>3582</td>\n",
       "      <td>12537</td>\n",
       "    </tr>\n",
       "    <tr>\n",
       "      <th>1</th>\n",
       "      <td>10089</td>\n",
       "      <td>batticaloa</td>\n",
       "      <td>1717.56</td>\n",
       "      <td>2576.34</td>\n",
       "      <td>9446.58</td>\n",
       "    </tr>\n",
       "    <tr>\n",
       "      <th>2</th>\n",
       "      <td>38329</td>\n",
       "      <td>batticaloa</td>\n",
       "      <td>854.04</td>\n",
       "      <td>1242.24</td>\n",
       "      <td>5201.88</td>\n",
       "    </tr>\n",
       "    <tr>\n",
       "      <th>3</th>\n",
       "      <td>11376</td>\n",
       "      <td>batticaloa</td>\n",
       "      <td>1638.12</td>\n",
       "      <td>2320.67</td>\n",
       "      <td>9282.68</td>\n",
       "    </tr>\n",
       "    <tr>\n",
       "      <th>4</th>\n",
       "      <td>12410</td>\n",
       "      <td>batticaloa</td>\n",
       "      <td>1039.09</td>\n",
       "      <td>1518.67</td>\n",
       "      <td>5435.24</td>\n",
       "    </tr>\n",
       "  </tbody>\n",
       "</table>\n",
       "</div>"
      ],
      "text/plain": [
       "   Customer_ID outlet_city luxury_sales fresh_sales dry_sales\n",
       "0        33574  batticaloa       2686.5        3582     12537\n",
       "1        10089  batticaloa      1717.56     2576.34   9446.58\n",
       "2        38329  batticaloa       854.04     1242.24   5201.88\n",
       "3        11376  batticaloa      1638.12     2320.67   9282.68\n",
       "4        12410  batticaloa      1039.09     1518.67   5435.24"
      ]
     },
     "execution_count": 2,
     "metadata": {},
     "output_type": "execute_result"
    }
   ],
   "source": [
    "train_df = pd.read_csv(\"/kaggle/input/data-storm-5-0/train_kaggle.csv\")\n",
    "test_df = pd.read_csv(\"/kaggle/input/data-storm-5-0/test_kaggle.csv\")\n",
    "test_df.head()"
   ]
  },
  {
   "cell_type": "code",
   "execution_count": 3,
   "id": "0ae6920c",
   "metadata": {
    "execution": {
     "iopub.execute_input": "2024-05-19T08:39:04.320873Z",
     "iopub.status.busy": "2024-05-19T08:39:04.320474Z",
     "iopub.status.idle": "2024-05-19T08:39:05.620968Z",
     "shell.execute_reply": "2024-05-19T08:39:05.619606Z"
    },
    "papermill": {
     "duration": 1.323832,
     "end_time": "2024-05-19T08:39:05.623444",
     "exception": false,
     "start_time": "2024-05-19T08:39:04.299612",
     "status": "completed"
    },
    "tags": []
   },
   "outputs": [
    {
     "name": "stderr",
     "output_type": "stream",
     "text": [
      "/tmp/ipykernel_18/398655442.py:1: DtypeWarning: Columns (3,4,5) have mixed types. Specify dtype option on import or set low_memory=False.\n",
      "  train_df = pd.read_csv(\"/kaggle/input/data-storm-5-0/train_kaggle.csv\")\n"
     ]
    }
   ],
   "source": [
    "train_df = pd.read_csv(\"/kaggle/input/data-storm-5-0/train_kaggle.csv\")\n"
   ]
  },
  {
   "cell_type": "code",
   "execution_count": 4,
   "id": "fb178069",
   "metadata": {
    "execution": {
     "iopub.execute_input": "2024-05-19T08:39:05.664695Z",
     "iopub.status.busy": "2024-05-19T08:39:05.663763Z",
     "iopub.status.idle": "2024-05-19T08:39:05.747274Z",
     "shell.execute_reply": "2024-05-19T08:39:05.746356Z"
    },
    "papermill": {
     "duration": 0.106391,
     "end_time": "2024-05-19T08:39:05.749367",
     "exception": false,
     "start_time": "2024-05-19T08:39:05.642976",
     "status": "completed"
    },
    "tags": []
   },
   "outputs": [
    {
     "data": {
      "text/html": [
       "<div>\n",
       "<style scoped>\n",
       "    .dataframe tbody tr th:only-of-type {\n",
       "        vertical-align: middle;\n",
       "    }\n",
       "\n",
       "    .dataframe tbody tr th {\n",
       "        vertical-align: top;\n",
       "    }\n",
       "\n",
       "    .dataframe thead th {\n",
       "        text-align: right;\n",
       "    }\n",
       "</style>\n",
       "<table border=\"1\" class=\"dataframe\">\n",
       "  <thead>\n",
       "    <tr style=\"text-align: right;\">\n",
       "      <th></th>\n",
       "      <th>Customer_ID</th>\n",
       "      <th>outlet_city</th>\n",
       "      <th>luxury_sales</th>\n",
       "      <th>fresh_sales</th>\n",
       "      <th>dry_sales</th>\n",
       "    </tr>\n",
       "  </thead>\n",
       "  <tbody>\n",
       "    <tr>\n",
       "      <th>0</th>\n",
       "      <td>33574</td>\n",
       "      <td>batticaloa</td>\n",
       "      <td>2686.5</td>\n",
       "      <td>3582</td>\n",
       "      <td>12537</td>\n",
       "    </tr>\n",
       "    <tr>\n",
       "      <th>1</th>\n",
       "      <td>10089</td>\n",
       "      <td>batticaloa</td>\n",
       "      <td>1717.56</td>\n",
       "      <td>2576.34</td>\n",
       "      <td>9446.58</td>\n",
       "    </tr>\n",
       "    <tr>\n",
       "      <th>2</th>\n",
       "      <td>38329</td>\n",
       "      <td>batticaloa</td>\n",
       "      <td>854.04</td>\n",
       "      <td>1242.24</td>\n",
       "      <td>5201.88</td>\n",
       "    </tr>\n",
       "    <tr>\n",
       "      <th>3</th>\n",
       "      <td>11376</td>\n",
       "      <td>batticaloa</td>\n",
       "      <td>1638.12</td>\n",
       "      <td>2320.67</td>\n",
       "      <td>9282.68</td>\n",
       "    </tr>\n",
       "    <tr>\n",
       "      <th>4</th>\n",
       "      <td>12410</td>\n",
       "      <td>batticaloa</td>\n",
       "      <td>1039.09</td>\n",
       "      <td>1518.67</td>\n",
       "      <td>5435.24</td>\n",
       "    </tr>\n",
       "  </tbody>\n",
       "</table>\n",
       "</div>"
      ],
      "text/plain": [
       "   Customer_ID outlet_city luxury_sales fresh_sales dry_sales\n",
       "0        33574  batticaloa       2686.5        3582     12537\n",
       "1        10089  batticaloa      1717.56     2576.34   9446.58\n",
       "2        38329  batticaloa       854.04     1242.24   5201.88\n",
       "3        11376  batticaloa      1638.12     2320.67   9282.68\n",
       "4        12410  batticaloa      1039.09     1518.67   5435.24"
      ]
     },
     "execution_count": 4,
     "metadata": {},
     "output_type": "execute_result"
    }
   ],
   "source": [
    "test_df = pd.read_csv(\"/kaggle/input/data-storm-5-0/test_kaggle.csv\")\n",
    "test_df.head()"
   ]
  },
  {
   "cell_type": "markdown",
   "id": "1eacebb3",
   "metadata": {
    "papermill": {
     "duration": 0.019329,
     "end_time": "2024-05-19T08:39:05.788558",
     "exception": false,
     "start_time": "2024-05-19T08:39:05.769229",
     "status": "completed"
    },
    "tags": []
   },
   "source": [
    "# Convert dry_sales"
   ]
  },
  {
   "cell_type": "code",
   "execution_count": 5,
   "id": "d6a5def0",
   "metadata": {
    "execution": {
     "iopub.execute_input": "2024-05-19T08:39:05.829462Z",
     "iopub.status.busy": "2024-05-19T08:39:05.829045Z",
     "iopub.status.idle": "2024-05-19T08:39:06.026436Z",
     "shell.execute_reply": "2024-05-19T08:39:06.024852Z"
    },
    "papermill": {
     "duration": 0.221222,
     "end_time": "2024-05-19T08:39:06.029493",
     "exception": false,
     "start_time": "2024-05-19T08:39:05.808271",
     "status": "completed"
    },
    "tags": []
   },
   "outputs": [
    {
     "name": "stdout",
     "output_type": "stream",
     "text": [
      "        Customer_ID                              dry_sales\n",
      "4929     10414692.0                                    NaN\n",
      "78400    10504943.0                                    NaN\n",
      "148029   10190107.0  Four thousand and two hundread ruppes\n",
      "174631   10273730.0                                    nul\n",
      "174720   10039004.0                                    nul\n",
      "175278   10347733.0                                    nul\n",
      "268571   10047014.0                                    nul\n",
      "296621   10215937.0                                    nul\n",
      "327168   10649653.0                                    NaN\n",
      "327169   10737280.0                                    NaN\n",
      "327170   10010850.0                                    NaN\n",
      "327171   10347930.0                                    NaN\n",
      "327172   10351890.0                                    NaN\n",
      "327173   10025449.0                                    NaN\n",
      "327174   10638161.0                                    NaN\n",
      "327495   10099173.0                                    nul\n",
      "327505   10312003.0                                    nul\n",
      "329931   10540582.0                                    NaN\n",
      "345090   10186598.0                                    NaN\n",
      "345091   10215208.0                                    NaN\n",
      "345092   10530946.0                                    NaN\n",
      "353317   10659375.0                                    NaN\n",
      "496135   10501123.0                                    NaN\n",
      "497003   10367366.0                                    NaN\n",
      "497464   10155270.0                                    NaN\n",
      "497583   10234709.0                                    NaN\n",
      "497597   10345956.0                                    NaN\n",
      "554998   10420777.0                                    NaN\n",
      "555305   10224685.0                                    NaN\n",
      "555469   10692500.0                                    NaN\n",
      "555536   10092366.0                                    NaN\n",
      "555604   10063564.0                                    NaN\n",
      "753448   10460776.0                                    NaN\n",
      "753449   10396264.0                                    NaN\n",
      "753450   10178858.0                                    NaN\n",
      "753696   10090034.0                                    NaN\n",
      "754306   10726566.0                                    NaN\n",
      "774147   10493702.0                                    NaN\n"
     ]
    }
   ],
   "source": [
    "# Convert 'dry_sales' column to numeric, coerce errors to NaN\n",
    "train_df['dry_sales_numeric'] = pd.to_numeric(train_df['dry_sales'], errors='coerce')\n",
    "\n",
    "# Find rows where 'dry_sales' could not be converted to numeric\n",
    "invalid_rows = train_df[train_df['dry_sales_numeric'].isna()]\n",
    "\n",
    "# Display rows with invalid 'dry_sales' values\n",
    "print(invalid_rows[['Customer_ID', 'dry_sales']])\n"
   ]
  },
  {
   "cell_type": "code",
   "execution_count": 6,
   "id": "d840f629",
   "metadata": {
    "execution": {
     "iopub.execute_input": "2024-05-19T08:39:06.072944Z",
     "iopub.status.busy": "2024-05-19T08:39:06.072574Z",
     "iopub.status.idle": "2024-05-19T08:39:06.089610Z",
     "shell.execute_reply": "2024-05-19T08:39:06.088691Z"
    },
    "papermill": {
     "duration": 0.041837,
     "end_time": "2024-05-19T08:39:06.091855",
     "exception": false,
     "start_time": "2024-05-19T08:39:06.050018",
     "status": "completed"
    },
    "tags": []
   },
   "outputs": [
    {
     "name": "stdout",
     "output_type": "stream",
     "text": [
      "        Customer_ID             outlet_city luxury_sales fresh_sales  \\\n",
      "148029   10190107.0  Dehiwala-Mount Lavinia        931.5       931.5   \n",
      "\n",
      "       dry_sales cluster_catgeory  dry_sales_numeric  \n",
      "148029      4200                4                NaN  \n"
     ]
    }
   ],
   "source": [
    "# Locate the row with Customer_ID 10604532 and change the value of cluster_catgeory to 6\n",
    "train_df.loc[train_df['Customer_ID'] == 10190107, 'dry_sales'] = 4200\n",
    "\n",
    "# Verify the change\n",
    "print(train_df[train_df['Customer_ID'] == 10190107])\n"
   ]
  },
  {
   "cell_type": "markdown",
   "id": "dcdf0dc0",
   "metadata": {
    "papermill": {
     "duration": 0.019768,
     "end_time": "2024-05-19T08:39:06.132779",
     "exception": false,
     "start_time": "2024-05-19T08:39:06.113011",
     "status": "completed"
    },
    "tags": []
   },
   "source": [
    "# Convert fresh_sales"
   ]
  },
  {
   "cell_type": "code",
   "execution_count": 7,
   "id": "9db9f01f",
   "metadata": {
    "execution": {
     "iopub.execute_input": "2024-05-19T08:39:06.174465Z",
     "iopub.status.busy": "2024-05-19T08:39:06.173768Z",
     "iopub.status.idle": "2024-05-19T08:39:06.436277Z",
     "shell.execute_reply": "2024-05-19T08:39:06.435213Z"
    },
    "papermill": {
     "duration": 0.286496,
     "end_time": "2024-05-19T08:39:06.438921",
     "exception": false,
     "start_time": "2024-05-19T08:39:06.152425",
     "status": "completed"
    },
    "tags": []
   },
   "outputs": [
    {
     "name": "stdout",
     "output_type": "stream",
     "text": [
      "        Customer_ID                          fresh_sales\n",
      "4326     10531406.0                                  NaN\n",
      "4327     10311229.0                                  NaN\n",
      "4333     10361798.0                                  NaN\n",
      "4929     10414692.0                                  NaN\n",
      "5379     10600529.0                                  NaN\n",
      "5403     10484539.0                                  NaN\n",
      "5408     10321643.0                                  NaN\n",
      "78367    10424117.0                                  NaN\n",
      "78380    10343473.0                                  NaN\n",
      "78400    10504943.0                                  NaN\n",
      "161810   10261075.0         Six hundread and five ruppes\n",
      "174714   10358037.0                                  nul\n",
      "268571   10047014.0                                  nul\n",
      "326334   10006007.0     Three thousana and five hundread\n",
      "326763   10301959.0                                  NaN\n",
      "326764   10671014.0                                  NaN\n",
      "326765   10687830.0                                  NaN\n",
      "327495   10099173.0                                  nul\n",
      "327505   10312003.0                                  nul\n",
      "329931   10540582.0                                  NaN\n",
      "352298   10703170.0                                  NaN\n",
      "352658   10418309.0                                  NaN\n",
      "354153   10210509.0                                  NaN\n",
      "496138   10559183.0                                  NaN\n",
      "497003   10367366.0                                  NaN\n",
      "497445   10168166.0                                  NaN\n",
      "497446   10545713.0                                  NaN\n",
      "497447   10624363.0                                  NaN\n",
      "497598   10570526.0                                  NaN\n",
      "555470   10403312.0                                  NaN\n",
      "555607   10488405.0                                  NaN\n",
      "555764   10335139.0                                  NaN\n",
      "558897   10314616.0             thirteen thousand ruppes\n",
      "628150   10608125.0                                  NaN\n",
      "695316   10028364.0                                  NaN\n",
      "722329   10119144.0                                  NaN\n",
      "723874   10387271.0                                  NaN\n",
      "724767   10549421.0                                  NaN\n",
      "724768   10092521.0                                  NaN\n",
      "724769   10477511.0                                  NaN\n",
      "752560   10328899.0                                  NaN\n",
      "752816   10369123.0                 Five thousand ruppes\n",
      "753256   10369199.0  Two thousand seven hundread ruppess\n",
      "753378   10390803.0                                  NaN\n",
      "753379   10199267.0                                  NaN\n",
      "753380   10698117.0                                  NaN\n",
      "753454   10668547.0                                  NaN\n",
      "753696   10090034.0                                  NaN\n",
      "754304   10006333.0                                  NaN\n",
      "765777   10499622.0                                  NaN\n"
     ]
    }
   ],
   "source": [
    "# Convert 'dry_sales' column to numeric, coerce errors to NaN\n",
    "train_df['fresh_sales_numeric'] = pd.to_numeric(train_df['fresh_sales'], errors='coerce')\n",
    "\n",
    "# Find rows where 'dry_sales' could not be converted to numeric\n",
    "invalid_rows = train_df[train_df['fresh_sales_numeric'].isna()]\n",
    "\n",
    "# Display rows with invalid 'dry_sales' values\n",
    "print(invalid_rows[['Customer_ID', 'fresh_sales']])\n"
   ]
  },
  {
   "cell_type": "code",
   "execution_count": 8,
   "id": "12dea32c",
   "metadata": {
    "execution": {
     "iopub.execute_input": "2024-05-19T08:39:06.494167Z",
     "iopub.status.busy": "2024-05-19T08:39:06.493652Z",
     "iopub.status.idle": "2024-05-19T08:39:06.517189Z",
     "shell.execute_reply": "2024-05-19T08:39:06.515276Z"
    },
    "papermill": {
     "duration": 0.056799,
     "end_time": "2024-05-19T08:39:06.519719",
     "exception": false,
     "start_time": "2024-05-19T08:39:06.462920",
     "status": "completed"
    },
    "tags": []
   },
   "outputs": [
    {
     "name": "stdout",
     "output_type": "stream",
     "text": [
      "        Customer_ID outlet_city luxury_sales fresh_sales dry_sales  \\\n",
      "326334   10006007.0    Kaduwela       758.52        3500   1029.42   \n",
      "\n",
      "       cluster_catgeory  dry_sales_numeric  fresh_sales_numeric  \n",
      "326334                2            1029.42                  NaN  \n"
     ]
    }
   ],
   "source": [
    "# Locate the row with Customer_ID 10604532 and change the value of cluster_catgeory to 6\n",
    "train_df.loc[train_df['Customer_ID'] == 10006007.0 , 'fresh_sales'] = 3500\n",
    "\n",
    "# Verify the change\n",
    "print(train_df[train_df['Customer_ID'] == 10006007.0 ])\n"
   ]
  },
  {
   "cell_type": "code",
   "execution_count": 9,
   "id": "daf8427d",
   "metadata": {
    "execution": {
     "iopub.execute_input": "2024-05-19T08:39:06.622106Z",
     "iopub.status.busy": "2024-05-19T08:39:06.621479Z",
     "iopub.status.idle": "2024-05-19T08:39:06.639824Z",
     "shell.execute_reply": "2024-05-19T08:39:06.638837Z"
    },
    "papermill": {
     "duration": 0.042145,
     "end_time": "2024-05-19T08:39:06.642099",
     "exception": false,
     "start_time": "2024-05-19T08:39:06.599954",
     "status": "completed"
    },
    "tags": []
   },
   "outputs": [
    {
     "name": "stdout",
     "output_type": "stream",
     "text": [
      "        Customer_ID outlet_city luxury_sales fresh_sales dry_sales  \\\n",
      "558897   10314616.0  Batticaloa      3027.36       13000   2081.31   \n",
      "\n",
      "       cluster_catgeory  dry_sales_numeric  fresh_sales_numeric  \n",
      "558897              6.0            2081.31                  NaN  \n"
     ]
    }
   ],
   "source": [
    "# Locate the row with Customer_ID 10604532 and change the value of cluster_catgeory to 6\n",
    "train_df.loc[train_df['Customer_ID'] == 10314616.0  , 'fresh_sales'] = 13000\n",
    "\n",
    "# Verify the change\n",
    "print(train_df[train_df['Customer_ID'] == 10314616.0  ])\n"
   ]
  },
  {
   "cell_type": "code",
   "execution_count": 10,
   "id": "655c1140",
   "metadata": {
    "execution": {
     "iopub.execute_input": "2024-05-19T08:39:06.685222Z",
     "iopub.status.busy": "2024-05-19T08:39:06.684590Z",
     "iopub.status.idle": "2024-05-19T08:39:06.703171Z",
     "shell.execute_reply": "2024-05-19T08:39:06.701979Z"
    },
    "papermill": {
     "duration": 0.043166,
     "end_time": "2024-05-19T08:39:06.705718",
     "exception": false,
     "start_time": "2024-05-19T08:39:06.662552",
     "status": "completed"
    },
    "tags": []
   },
   "outputs": [
    {
     "name": "stdout",
     "output_type": "stream",
     "text": [
      "        Customer_ID  outlet_city luxury_sales fresh_sales dry_sales  \\\n",
      "752816   10369123.0  Trincomalee      5501.57        5000   5679.04   \n",
      "\n",
      "       cluster_catgeory  dry_sales_numeric  fresh_sales_numeric  \n",
      "752816                3            5679.04                  NaN  \n"
     ]
    }
   ],
   "source": [
    "# Locate the row with Customer_ID 10604532 and change the value of cluster_catgeory to 6\n",
    "train_df.loc[train_df['Customer_ID'] == 10369123.0  , 'fresh_sales'] = 5000\n",
    "\n",
    "# Verify the change\n",
    "print(train_df[train_df['Customer_ID'] == 10369123.0  ])\n"
   ]
  },
  {
   "cell_type": "code",
   "execution_count": 11,
   "id": "886bef8f",
   "metadata": {
    "execution": {
     "iopub.execute_input": "2024-05-19T08:39:06.754908Z",
     "iopub.status.busy": "2024-05-19T08:39:06.753995Z",
     "iopub.status.idle": "2024-05-19T08:39:06.773347Z",
     "shell.execute_reply": "2024-05-19T08:39:06.772191Z"
    },
    "papermill": {
     "duration": 0.049888,
     "end_time": "2024-05-19T08:39:06.776299",
     "exception": false,
     "start_time": "2024-05-19T08:39:06.726411",
     "status": "completed"
    },
    "tags": []
   },
   "outputs": [
    {
     "name": "stdout",
     "output_type": "stream",
     "text": [
      "        Customer_ID outlet_city luxury_sales fresh_sales dry_sales  \\\n",
      "161810   10261075.0    Panadura       887.36         605    3604.9   \n",
      "\n",
      "       cluster_catgeory  dry_sales_numeric  fresh_sales_numeric  \n",
      "161810                4             3604.9                  NaN  \n"
     ]
    }
   ],
   "source": [
    "# Locate the row with Customer_ID 10604532 and change the value of cluster_catgeory to 6\n",
    "train_df.loc[train_df['Customer_ID'] == 10261075.0 , 'fresh_sales'] = 605\n",
    "\n",
    "# Verify the change\n",
    "print(train_df[train_df['Customer_ID'] == 10261075.0 ])"
   ]
  },
  {
   "cell_type": "code",
   "execution_count": 12,
   "id": "e00a991a",
   "metadata": {
    "execution": {
     "iopub.execute_input": "2024-05-19T08:39:06.825407Z",
     "iopub.status.busy": "2024-05-19T08:39:06.824899Z",
     "iopub.status.idle": "2024-05-19T08:39:06.844380Z",
     "shell.execute_reply": "2024-05-19T08:39:06.843148Z"
    },
    "papermill": {
     "duration": 0.04425,
     "end_time": "2024-05-19T08:39:06.846678",
     "exception": false,
     "start_time": "2024-05-19T08:39:06.802428",
     "status": "completed"
    },
    "tags": []
   },
   "outputs": [
    {
     "name": "stdout",
     "output_type": "stream",
     "text": [
      "        Customer_ID outlet_city luxury_sales fresh_sales dry_sales  \\\n",
      "753256   10369199.0     Colombo       2692.8        2700    2861.1   \n",
      "\n",
      "       cluster_catgeory  dry_sales_numeric  fresh_sales_numeric  \n",
      "753256                1             2861.1                  NaN  \n"
     ]
    }
   ],
   "source": [
    "train_df.loc[train_df['Customer_ID'] == 10369199, 'fresh_sales'] = 2700\n",
    "\n",
    "# Verify the change\n",
    "print(train_df[train_df['Customer_ID'] == 10369199])"
   ]
  },
  {
   "cell_type": "code",
   "execution_count": 13,
   "id": "99e3a482",
   "metadata": {
    "execution": {
     "iopub.execute_input": "2024-05-19T08:39:06.889691Z",
     "iopub.status.busy": "2024-05-19T08:39:06.889308Z",
     "iopub.status.idle": "2024-05-19T08:39:06.907856Z",
     "shell.execute_reply": "2024-05-19T08:39:06.906844Z"
    },
    "papermill": {
     "duration": 0.042556,
     "end_time": "2024-05-19T08:39:06.910017",
     "exception": false,
     "start_time": "2024-05-19T08:39:06.867461",
     "status": "completed"
    },
    "tags": []
   },
   "outputs": [
    {
     "name": "stdout",
     "output_type": "stream",
     "text": [
      "        Customer_ID outlet_city luxury_sales fresh_sales dry_sales  \\\n",
      "753256   10369199.0     Colombo       2692.8        2700    2861.1   \n",
      "\n",
      "       cluster_catgeory  dry_sales_numeric  fresh_sales_numeric  \n",
      "753256                1             2861.1                  NaN  \n"
     ]
    }
   ],
   "source": [
    "train_df.loc[train_df['Customer_ID'] == 10369199, 'fresh_sales'] = 2700\n",
    "\n",
    "# Verify the change\n",
    "print(train_df[train_df['Customer_ID'] == 10369199])"
   ]
  },
  {
   "cell_type": "markdown",
   "id": "a5b4ba6c",
   "metadata": {
    "papermill": {
     "duration": 0.020429,
     "end_time": "2024-05-19T08:39:06.951330",
     "exception": false,
     "start_time": "2024-05-19T08:39:06.930901",
     "status": "completed"
    },
    "tags": []
   },
   "source": [
    "# Convert luxury_values"
   ]
  },
  {
   "cell_type": "code",
   "execution_count": 14,
   "id": "80782677",
   "metadata": {
    "execution": {
     "iopub.execute_input": "2024-05-19T08:39:06.996069Z",
     "iopub.status.busy": "2024-05-19T08:39:06.995654Z",
     "iopub.status.idle": "2024-05-19T08:39:07.349061Z",
     "shell.execute_reply": "2024-05-19T08:39:07.347259Z"
    },
    "papermill": {
     "duration": 0.37874,
     "end_time": "2024-05-19T08:39:07.351622",
     "exception": false,
     "start_time": "2024-05-19T08:39:06.972882",
     "status": "completed"
    },
    "tags": []
   },
   "outputs": [
    {
     "name": "stdout",
     "output_type": "stream",
     "text": [
      "        Customer_ID                         luxury_sales\n",
      "4234     10101878.0                                  NaN\n",
      "4333     10361798.0                                  NaN\n",
      "5375     10556752.0                                  NaN\n",
      "5408     10321643.0                                  NaN\n",
      "78367    10424117.0                                  NaN\n",
      "78380    10343473.0                                  NaN\n",
      "80043    10774052.0    One thousand four hundread ruppes\n",
      "174628   10207785.0                                  NaN\n",
      "175278   10347733.0                                  nul\n",
      "296621   10215937.0                                  nul\n",
      "297911   10189925.0               Eight hundread ruppess\n",
      "326593   10467590.0              six hundread and hirty \n",
      "327258   10615996.0                                  NaN\n",
      "327259   10346205.0                                  NaN\n",
      "327260   10722463.0                                  NaN\n",
      "327261   10221069.0                                  NaN\n",
      "329847   10328520.0                                  NaN\n",
      "329848   10155003.0                                  NaN\n",
      "329849   10600486.0                                  NaN\n",
      "352298   10703170.0                                  NaN\n",
      "352662   10638607.0                                  NaN\n",
      "352663   10223839.0                                  NaN\n",
      "352664   10418282.0                                  NaN\n",
      "367935   10445384.0                                  nul\n",
      "496140   10616379.0                                  NaN\n",
      "497177   10537755.0               Thousand tow hundread \n",
      "497245   10468127.0      seven hundread and nine ruppees\n",
      "497485   10751852.0                                  NaN\n",
      "554998   10420777.0                                  NaN\n",
      "555305   10224685.0                                  NaN\n",
      "555469   10692500.0                                  NaN\n",
      "555573   10294701.0                                  NaN\n",
      "555610   10262970.0                                  NaN\n",
      "555764   10335139.0                                  NaN\n",
      "558562   10076064.0  Three thousand two hundread ruppess\n",
      "722325   10109635.0                                  NaN\n",
      "723874   10387271.0                                  NaN\n",
      "752560   10328899.0                                  NaN\n",
      "753131   10695296.0   Four thousand one hundread ruppess\n",
      "753275   10680540.0                                  NaN\n",
      "753276   10634600.0                                  NaN\n",
      "753277   10140621.0                                  NaN\n",
      "753278   10659621.0                                  NaN\n",
      "753454   10668547.0                                  NaN\n",
      "755630   10537627.0                                  NaN\n"
     ]
    }
   ],
   "source": [
    "# Convert 'dry_sales' column to numeric, coerce errors to NaN\n",
    "train_df['luxury_sales_numeric'] = pd.to_numeric(train_df['luxury_sales'], errors='coerce')\n",
    "\n",
    "# Find rows where 'dry_sales' could not be converted to numeric\n",
    "invalid_rows = train_df[train_df['luxury_sales_numeric'].isna()]\n",
    "\n",
    "# Display rows with invalid 'dry_sales' values\n",
    "print(invalid_rows[['Customer_ID', 'luxury_sales']])\n"
   ]
  },
  {
   "cell_type": "code",
   "execution_count": 15,
   "id": "bec77996",
   "metadata": {
    "execution": {
     "iopub.execute_input": "2024-05-19T08:39:07.398069Z",
     "iopub.status.busy": "2024-05-19T08:39:07.397181Z",
     "iopub.status.idle": "2024-05-19T08:39:07.417226Z",
     "shell.execute_reply": "2024-05-19T08:39:07.415830Z"
    },
    "papermill": {
     "duration": 0.046298,
     "end_time": "2024-05-19T08:39:07.419717",
     "exception": false,
     "start_time": "2024-05-19T08:39:07.373419",
     "status": "completed"
    },
    "tags": []
   },
   "outputs": [
    {
     "name": "stdout",
     "output_type": "stream",
     "text": [
      "       Customer_ID outlet_city luxury_sales fresh_sales dry_sales  \\\n",
      "80043   10774052.0    Kelaniya         1400      1118.0    5934.0   \n",
      "\n",
      "      cluster_catgeory  dry_sales_numeric  fresh_sales_numeric  \\\n",
      "80043                4             5934.0               1118.0   \n",
      "\n",
      "       luxury_sales_numeric  \n",
      "80043                   NaN  \n"
     ]
    }
   ],
   "source": [
    "# Locate the row with Customer_ID 10604532 and change the value of cluster_catgeory to 6\n",
    "train_df.loc[train_df['Customer_ID'] == 10774052.0 , 'luxury_sales'] = 1400\n",
    "\n",
    "# Verify the change\n",
    "print(train_df[train_df['Customer_ID'] == 10774052.0 ])"
   ]
  },
  {
   "cell_type": "code",
   "execution_count": 16,
   "id": "0e04e937",
   "metadata": {
    "execution": {
     "iopub.execute_input": "2024-05-19T08:39:07.464205Z",
     "iopub.status.busy": "2024-05-19T08:39:07.463534Z",
     "iopub.status.idle": "2024-05-19T08:39:07.482986Z",
     "shell.execute_reply": "2024-05-19T08:39:07.481592Z"
    },
    "papermill": {
     "duration": 0.044825,
     "end_time": "2024-05-19T08:39:07.485549",
     "exception": false,
     "start_time": "2024-05-19T08:39:07.440724",
     "status": "completed"
    },
    "tags": []
   },
   "outputs": [
    {
     "name": "stdout",
     "output_type": "stream",
     "text": [
      "        Customer_ID outlet_city luxury_sales fresh_sales dry_sales  \\\n",
      "297911   10189925.0    Kelaniya          800     4003.84   1059.84   \n",
      "\n",
      "       cluster_catgeory  dry_sales_numeric  fresh_sales_numeric  \\\n",
      "297911                2            1059.84              4003.84   \n",
      "\n",
      "        luxury_sales_numeric  \n",
      "297911                   NaN  \n"
     ]
    }
   ],
   "source": [
    "# Locate the row with Customer_ID 10604532 and change the value of cluster_catgeory to 6\n",
    "train_df.loc[train_df['Customer_ID'] == 10189925.0 , 'luxury_sales'] = 800\n",
    "\n",
    "# Verify the change\n",
    "print(train_df[train_df['Customer_ID'] == 10189925.0])"
   ]
  },
  {
   "cell_type": "code",
   "execution_count": 17,
   "id": "29cc711d",
   "metadata": {
    "execution": {
     "iopub.execute_input": "2024-05-19T08:39:07.529707Z",
     "iopub.status.busy": "2024-05-19T08:39:07.529301Z",
     "iopub.status.idle": "2024-05-19T08:39:07.550383Z",
     "shell.execute_reply": "2024-05-19T08:39:07.549080Z"
    },
    "papermill": {
     "duration": 0.046141,
     "end_time": "2024-05-19T08:39:07.552711",
     "exception": false,
     "start_time": "2024-05-19T08:39:07.506570",
     "status": "completed"
    },
    "tags": []
   },
   "outputs": [
    {
     "name": "stdout",
     "output_type": "stream",
     "text": [
      "        Customer_ID   outlet_city luxury_sales fresh_sales dry_sales  \\\n",
      "326593   10467590.0  Nuwara Eliya          630      3420.3    894.54   \n",
      "\n",
      "       cluster_catgeory  dry_sales_numeric  fresh_sales_numeric  \\\n",
      "326593                2             894.54               3420.3   \n",
      "\n",
      "        luxury_sales_numeric  \n",
      "326593                   NaN  \n"
     ]
    }
   ],
   "source": [
    "# Locate the row with Customer_ID 10604532 and change the value of cluster_catgeory to 6\n",
    "train_df.loc[train_df['Customer_ID'] == 10467590.0  , 'luxury_sales'] = 630\n",
    "\n",
    "# Verify the change\n",
    "print(train_df[train_df['Customer_ID'] == 10467590.0 ])"
   ]
  },
  {
   "cell_type": "code",
   "execution_count": 18,
   "id": "e61e93b7",
   "metadata": {
    "execution": {
     "iopub.execute_input": "2024-05-19T08:39:07.599173Z",
     "iopub.status.busy": "2024-05-19T08:39:07.598787Z",
     "iopub.status.idle": "2024-05-19T08:39:07.617564Z",
     "shell.execute_reply": "2024-05-19T08:39:07.616221Z"
    },
    "papermill": {
     "duration": 0.043278,
     "end_time": "2024-05-19T08:39:07.619824",
     "exception": false,
     "start_time": "2024-05-19T08:39:07.576546",
     "status": "completed"
    },
    "tags": []
   },
   "outputs": [
    {
     "name": "stdout",
     "output_type": "stream",
     "text": [
      "        Customer_ID outlet_city luxury_sales fresh_sales dry_sales  \\\n",
      "497177   10537755.0       Kandy         1200      2041.0    6939.4   \n",
      "\n",
      "       cluster_catgeory  dry_sales_numeric  fresh_sales_numeric  \\\n",
      "497177                1             6939.4               2041.0   \n",
      "\n",
      "        luxury_sales_numeric  \n",
      "497177                   NaN  \n"
     ]
    }
   ],
   "source": [
    "# Locate the row with Customer_ID 10604532 and change the value of cluster_catgeory to 6\n",
    "train_df.loc[train_df['Customer_ID'] == 10537755.0   , 'luxury_sales'] = 1200\n",
    "\n",
    "# Verify the change\n",
    "print(train_df[train_df['Customer_ID'] == 10537755.0  ])"
   ]
  },
  {
   "cell_type": "code",
   "execution_count": 19,
   "id": "bfdd075c",
   "metadata": {
    "execution": {
     "iopub.execute_input": "2024-05-19T08:39:07.664451Z",
     "iopub.status.busy": "2024-05-19T08:39:07.664049Z",
     "iopub.status.idle": "2024-05-19T08:39:07.682333Z",
     "shell.execute_reply": "2024-05-19T08:39:07.681391Z"
    },
    "papermill": {
     "duration": 0.043265,
     "end_time": "2024-05-19T08:39:07.684669",
     "exception": false,
     "start_time": "2024-05-19T08:39:07.641404",
     "status": "completed"
    },
    "tags": []
   },
   "outputs": [
    {
     "name": "stdout",
     "output_type": "stream",
     "text": [
      "        Customer_ID outlet_city luxury_sales fresh_sales dry_sales  \\\n",
      "497245   10468127.0       Kandy          709     1032.48   4194.45   \n",
      "\n",
      "       cluster_catgeory  dry_sales_numeric  fresh_sales_numeric  \\\n",
      "497245                1            4194.45              1032.48   \n",
      "\n",
      "        luxury_sales_numeric  \n",
      "497245                   NaN  \n"
     ]
    }
   ],
   "source": [
    "# Locate the row with Customer_ID 10604532 and change the value of cluster_catgeory to 6\n",
    "train_df.loc[train_df['Customer_ID'] == 10468127.0   , 'luxury_sales'] = 709\n",
    "\n",
    "# Verify the change\n",
    "print(train_df[train_df['Customer_ID'] == 10468127.0  ])"
   ]
  },
  {
   "cell_type": "code",
   "execution_count": 20,
   "id": "0c56e9d7",
   "metadata": {
    "execution": {
     "iopub.execute_input": "2024-05-19T08:39:07.728911Z",
     "iopub.status.busy": "2024-05-19T08:39:07.728533Z",
     "iopub.status.idle": "2024-05-19T08:39:07.747164Z",
     "shell.execute_reply": "2024-05-19T08:39:07.746189Z"
    },
    "papermill": {
     "duration": 0.043589,
     "end_time": "2024-05-19T08:39:07.749641",
     "exception": false,
     "start_time": "2024-05-19T08:39:07.706052",
     "status": "completed"
    },
    "tags": []
   },
   "outputs": [
    {
     "name": "stdout",
     "output_type": "stream",
     "text": [
      "        Customer_ID  outlet_city luxury_sales fresh_sales dry_sales  \\\n",
      "558562   10076064.0  Trincomalee         3200     10416.9   1923.12   \n",
      "\n",
      "       cluster_catgeory  dry_sales_numeric  fresh_sales_numeric  \\\n",
      "558562              6.0            1923.12              10416.9   \n",
      "\n",
      "        luxury_sales_numeric  \n",
      "558562                   NaN  \n"
     ]
    }
   ],
   "source": [
    "# Locate the row with Customer_ID 10604532 and change the value of cluster_catgeory to 6\n",
    "train_df.loc[train_df['Customer_ID'] ==  10076064.0  , 'luxury_sales'] = 3200\n",
    "\n",
    "# Verify the change\n",
    "print(train_df[train_df['Customer_ID'] ==  10076064.0])"
   ]
  },
  {
   "cell_type": "code",
   "execution_count": 21,
   "id": "ae887ed9",
   "metadata": {
    "execution": {
     "iopub.execute_input": "2024-05-19T08:39:07.794840Z",
     "iopub.status.busy": "2024-05-19T08:39:07.794464Z",
     "iopub.status.idle": "2024-05-19T08:39:07.813717Z",
     "shell.execute_reply": "2024-05-19T08:39:07.812314Z"
    },
    "papermill": {
     "duration": 0.044429,
     "end_time": "2024-05-19T08:39:07.816056",
     "exception": false,
     "start_time": "2024-05-19T08:39:07.771627",
     "status": "completed"
    },
    "tags": []
   },
   "outputs": [
    {
     "name": "stdout",
     "output_type": "stream",
     "text": [
      "        Customer_ID outlet_city luxury_sales fresh_sales dry_sales  \\\n",
      "753131   10695296.0  Batticaloa         4100     4286.72   4034.56   \n",
      "\n",
      "       cluster_catgeory  dry_sales_numeric  fresh_sales_numeric  \\\n",
      "753131                3            4034.56              4286.72   \n",
      "\n",
      "        luxury_sales_numeric  \n",
      "753131                   NaN  \n"
     ]
    }
   ],
   "source": [
    "# Locate the row with Customer_ID 10604532 and change the value of cluster_catgeory to 6\n",
    "train_df.loc[train_df['Customer_ID'] == 10695296.0   , 'luxury_sales'] = 4100\n",
    "\n",
    "# Verify the change\n",
    "print(train_df[train_df['Customer_ID'] == 10695296.0  ])"
   ]
  },
  {
   "cell_type": "markdown",
   "id": "9b901d7d",
   "metadata": {
    "papermill": {
     "duration": 0.021059,
     "end_time": "2024-05-19T08:39:07.858628",
     "exception": false,
     "start_time": "2024-05-19T08:39:07.837569",
     "status": "completed"
    },
    "tags": []
   },
   "source": [
    "# ClusterCategory"
   ]
  },
  {
   "cell_type": "code",
   "execution_count": 22,
   "id": "6d33a917",
   "metadata": {
    "execution": {
     "iopub.execute_input": "2024-05-19T08:39:07.903131Z",
     "iopub.status.busy": "2024-05-19T08:39:07.902728Z",
     "iopub.status.idle": "2024-05-19T08:39:08.128891Z",
     "shell.execute_reply": "2024-05-19T08:39:08.127157Z"
    },
    "papermill": {
     "duration": 0.251332,
     "end_time": "2024-05-19T08:39:08.131490",
     "exception": false,
     "start_time": "2024-05-19T08:39:07.880158",
     "status": "completed"
    },
    "tags": []
   },
   "outputs": [
    {
     "name": "stdout",
     "output_type": "stream",
     "text": [
      "        Customer_ID cluster_catgeory\n",
      "3560     10604532.0               6\\\n",
      "555560   10158111.0              NaN\n"
     ]
    }
   ],
   "source": [
    "# Convert 'dry_sales' column to numeric, coerce errors to NaN\n",
    "train_df['clusterCategory_numeric'] = pd.to_numeric(train_df['cluster_catgeory'], errors='coerce')\n",
    "\n",
    "# Find rows where 'dry_sales' could not be converted to numeric\n",
    "invalid_rows = train_df[train_df['clusterCategory_numeric'].isna()]\n",
    "\n",
    "# Display rows with invalid 'dry_sales' values\n",
    "print(invalid_rows[['Customer_ID', 'cluster_catgeory']])\n"
   ]
  },
  {
   "cell_type": "code",
   "execution_count": 23,
   "id": "f2101d41",
   "metadata": {
    "execution": {
     "iopub.execute_input": "2024-05-19T08:39:08.176678Z",
     "iopub.status.busy": "2024-05-19T08:39:08.176316Z",
     "iopub.status.idle": "2024-05-19T08:39:08.193326Z",
     "shell.execute_reply": "2024-05-19T08:39:08.192179Z"
    },
    "papermill": {
     "duration": 0.042179,
     "end_time": "2024-05-19T08:39:08.195645",
     "exception": false,
     "start_time": "2024-05-19T08:39:08.153466",
     "status": "completed"
    },
    "tags": []
   },
   "outputs": [
    {
     "name": "stdout",
     "output_type": "stream",
     "text": [
      "      Customer_ID             outlet_city luxury_sales fresh_sales dry_sales  \\\n",
      "3560   10604532.0  Dehiwala-Mount Lavinia      1811.34     1408.82   6641.58   \n",
      "\n",
      "     cluster_catgeory  dry_sales_numeric  fresh_sales_numeric  \\\n",
      "3560                6            6641.58              1408.82   \n",
      "\n",
      "      luxury_sales_numeric  clusterCategory_numeric  \n",
      "3560               1811.34                      NaN  \n"
     ]
    }
   ],
   "source": [
    "# Locate the row with Customer_ID 10604532 and change the value of cluster_catgeory to 6\n",
    "train_df.loc[train_df['Customer_ID'] == 10604532, 'cluster_catgeory'] = 6\n",
    "\n",
    "# Verify the change\n",
    "print(train_df[train_df['Customer_ID'] == 10604532])"
   ]
  },
  {
   "cell_type": "code",
   "execution_count": 24,
   "id": "5cb7e81b",
   "metadata": {
    "execution": {
     "iopub.execute_input": "2024-05-19T08:39:08.240558Z",
     "iopub.status.busy": "2024-05-19T08:39:08.240168Z",
     "iopub.status.idle": "2024-05-19T08:39:08.366035Z",
     "shell.execute_reply": "2024-05-19T08:39:08.364313Z"
    },
    "papermill": {
     "duration": 0.150914,
     "end_time": "2024-05-19T08:39:08.368197",
     "exception": false,
     "start_time": "2024-05-19T08:39:08.217283",
     "status": "completed"
    },
    "tags": []
   },
   "outputs": [
    {
     "name": "stdout",
     "output_type": "stream",
     "text": [
      "Empty DataFrame\n",
      "Columns: [Customer_ID, outlet_city, luxury_sales, fresh_sales, dry_sales, cluster_catgeory, dry_sales_numeric, fresh_sales_numeric, luxury_sales_numeric, clusterCategory_numeric]\n",
      "Index: []\n"
     ]
    }
   ],
   "source": [
    "\n",
    "# Remove the row with Customer_ID 10158111.0\n",
    "train_df = train_df[train_df['Customer_ID'] != 10158111.0]\n",
    "\n",
    "# Verify the removal\n",
    "print(train_df[train_df['Customer_ID'] == 10158111.0])\n"
   ]
  },
  {
   "cell_type": "code",
   "execution_count": 25,
   "id": "6c9c8c32",
   "metadata": {
    "execution": {
     "iopub.execute_input": "2024-05-19T08:39:08.416323Z",
     "iopub.status.busy": "2024-05-19T08:39:08.415171Z",
     "iopub.status.idle": "2024-05-19T08:39:08.467875Z",
     "shell.execute_reply": "2024-05-19T08:39:08.467018Z"
    },
    "papermill": {
     "duration": 0.079841,
     "end_time": "2024-05-19T08:39:08.470073",
     "exception": false,
     "start_time": "2024-05-19T08:39:08.390232",
     "status": "completed"
    },
    "tags": []
   },
   "outputs": [
    {
     "name": "stdout",
     "output_type": "stream",
     "text": [
      "Mode of cluster_category: 0    1\n",
      "Name: cluster_catgeory, dtype: object\n"
     ]
    }
   ],
   "source": [
    "# Find the mode of 'cluster_category'\n",
    "mode_cluster_category = train_df['cluster_catgeory'].mode()\n",
    "\n",
    "print(\"Mode of cluster_category:\", mode_cluster_category)"
   ]
  },
  {
   "cell_type": "code",
   "execution_count": 26,
   "id": "db9f5559",
   "metadata": {
    "execution": {
     "iopub.execute_input": "2024-05-19T08:39:08.516840Z",
     "iopub.status.busy": "2024-05-19T08:39:08.516436Z",
     "iopub.status.idle": "2024-05-19T08:39:08.726332Z",
     "shell.execute_reply": "2024-05-19T08:39:08.725258Z"
    },
    "papermill": {
     "duration": 0.236097,
     "end_time": "2024-05-19T08:39:08.728549",
     "exception": false,
     "start_time": "2024-05-19T08:39:08.492452",
     "status": "completed"
    },
    "tags": []
   },
   "outputs": [],
   "source": [
    "# Convert 'cluster_catgeory' column to numeric data type\n",
    "train_df['cluster_catgeory'] = pd.to_numeric(train_df['cluster_catgeory'], errors='coerce')\n",
    "\n"
   ]
  },
  {
   "cell_type": "code",
   "execution_count": 27,
   "id": "97dbbf12",
   "metadata": {
    "execution": {
     "iopub.execute_input": "2024-05-19T08:39:08.774560Z",
     "iopub.status.busy": "2024-05-19T08:39:08.774165Z",
     "iopub.status.idle": "2024-05-19T08:39:08.885046Z",
     "shell.execute_reply": "2024-05-19T08:39:08.883798Z"
    },
    "papermill": {
     "duration": 0.136829,
     "end_time": "2024-05-19T08:39:08.887247",
     "exception": false,
     "start_time": "2024-05-19T08:39:08.750418",
     "status": "completed"
    },
    "tags": []
   },
   "outputs": [
    {
     "name": "stdout",
     "output_type": "stream",
     "text": [
      "Number of rows removed: 5\n"
     ]
    }
   ],
   "source": [
    "# Count rows before removal\n",
    "rows_before_removal = len(train_df)\n",
    "\n",
    "# Remove rows where cluster_catgeory is greater than 6\n",
    "train_df = train_df[train_df['cluster_catgeory'] <= 6]\n",
    "\n",
    "# Count rows after removal\n",
    "rows_after_removal = len(train_df)\n",
    "\n",
    "# Calculate the number of rows removed\n",
    "rows_removed = rows_before_removal - rows_after_removal\n",
    "\n",
    "print(\"Number of rows removed:\", rows_removed)\n"
   ]
  },
  {
   "cell_type": "code",
   "execution_count": 28,
   "id": "bf107c01",
   "metadata": {
    "execution": {
     "iopub.execute_input": "2024-05-19T08:39:08.933169Z",
     "iopub.status.busy": "2024-05-19T08:39:08.932006Z",
     "iopub.status.idle": "2024-05-19T08:39:09.209239Z",
     "shell.execute_reply": "2024-05-19T08:39:09.208439Z"
    },
    "papermill": {
     "duration": 0.302325,
     "end_time": "2024-05-19T08:39:09.211246",
     "exception": false,
     "start_time": "2024-05-19T08:39:08.908921",
     "status": "completed"
    },
    "tags": []
   },
   "outputs": [
    {
     "data": {
      "text/html": [
       "<div>\n",
       "<style scoped>\n",
       "    .dataframe tbody tr th:only-of-type {\n",
       "        vertical-align: middle;\n",
       "    }\n",
       "\n",
       "    .dataframe tbody tr th {\n",
       "        vertical-align: top;\n",
       "    }\n",
       "\n",
       "    .dataframe thead th {\n",
       "        text-align: right;\n",
       "    }\n",
       "</style>\n",
       "<table border=\"1\" class=\"dataframe\">\n",
       "  <thead>\n",
       "    <tr style=\"text-align: right;\">\n",
       "      <th></th>\n",
       "      <th>Customer_ID</th>\n",
       "      <th>cluster_catgeory</th>\n",
       "      <th>dry_sales_numeric</th>\n",
       "      <th>fresh_sales_numeric</th>\n",
       "      <th>luxury_sales_numeric</th>\n",
       "      <th>clusterCategory_numeric</th>\n",
       "    </tr>\n",
       "  </thead>\n",
       "  <tbody>\n",
       "    <tr>\n",
       "      <th>count</th>\n",
       "      <td>7.741470e+05</td>\n",
       "      <td>774149.000000</td>\n",
       "      <td>774111.000000</td>\n",
       "      <td>774099.000000</td>\n",
       "      <td>774104.000000</td>\n",
       "      <td>774148.000000</td>\n",
       "    </tr>\n",
       "    <tr>\n",
       "      <th>mean</th>\n",
       "      <td>1.038708e+07</td>\n",
       "      <td>3.292104</td>\n",
       "      <td>4676.283901</td>\n",
       "      <td>4428.685403</td>\n",
       "      <td>1921.970078</td>\n",
       "      <td>3.292100</td>\n",
       "    </tr>\n",
       "    <tr>\n",
       "      <th>std</th>\n",
       "      <td>2.234797e+05</td>\n",
       "      <td>1.867014</td>\n",
       "      <td>3409.386412</td>\n",
       "      <td>3334.660285</td>\n",
       "      <td>1004.080045</td>\n",
       "      <td>1.867013</td>\n",
       "    </tr>\n",
       "    <tr>\n",
       "      <th>min</th>\n",
       "      <td>1.000000e+07</td>\n",
       "      <td>1.000000</td>\n",
       "      <td>500.000000</td>\n",
       "      <td>500.000000</td>\n",
       "      <td>500.000000</td>\n",
       "      <td>1.000000</td>\n",
       "    </tr>\n",
       "    <tr>\n",
       "      <th>25%</th>\n",
       "      <td>1.019354e+07</td>\n",
       "      <td>2.000000</td>\n",
       "      <td>1787.940000</td>\n",
       "      <td>1620.190000</td>\n",
       "      <td>1213.530000</td>\n",
       "      <td>2.000000</td>\n",
       "    </tr>\n",
       "    <tr>\n",
       "      <th>50%</th>\n",
       "      <td>1.038708e+07</td>\n",
       "      <td>3.000000</td>\n",
       "      <td>3727.760000</td>\n",
       "      <td>3356.480000</td>\n",
       "      <td>1715.280000</td>\n",
       "      <td>3.000000</td>\n",
       "    </tr>\n",
       "    <tr>\n",
       "      <th>75%</th>\n",
       "      <td>1.058062e+07</td>\n",
       "      <td>5.000000</td>\n",
       "      <td>7162.200000</td>\n",
       "      <td>6671.610000</td>\n",
       "      <td>2338.700000</td>\n",
       "      <td>5.000000</td>\n",
       "    </tr>\n",
       "    <tr>\n",
       "      <th>max</th>\n",
       "      <td>1.077415e+07</td>\n",
       "      <td>6.000000</td>\n",
       "      <td>13999.300000</td>\n",
       "      <td>13997.900000</td>\n",
       "      <td>6999.650000</td>\n",
       "      <td>6.000000</td>\n",
       "    </tr>\n",
       "  </tbody>\n",
       "</table>\n",
       "</div>"
      ],
      "text/plain": [
       "        Customer_ID  cluster_catgeory  dry_sales_numeric  fresh_sales_numeric  \\\n",
       "count  7.741470e+05     774149.000000      774111.000000        774099.000000   \n",
       "mean   1.038708e+07          3.292104        4676.283901          4428.685403   \n",
       "std    2.234797e+05          1.867014        3409.386412          3334.660285   \n",
       "min    1.000000e+07          1.000000         500.000000           500.000000   \n",
       "25%    1.019354e+07          2.000000        1787.940000          1620.190000   \n",
       "50%    1.038708e+07          3.000000        3727.760000          3356.480000   \n",
       "75%    1.058062e+07          5.000000        7162.200000          6671.610000   \n",
       "max    1.077415e+07          6.000000       13999.300000         13997.900000   \n",
       "\n",
       "       luxury_sales_numeric  clusterCategory_numeric  \n",
       "count         774104.000000            774148.000000  \n",
       "mean            1921.970078                 3.292100  \n",
       "std             1004.080045                 1.867013  \n",
       "min              500.000000                 1.000000  \n",
       "25%             1213.530000                 2.000000  \n",
       "50%             1715.280000                 3.000000  \n",
       "75%             2338.700000                 5.000000  \n",
       "max             6999.650000                 6.000000  "
      ]
     },
     "execution_count": 28,
     "metadata": {},
     "output_type": "execute_result"
    }
   ],
   "source": [
    "train_df.describe()"
   ]
  },
  {
   "cell_type": "markdown",
   "id": "994811a6",
   "metadata": {
    "papermill": {
     "duration": 0.022492,
     "end_time": "2024-05-19T08:39:09.255895",
     "exception": false,
     "start_time": "2024-05-19T08:39:09.233403",
     "status": "completed"
    },
    "tags": []
   },
   "source": [
    "mode is 1"
   ]
  },
  {
   "cell_type": "code",
   "execution_count": 29,
   "id": "37d7d5df",
   "metadata": {
    "execution": {
     "iopub.execute_input": "2024-05-19T08:39:09.301748Z",
     "iopub.status.busy": "2024-05-19T08:39:09.301345Z",
     "iopub.status.idle": "2024-05-19T08:39:09.318645Z",
     "shell.execute_reply": "2024-05-19T08:39:09.317277Z"
    },
    "papermill": {
     "duration": 0.043122,
     "end_time": "2024-05-19T08:39:09.321070",
     "exception": false,
     "start_time": "2024-05-19T08:39:09.277948",
     "status": "completed"
    },
    "tags": []
   },
   "outputs": [
    {
     "name": "stdout",
     "output_type": "stream",
     "text": [
      "[4. 1. 2. 5. 3. 6.]\n"
     ]
    }
   ],
   "source": [
    "unique_cluster_categories = train_df['cluster_catgeory'].unique()\n",
    "print(unique_cluster_categories)\n"
   ]
  },
  {
   "cell_type": "code",
   "execution_count": 30,
   "id": "bff6e126",
   "metadata": {
    "execution": {
     "iopub.execute_input": "2024-05-19T08:39:09.367218Z",
     "iopub.status.busy": "2024-05-19T08:39:09.366799Z",
     "iopub.status.idle": "2024-05-19T08:39:09.375200Z",
     "shell.execute_reply": "2024-05-19T08:39:09.374120Z"
    },
    "papermill": {
     "duration": 0.034256,
     "end_time": "2024-05-19T08:39:09.377622",
     "exception": false,
     "start_time": "2024-05-19T08:39:09.343366",
     "status": "completed"
    },
    "tags": []
   },
   "outputs": [],
   "source": [
    "train_df['cluster_catgeory'] = train_df['cluster_catgeory'].astype(int)\n"
   ]
  },
  {
   "cell_type": "markdown",
   "id": "76b7448d",
   "metadata": {
    "papermill": {
     "duration": 0.022136,
     "end_time": "2024-05-19T08:39:09.422774",
     "exception": false,
     "start_time": "2024-05-19T08:39:09.400638",
     "status": "completed"
    },
    "tags": []
   },
   "source": [
    "# OUTLET city in train_df and test_df check"
   ]
  },
  {
   "cell_type": "markdown",
   "id": "7bc41fc1",
   "metadata": {
    "papermill": {
     "duration": 0.02235,
     "end_time": "2024-05-19T08:39:09.467328",
     "exception": false,
     "start_time": "2024-05-19T08:39:09.444978",
     "status": "completed"
    },
    "tags": []
   },
   "source": [
    "* train_data"
   ]
  },
  {
   "cell_type": "code",
   "execution_count": 31,
   "id": "b40b312d",
   "metadata": {
    "execution": {
     "iopub.execute_input": "2024-05-19T08:39:09.513050Z",
     "iopub.status.busy": "2024-05-19T08:39:09.512682Z",
     "iopub.status.idle": "2024-05-19T08:39:09.555409Z",
     "shell.execute_reply": "2024-05-19T08:39:09.554195Z"
    },
    "papermill": {
     "duration": 0.06827,
     "end_time": "2024-05-19T08:39:09.557708",
     "exception": false,
     "start_time": "2024-05-19T08:39:09.489438",
     "status": "completed"
    },
    "tags": []
   },
   "outputs": [
    {
     "name": "stdout",
     "output_type": "stream",
     "text": [
      "['Kelaniya' 'Moratuwa' 'Wattala' 'Homagama' 'Dehiwala-Mount Lavinia'\n",
      " 'Panadura' 'Kaduwela' 'Peliyagoda' 'Kotte' 'Nuwara Eliya' 'Batticaloa'\n",
      " 'Colombo' 'Jaffna' 'Gampaha' 'Kalmunai' 'Galle' 'Katunayake' 'Negombo'\n",
      " 'Trincomalee' 'Kandy' nan]\n"
     ]
    }
   ],
   "source": [
    "unique_city_categories = train_df['outlet_city'].unique()\n",
    "print(unique_city_categories)"
   ]
  },
  {
   "cell_type": "code",
   "execution_count": 32,
   "id": "54374879",
   "metadata": {
    "execution": {
     "iopub.execute_input": "2024-05-19T08:39:09.603635Z",
     "iopub.status.busy": "2024-05-19T08:39:09.603264Z",
     "iopub.status.idle": "2024-05-19T08:39:09.724228Z",
     "shell.execute_reply": "2024-05-19T08:39:09.722865Z"
    },
    "papermill": {
     "duration": 0.147205,
     "end_time": "2024-05-19T08:39:09.726989",
     "exception": false,
     "start_time": "2024-05-19T08:39:09.579784",
     "status": "completed"
    },
    "tags": []
   },
   "outputs": [],
   "source": [
    "# Find the mode of 'outlet_city'\n",
    "mode_outlet_city = train_df['outlet_city'].mode()[0]\n",
    "\n",
    "# Replace NaN values with the mode value\n",
    "train_df['outlet_city'] = train_df['outlet_city'].fillna(mode_outlet_city)\n"
   ]
  },
  {
   "cell_type": "code",
   "execution_count": 33,
   "id": "9a3566e2",
   "metadata": {
    "execution": {
     "iopub.execute_input": "2024-05-19T08:39:09.773742Z",
     "iopub.status.busy": "2024-05-19T08:39:09.772940Z",
     "iopub.status.idle": "2024-05-19T08:39:10.029809Z",
     "shell.execute_reply": "2024-05-19T08:39:10.028698Z"
    },
    "papermill": {
     "duration": 0.283215,
     "end_time": "2024-05-19T08:39:10.032677",
     "exception": false,
     "start_time": "2024-05-19T08:39:09.749462",
     "status": "completed"
    },
    "tags": []
   },
   "outputs": [
    {
     "name": "stdout",
     "output_type": "stream",
     "text": [
      "   Customer_ID luxury_sales fresh_sales dry_sales  cluster_catgeory  \\\n",
      "0   10493832.0       1209.6       756.0    5292.0                 4   \n",
      "1   10178643.0      1590.12     1060.08   6007.12                 1   \n",
      "2   10513916.0      2288.88     1481.04   9155.52                 4   \n",
      "3   10334589.0      2274.94     1739.66   9099.76                 4   \n",
      "4   10458365.0      2345.49     2069.55   9243.99                 4   \n",
      "\n",
      "   dry_sales_numeric  fresh_sales_numeric  luxury_sales_numeric  \\\n",
      "0            5292.00               756.00               1209.60   \n",
      "1            6007.12              1060.08               1590.12   \n",
      "2            9155.52              1481.04               2288.88   \n",
      "3            9099.76              1739.66               2274.94   \n",
      "4            9243.99              2069.55               2345.49   \n",
      "\n",
      "   clusterCategory_numeric  outlet_city_Batticaloa  ...  \\\n",
      "0                      4.0                   False  ...   \n",
      "1                      1.0                   False  ...   \n",
      "2                      4.0                   False  ...   \n",
      "3                      4.0                   False  ...   \n",
      "4                      4.0                   False  ...   \n",
      "\n",
      "   outlet_city_Katunayake  outlet_city_Kelaniya  outlet_city_Kotte  \\\n",
      "0                   False                  True              False   \n",
      "1                   False                 False              False   \n",
      "2                   False                 False              False   \n",
      "3                   False                 False              False   \n",
      "4                   False                  True              False   \n",
      "\n",
      "   outlet_city_Moratuwa  outlet_city_Negombo  outlet_city_Nuwara Eliya  \\\n",
      "0                 False                False                     False   \n",
      "1                  True                False                     False   \n",
      "2                 False                False                     False   \n",
      "3                 False                False                     False   \n",
      "4                 False                False                     False   \n",
      "\n",
      "   outlet_city_Panadura  outlet_city_Peliyagoda  outlet_city_Trincomalee  \\\n",
      "0                 False                   False                    False   \n",
      "1                 False                   False                    False   \n",
      "2                 False                   False                    False   \n",
      "3                 False                   False                    False   \n",
      "4                 False                   False                    False   \n",
      "\n",
      "   outlet_city_Wattala  \n",
      "0                False  \n",
      "1                False  \n",
      "2                 True  \n",
      "3                 True  \n",
      "4                False  \n",
      "\n",
      "[5 rows x 29 columns]\n"
     ]
    }
   ],
   "source": [
    "\n",
    "\n",
    "# One-hot encode the 'outlet_city' column\n",
    "train_df = pd.get_dummies(train_df, columns=['outlet_city'])\n",
    "\n",
    "# Display the first few rows of the DataFrame to verify the changes\n",
    "print(train_df.head())\n"
   ]
  },
  {
   "cell_type": "code",
   "execution_count": null,
   "id": "afdcd8ad",
   "metadata": {
    "papermill": {
     "duration": 0.022876,
     "end_time": "2024-05-19T08:39:10.078072",
     "exception": false,
     "start_time": "2024-05-19T08:39:10.055196",
     "status": "completed"
    },
    "tags": []
   },
   "outputs": [],
   "source": []
  },
  {
   "cell_type": "code",
   "execution_count": 34,
   "id": "fbaeedd1",
   "metadata": {
    "execution": {
     "iopub.execute_input": "2024-05-19T08:39:10.126402Z",
     "iopub.status.busy": "2024-05-19T08:39:10.125275Z",
     "iopub.status.idle": "2024-05-19T08:39:10.132421Z",
     "shell.execute_reply": "2024-05-19T08:39:10.131202Z"
    },
    "papermill": {
     "duration": 0.033421,
     "end_time": "2024-05-19T08:39:10.134613",
     "exception": false,
     "start_time": "2024-05-19T08:39:10.101192",
     "status": "completed"
    },
    "tags": []
   },
   "outputs": [
    {
     "data": {
      "text/plain": [
       "Index(['Customer_ID', 'luxury_sales', 'fresh_sales', 'dry_sales',\n",
       "       'cluster_catgeory', 'dry_sales_numeric', 'fresh_sales_numeric',\n",
       "       'luxury_sales_numeric', 'clusterCategory_numeric',\n",
       "       'outlet_city_Batticaloa', 'outlet_city_Colombo',\n",
       "       'outlet_city_Dehiwala-Mount Lavinia', 'outlet_city_Galle',\n",
       "       'outlet_city_Gampaha', 'outlet_city_Homagama', 'outlet_city_Jaffna',\n",
       "       'outlet_city_Kaduwela', 'outlet_city_Kalmunai', 'outlet_city_Kandy',\n",
       "       'outlet_city_Katunayake', 'outlet_city_Kelaniya', 'outlet_city_Kotte',\n",
       "       'outlet_city_Moratuwa', 'outlet_city_Negombo',\n",
       "       'outlet_city_Nuwara Eliya', 'outlet_city_Panadura',\n",
       "       'outlet_city_Peliyagoda', 'outlet_city_Trincomalee',\n",
       "       'outlet_city_Wattala'],\n",
       "      dtype='object')"
      ]
     },
     "execution_count": 34,
     "metadata": {},
     "output_type": "execute_result"
    }
   ],
   "source": [
    "train_df.columns"
   ]
  },
  {
   "cell_type": "markdown",
   "id": "b22d3c3e",
   "metadata": {
    "papermill": {
     "duration": 0.022075,
     "end_time": "2024-05-19T08:39:10.179409",
     "exception": false,
     "start_time": "2024-05-19T08:39:10.157334",
     "status": "completed"
    },
    "tags": []
   },
   "source": [
    "* test_df"
   ]
  },
  {
   "cell_type": "code",
   "execution_count": 35,
   "id": "6fac5713",
   "metadata": {
    "execution": {
     "iopub.execute_input": "2024-05-19T08:39:10.226717Z",
     "iopub.status.busy": "2024-05-19T08:39:10.226367Z",
     "iopub.status.idle": "2024-05-19T08:39:10.234514Z",
     "shell.execute_reply": "2024-05-19T08:39:10.233271Z"
    },
    "papermill": {
     "duration": 0.034414,
     "end_time": "2024-05-19T08:39:10.236798",
     "exception": false,
     "start_time": "2024-05-19T08:39:10.202384",
     "status": "completed"
    },
    "tags": []
   },
   "outputs": [
    {
     "name": "stdout",
     "output_type": "stream",
     "text": [
      "['batticaloa' 'Batticaloa' 'Colombo' 'Dehiwala-Mount Lavinia'\n",
      " 'Anuradhapura' 'Galle' 'Gampaha' 'Homagama' 'Jaffna' 'Kaduwela'\n",
      " 'Kalmunai' 'kalmunai' 'Kandy' 'Katunayake' 'Kelaniya' 'Madawachiya'\n",
      " 'Kotte' 'Moratuwa' 'MoraTuwa' 'Negombo' 'Nuwara Eliya' 'Panadura'\n",
      " 'Peliyagoda' 'PeliyagodA' 'Trincomale' 'Trincomalee' 'Wattala']\n"
     ]
    }
   ],
   "source": [
    "unique_city_categories = test_df['outlet_city'].unique()\n",
    "print(unique_city_categories)"
   ]
  },
  {
   "cell_type": "markdown",
   "id": "153c8d6b",
   "metadata": {
    "papermill": {
     "duration": 0.022217,
     "end_time": "2024-05-19T08:39:10.281892",
     "exception": false,
     "start_time": "2024-05-19T08:39:10.259675",
     "status": "completed"
    },
    "tags": []
   },
   "source": [
    "# Check unique values "
   ]
  },
  {
   "cell_type": "markdown",
   "id": "58b0d920",
   "metadata": {
    "papermill": {
     "duration": 0.022019,
     "end_time": "2024-05-19T08:39:10.326317",
     "exception": false,
     "start_time": "2024-05-19T08:39:10.304298",
     "status": "completed"
    },
    "tags": []
   },
   "source": [
    "1. luxury_sales"
   ]
  },
  {
   "cell_type": "code",
   "execution_count": 36,
   "id": "0c4130e7",
   "metadata": {
    "execution": {
     "iopub.execute_input": "2024-05-19T08:39:10.373022Z",
     "iopub.status.busy": "2024-05-19T08:39:10.372619Z",
     "iopub.status.idle": "2024-05-19T08:39:10.686105Z",
     "shell.execute_reply": "2024-05-19T08:39:10.684558Z"
    },
    "papermill": {
     "duration": 0.339875,
     "end_time": "2024-05-19T08:39:10.688516",
     "exception": false,
     "start_time": "2024-05-19T08:39:10.348641",
     "status": "completed"
    },
    "tags": []
   },
   "outputs": [
    {
     "name": "stdout",
     "output_type": "stream",
     "text": [
      "        Customer_ID luxury_sales\n",
      "4234     10101878.0          NaN\n",
      "4333     10361798.0          NaN\n",
      "5375     10556752.0          NaN\n",
      "5408     10321643.0          NaN\n",
      "78367    10424117.0          NaN\n",
      "78380    10343473.0          NaN\n",
      "174628   10207785.0          NaN\n",
      "175278   10347733.0          nul\n",
      "296621   10215937.0          nul\n",
      "327258   10615996.0          NaN\n",
      "327259   10346205.0          NaN\n",
      "327260   10722463.0          NaN\n",
      "327261   10221069.0          NaN\n",
      "329847   10328520.0          NaN\n",
      "329848   10155003.0          NaN\n",
      "329849   10600486.0          NaN\n",
      "352298   10703170.0          NaN\n",
      "352662   10638607.0          NaN\n",
      "352663   10223839.0          NaN\n",
      "352664   10418282.0          NaN\n",
      "367935   10445384.0          nul\n",
      "496140   10616379.0          NaN\n",
      "497485   10751852.0          NaN\n",
      "554998   10420777.0          NaN\n",
      "555305   10224685.0          NaN\n",
      "555469   10692500.0          NaN\n",
      "555573   10294701.0          NaN\n",
      "555610   10262970.0          NaN\n",
      "555764   10335139.0          NaN\n",
      "722325   10109635.0          NaN\n",
      "723874   10387271.0          NaN\n",
      "752560   10328899.0          NaN\n",
      "753275   10680540.0          NaN\n",
      "753276   10634600.0          NaN\n",
      "753277   10140621.0          NaN\n",
      "753278   10659621.0          NaN\n",
      "753454   10668547.0          NaN\n",
      "755630   10537627.0          NaN\n"
     ]
    }
   ],
   "source": [
    "# Convert 'dry_sales' column to numeric, coerce errors to NaN\n",
    "train_df['luxury_sales_numeric'] = pd.to_numeric(train_df['luxury_sales'], errors='coerce')\n",
    "\n",
    "# Find rows where 'dry_sales' could not be converted to numeric\n",
    "invalid_rows = train_df[train_df['luxury_sales_numeric'].isna()]\n",
    "\n",
    "# Display rows with invalid 'dry_sales' values\n",
    "print(invalid_rows[['Customer_ID', 'luxury_sales']])\n"
   ]
  },
  {
   "cell_type": "markdown",
   "id": "4e3765f8",
   "metadata": {
    "papermill": {
     "duration": 0.025746,
     "end_time": "2024-05-19T08:39:10.738115",
     "exception": false,
     "start_time": "2024-05-19T08:39:10.712369",
     "status": "completed"
    },
    "tags": []
   },
   "source": []
  },
  {
   "cell_type": "markdown",
   "id": "99971393",
   "metadata": {
    "papermill": {
     "duration": 0.022322,
     "end_time": "2024-05-19T08:39:10.783502",
     "exception": false,
     "start_time": "2024-05-19T08:39:10.761180",
     "status": "completed"
    },
    "tags": []
   },
   "source": [
    "2. fresh_Sales"
   ]
  },
  {
   "cell_type": "code",
   "execution_count": 37,
   "id": "9437faf3",
   "metadata": {
    "execution": {
     "iopub.execute_input": "2024-05-19T08:39:10.831505Z",
     "iopub.status.busy": "2024-05-19T08:39:10.830797Z",
     "iopub.status.idle": "2024-05-19T08:39:11.063776Z",
     "shell.execute_reply": "2024-05-19T08:39:11.062530Z"
    },
    "papermill": {
     "duration": 0.260925,
     "end_time": "2024-05-19T08:39:11.067475",
     "exception": false,
     "start_time": "2024-05-19T08:39:10.806550",
     "status": "completed"
    },
    "tags": []
   },
   "outputs": [
    {
     "name": "stdout",
     "output_type": "stream",
     "text": [
      "        Customer_ID fresh_sales\n",
      "4326     10531406.0         NaN\n",
      "4327     10311229.0         NaN\n",
      "4333     10361798.0         NaN\n",
      "4929     10414692.0         NaN\n",
      "5379     10600529.0         NaN\n",
      "5403     10484539.0         NaN\n",
      "5408     10321643.0         NaN\n",
      "78367    10424117.0         NaN\n",
      "78380    10343473.0         NaN\n",
      "78400    10504943.0         NaN\n",
      "174714   10358037.0         nul\n",
      "268571   10047014.0         nul\n",
      "326763   10301959.0         NaN\n",
      "326764   10671014.0         NaN\n",
      "326765   10687830.0         NaN\n",
      "327495   10099173.0         nul\n",
      "327505   10312003.0         nul\n",
      "329931   10540582.0         NaN\n",
      "352298   10703170.0         NaN\n",
      "352658   10418309.0         NaN\n",
      "354153   10210509.0         NaN\n",
      "496138   10559183.0         NaN\n",
      "497003   10367366.0         NaN\n",
      "497445   10168166.0         NaN\n",
      "497446   10545713.0         NaN\n",
      "497447   10624363.0         NaN\n",
      "497598   10570526.0         NaN\n",
      "555470   10403312.0         NaN\n",
      "555607   10488405.0         NaN\n",
      "555764   10335139.0         NaN\n",
      "628150   10608125.0         NaN\n",
      "695316   10028364.0         NaN\n",
      "722329   10119144.0         NaN\n",
      "723874   10387271.0         NaN\n",
      "724767   10549421.0         NaN\n",
      "724768   10092521.0         NaN\n",
      "724769   10477511.0         NaN\n",
      "752560   10328899.0         NaN\n",
      "753378   10390803.0         NaN\n",
      "753379   10199267.0         NaN\n",
      "753380   10698117.0         NaN\n",
      "753454   10668547.0         NaN\n",
      "753696   10090034.0         NaN\n",
      "754304   10006333.0         NaN\n",
      "765777   10499622.0         NaN\n"
     ]
    }
   ],
   "source": [
    "# Convert 'dry_sales' column to numeric, coerce errors to NaN\n",
    "train_df['fresh_sales_numeric'] = pd.to_numeric(train_df['fresh_sales'], errors='coerce')\n",
    "\n",
    "# Find rows where 'dry_sales' could not be converted to numeric\n",
    "invalid_rows = train_df[train_df['fresh_sales_numeric'].isna()]\n",
    "\n",
    "# Display rows with invalid 'dry_sales' values\n",
    "print(invalid_rows[['Customer_ID', 'fresh_sales']])\n"
   ]
  },
  {
   "cell_type": "markdown",
   "id": "f9859d46",
   "metadata": {
    "papermill": {
     "duration": 0.022485,
     "end_time": "2024-05-19T08:39:11.113633",
     "exception": false,
     "start_time": "2024-05-19T08:39:11.091148",
     "status": "completed"
    },
    "tags": []
   },
   "source": [
    "3.dry_sales"
   ]
  },
  {
   "cell_type": "code",
   "execution_count": 38,
   "id": "273258e7",
   "metadata": {
    "execution": {
     "iopub.execute_input": "2024-05-19T08:39:11.161871Z",
     "iopub.status.busy": "2024-05-19T08:39:11.161264Z",
     "iopub.status.idle": "2024-05-19T08:39:11.323454Z",
     "shell.execute_reply": "2024-05-19T08:39:11.322346Z"
    },
    "papermill": {
     "duration": 0.189395,
     "end_time": "2024-05-19T08:39:11.325947",
     "exception": false,
     "start_time": "2024-05-19T08:39:11.136552",
     "status": "completed"
    },
    "tags": []
   },
   "outputs": [
    {
     "name": "stdout",
     "output_type": "stream",
     "text": [
      "        Customer_ID dry_sales\n",
      "4929     10414692.0       NaN\n",
      "78400    10504943.0       NaN\n",
      "174631   10273730.0       nul\n",
      "174720   10039004.0       nul\n",
      "175278   10347733.0       nul\n",
      "268571   10047014.0       nul\n",
      "296621   10215937.0       nul\n",
      "327168   10649653.0       NaN\n",
      "327169   10737280.0       NaN\n",
      "327170   10010850.0       NaN\n",
      "327171   10347930.0       NaN\n",
      "327172   10351890.0       NaN\n",
      "327173   10025449.0       NaN\n",
      "327174   10638161.0       NaN\n",
      "327495   10099173.0       nul\n",
      "327505   10312003.0       nul\n",
      "329931   10540582.0       NaN\n",
      "345090   10186598.0       NaN\n",
      "345091   10215208.0       NaN\n",
      "345092   10530946.0       NaN\n",
      "353317   10659375.0       NaN\n",
      "496135   10501123.0       NaN\n",
      "497003   10367366.0       NaN\n",
      "497464   10155270.0       NaN\n",
      "497583   10234709.0       NaN\n",
      "497597   10345956.0       NaN\n",
      "554998   10420777.0       NaN\n",
      "555305   10224685.0       NaN\n",
      "555469   10692500.0       NaN\n",
      "555536   10092366.0       NaN\n",
      "555604   10063564.0       NaN\n",
      "753448   10460776.0       NaN\n",
      "753449   10396264.0       NaN\n",
      "753450   10178858.0       NaN\n",
      "753696   10090034.0       NaN\n",
      "754306   10726566.0       NaN\n",
      "774147   10493702.0       NaN\n"
     ]
    }
   ],
   "source": [
    "# Convert 'dry_sales' column to numeric, coerce errors to NaN\n",
    "train_df['dry_sales_numeric'] = pd.to_numeric(train_df['dry_sales'], errors='coerce')\n",
    "\n",
    "# Find rows where 'dry_sales' could not be converted to numeric\n",
    "invalid_rows = train_df[train_df['dry_sales_numeric'].isna()]\n",
    "\n",
    "# Display rows with invalid 'dry_sales' values\n",
    "print(invalid_rows[['Customer_ID', 'dry_sales']])\n"
   ]
  },
  {
   "cell_type": "markdown",
   "id": "a3d45f62",
   "metadata": {
    "papermill": {
     "duration": 0.022574,
     "end_time": "2024-05-19T08:39:11.371313",
     "exception": false,
     "start_time": "2024-05-19T08:39:11.348739",
     "status": "completed"
    },
    "tags": []
   },
   "source": [
    "# "
   ]
  },
  {
   "cell_type": "markdown",
   "id": "911bd016",
   "metadata": {
    "papermill": {
     "duration": 0.02317,
     "end_time": "2024-05-19T08:39:11.417027",
     "exception": false,
     "start_time": "2024-05-19T08:39:11.393857",
     "status": "completed"
    },
    "tags": []
   },
   "source": [
    "# remove null and NAN of dry_sales,fresh_sales and luxury_Sales and fill them with mean values"
   ]
  },
  {
   "cell_type": "code",
   "execution_count": null,
   "id": "719a31d1",
   "metadata": {
    "papermill": {
     "duration": 0.022581,
     "end_time": "2024-05-19T08:39:11.462916",
     "exception": false,
     "start_time": "2024-05-19T08:39:11.440335",
     "status": "completed"
    },
    "tags": []
   },
   "outputs": [],
   "source": []
  },
  {
   "cell_type": "code",
   "execution_count": 39,
   "id": "6cf870fc",
   "metadata": {
    "execution": {
     "iopub.execute_input": "2024-05-19T08:39:11.510018Z",
     "iopub.status.busy": "2024-05-19T08:39:11.509659Z",
     "iopub.status.idle": "2024-05-19T08:39:12.299936Z",
     "shell.execute_reply": "2024-05-19T08:39:12.298903Z"
    },
    "papermill": {
     "duration": 0.817086,
     "end_time": "2024-05-19T08:39:12.302640",
     "exception": false,
     "start_time": "2024-05-19T08:39:11.485554",
     "status": "completed"
    },
    "tags": []
   },
   "outputs": [],
   "source": [
    "# Convert columns 3, 4, and 5 to numeric types, coercing errors to NaN\n",
    "train_df[['luxury_sales', 'fresh_sales', 'dry_sales']] = train_df[['luxury_sales', 'fresh_sales', 'dry_sales']].apply(pd.to_numeric, errors='coerce')\n",
    "\n",
    "# Replace NaN values with mean of each column\n",
    "train_df['luxury_sales'] = train_df['luxury_sales'].fillna(train_df['luxury_sales'].mean())\n",
    "train_df['fresh_sales'] = train_df['fresh_sales'].fillna(train_df['fresh_sales'].mean())\n",
    "train_df['dry_sales'] = train_df['dry_sales'].fillna(train_df['dry_sales'].mean())\n"
   ]
  },
  {
   "cell_type": "code",
   "execution_count": 40,
   "id": "2106474b",
   "metadata": {
    "execution": {
     "iopub.execute_input": "2024-05-19T08:39:12.350704Z",
     "iopub.status.busy": "2024-05-19T08:39:12.349752Z",
     "iopub.status.idle": "2024-05-19T08:39:12.362896Z",
     "shell.execute_reply": "2024-05-19T08:39:12.361496Z"
    },
    "papermill": {
     "duration": 0.039529,
     "end_time": "2024-05-19T08:39:12.365164",
     "exception": false,
     "start_time": "2024-05-19T08:39:12.325635",
     "status": "completed"
    },
    "tags": []
   },
   "outputs": [
    {
     "name": "stdout",
     "output_type": "stream",
     "text": [
      "        Customer_ID\n",
      "497678          NaN\n",
      "497698          NaN\n"
     ]
    }
   ],
   "source": [
    "# Convert 'dry_sales' column to numeric, coerce errors to NaN\n",
    "train_df['Customer_ID'] = pd.to_numeric(train_df['Customer_ID'], errors='coerce')\n",
    "\n",
    "# Find rows where 'dry_sales' could not be converted to numeric\n",
    "invalid_rows = train_df[train_df['Customer_ID'].isna()]\n",
    "\n",
    "# Display rows with invalid 'dry_sales' values\n",
    "print(invalid_rows[['Customer_ID']])\n"
   ]
  },
  {
   "cell_type": "code",
   "execution_count": 41,
   "id": "9ba51a25",
   "metadata": {
    "execution": {
     "iopub.execute_input": "2024-05-19T08:39:12.414368Z",
     "iopub.status.busy": "2024-05-19T08:39:12.413702Z",
     "iopub.status.idle": "2024-05-19T08:39:12.787720Z",
     "shell.execute_reply": "2024-05-19T08:39:12.786393Z"
    },
    "papermill": {
     "duration": 0.402181,
     "end_time": "2024-05-19T08:39:12.790663",
     "exception": false,
     "start_time": "2024-05-19T08:39:12.388482",
     "status": "completed"
    },
    "tags": []
   },
   "outputs": [
    {
     "data": {
      "text/html": [
       "<div>\n",
       "<style scoped>\n",
       "    .dataframe tbody tr th:only-of-type {\n",
       "        vertical-align: middle;\n",
       "    }\n",
       "\n",
       "    .dataframe tbody tr th {\n",
       "        vertical-align: top;\n",
       "    }\n",
       "\n",
       "    .dataframe thead th {\n",
       "        text-align: right;\n",
       "    }\n",
       "</style>\n",
       "<table border=\"1\" class=\"dataframe\">\n",
       "  <thead>\n",
       "    <tr style=\"text-align: right;\">\n",
       "      <th></th>\n",
       "      <th>Customer_ID</th>\n",
       "      <th>luxury_sales</th>\n",
       "      <th>fresh_sales</th>\n",
       "      <th>dry_sales</th>\n",
       "      <th>cluster_catgeory</th>\n",
       "      <th>dry_sales_numeric</th>\n",
       "      <th>fresh_sales_numeric</th>\n",
       "      <th>luxury_sales_numeric</th>\n",
       "      <th>clusterCategory_numeric</th>\n",
       "    </tr>\n",
       "  </thead>\n",
       "  <tbody>\n",
       "    <tr>\n",
       "      <th>count</th>\n",
       "      <td>7.741470e+05</td>\n",
       "      <td>774149.000000</td>\n",
       "      <td>774149.000000</td>\n",
       "      <td>774149.000000</td>\n",
       "      <td>774149.000000</td>\n",
       "      <td>774112.000000</td>\n",
       "      <td>774104.000000</td>\n",
       "      <td>774111.000000</td>\n",
       "      <td>774148.000000</td>\n",
       "    </tr>\n",
       "    <tr>\n",
       "      <th>mean</th>\n",
       "      <td>1.038708e+07</td>\n",
       "      <td>1921.968250</td>\n",
       "      <td>4428.688842</td>\n",
       "      <td>4676.283285</td>\n",
       "      <td>3.292104</td>\n",
       "      <td>4676.283285</td>\n",
       "      <td>4428.688842</td>\n",
       "      <td>1921.968250</td>\n",
       "      <td>3.292100</td>\n",
       "    </tr>\n",
       "    <tr>\n",
       "      <th>std</th>\n",
       "      <td>2.234797e+05</td>\n",
       "      <td>1004.058305</td>\n",
       "      <td>3334.570466</td>\n",
       "      <td>3409.302777</td>\n",
       "      <td>1.867014</td>\n",
       "      <td>3409.384253</td>\n",
       "      <td>3334.667387</td>\n",
       "      <td>1004.082949</td>\n",
       "      <td>1.867013</td>\n",
       "    </tr>\n",
       "    <tr>\n",
       "      <th>min</th>\n",
       "      <td>1.000000e+07</td>\n",
       "      <td>500.000000</td>\n",
       "      <td>500.000000</td>\n",
       "      <td>500.000000</td>\n",
       "      <td>1.000000</td>\n",
       "      <td>500.000000</td>\n",
       "      <td>500.000000</td>\n",
       "      <td>500.000000</td>\n",
       "      <td>1.000000</td>\n",
       "    </tr>\n",
       "    <tr>\n",
       "      <th>25%</th>\n",
       "      <td>1.019354e+07</td>\n",
       "      <td>1213.550000</td>\n",
       "      <td>1620.220000</td>\n",
       "      <td>1788.000000</td>\n",
       "      <td>2.000000</td>\n",
       "      <td>1787.940000</td>\n",
       "      <td>1620.190000</td>\n",
       "      <td>1213.525000</td>\n",
       "      <td>2.000000</td>\n",
       "    </tr>\n",
       "    <tr>\n",
       "      <th>50%</th>\n",
       "      <td>1.038708e+07</td>\n",
       "      <td>1715.320000</td>\n",
       "      <td>3356.730000</td>\n",
       "      <td>3728.060000</td>\n",
       "      <td>3.000000</td>\n",
       "      <td>3727.760000</td>\n",
       "      <td>3356.510000</td>\n",
       "      <td>1715.280000</td>\n",
       "      <td>3.000000</td>\n",
       "    </tr>\n",
       "    <tr>\n",
       "      <th>75%</th>\n",
       "      <td>1.058062e+07</td>\n",
       "      <td>2338.690000</td>\n",
       "      <td>6671.280000</td>\n",
       "      <td>7161.760000</td>\n",
       "      <td>5.000000</td>\n",
       "      <td>7162.200000</td>\n",
       "      <td>6671.610000</td>\n",
       "      <td>2338.700000</td>\n",
       "      <td>5.000000</td>\n",
       "    </tr>\n",
       "    <tr>\n",
       "      <th>max</th>\n",
       "      <td>1.077415e+07</td>\n",
       "      <td>6999.650000</td>\n",
       "      <td>13997.900000</td>\n",
       "      <td>13999.300000</td>\n",
       "      <td>6.000000</td>\n",
       "      <td>13999.300000</td>\n",
       "      <td>13997.900000</td>\n",
       "      <td>6999.650000</td>\n",
       "      <td>6.000000</td>\n",
       "    </tr>\n",
       "  </tbody>\n",
       "</table>\n",
       "</div>"
      ],
      "text/plain": [
       "        Customer_ID   luxury_sales    fresh_sales      dry_sales  \\\n",
       "count  7.741470e+05  774149.000000  774149.000000  774149.000000   \n",
       "mean   1.038708e+07    1921.968250    4428.688842    4676.283285   \n",
       "std    2.234797e+05    1004.058305    3334.570466    3409.302777   \n",
       "min    1.000000e+07     500.000000     500.000000     500.000000   \n",
       "25%    1.019354e+07    1213.550000    1620.220000    1788.000000   \n",
       "50%    1.038708e+07    1715.320000    3356.730000    3728.060000   \n",
       "75%    1.058062e+07    2338.690000    6671.280000    7161.760000   \n",
       "max    1.077415e+07    6999.650000   13997.900000   13999.300000   \n",
       "\n",
       "       cluster_catgeory  dry_sales_numeric  fresh_sales_numeric  \\\n",
       "count     774149.000000      774112.000000        774104.000000   \n",
       "mean           3.292104        4676.283285          4428.688842   \n",
       "std            1.867014        3409.384253          3334.667387   \n",
       "min            1.000000         500.000000           500.000000   \n",
       "25%            2.000000        1787.940000          1620.190000   \n",
       "50%            3.000000        3727.760000          3356.510000   \n",
       "75%            5.000000        7162.200000          6671.610000   \n",
       "max            6.000000       13999.300000         13997.900000   \n",
       "\n",
       "       luxury_sales_numeric  clusterCategory_numeric  \n",
       "count         774111.000000            774148.000000  \n",
       "mean            1921.968250                 3.292100  \n",
       "std             1004.082949                 1.867013  \n",
       "min              500.000000                 1.000000  \n",
       "25%             1213.525000                 2.000000  \n",
       "50%             1715.280000                 3.000000  \n",
       "75%             2338.700000                 5.000000  \n",
       "max             6999.650000                 6.000000  "
      ]
     },
     "execution_count": 41,
     "metadata": {},
     "output_type": "execute_result"
    }
   ],
   "source": [
    "train_df.describe()"
   ]
  },
  {
   "cell_type": "code",
   "execution_count": 42,
   "id": "5d224b02",
   "metadata": {
    "execution": {
     "iopub.execute_input": "2024-05-19T08:39:12.840289Z",
     "iopub.status.busy": "2024-05-19T08:39:12.839881Z",
     "iopub.status.idle": "2024-05-19T08:39:12.876339Z",
     "shell.execute_reply": "2024-05-19T08:39:12.875177Z"
    },
    "papermill": {
     "duration": 0.063869,
     "end_time": "2024-05-19T08:39:12.878721",
     "exception": false,
     "start_time": "2024-05-19T08:39:12.814852",
     "status": "completed"
    },
    "tags": []
   },
   "outputs": [],
   "source": [
    "# Find the maximum existing Customer_ID\n",
    "max_id = train_df['Customer_ID'].max()\n",
    "\n",
    "# Identify the indices where Customer_ID is missing\n",
    "missing_indices = train_df[train_df['Customer_ID'].isnull()].index\n",
    "\n",
    "# Generate new unique IDs starting from max_id + 1\n",
    "new_ids = range(int(max_id) + 1, int(max_id) + 1 + len(missing_indices))\n",
    "\n",
    "# Assign the new IDs to the missing Customer_ID entries\n",
    "train_df.loc[missing_indices, 'Customer_ID'] = new_ids"
   ]
  },
  {
   "cell_type": "code",
   "execution_count": 43,
   "id": "65837960",
   "metadata": {
    "execution": {
     "iopub.execute_input": "2024-05-19T08:39:12.928446Z",
     "iopub.status.busy": "2024-05-19T08:39:12.928043Z",
     "iopub.status.idle": "2024-05-19T08:39:12.936719Z",
     "shell.execute_reply": "2024-05-19T08:39:12.935350Z"
    },
    "papermill": {
     "duration": 0.036617,
     "end_time": "2024-05-19T08:39:12.939309",
     "exception": false,
     "start_time": "2024-05-19T08:39:12.902692",
     "status": "completed"
    },
    "tags": []
   },
   "outputs": [],
   "source": [
    "# Convert 'Customer_ID' to integer\n",
    "train_df['Customer_ID'] = train_df['Customer_ID'].astype(int)"
   ]
  },
  {
   "cell_type": "code",
   "execution_count": 44,
   "id": "8bd77983",
   "metadata": {
    "execution": {
     "iopub.execute_input": "2024-05-19T08:39:12.988224Z",
     "iopub.status.busy": "2024-05-19T08:39:12.987824Z",
     "iopub.status.idle": "2024-05-19T08:39:13.339367Z",
     "shell.execute_reply": "2024-05-19T08:39:13.338364Z"
    },
    "papermill": {
     "duration": 0.379184,
     "end_time": "2024-05-19T08:39:13.342179",
     "exception": false,
     "start_time": "2024-05-19T08:39:12.962995",
     "status": "completed"
    },
    "tags": []
   },
   "outputs": [
    {
     "data": {
      "text/html": [
       "<div>\n",
       "<style scoped>\n",
       "    .dataframe tbody tr th:only-of-type {\n",
       "        vertical-align: middle;\n",
       "    }\n",
       "\n",
       "    .dataframe tbody tr th {\n",
       "        vertical-align: top;\n",
       "    }\n",
       "\n",
       "    .dataframe thead th {\n",
       "        text-align: right;\n",
       "    }\n",
       "</style>\n",
       "<table border=\"1\" class=\"dataframe\">\n",
       "  <thead>\n",
       "    <tr style=\"text-align: right;\">\n",
       "      <th></th>\n",
       "      <th>Customer_ID</th>\n",
       "      <th>luxury_sales</th>\n",
       "      <th>fresh_sales</th>\n",
       "      <th>dry_sales</th>\n",
       "      <th>cluster_catgeory</th>\n",
       "      <th>dry_sales_numeric</th>\n",
       "      <th>fresh_sales_numeric</th>\n",
       "      <th>luxury_sales_numeric</th>\n",
       "      <th>clusterCategory_numeric</th>\n",
       "    </tr>\n",
       "  </thead>\n",
       "  <tbody>\n",
       "    <tr>\n",
       "      <th>count</th>\n",
       "      <td>7.741490e+05</td>\n",
       "      <td>774149.000000</td>\n",
       "      <td>774149.000000</td>\n",
       "      <td>774149.000000</td>\n",
       "      <td>774149.000000</td>\n",
       "      <td>774112.000000</td>\n",
       "      <td>774104.000000</td>\n",
       "      <td>774111.000000</td>\n",
       "      <td>774148.000000</td>\n",
       "    </tr>\n",
       "    <tr>\n",
       "      <th>mean</th>\n",
       "      <td>1.038708e+07</td>\n",
       "      <td>1921.968250</td>\n",
       "      <td>4428.688842</td>\n",
       "      <td>4676.283285</td>\n",
       "      <td>3.292104</td>\n",
       "      <td>4676.283285</td>\n",
       "      <td>4428.688842</td>\n",
       "      <td>1921.968250</td>\n",
       "      <td>3.292100</td>\n",
       "    </tr>\n",
       "    <tr>\n",
       "      <th>std</th>\n",
       "      <td>2.234803e+05</td>\n",
       "      <td>1004.058305</td>\n",
       "      <td>3334.570466</td>\n",
       "      <td>3409.302777</td>\n",
       "      <td>1.867014</td>\n",
       "      <td>3409.384253</td>\n",
       "      <td>3334.667387</td>\n",
       "      <td>1004.082949</td>\n",
       "      <td>1.867013</td>\n",
       "    </tr>\n",
       "    <tr>\n",
       "      <th>min</th>\n",
       "      <td>1.000000e+07</td>\n",
       "      <td>500.000000</td>\n",
       "      <td>500.000000</td>\n",
       "      <td>500.000000</td>\n",
       "      <td>1.000000</td>\n",
       "      <td>500.000000</td>\n",
       "      <td>500.000000</td>\n",
       "      <td>500.000000</td>\n",
       "      <td>1.000000</td>\n",
       "    </tr>\n",
       "    <tr>\n",
       "      <th>25%</th>\n",
       "      <td>1.019354e+07</td>\n",
       "      <td>1213.550000</td>\n",
       "      <td>1620.220000</td>\n",
       "      <td>1788.000000</td>\n",
       "      <td>2.000000</td>\n",
       "      <td>1787.940000</td>\n",
       "      <td>1620.190000</td>\n",
       "      <td>1213.525000</td>\n",
       "      <td>2.000000</td>\n",
       "    </tr>\n",
       "    <tr>\n",
       "      <th>50%</th>\n",
       "      <td>1.038708e+07</td>\n",
       "      <td>1715.320000</td>\n",
       "      <td>3356.730000</td>\n",
       "      <td>3728.060000</td>\n",
       "      <td>3.000000</td>\n",
       "      <td>3727.760000</td>\n",
       "      <td>3356.510000</td>\n",
       "      <td>1715.280000</td>\n",
       "      <td>3.000000</td>\n",
       "    </tr>\n",
       "    <tr>\n",
       "      <th>75%</th>\n",
       "      <td>1.058062e+07</td>\n",
       "      <td>2338.690000</td>\n",
       "      <td>6671.280000</td>\n",
       "      <td>7161.760000</td>\n",
       "      <td>5.000000</td>\n",
       "      <td>7162.200000</td>\n",
       "      <td>6671.610000</td>\n",
       "      <td>2338.700000</td>\n",
       "      <td>5.000000</td>\n",
       "    </tr>\n",
       "    <tr>\n",
       "      <th>max</th>\n",
       "      <td>1.077416e+07</td>\n",
       "      <td>6999.650000</td>\n",
       "      <td>13997.900000</td>\n",
       "      <td>13999.300000</td>\n",
       "      <td>6.000000</td>\n",
       "      <td>13999.300000</td>\n",
       "      <td>13997.900000</td>\n",
       "      <td>6999.650000</td>\n",
       "      <td>6.000000</td>\n",
       "    </tr>\n",
       "  </tbody>\n",
       "</table>\n",
       "</div>"
      ],
      "text/plain": [
       "        Customer_ID   luxury_sales    fresh_sales      dry_sales  \\\n",
       "count  7.741490e+05  774149.000000  774149.000000  774149.000000   \n",
       "mean   1.038708e+07    1921.968250    4428.688842    4676.283285   \n",
       "std    2.234803e+05    1004.058305    3334.570466    3409.302777   \n",
       "min    1.000000e+07     500.000000     500.000000     500.000000   \n",
       "25%    1.019354e+07    1213.550000    1620.220000    1788.000000   \n",
       "50%    1.038708e+07    1715.320000    3356.730000    3728.060000   \n",
       "75%    1.058062e+07    2338.690000    6671.280000    7161.760000   \n",
       "max    1.077416e+07    6999.650000   13997.900000   13999.300000   \n",
       "\n",
       "       cluster_catgeory  dry_sales_numeric  fresh_sales_numeric  \\\n",
       "count     774149.000000      774112.000000        774104.000000   \n",
       "mean           3.292104        4676.283285          4428.688842   \n",
       "std            1.867014        3409.384253          3334.667387   \n",
       "min            1.000000         500.000000           500.000000   \n",
       "25%            2.000000        1787.940000          1620.190000   \n",
       "50%            3.000000        3727.760000          3356.510000   \n",
       "75%            5.000000        7162.200000          6671.610000   \n",
       "max            6.000000       13999.300000         13997.900000   \n",
       "\n",
       "       luxury_sales_numeric  clusterCategory_numeric  \n",
       "count         774111.000000            774148.000000  \n",
       "mean            1921.968250                 3.292100  \n",
       "std             1004.082949                 1.867013  \n",
       "min              500.000000                 1.000000  \n",
       "25%             1213.525000                 2.000000  \n",
       "50%             1715.280000                 3.000000  \n",
       "75%             2338.700000                 5.000000  \n",
       "max             6999.650000                 6.000000  "
      ]
     },
     "execution_count": 44,
     "metadata": {},
     "output_type": "execute_result"
    }
   ],
   "source": [
    "train_df.describe()"
   ]
  },
  {
   "cell_type": "code",
   "execution_count": 45,
   "id": "fa90e821",
   "metadata": {
    "execution": {
     "iopub.execute_input": "2024-05-19T08:39:13.391611Z",
     "iopub.status.busy": "2024-05-19T08:39:13.390892Z",
     "iopub.status.idle": "2024-05-19T08:39:13.950679Z",
     "shell.execute_reply": "2024-05-19T08:39:13.949622Z"
    },
    "papermill": {
     "duration": 0.587209,
     "end_time": "2024-05-19T08:39:13.953012",
     "exception": false,
     "start_time": "2024-05-19T08:39:13.365803",
     "status": "completed"
    },
    "tags": []
   },
   "outputs": [
    {
     "data": {
      "text/plain": [
       "0"
      ]
     },
     "execution_count": 45,
     "metadata": {},
     "output_type": "execute_result"
    }
   ],
   "source": [
    "duplicates = train_df.duplicated()\n",
    "duplicates.sum()"
   ]
  },
  {
   "cell_type": "markdown",
   "id": "98b73564",
   "metadata": {
    "papermill": {
     "duration": 0.023465,
     "end_time": "2024-05-19T08:39:14.001182",
     "exception": false,
     "start_time": "2024-05-19T08:39:13.977717",
     "status": "completed"
    },
    "tags": []
   },
   "source": [
    "> # three sales are sorted"
   ]
  },
  {
   "cell_type": "code",
   "execution_count": 46,
   "id": "ccf85a21",
   "metadata": {
    "execution": {
     "iopub.execute_input": "2024-05-19T08:39:14.050555Z",
     "iopub.status.busy": "2024-05-19T08:39:14.050190Z",
     "iopub.status.idle": "2024-05-19T08:39:14.058239Z",
     "shell.execute_reply": "2024-05-19T08:39:14.057172Z"
    },
    "papermill": {
     "duration": 0.035429,
     "end_time": "2024-05-19T08:39:14.060447",
     "exception": false,
     "start_time": "2024-05-19T08:39:14.025018",
     "status": "completed"
    },
    "tags": []
   },
   "outputs": [
    {
     "data": {
      "text/plain": [
       "Customer_ID                             int64\n",
       "luxury_sales                          float64\n",
       "fresh_sales                           float64\n",
       "dry_sales                             float64\n",
       "cluster_catgeory                        int64\n",
       "dry_sales_numeric                     float64\n",
       "fresh_sales_numeric                   float64\n",
       "luxury_sales_numeric                  float64\n",
       "clusterCategory_numeric               float64\n",
       "outlet_city_Batticaloa                   bool\n",
       "outlet_city_Colombo                      bool\n",
       "outlet_city_Dehiwala-Mount Lavinia       bool\n",
       "outlet_city_Galle                        bool\n",
       "outlet_city_Gampaha                      bool\n",
       "outlet_city_Homagama                     bool\n",
       "outlet_city_Jaffna                       bool\n",
       "outlet_city_Kaduwela                     bool\n",
       "outlet_city_Kalmunai                     bool\n",
       "outlet_city_Kandy                        bool\n",
       "outlet_city_Katunayake                   bool\n",
       "outlet_city_Kelaniya                     bool\n",
       "outlet_city_Kotte                        bool\n",
       "outlet_city_Moratuwa                     bool\n",
       "outlet_city_Negombo                      bool\n",
       "outlet_city_Nuwara Eliya                 bool\n",
       "outlet_city_Panadura                     bool\n",
       "outlet_city_Peliyagoda                   bool\n",
       "outlet_city_Trincomalee                  bool\n",
       "outlet_city_Wattala                      bool\n",
       "dtype: object"
      ]
     },
     "execution_count": 46,
     "metadata": {},
     "output_type": "execute_result"
    }
   ],
   "source": [
    "train_df.dtypes"
   ]
  },
  {
   "cell_type": "code",
   "execution_count": 47,
   "id": "d6f8a240",
   "metadata": {
    "execution": {
     "iopub.execute_input": "2024-05-19T08:39:14.110526Z",
     "iopub.status.busy": "2024-05-19T08:39:14.110132Z",
     "iopub.status.idle": "2024-05-19T08:39:14.141916Z",
     "shell.execute_reply": "2024-05-19T08:39:14.140757Z"
    },
    "papermill": {
     "duration": 0.060114,
     "end_time": "2024-05-19T08:39:14.144360",
     "exception": false,
     "start_time": "2024-05-19T08:39:14.084246",
     "status": "completed"
    },
    "tags": []
   },
   "outputs": [
    {
     "data": {
      "text/plain": [
       "Customer_ID                            0\n",
       "luxury_sales                           0\n",
       "fresh_sales                            0\n",
       "dry_sales                              0\n",
       "cluster_catgeory                       0\n",
       "dry_sales_numeric                     37\n",
       "fresh_sales_numeric                   45\n",
       "luxury_sales_numeric                  38\n",
       "clusterCategory_numeric                1\n",
       "outlet_city_Batticaloa                 0\n",
       "outlet_city_Colombo                    0\n",
       "outlet_city_Dehiwala-Mount Lavinia     0\n",
       "outlet_city_Galle                      0\n",
       "outlet_city_Gampaha                    0\n",
       "outlet_city_Homagama                   0\n",
       "outlet_city_Jaffna                     0\n",
       "outlet_city_Kaduwela                   0\n",
       "outlet_city_Kalmunai                   0\n",
       "outlet_city_Kandy                      0\n",
       "outlet_city_Katunayake                 0\n",
       "outlet_city_Kelaniya                   0\n",
       "outlet_city_Kotte                      0\n",
       "outlet_city_Moratuwa                   0\n",
       "outlet_city_Negombo                    0\n",
       "outlet_city_Nuwara Eliya               0\n",
       "outlet_city_Panadura                   0\n",
       "outlet_city_Peliyagoda                 0\n",
       "outlet_city_Trincomalee                0\n",
       "outlet_city_Wattala                    0\n",
       "dtype: int64"
      ]
     },
     "execution_count": 47,
     "metadata": {},
     "output_type": "execute_result"
    }
   ],
   "source": [
    "train_df.isnull().sum()"
   ]
  },
  {
   "cell_type": "code",
   "execution_count": 48,
   "id": "7c2d663d",
   "metadata": {
    "execution": {
     "iopub.execute_input": "2024-05-19T08:39:14.194704Z",
     "iopub.status.busy": "2024-05-19T08:39:14.194329Z",
     "iopub.status.idle": "2024-05-19T08:39:14.203076Z",
     "shell.execute_reply": "2024-05-19T08:39:14.201949Z"
    },
    "papermill": {
     "duration": 0.036162,
     "end_time": "2024-05-19T08:39:14.205152",
     "exception": false,
     "start_time": "2024-05-19T08:39:14.168990",
     "status": "completed"
    },
    "tags": []
   },
   "outputs": [
    {
     "data": {
      "text/plain": [
       "Customer_ID                             int64\n",
       "luxury_sales                          float64\n",
       "fresh_sales                           float64\n",
       "dry_sales                             float64\n",
       "cluster_catgeory                        int64\n",
       "dry_sales_numeric                     float64\n",
       "fresh_sales_numeric                   float64\n",
       "luxury_sales_numeric                  float64\n",
       "clusterCategory_numeric               float64\n",
       "outlet_city_Batticaloa                   bool\n",
       "outlet_city_Colombo                      bool\n",
       "outlet_city_Dehiwala-Mount Lavinia       bool\n",
       "outlet_city_Galle                        bool\n",
       "outlet_city_Gampaha                      bool\n",
       "outlet_city_Homagama                     bool\n",
       "outlet_city_Jaffna                       bool\n",
       "outlet_city_Kaduwela                     bool\n",
       "outlet_city_Kalmunai                     bool\n",
       "outlet_city_Kandy                        bool\n",
       "outlet_city_Katunayake                   bool\n",
       "outlet_city_Kelaniya                     bool\n",
       "outlet_city_Kotte                        bool\n",
       "outlet_city_Moratuwa                     bool\n",
       "outlet_city_Negombo                      bool\n",
       "outlet_city_Nuwara Eliya                 bool\n",
       "outlet_city_Panadura                     bool\n",
       "outlet_city_Peliyagoda                   bool\n",
       "outlet_city_Trincomalee                  bool\n",
       "outlet_city_Wattala                      bool\n",
       "dtype: object"
      ]
     },
     "execution_count": 48,
     "metadata": {},
     "output_type": "execute_result"
    }
   ],
   "source": [
    "train_df.dtypes"
   ]
  },
  {
   "cell_type": "markdown",
   "id": "c5fa77ce",
   "metadata": {
    "papermill": {
     "duration": 0.023727,
     "end_time": "2024-05-19T08:39:14.252637",
     "exception": false,
     "start_time": "2024-05-19T08:39:14.228910",
     "status": "completed"
    },
    "tags": []
   },
   "source": [
    "# scaling"
   ]
  },
  {
   "cell_type": "code",
   "execution_count": null,
   "id": "dce4d546",
   "metadata": {
    "papermill": {
     "duration": 0.024888,
     "end_time": "2024-05-19T08:39:14.301439",
     "exception": false,
     "start_time": "2024-05-19T08:39:14.276551",
     "status": "completed"
    },
    "tags": []
   },
   "outputs": [],
   "source": []
  },
  {
   "cell_type": "code",
   "execution_count": 49,
   "id": "fdc595c0",
   "metadata": {
    "execution": {
     "iopub.execute_input": "2024-05-19T08:39:14.350937Z",
     "iopub.status.busy": "2024-05-19T08:39:14.350544Z",
     "iopub.status.idle": "2024-05-19T08:39:14.696435Z",
     "shell.execute_reply": "2024-05-19T08:39:14.695408Z"
    },
    "papermill": {
     "duration": 0.373512,
     "end_time": "2024-05-19T08:39:14.698845",
     "exception": false,
     "start_time": "2024-05-19T08:39:14.325333",
     "status": "completed"
    },
    "tags": []
   },
   "outputs": [
    {
     "data": {
      "text/html": [
       "<div>\n",
       "<style scoped>\n",
       "    .dataframe tbody tr th:only-of-type {\n",
       "        vertical-align: middle;\n",
       "    }\n",
       "\n",
       "    .dataframe tbody tr th {\n",
       "        vertical-align: top;\n",
       "    }\n",
       "\n",
       "    .dataframe thead th {\n",
       "        text-align: right;\n",
       "    }\n",
       "</style>\n",
       "<table border=\"1\" class=\"dataframe\">\n",
       "  <thead>\n",
       "    <tr style=\"text-align: right;\">\n",
       "      <th></th>\n",
       "      <th>Customer_ID</th>\n",
       "      <th>luxury_sales</th>\n",
       "      <th>fresh_sales</th>\n",
       "      <th>dry_sales</th>\n",
       "      <th>cluster_catgeory</th>\n",
       "      <th>dry_sales_numeric</th>\n",
       "      <th>fresh_sales_numeric</th>\n",
       "      <th>luxury_sales_numeric</th>\n",
       "      <th>clusterCategory_numeric</th>\n",
       "    </tr>\n",
       "  </thead>\n",
       "  <tbody>\n",
       "    <tr>\n",
       "      <th>count</th>\n",
       "      <td>7.741490e+05</td>\n",
       "      <td>774149.000000</td>\n",
       "      <td>774149.000000</td>\n",
       "      <td>774149.000000</td>\n",
       "      <td>774149.000000</td>\n",
       "      <td>774112.000000</td>\n",
       "      <td>774104.000000</td>\n",
       "      <td>774111.000000</td>\n",
       "      <td>774148.000000</td>\n",
       "    </tr>\n",
       "    <tr>\n",
       "      <th>mean</th>\n",
       "      <td>1.038708e+07</td>\n",
       "      <td>1921.968250</td>\n",
       "      <td>4428.688842</td>\n",
       "      <td>4676.283285</td>\n",
       "      <td>3.292104</td>\n",
       "      <td>4676.283285</td>\n",
       "      <td>4428.688842</td>\n",
       "      <td>1921.968250</td>\n",
       "      <td>3.292100</td>\n",
       "    </tr>\n",
       "    <tr>\n",
       "      <th>std</th>\n",
       "      <td>2.234803e+05</td>\n",
       "      <td>1004.058305</td>\n",
       "      <td>3334.570466</td>\n",
       "      <td>3409.302777</td>\n",
       "      <td>1.867014</td>\n",
       "      <td>3409.384253</td>\n",
       "      <td>3334.667387</td>\n",
       "      <td>1004.082949</td>\n",
       "      <td>1.867013</td>\n",
       "    </tr>\n",
       "    <tr>\n",
       "      <th>min</th>\n",
       "      <td>1.000000e+07</td>\n",
       "      <td>500.000000</td>\n",
       "      <td>500.000000</td>\n",
       "      <td>500.000000</td>\n",
       "      <td>1.000000</td>\n",
       "      <td>500.000000</td>\n",
       "      <td>500.000000</td>\n",
       "      <td>500.000000</td>\n",
       "      <td>1.000000</td>\n",
       "    </tr>\n",
       "    <tr>\n",
       "      <th>25%</th>\n",
       "      <td>1.019354e+07</td>\n",
       "      <td>1213.550000</td>\n",
       "      <td>1620.220000</td>\n",
       "      <td>1788.000000</td>\n",
       "      <td>2.000000</td>\n",
       "      <td>1787.940000</td>\n",
       "      <td>1620.190000</td>\n",
       "      <td>1213.525000</td>\n",
       "      <td>2.000000</td>\n",
       "    </tr>\n",
       "    <tr>\n",
       "      <th>50%</th>\n",
       "      <td>1.038708e+07</td>\n",
       "      <td>1715.320000</td>\n",
       "      <td>3356.730000</td>\n",
       "      <td>3728.060000</td>\n",
       "      <td>3.000000</td>\n",
       "      <td>3727.760000</td>\n",
       "      <td>3356.510000</td>\n",
       "      <td>1715.280000</td>\n",
       "      <td>3.000000</td>\n",
       "    </tr>\n",
       "    <tr>\n",
       "      <th>75%</th>\n",
       "      <td>1.058062e+07</td>\n",
       "      <td>2338.690000</td>\n",
       "      <td>6671.280000</td>\n",
       "      <td>7161.760000</td>\n",
       "      <td>5.000000</td>\n",
       "      <td>7162.200000</td>\n",
       "      <td>6671.610000</td>\n",
       "      <td>2338.700000</td>\n",
       "      <td>5.000000</td>\n",
       "    </tr>\n",
       "    <tr>\n",
       "      <th>max</th>\n",
       "      <td>1.077416e+07</td>\n",
       "      <td>6999.650000</td>\n",
       "      <td>13997.900000</td>\n",
       "      <td>13999.300000</td>\n",
       "      <td>6.000000</td>\n",
       "      <td>13999.300000</td>\n",
       "      <td>13997.900000</td>\n",
       "      <td>6999.650000</td>\n",
       "      <td>6.000000</td>\n",
       "    </tr>\n",
       "  </tbody>\n",
       "</table>\n",
       "</div>"
      ],
      "text/plain": [
       "        Customer_ID   luxury_sales    fresh_sales      dry_sales  \\\n",
       "count  7.741490e+05  774149.000000  774149.000000  774149.000000   \n",
       "mean   1.038708e+07    1921.968250    4428.688842    4676.283285   \n",
       "std    2.234803e+05    1004.058305    3334.570466    3409.302777   \n",
       "min    1.000000e+07     500.000000     500.000000     500.000000   \n",
       "25%    1.019354e+07    1213.550000    1620.220000    1788.000000   \n",
       "50%    1.038708e+07    1715.320000    3356.730000    3728.060000   \n",
       "75%    1.058062e+07    2338.690000    6671.280000    7161.760000   \n",
       "max    1.077416e+07    6999.650000   13997.900000   13999.300000   \n",
       "\n",
       "       cluster_catgeory  dry_sales_numeric  fresh_sales_numeric  \\\n",
       "count     774149.000000      774112.000000        774104.000000   \n",
       "mean           3.292104        4676.283285          4428.688842   \n",
       "std            1.867014        3409.384253          3334.667387   \n",
       "min            1.000000         500.000000           500.000000   \n",
       "25%            2.000000        1787.940000          1620.190000   \n",
       "50%            3.000000        3727.760000          3356.510000   \n",
       "75%            5.000000        7162.200000          6671.610000   \n",
       "max            6.000000       13999.300000         13997.900000   \n",
       "\n",
       "       luxury_sales_numeric  clusterCategory_numeric  \n",
       "count         774111.000000            774148.000000  \n",
       "mean            1921.968250                 3.292100  \n",
       "std             1004.082949                 1.867013  \n",
       "min              500.000000                 1.000000  \n",
       "25%             1213.525000                 2.000000  \n",
       "50%             1715.280000                 3.000000  \n",
       "75%             2338.700000                 5.000000  \n",
       "max             6999.650000                 6.000000  "
      ]
     },
     "execution_count": 49,
     "metadata": {},
     "output_type": "execute_result"
    }
   ],
   "source": [
    "train_df.describe()"
   ]
  },
  {
   "cell_type": "code",
   "execution_count": 50,
   "id": "fc3aac4b",
   "metadata": {
    "execution": {
     "iopub.execute_input": "2024-05-19T08:39:14.750870Z",
     "iopub.status.busy": "2024-05-19T08:39:14.749811Z",
     "iopub.status.idle": "2024-05-19T08:39:14.771836Z",
     "shell.execute_reply": "2024-05-19T08:39:14.770254Z"
    },
    "papermill": {
     "duration": 0.050708,
     "end_time": "2024-05-19T08:39:14.774350",
     "exception": false,
     "start_time": "2024-05-19T08:39:14.723642",
     "status": "completed"
    },
    "tags": []
   },
   "outputs": [
    {
     "name": "stdout",
     "output_type": "stream",
     "text": [
      "   Customer_ID  luxury_sales  fresh_sales  dry_sales  cluster_catgeory  \\\n",
      "0     10493832       1209.60       756.00    5292.00                 4   \n",
      "1     10178643       1590.12      1060.08    6007.12                 1   \n",
      "2     10513916       2288.88      1481.04    9155.52                 4   \n",
      "3     10334589       2274.94      1739.66    9099.76                 4   \n",
      "4     10458365       2345.49      2069.55    9243.99                 4   \n",
      "\n",
      "   dry_sales_numeric  fresh_sales_numeric  luxury_sales_numeric  \\\n",
      "0            5292.00               756.00               1209.60   \n",
      "1            6007.12              1060.08               1590.12   \n",
      "2            9155.52              1481.04               2288.88   \n",
      "3            9099.76              1739.66               2274.94   \n",
      "4            9243.99              2069.55               2345.49   \n",
      "\n",
      "   clusterCategory_numeric  outlet_city_Batticaloa  ...  outlet_city_Kelaniya  \\\n",
      "0                      4.0                   False  ...                  True   \n",
      "1                      1.0                   False  ...                 False   \n",
      "2                      4.0                   False  ...                 False   \n",
      "3                      4.0                   False  ...                 False   \n",
      "4                      4.0                   False  ...                  True   \n",
      "\n",
      "   outlet_city_Kotte  outlet_city_Moratuwa  outlet_city_Negombo  \\\n",
      "0              False                 False                False   \n",
      "1              False                  True                False   \n",
      "2              False                 False                False   \n",
      "3              False                 False                False   \n",
      "4              False                 False                False   \n",
      "\n",
      "   outlet_city_Nuwara Eliya  outlet_city_Panadura  outlet_city_Peliyagoda  \\\n",
      "0                     False                 False                   False   \n",
      "1                     False                 False                   False   \n",
      "2                     False                 False                   False   \n",
      "3                     False                 False                   False   \n",
      "4                     False                 False                   False   \n",
      "\n",
      "   outlet_city_Trincomalee  outlet_city_Wattala  total_sales  \n",
      "0                    False                False      7257.60  \n",
      "1                    False                False      8657.32  \n",
      "2                    False                 True     12925.44  \n",
      "3                    False                 True     13114.36  \n",
      "4                    False                False     13659.03  \n",
      "\n",
      "[5 rows x 30 columns]\n"
     ]
    }
   ],
   "source": [
    "# Create 'total_sales' column by summing 'luxury_sales', 'fresh_sales', and 'dry_sales'\n",
    "train_df['total_sales'] = train_df['luxury_sales'] + train_df['fresh_sales'] + train_df['dry_sales']\n",
    "\n",
    "# Display the first few rows of the DataFrame to verify the new column\n",
    "print(train_df.head())\n"
   ]
  },
  {
   "cell_type": "code",
   "execution_count": 51,
   "id": "2192547b",
   "metadata": {
    "execution": {
     "iopub.execute_input": "2024-05-19T08:39:14.825959Z",
     "iopub.status.busy": "2024-05-19T08:39:14.824829Z",
     "iopub.status.idle": "2024-05-19T08:39:14.894627Z",
     "shell.execute_reply": "2024-05-19T08:39:14.893646Z"
    },
    "papermill": {
     "duration": 0.097862,
     "end_time": "2024-05-19T08:39:14.897154",
     "exception": false,
     "start_time": "2024-05-19T08:39:14.799292",
     "status": "completed"
    },
    "tags": []
   },
   "outputs": [],
   "source": [
    "\n",
    "# Extract the columns to be scaled\n",
    "columns_to_scale = ['luxury_sales', 'fresh_sales', 'dry_sales','total_sales']\n",
    "\n",
    "# Initialize the StandardScaler\n",
    "scaler = StandardScaler()\n",
    "\n",
    "# Fit the scaler to the data and transform the columns\n",
    "train_df[columns_to_scale] = scaler.fit_transform(train_df[columns_to_scale])"
   ]
  },
  {
   "cell_type": "markdown",
   "id": "cc759827",
   "metadata": {
    "papermill": {
     "duration": 0.023943,
     "end_time": "2024-05-19T08:39:14.945463",
     "exception": false,
     "start_time": "2024-05-19T08:39:14.921520",
     "status": "completed"
    },
    "tags": []
   },
   "source": [
    "# Testing data set"
   ]
  },
  {
   "cell_type": "code",
   "execution_count": 52,
   "id": "5bdac508",
   "metadata": {
    "execution": {
     "iopub.execute_input": "2024-05-19T08:39:14.997597Z",
     "iopub.status.busy": "2024-05-19T08:39:14.996719Z",
     "iopub.status.idle": "2024-05-19T08:39:15.009208Z",
     "shell.execute_reply": "2024-05-19T08:39:15.008041Z"
    },
    "papermill": {
     "duration": 0.041226,
     "end_time": "2024-05-19T08:39:15.011417",
     "exception": false,
     "start_time": "2024-05-19T08:39:14.970191",
     "status": "completed"
    },
    "tags": []
   },
   "outputs": [
    {
     "data": {
      "text/html": [
       "<div>\n",
       "<style scoped>\n",
       "    .dataframe tbody tr th:only-of-type {\n",
       "        vertical-align: middle;\n",
       "    }\n",
       "\n",
       "    .dataframe tbody tr th {\n",
       "        vertical-align: top;\n",
       "    }\n",
       "\n",
       "    .dataframe thead th {\n",
       "        text-align: right;\n",
       "    }\n",
       "</style>\n",
       "<table border=\"1\" class=\"dataframe\">\n",
       "  <thead>\n",
       "    <tr style=\"text-align: right;\">\n",
       "      <th></th>\n",
       "      <th>Customer_ID</th>\n",
       "      <th>outlet_city</th>\n",
       "      <th>luxury_sales</th>\n",
       "      <th>fresh_sales</th>\n",
       "      <th>dry_sales</th>\n",
       "    </tr>\n",
       "  </thead>\n",
       "  <tbody>\n",
       "    <tr>\n",
       "      <th>0</th>\n",
       "      <td>33574</td>\n",
       "      <td>batticaloa</td>\n",
       "      <td>2686.5</td>\n",
       "      <td>3582</td>\n",
       "      <td>12537</td>\n",
       "    </tr>\n",
       "    <tr>\n",
       "      <th>1</th>\n",
       "      <td>10089</td>\n",
       "      <td>batticaloa</td>\n",
       "      <td>1717.56</td>\n",
       "      <td>2576.34</td>\n",
       "      <td>9446.58</td>\n",
       "    </tr>\n",
       "    <tr>\n",
       "      <th>2</th>\n",
       "      <td>38329</td>\n",
       "      <td>batticaloa</td>\n",
       "      <td>854.04</td>\n",
       "      <td>1242.24</td>\n",
       "      <td>5201.88</td>\n",
       "    </tr>\n",
       "    <tr>\n",
       "      <th>3</th>\n",
       "      <td>11376</td>\n",
       "      <td>batticaloa</td>\n",
       "      <td>1638.12</td>\n",
       "      <td>2320.67</td>\n",
       "      <td>9282.68</td>\n",
       "    </tr>\n",
       "    <tr>\n",
       "      <th>4</th>\n",
       "      <td>12410</td>\n",
       "      <td>batticaloa</td>\n",
       "      <td>1039.09</td>\n",
       "      <td>1518.67</td>\n",
       "      <td>5435.24</td>\n",
       "    </tr>\n",
       "  </tbody>\n",
       "</table>\n",
       "</div>"
      ],
      "text/plain": [
       "   Customer_ID outlet_city luxury_sales fresh_sales dry_sales\n",
       "0        33574  batticaloa       2686.5        3582     12537\n",
       "1        10089  batticaloa      1717.56     2576.34   9446.58\n",
       "2        38329  batticaloa       854.04     1242.24   5201.88\n",
       "3        11376  batticaloa      1638.12     2320.67   9282.68\n",
       "4        12410  batticaloa      1039.09     1518.67   5435.24"
      ]
     },
     "execution_count": 52,
     "metadata": {},
     "output_type": "execute_result"
    }
   ],
   "source": [
    "test_df.head()"
   ]
  },
  {
   "cell_type": "markdown",
   "id": "e637aa54",
   "metadata": {
    "papermill": {
     "duration": 0.02485,
     "end_time": "2024-05-19T08:39:15.062552",
     "exception": false,
     "start_time": "2024-05-19T08:39:15.037702",
     "status": "completed"
    },
    "tags": []
   },
   "source": [
    "# luxury_sales"
   ]
  },
  {
   "cell_type": "code",
   "execution_count": 53,
   "id": "78b3ccf1",
   "metadata": {
    "execution": {
     "iopub.execute_input": "2024-05-19T08:39:15.116821Z",
     "iopub.status.busy": "2024-05-19T08:39:15.115913Z",
     "iopub.status.idle": "2024-05-19T08:39:15.143941Z",
     "shell.execute_reply": "2024-05-19T08:39:15.142594Z"
    },
    "papermill": {
     "duration": 0.057789,
     "end_time": "2024-05-19T08:39:15.146154",
     "exception": false,
     "start_time": "2024-05-19T08:39:15.088365",
     "status": "completed"
    },
    "tags": []
   },
   "outputs": [
    {
     "name": "stdout",
     "output_type": "stream",
     "text": [
      "      Customer_ID                       luxury_sales\n",
      "6           10364   Seven Hundread and sixty Ruppees\n",
      "6299         4059  Eight Hundread and fifteen ruppes\n"
     ]
    }
   ],
   "source": [
    "# Convert 'dry_sales' column to numeric, coerce errors to NaN\n",
    "test_df['luxury_sales_numeric'] = pd.to_numeric(test_df['luxury_sales'], errors='coerce')\n",
    "\n",
    "# Find rows where 'dry_sales' could not be converted to numeric\n",
    "invalid_rows = test_df[test_df['luxury_sales_numeric'].isna()]\n",
    "\n",
    "# Display rows with invalid 'dry_sales' values\n",
    "print(invalid_rows[['Customer_ID', 'luxury_sales']])\n"
   ]
  },
  {
   "cell_type": "code",
   "execution_count": 54,
   "id": "8f77a9f1",
   "metadata": {
    "execution": {
     "iopub.execute_input": "2024-05-19T08:39:15.197565Z",
     "iopub.status.busy": "2024-05-19T08:39:15.197192Z",
     "iopub.status.idle": "2024-05-19T08:39:15.208944Z",
     "shell.execute_reply": "2024-05-19T08:39:15.207598Z"
    },
    "papermill": {
     "duration": 0.04015,
     "end_time": "2024-05-19T08:39:15.211267",
     "exception": false,
     "start_time": "2024-05-19T08:39:15.171117",
     "status": "completed"
    },
    "tags": []
   },
   "outputs": [
    {
     "name": "stdout",
     "output_type": "stream",
     "text": [
      "   Customer_ID outlet_city luxury_sales fresh_sales dry_sales  \\\n",
      "6        10364  batticaloa          760       914.4    3352.8   \n",
      "\n",
      "   luxury_sales_numeric  \n",
      "6                   NaN  \n"
     ]
    }
   ],
   "source": [
    "# Locate the row with Customer_ID 10604532 and change the value of cluster_catgeory to 6\n",
    "test_df.loc[test_df['Customer_ID'] == 10364  , 'luxury_sales'] =760\n",
    "# Verify the change\n",
    "print(test_df[test_df['Customer_ID'] == 10364  ])"
   ]
  },
  {
   "cell_type": "code",
   "execution_count": 55,
   "id": "58601af3",
   "metadata": {
    "execution": {
     "iopub.execute_input": "2024-05-19T08:39:15.263461Z",
     "iopub.status.busy": "2024-05-19T08:39:15.262800Z",
     "iopub.status.idle": "2024-05-19T08:39:15.273301Z",
     "shell.execute_reply": "2024-05-19T08:39:15.272065Z"
    },
    "papermill": {
     "duration": 0.038909,
     "end_time": "2024-05-19T08:39:15.275515",
     "exception": false,
     "start_time": "2024-05-19T08:39:15.236606",
     "status": "completed"
    },
    "tags": []
   },
   "outputs": [
    {
     "name": "stdout",
     "output_type": "stream",
     "text": [
      "      Customer_ID   outlet_city luxury_sales fresh_sales dry_sales  \\\n",
      "6299         4059  Anuradhapura          815     1548.69    5705.7   \n",
      "\n",
      "      luxury_sales_numeric  \n",
      "6299                   NaN  \n"
     ]
    }
   ],
   "source": [
    "# Locate the row with Customer_ID 10604532 and change the value of cluster_catgeory to 6\n",
    "test_df.loc[test_df['Customer_ID'] == 4059 , 'luxury_sales'] =815\n",
    "# Verify the change\n",
    "print(test_df[test_df['Customer_ID'] == 4059 ])"
   ]
  },
  {
   "cell_type": "markdown",
   "id": "18975afd",
   "metadata": {
    "papermill": {
     "duration": 0.024963,
     "end_time": "2024-05-19T08:39:15.325908",
     "exception": false,
     "start_time": "2024-05-19T08:39:15.300945",
     "status": "completed"
    },
    "tags": []
   },
   "source": [
    "# fresh_sales"
   ]
  },
  {
   "cell_type": "code",
   "execution_count": 56,
   "id": "99d77175",
   "metadata": {
    "execution": {
     "iopub.execute_input": "2024-05-19T08:39:15.379004Z",
     "iopub.status.busy": "2024-05-19T08:39:15.377906Z",
     "iopub.status.idle": "2024-05-19T08:39:15.404968Z",
     "shell.execute_reply": "2024-05-19T08:39:15.403707Z"
    },
    "papermill": {
     "duration": 0.056266,
     "end_time": "2024-05-19T08:39:15.407291",
     "exception": false,
     "start_time": "2024-05-19T08:39:15.351025",
     "status": "completed"
    },
    "tags": []
   },
   "outputs": [
    {
     "name": "stdout",
     "output_type": "stream",
     "text": [
      "       Customer_ID            fresh_sales\n",
      "13949        28662  Nine thousand ruppess\n"
     ]
    }
   ],
   "source": [
    "# Convert 'dry_sales' column to numeric, coerce errors to NaN\n",
    "test_df['fresh_sales_numeric'] = pd.to_numeric(test_df['fresh_sales'], errors='coerce')\n",
    "\n",
    "# Find rows where 'dry_sales' could not be converted to numeric\n",
    "invalid_rows = test_df[test_df['fresh_sales_numeric'].isna()]\n",
    "\n",
    "# Display rows with invalid 'dry_sales' values\n",
    "print(invalid_rows[['Customer_ID', 'fresh_sales']])\n"
   ]
  },
  {
   "cell_type": "code",
   "execution_count": 57,
   "id": "8d3dd0a0",
   "metadata": {
    "execution": {
     "iopub.execute_input": "2024-05-19T08:39:15.461912Z",
     "iopub.status.busy": "2024-05-19T08:39:15.461550Z",
     "iopub.status.idle": "2024-05-19T08:39:15.473442Z",
     "shell.execute_reply": "2024-05-19T08:39:15.472080Z"
    },
    "papermill": {
     "duration": 0.040426,
     "end_time": "2024-05-19T08:39:15.475703",
     "exception": false,
     "start_time": "2024-05-19T08:39:15.435277",
     "status": "completed"
    },
    "tags": []
   },
   "outputs": [
    {
     "name": "stdout",
     "output_type": "stream",
     "text": [
      "       Customer_ID outlet_city luxury_sales fresh_sales dry_sales  \\\n",
      "13949        28662      Jaffna      2195.84        9000   1509.64   \n",
      "\n",
      "       luxury_sales_numeric  fresh_sales_numeric  \n",
      "13949               2195.84                  NaN  \n"
     ]
    }
   ],
   "source": [
    "# Locate the row with Customer_ID 10604532 and change the value of cluster_catgeory to 6\n",
    "test_df.loc[test_df['Customer_ID'] == 28662  , 'fresh_sales'] = 9000\n",
    "# Verify the change\n",
    "print(test_df[test_df['Customer_ID'] == 28662  ])\n"
   ]
  },
  {
   "cell_type": "markdown",
   "id": "75755beb",
   "metadata": {
    "papermill": {
     "duration": 0.025533,
     "end_time": "2024-05-19T08:39:15.526949",
     "exception": false,
     "start_time": "2024-05-19T08:39:15.501416",
     "status": "completed"
    },
    "tags": []
   },
   "source": [
    "# dry_sales"
   ]
  },
  {
   "cell_type": "code",
   "execution_count": 58,
   "id": "7264b987",
   "metadata": {
    "execution": {
     "iopub.execute_input": "2024-05-19T08:39:15.581427Z",
     "iopub.status.busy": "2024-05-19T08:39:15.580983Z",
     "iopub.status.idle": "2024-05-19T08:39:15.607486Z",
     "shell.execute_reply": "2024-05-19T08:39:15.606279Z"
    },
    "papermill": {
     "duration": 0.056734,
     "end_time": "2024-05-19T08:39:15.609862",
     "exception": false,
     "start_time": "2024-05-19T08:39:15.553128",
     "status": "completed"
    },
    "tags": []
   },
   "outputs": [
    {
     "name": "stdout",
     "output_type": "stream",
     "text": [
      "       Customer_ID                              dry_sales\n",
      "40746        28664  Three Thousand seven hundread ruppees\n"
     ]
    }
   ],
   "source": [
    "# Convert 'dry_sales' column to numeric, coerce errors to NaN\n",
    "test_df['dry_sales_numeric'] = pd.to_numeric(test_df['dry_sales'], errors='coerce')\n",
    "\n",
    "# Find rows where 'dry_sales' could not be converted to numeric\n",
    "invalid_rows = test_df[test_df['dry_sales_numeric'].isna()]\n",
    "\n",
    "# Display rows with invalid 'dry_sales' values\n",
    "print(invalid_rows[['Customer_ID', 'dry_sales']])\n"
   ]
  },
  {
   "cell_type": "code",
   "execution_count": 59,
   "id": "201484e8",
   "metadata": {
    "execution": {
     "iopub.execute_input": "2024-05-19T08:39:15.662374Z",
     "iopub.status.busy": "2024-05-19T08:39:15.661977Z",
     "iopub.status.idle": "2024-05-19T08:39:15.673846Z",
     "shell.execute_reply": "2024-05-19T08:39:15.672582Z"
    },
    "papermill": {
     "duration": 0.041042,
     "end_time": "2024-05-19T08:39:15.676240",
     "exception": false,
     "start_time": "2024-05-19T08:39:15.635198",
     "status": "completed"
    },
    "tags": []
   },
   "outputs": [
    {
     "name": "stdout",
     "output_type": "stream",
     "text": [
      "       Customer_ID outlet_city luxury_sales fresh_sales dry_sales  \\\n",
      "40746        28664     Wattala       3838.6      3951.5      3700   \n",
      "\n",
      "       luxury_sales_numeric  fresh_sales_numeric  dry_sales_numeric  \n",
      "40746                3838.6               3951.5                NaN  \n"
     ]
    }
   ],
   "source": [
    "# Locate the row with Customer_ID 10604532 and change the value of cluster_catgeory to 6\n",
    "test_df.loc[test_df['Customer_ID'] == 28664  , 'dry_sales'] = 3700\n",
    "\n",
    "# Verify the change\n",
    "print(test_df[test_df['Customer_ID'] == 28664  ])\n"
   ]
  },
  {
   "cell_type": "code",
   "execution_count": 60,
   "id": "40be3b9f",
   "metadata": {
    "execution": {
     "iopub.execute_input": "2024-05-19T08:39:15.729876Z",
     "iopub.status.busy": "2024-05-19T08:39:15.729267Z",
     "iopub.status.idle": "2024-05-19T08:39:15.751156Z",
     "shell.execute_reply": "2024-05-19T08:39:15.749780Z"
    },
    "papermill": {
     "duration": 0.05122,
     "end_time": "2024-05-19T08:39:15.753478",
     "exception": false,
     "start_time": "2024-05-19T08:39:15.702258",
     "status": "completed"
    },
    "tags": []
   },
   "outputs": [
    {
     "data": {
      "text/plain": [
       "Customer_ID             0\n",
       "outlet_city             0\n",
       "luxury_sales            0\n",
       "fresh_sales             0\n",
       "dry_sales               0\n",
       "luxury_sales_numeric    2\n",
       "fresh_sales_numeric     1\n",
       "dry_sales_numeric       1\n",
       "dtype: int64"
      ]
     },
     "execution_count": 60,
     "metadata": {},
     "output_type": "execute_result"
    }
   ],
   "source": [
    "test_df.isnull().sum()"
   ]
  },
  {
   "cell_type": "markdown",
   "id": "7d0530bc",
   "metadata": {
    "papermill": {
     "duration": 0.025112,
     "end_time": "2024-05-19T08:39:15.804337",
     "exception": false,
     "start_time": "2024-05-19T08:39:15.779225",
     "status": "completed"
    },
    "tags": []
   },
   "source": [
    "# convert NAN values in test data set"
   ]
  },
  {
   "cell_type": "code",
   "execution_count": 61,
   "id": "dc200721",
   "metadata": {
    "execution": {
     "iopub.execute_input": "2024-05-19T08:39:15.858066Z",
     "iopub.status.busy": "2024-05-19T08:39:15.857722Z",
     "iopub.status.idle": "2024-05-19T08:39:15.916604Z",
     "shell.execute_reply": "2024-05-19T08:39:15.915585Z"
    },
    "papermill": {
     "duration": 0.088373,
     "end_time": "2024-05-19T08:39:15.918965",
     "exception": false,
     "start_time": "2024-05-19T08:39:15.830592",
     "status": "completed"
    },
    "tags": []
   },
   "outputs": [],
   "source": [
    "# Convert columns 3, 4, and 5 to numeric types, coercing errors to NaN\n",
    "test_df[['luxury_sales', 'fresh_sales', 'dry_sales']] = test_df[['luxury_sales', 'fresh_sales', 'dry_sales']].apply(pd.to_numeric, errors='coerce')\n",
    "\n",
    "# Replace NaN values with mean of each column\n",
    "test_df['luxury_sales'] = test_df['luxury_sales'].fillna(test_df['luxury_sales'].mean())\n",
    "test_df['fresh_sales'] =test_df['fresh_sales'].fillna(test_df['fresh_sales'].mean())\n",
    "test_df['dry_sales'] = test_df['dry_sales'].fillna(test_df['dry_sales'].mean())\n"
   ]
  },
  {
   "cell_type": "code",
   "execution_count": null,
   "id": "1682301a",
   "metadata": {
    "papermill": {
     "duration": 0.025262,
     "end_time": "2024-05-19T08:39:15.969532",
     "exception": false,
     "start_time": "2024-05-19T08:39:15.944270",
     "status": "completed"
    },
    "tags": []
   },
   "outputs": [],
   "source": []
  },
  {
   "cell_type": "code",
   "execution_count": null,
   "id": "16a237ed",
   "metadata": {
    "papermill": {
     "duration": 0.025628,
     "end_time": "2024-05-19T08:39:16.020482",
     "exception": false,
     "start_time": "2024-05-19T08:39:15.994854",
     "status": "completed"
    },
    "tags": []
   },
   "outputs": [],
   "source": []
  },
  {
   "cell_type": "code",
   "execution_count": 62,
   "id": "3146a9fe",
   "metadata": {
    "execution": {
     "iopub.execute_input": "2024-05-19T08:39:16.073442Z",
     "iopub.status.busy": "2024-05-19T08:39:16.073039Z",
     "iopub.status.idle": "2024-05-19T08:39:16.085535Z",
     "shell.execute_reply": "2024-05-19T08:39:16.084109Z"
    },
    "papermill": {
     "duration": 0.041722,
     "end_time": "2024-05-19T08:39:16.087748",
     "exception": false,
     "start_time": "2024-05-19T08:39:16.046026",
     "status": "completed"
    },
    "tags": []
   },
   "outputs": [
    {
     "name": "stdout",
     "output_type": "stream",
     "text": [
      "   Customer_ID outlet_city  luxury_sales  fresh_sales  dry_sales  \\\n",
      "0        33574  batticaloa       2686.50      3582.00   12537.00   \n",
      "1        10089  batticaloa       1717.56      2576.34    9446.58   \n",
      "2        38329  batticaloa        854.04      1242.24    5201.88   \n",
      "3        11376  batticaloa       1638.12      2320.67    9282.68   \n",
      "4        12410  batticaloa       1039.09      1518.67    5435.24   \n",
      "\n",
      "   luxury_sales_numeric  fresh_sales_numeric  dry_sales_numeric  total_sales  \n",
      "0               2686.50              3582.00           12537.00     18805.50  \n",
      "1               1717.56              2576.34            9446.58     13740.48  \n",
      "2                854.04              1242.24            5201.88      7298.16  \n",
      "3               1638.12              2320.67            9282.68     13241.47  \n",
      "4               1039.09              1518.67            5435.24      7993.00  \n"
     ]
    }
   ],
   "source": [
    "# Create 'total_sales' column by summing 'luxury_sales', 'fresh_sales', and 'dry_sales'\n",
    "test_df['total_sales'] = test_df['luxury_sales'] + test_df['fresh_sales'] + test_df['dry_sales']\n",
    "\n",
    "# Display the first few rows of the DataFrame to verify the new column\n",
    "print(test_df.head())\n"
   ]
  },
  {
   "cell_type": "code",
   "execution_count": 63,
   "id": "0d9e769a",
   "metadata": {
    "execution": {
     "iopub.execute_input": "2024-05-19T08:39:16.141929Z",
     "iopub.status.busy": "2024-05-19T08:39:16.141519Z",
     "iopub.status.idle": "2024-05-19T08:39:16.154616Z",
     "shell.execute_reply": "2024-05-19T08:39:16.153540Z"
    },
    "papermill": {
     "duration": 0.042491,
     "end_time": "2024-05-19T08:39:16.156796",
     "exception": false,
     "start_time": "2024-05-19T08:39:16.114305",
     "status": "completed"
    },
    "tags": []
   },
   "outputs": [],
   "source": [
    "# Extract the columns to be scaled\n",
    "columns_to_scale = ['luxury_sales', 'fresh_sales', 'dry_sales','total_sales']\n",
    "\n",
    "# Initialize the StandardScaler\n",
    "scaler = StandardScaler()\n",
    "\n",
    "# Fit the scaler to the data and transform the columns\n",
    "test_df[columns_to_scale] = scaler.fit_transform(test_df[columns_to_scale])"
   ]
  },
  {
   "cell_type": "code",
   "execution_count": 64,
   "id": "c4eab230",
   "metadata": {
    "execution": {
     "iopub.execute_input": "2024-05-19T08:39:16.210030Z",
     "iopub.status.busy": "2024-05-19T08:39:16.208734Z",
     "iopub.status.idle": "2024-05-19T08:39:16.234328Z",
     "shell.execute_reply": "2024-05-19T08:39:16.232503Z"
    },
    "papermill": {
     "duration": 0.054353,
     "end_time": "2024-05-19T08:39:16.236558",
     "exception": false,
     "start_time": "2024-05-19T08:39:16.182205",
     "status": "completed"
    },
    "tags": []
   },
   "outputs": [
    {
     "name": "stdout",
     "output_type": "stream",
     "text": [
      "   Customer_ID  luxury_sales  fresh_sales  dry_sales  luxury_sales_numeric  \\\n",
      "0        33574      0.756569    -0.257052   2.300097               2686.50   \n",
      "1        10089     -0.208718    -0.557303   1.394065               1717.56   \n",
      "2        38329     -1.068982    -0.955614   0.149628                854.04   \n",
      "3        11376     -0.287859    -0.633636   1.346014               1638.12   \n",
      "4        12410     -0.884630    -0.873082   0.218043               1039.09   \n",
      "\n",
      "   fresh_sales_numeric  dry_sales_numeric  total_sales  \\\n",
      "0              3582.00           12537.00     2.020720   \n",
      "1              2576.34            9446.58     0.699045   \n",
      "2              1242.24            5201.88    -0.982024   \n",
      "3              2320.67            9282.68     0.568833   \n",
      "4              1518.67            5435.24    -0.800712   \n",
      "\n",
      "   outlet_city_Anuradhapura  outlet_city_Batticaloa  ...  outlet_city_Negombo  \\\n",
      "0                     False                   False  ...                False   \n",
      "1                     False                   False  ...                False   \n",
      "2                     False                   False  ...                False   \n",
      "3                     False                   False  ...                False   \n",
      "4                     False                   False  ...                False   \n",
      "\n",
      "   outlet_city_Nuwara Eliya  outlet_city_Panadura  outlet_city_PeliyagodA  \\\n",
      "0                     False                 False                   False   \n",
      "1                     False                 False                   False   \n",
      "2                     False                 False                   False   \n",
      "3                     False                 False                   False   \n",
      "4                     False                 False                   False   \n",
      "\n",
      "   outlet_city_Peliyagoda  outlet_city_Trincomale  outlet_city_Trincomalee  \\\n",
      "0                   False                   False                    False   \n",
      "1                   False                   False                    False   \n",
      "2                   False                   False                    False   \n",
      "3                   False                   False                    False   \n",
      "4                   False                   False                    False   \n",
      "\n",
      "   outlet_city_Wattala  outlet_city_batticaloa  outlet_city_kalmunai  \n",
      "0                False                    True                 False  \n",
      "1                False                    True                 False  \n",
      "2                False                    True                 False  \n",
      "3                False                    True                 False  \n",
      "4                False                    True                 False  \n",
      "\n",
      "[5 rows x 35 columns]\n"
     ]
    }
   ],
   "source": [
    "# One-hot encode the 'outlet_city' column\n",
    "test_df = pd.get_dummies(test_df, columns=['outlet_city'])\n",
    "\n",
    "# Display the first few rows of the DataFrame to verify the changes\n",
    "print(test_df.head())\n"
   ]
  },
  {
   "cell_type": "code",
   "execution_count": 65,
   "id": "4c16ab59",
   "metadata": {
    "execution": {
     "iopub.execute_input": "2024-05-19T08:39:16.289752Z",
     "iopub.status.busy": "2024-05-19T08:39:16.288703Z",
     "iopub.status.idle": "2024-05-19T08:39:16.295018Z",
     "shell.execute_reply": "2024-05-19T08:39:16.293784Z"
    },
    "papermill": {
     "duration": 0.035223,
     "end_time": "2024-05-19T08:39:16.297471",
     "exception": false,
     "start_time": "2024-05-19T08:39:16.262248",
     "status": "completed"
    },
    "tags": []
   },
   "outputs": [],
   "source": [
    "# Convert 'Customer_ID' to integer\n",
    "test_df['Customer_ID'] = test_df['Customer_ID'].astype(int)\n",
    "\n",
    "\n"
   ]
  },
  {
   "cell_type": "code",
   "execution_count": 66,
   "id": "741e1735",
   "metadata": {
    "execution": {
     "iopub.execute_input": "2024-05-19T08:39:16.352505Z",
     "iopub.status.busy": "2024-05-19T08:39:16.351451Z",
     "iopub.status.idle": "2024-05-19T08:39:16.361887Z",
     "shell.execute_reply": "2024-05-19T08:39:16.360748Z"
    },
    "papermill": {
     "duration": 0.041188,
     "end_time": "2024-05-19T08:39:16.364144",
     "exception": false,
     "start_time": "2024-05-19T08:39:16.322956",
     "status": "completed"
    },
    "tags": []
   },
   "outputs": [
    {
     "data": {
      "text/plain": [
       "Customer_ID                             int64\n",
       "luxury_sales                          float64\n",
       "fresh_sales                           float64\n",
       "dry_sales                             float64\n",
       "luxury_sales_numeric                  float64\n",
       "fresh_sales_numeric                   float64\n",
       "dry_sales_numeric                     float64\n",
       "total_sales                           float64\n",
       "outlet_city_Anuradhapura                 bool\n",
       "outlet_city_Batticaloa                   bool\n",
       "outlet_city_Colombo                      bool\n",
       "outlet_city_Dehiwala-Mount Lavinia       bool\n",
       "outlet_city_Galle                        bool\n",
       "outlet_city_Gampaha                      bool\n",
       "outlet_city_Homagama                     bool\n",
       "outlet_city_Jaffna                       bool\n",
       "outlet_city_Kaduwela                     bool\n",
       "outlet_city_Kalmunai                     bool\n",
       "outlet_city_Kandy                        bool\n",
       "outlet_city_Katunayake                   bool\n",
       "outlet_city_Kelaniya                     bool\n",
       "outlet_city_Kotte                        bool\n",
       "outlet_city_Madawachiya                  bool\n",
       "outlet_city_MoraTuwa                     bool\n",
       "outlet_city_Moratuwa                     bool\n",
       "outlet_city_Negombo                      bool\n",
       "outlet_city_Nuwara Eliya                 bool\n",
       "outlet_city_Panadura                     bool\n",
       "outlet_city_PeliyagodA                   bool\n",
       "outlet_city_Peliyagoda                   bool\n",
       "outlet_city_Trincomale                   bool\n",
       "outlet_city_Trincomalee                  bool\n",
       "outlet_city_Wattala                      bool\n",
       "outlet_city_batticaloa                   bool\n",
       "outlet_city_kalmunai                     bool\n",
       "dtype: object"
      ]
     },
     "execution_count": 66,
     "metadata": {},
     "output_type": "execute_result"
    }
   ],
   "source": [
    "test_df.dtypes"
   ]
  },
  {
   "cell_type": "code",
   "execution_count": 67,
   "id": "fb5113d5",
   "metadata": {
    "execution": {
     "iopub.execute_input": "2024-05-19T08:39:16.418361Z",
     "iopub.status.busy": "2024-05-19T08:39:16.417962Z",
     "iopub.status.idle": "2024-05-19T08:39:16.425601Z",
     "shell.execute_reply": "2024-05-19T08:39:16.424447Z"
    },
    "papermill": {
     "duration": 0.037372,
     "end_time": "2024-05-19T08:39:16.428054",
     "exception": false,
     "start_time": "2024-05-19T08:39:16.390682",
     "status": "completed"
    },
    "tags": []
   },
   "outputs": [
    {
     "data": {
      "text/plain": [
       "Customer_ID                             int64\n",
       "luxury_sales                          float64\n",
       "fresh_sales                           float64\n",
       "dry_sales                             float64\n",
       "cluster_catgeory                        int64\n",
       "dry_sales_numeric                     float64\n",
       "fresh_sales_numeric                   float64\n",
       "luxury_sales_numeric                  float64\n",
       "clusterCategory_numeric               float64\n",
       "outlet_city_Batticaloa                   bool\n",
       "outlet_city_Colombo                      bool\n",
       "outlet_city_Dehiwala-Mount Lavinia       bool\n",
       "outlet_city_Galle                        bool\n",
       "outlet_city_Gampaha                      bool\n",
       "outlet_city_Homagama                     bool\n",
       "outlet_city_Jaffna                       bool\n",
       "outlet_city_Kaduwela                     bool\n",
       "outlet_city_Kalmunai                     bool\n",
       "outlet_city_Kandy                        bool\n",
       "outlet_city_Katunayake                   bool\n",
       "outlet_city_Kelaniya                     bool\n",
       "outlet_city_Kotte                        bool\n",
       "outlet_city_Moratuwa                     bool\n",
       "outlet_city_Negombo                      bool\n",
       "outlet_city_Nuwara Eliya                 bool\n",
       "outlet_city_Panadura                     bool\n",
       "outlet_city_Peliyagoda                   bool\n",
       "outlet_city_Trincomalee                  bool\n",
       "outlet_city_Wattala                      bool\n",
       "total_sales                           float64\n",
       "dtype: object"
      ]
     },
     "execution_count": 67,
     "metadata": {},
     "output_type": "execute_result"
    }
   ],
   "source": [
    "train_df.dtypes"
   ]
  },
  {
   "cell_type": "markdown",
   "id": "f2c39c45",
   "metadata": {
    "papermill": {
     "duration": 0.032606,
     "end_time": "2024-05-19T08:39:16.492891",
     "exception": false,
     "start_time": "2024-05-19T08:39:16.460285",
     "status": "completed"
    },
    "tags": []
   },
   "source": [
    "# finishing cleaning the training dataset"
   ]
  },
  {
   "cell_type": "code",
   "execution_count": 68,
   "id": "b2b11abb",
   "metadata": {
    "execution": {
     "iopub.execute_input": "2024-05-19T08:39:16.552731Z",
     "iopub.status.busy": "2024-05-19T08:39:16.552362Z",
     "iopub.status.idle": "2024-05-19T08:39:16.955161Z",
     "shell.execute_reply": "2024-05-19T08:39:16.953880Z"
    },
    "papermill": {
     "duration": 0.432848,
     "end_time": "2024-05-19T08:39:16.957685",
     "exception": false,
     "start_time": "2024-05-19T08:39:16.524837",
     "status": "completed"
    },
    "tags": []
   },
   "outputs": [
    {
     "data": {
      "text/html": [
       "<div>\n",
       "<style scoped>\n",
       "    .dataframe tbody tr th:only-of-type {\n",
       "        vertical-align: middle;\n",
       "    }\n",
       "\n",
       "    .dataframe tbody tr th {\n",
       "        vertical-align: top;\n",
       "    }\n",
       "\n",
       "    .dataframe thead th {\n",
       "        text-align: right;\n",
       "    }\n",
       "</style>\n",
       "<table border=\"1\" class=\"dataframe\">\n",
       "  <thead>\n",
       "    <tr style=\"text-align: right;\">\n",
       "      <th></th>\n",
       "      <th>Customer_ID</th>\n",
       "      <th>luxury_sales</th>\n",
       "      <th>fresh_sales</th>\n",
       "      <th>dry_sales</th>\n",
       "      <th>cluster_catgeory</th>\n",
       "      <th>dry_sales_numeric</th>\n",
       "      <th>fresh_sales_numeric</th>\n",
       "      <th>luxury_sales_numeric</th>\n",
       "      <th>clusterCategory_numeric</th>\n",
       "      <th>total_sales</th>\n",
       "    </tr>\n",
       "  </thead>\n",
       "  <tbody>\n",
       "    <tr>\n",
       "      <th>count</th>\n",
       "      <td>7.741490e+05</td>\n",
       "      <td>7.741490e+05</td>\n",
       "      <td>7.741490e+05</td>\n",
       "      <td>7.741490e+05</td>\n",
       "      <td>774149.000000</td>\n",
       "      <td>774112.000000</td>\n",
       "      <td>774104.000000</td>\n",
       "      <td>774111.000000</td>\n",
       "      <td>774148.000000</td>\n",
       "      <td>7.741490e+05</td>\n",
       "    </tr>\n",
       "    <tr>\n",
       "      <th>mean</th>\n",
       "      <td>1.038708e+07</td>\n",
       "      <td>5.803668e-16</td>\n",
       "      <td>-8.914035e-17</td>\n",
       "      <td>-2.847498e-16</td>\n",
       "      <td>3.292104</td>\n",
       "      <td>4676.283285</td>\n",
       "      <td>4428.688842</td>\n",
       "      <td>1921.968250</td>\n",
       "      <td>3.292100</td>\n",
       "      <td>-4.144218e-16</td>\n",
       "    </tr>\n",
       "    <tr>\n",
       "      <th>std</th>\n",
       "      <td>2.234803e+05</td>\n",
       "      <td>1.000001e+00</td>\n",
       "      <td>1.000001e+00</td>\n",
       "      <td>1.000001e+00</td>\n",
       "      <td>1.867014</td>\n",
       "      <td>3409.384253</td>\n",
       "      <td>3334.667387</td>\n",
       "      <td>1004.082949</td>\n",
       "      <td>1.867013</td>\n",
       "      <td>1.000001e+00</td>\n",
       "    </tr>\n",
       "    <tr>\n",
       "      <th>min</th>\n",
       "      <td>1.000000e+07</td>\n",
       "      <td>-1.416222e+00</td>\n",
       "      <td>-1.178170e+00</td>\n",
       "      <td>-1.224968e+00</td>\n",
       "      <td>1.000000</td>\n",
       "      <td>500.000000</td>\n",
       "      <td>500.000000</td>\n",
       "      <td>500.000000</td>\n",
       "      <td>1.000000</td>\n",
       "      <td>-1.698544e+00</td>\n",
       "    </tr>\n",
       "    <tr>\n",
       "      <th>25%</th>\n",
       "      <td>1.019354e+07</td>\n",
       "      <td>-7.055553e-01</td>\n",
       "      <td>-8.422286e-01</td>\n",
       "      <td>-8.471777e-01</td>\n",
       "      <td>2.000000</td>\n",
       "      <td>1787.940000</td>\n",
       "      <td>1620.190000</td>\n",
       "      <td>1213.525000</td>\n",
       "      <td>2.000000</td>\n",
       "      <td>-8.363423e-01</td>\n",
       "    </tr>\n",
       "    <tr>\n",
       "      <th>50%</th>\n",
       "      <td>1.038708e+07</td>\n",
       "      <td>-2.058131e-01</td>\n",
       "      <td>-3.214686e-01</td>\n",
       "      <td>-2.781284e-01</td>\n",
       "      <td>3.000000</td>\n",
       "      <td>3727.760000</td>\n",
       "      <td>3356.510000</td>\n",
       "      <td>1715.280000</td>\n",
       "      <td>3.000000</td>\n",
       "      <td>-6.716999e-02</td>\n",
       "    </tr>\n",
       "    <tr>\n",
       "      <th>75%</th>\n",
       "      <td>1.058062e+07</td>\n",
       "      <td>4.150377e-01</td>\n",
       "      <td>6.725282e-01</td>\n",
       "      <td>7.290283e-01</td>\n",
       "      <td>5.000000</td>\n",
       "      <td>7162.200000</td>\n",
       "      <td>6671.610000</td>\n",
       "      <td>2338.700000</td>\n",
       "      <td>5.000000</td>\n",
       "      <td>7.053880e-01</td>\n",
       "    </tr>\n",
       "    <tr>\n",
       "      <th>max</th>\n",
       "      <td>1.077416e+07</td>\n",
       "      <td>5.057162e+00</td>\n",
       "      <td>2.869700e+00</td>\n",
       "      <td>2.734583e+00</td>\n",
       "      <td>6.000000</td>\n",
       "      <td>13999.300000</td>\n",
       "      <td>13997.900000</td>\n",
       "      <td>6999.650000</td>\n",
       "      <td>6.000000</td>\n",
       "      <td>2.596554e+00</td>\n",
       "    </tr>\n",
       "  </tbody>\n",
       "</table>\n",
       "</div>"
      ],
      "text/plain": [
       "        Customer_ID  luxury_sales   fresh_sales     dry_sales  \\\n",
       "count  7.741490e+05  7.741490e+05  7.741490e+05  7.741490e+05   \n",
       "mean   1.038708e+07  5.803668e-16 -8.914035e-17 -2.847498e-16   \n",
       "std    2.234803e+05  1.000001e+00  1.000001e+00  1.000001e+00   \n",
       "min    1.000000e+07 -1.416222e+00 -1.178170e+00 -1.224968e+00   \n",
       "25%    1.019354e+07 -7.055553e-01 -8.422286e-01 -8.471777e-01   \n",
       "50%    1.038708e+07 -2.058131e-01 -3.214686e-01 -2.781284e-01   \n",
       "75%    1.058062e+07  4.150377e-01  6.725282e-01  7.290283e-01   \n",
       "max    1.077416e+07  5.057162e+00  2.869700e+00  2.734583e+00   \n",
       "\n",
       "       cluster_catgeory  dry_sales_numeric  fresh_sales_numeric  \\\n",
       "count     774149.000000      774112.000000        774104.000000   \n",
       "mean           3.292104        4676.283285          4428.688842   \n",
       "std            1.867014        3409.384253          3334.667387   \n",
       "min            1.000000         500.000000           500.000000   \n",
       "25%            2.000000        1787.940000          1620.190000   \n",
       "50%            3.000000        3727.760000          3356.510000   \n",
       "75%            5.000000        7162.200000          6671.610000   \n",
       "max            6.000000       13999.300000         13997.900000   \n",
       "\n",
       "       luxury_sales_numeric  clusterCategory_numeric   total_sales  \n",
       "count         774111.000000            774148.000000  7.741490e+05  \n",
       "mean            1921.968250                 3.292100 -4.144218e-16  \n",
       "std             1004.082949                 1.867013  1.000001e+00  \n",
       "min              500.000000                 1.000000 -1.698544e+00  \n",
       "25%             1213.525000                 2.000000 -8.363423e-01  \n",
       "50%             1715.280000                 3.000000 -6.716999e-02  \n",
       "75%             2338.700000                 5.000000  7.053880e-01  \n",
       "max             6999.650000                 6.000000  2.596554e+00  "
      ]
     },
     "execution_count": 68,
     "metadata": {},
     "output_type": "execute_result"
    }
   ],
   "source": [
    "train_df.describe()"
   ]
  },
  {
   "cell_type": "code",
   "execution_count": 69,
   "id": "cf1e06b4",
   "metadata": {
    "execution": {
     "iopub.execute_input": "2024-05-19T08:39:17.012063Z",
     "iopub.status.busy": "2024-05-19T08:39:17.011675Z",
     "iopub.status.idle": "2024-05-19T08:39:17.018646Z",
     "shell.execute_reply": "2024-05-19T08:39:17.017548Z"
    },
    "papermill": {
     "duration": 0.036781,
     "end_time": "2024-05-19T08:39:17.020820",
     "exception": false,
     "start_time": "2024-05-19T08:39:16.984039",
     "status": "completed"
    },
    "tags": []
   },
   "outputs": [
    {
     "data": {
      "text/plain": [
       "Index(['Customer_ID', 'luxury_sales', 'fresh_sales', 'dry_sales',\n",
       "       'cluster_catgeory', 'dry_sales_numeric', 'fresh_sales_numeric',\n",
       "       'luxury_sales_numeric', 'clusterCategory_numeric',\n",
       "       'outlet_city_Batticaloa', 'outlet_city_Colombo',\n",
       "       'outlet_city_Dehiwala-Mount Lavinia', 'outlet_city_Galle',\n",
       "       'outlet_city_Gampaha', 'outlet_city_Homagama', 'outlet_city_Jaffna',\n",
       "       'outlet_city_Kaduwela', 'outlet_city_Kalmunai', 'outlet_city_Kandy',\n",
       "       'outlet_city_Katunayake', 'outlet_city_Kelaniya', 'outlet_city_Kotte',\n",
       "       'outlet_city_Moratuwa', 'outlet_city_Negombo',\n",
       "       'outlet_city_Nuwara Eliya', 'outlet_city_Panadura',\n",
       "       'outlet_city_Peliyagoda', 'outlet_city_Trincomalee',\n",
       "       'outlet_city_Wattala', 'total_sales'],\n",
       "      dtype='object')"
      ]
     },
     "execution_count": 69,
     "metadata": {},
     "output_type": "execute_result"
    }
   ],
   "source": [
    "train_df.columns"
   ]
  },
  {
   "cell_type": "code",
   "execution_count": 70,
   "id": "26ae1130",
   "metadata": {
    "execution": {
     "iopub.execute_input": "2024-05-19T08:39:17.075900Z",
     "iopub.status.busy": "2024-05-19T08:39:17.075408Z",
     "iopub.status.idle": "2024-05-19T08:39:17.136814Z",
     "shell.execute_reply": "2024-05-19T08:39:17.135572Z"
    },
    "papermill": {
     "duration": 0.091388,
     "end_time": "2024-05-19T08:39:17.139498",
     "exception": false,
     "start_time": "2024-05-19T08:39:17.048110",
     "status": "completed"
    },
    "tags": []
   },
   "outputs": [],
   "source": [
    "# Select columns to include in the cleaned DataFrame\n",
    "selected_columns = ['Customer_ID', 'luxury_sales', 'fresh_sales', 'dry_sales',\n",
    "       'cluster_catgeory', \n",
    "       'outlet_city_Batticaloa', 'outlet_city_Colombo',\n",
    "       'outlet_city_Dehiwala-Mount Lavinia', 'outlet_city_Galle',\n",
    "       'outlet_city_Gampaha', 'outlet_city_Homagama', 'outlet_city_Jaffna',\n",
    "       'outlet_city_Kaduwela', 'outlet_city_Kalmunai', 'outlet_city_Kandy',\n",
    "       'outlet_city_Katunayake', 'outlet_city_Kelaniya', 'outlet_city_Kotte',\n",
    "       'outlet_city_Moratuwa', 'outlet_city_Negombo',\n",
    "       'outlet_city_Nuwara Eliya', 'outlet_city_Panadura',\n",
    "       'outlet_city_Peliyagoda', 'outlet_city_Trincomalee',\n",
    "       'outlet_city_Wattala', 'total_sales']\n",
    "# Create the cleaned DataFrame\n",
    "cleaned_train_df = train_df.loc[:, selected_columns].copy()\n"
   ]
  },
  {
   "cell_type": "code",
   "execution_count": 71,
   "id": "12a1ad7a",
   "metadata": {
    "execution": {
     "iopub.execute_input": "2024-05-19T08:39:17.194541Z",
     "iopub.status.busy": "2024-05-19T08:39:17.194158Z",
     "iopub.status.idle": "2024-05-19T08:39:17.218145Z",
     "shell.execute_reply": "2024-05-19T08:39:17.216865Z"
    },
    "papermill": {
     "duration": 0.053952,
     "end_time": "2024-05-19T08:39:17.220484",
     "exception": false,
     "start_time": "2024-05-19T08:39:17.166532",
     "status": "completed"
    },
    "tags": []
   },
   "outputs": [
    {
     "data": {
      "text/html": [
       "<div>\n",
       "<style scoped>\n",
       "    .dataframe tbody tr th:only-of-type {\n",
       "        vertical-align: middle;\n",
       "    }\n",
       "\n",
       "    .dataframe tbody tr th {\n",
       "        vertical-align: top;\n",
       "    }\n",
       "\n",
       "    .dataframe thead th {\n",
       "        text-align: right;\n",
       "    }\n",
       "</style>\n",
       "<table border=\"1\" class=\"dataframe\">\n",
       "  <thead>\n",
       "    <tr style=\"text-align: right;\">\n",
       "      <th></th>\n",
       "      <th>Customer_ID</th>\n",
       "      <th>luxury_sales</th>\n",
       "      <th>fresh_sales</th>\n",
       "      <th>dry_sales</th>\n",
       "      <th>cluster_catgeory</th>\n",
       "      <th>outlet_city_Batticaloa</th>\n",
       "      <th>outlet_city_Colombo</th>\n",
       "      <th>outlet_city_Dehiwala-Mount Lavinia</th>\n",
       "      <th>outlet_city_Galle</th>\n",
       "      <th>outlet_city_Gampaha</th>\n",
       "      <th>...</th>\n",
       "      <th>outlet_city_Kelaniya</th>\n",
       "      <th>outlet_city_Kotte</th>\n",
       "      <th>outlet_city_Moratuwa</th>\n",
       "      <th>outlet_city_Negombo</th>\n",
       "      <th>outlet_city_Nuwara Eliya</th>\n",
       "      <th>outlet_city_Panadura</th>\n",
       "      <th>outlet_city_Peliyagoda</th>\n",
       "      <th>outlet_city_Trincomalee</th>\n",
       "      <th>outlet_city_Wattala</th>\n",
       "      <th>total_sales</th>\n",
       "    </tr>\n",
       "  </thead>\n",
       "  <tbody>\n",
       "    <tr>\n",
       "      <th>0</th>\n",
       "      <td>10493832</td>\n",
       "      <td>-0.709489</td>\n",
       "      <td>-1.101399</td>\n",
       "      <td>0.180599</td>\n",
       "      <td>4</td>\n",
       "      <td>False</td>\n",
       "      <td>False</td>\n",
       "      <td>False</td>\n",
       "      <td>False</td>\n",
       "      <td>False</td>\n",
       "      <td>...</td>\n",
       "      <td>True</td>\n",
       "      <td>False</td>\n",
       "      <td>False</td>\n",
       "      <td>False</td>\n",
       "      <td>False</td>\n",
       "      <td>False</td>\n",
       "      <td>False</td>\n",
       "      <td>False</td>\n",
       "      <td>False</td>\n",
       "      <td>-0.982408</td>\n",
       "    </tr>\n",
       "    <tr>\n",
       "      <th>1</th>\n",
       "      <td>10178643</td>\n",
       "      <td>-0.330507</td>\n",
       "      <td>-1.010208</td>\n",
       "      <td>0.390355</td>\n",
       "      <td>1</td>\n",
       "      <td>False</td>\n",
       "      <td>False</td>\n",
       "      <td>False</td>\n",
       "      <td>False</td>\n",
       "      <td>False</td>\n",
       "      <td>...</td>\n",
       "      <td>False</td>\n",
       "      <td>False</td>\n",
       "      <td>True</td>\n",
       "      <td>False</td>\n",
       "      <td>False</td>\n",
       "      <td>False</td>\n",
       "      <td>False</td>\n",
       "      <td>False</td>\n",
       "      <td>False</td>\n",
       "      <td>-0.617597</td>\n",
       "    </tr>\n",
       "    <tr>\n",
       "      <th>2</th>\n",
       "      <td>10513916</td>\n",
       "      <td>0.365429</td>\n",
       "      <td>-0.883967</td>\n",
       "      <td>1.313829</td>\n",
       "      <td>4</td>\n",
       "      <td>False</td>\n",
       "      <td>False</td>\n",
       "      <td>False</td>\n",
       "      <td>False</td>\n",
       "      <td>False</td>\n",
       "      <td>...</td>\n",
       "      <td>False</td>\n",
       "      <td>False</td>\n",
       "      <td>False</td>\n",
       "      <td>False</td>\n",
       "      <td>False</td>\n",
       "      <td>False</td>\n",
       "      <td>False</td>\n",
       "      <td>False</td>\n",
       "      <td>True</td>\n",
       "      <td>0.494808</td>\n",
       "    </tr>\n",
       "    <tr>\n",
       "      <th>3</th>\n",
       "      <td>10334589</td>\n",
       "      <td>0.351545</td>\n",
       "      <td>-0.806410</td>\n",
       "      <td>1.297473</td>\n",
       "      <td>4</td>\n",
       "      <td>False</td>\n",
       "      <td>False</td>\n",
       "      <td>False</td>\n",
       "      <td>False</td>\n",
       "      <td>False</td>\n",
       "      <td>...</td>\n",
       "      <td>False</td>\n",
       "      <td>False</td>\n",
       "      <td>False</td>\n",
       "      <td>False</td>\n",
       "      <td>False</td>\n",
       "      <td>False</td>\n",
       "      <td>False</td>\n",
       "      <td>False</td>\n",
       "      <td>True</td>\n",
       "      <td>0.544047</td>\n",
       "    </tr>\n",
       "    <tr>\n",
       "      <th>4</th>\n",
       "      <td>10458365</td>\n",
       "      <td>0.421810</td>\n",
       "      <td>-0.707480</td>\n",
       "      <td>1.339778</td>\n",
       "      <td>4</td>\n",
       "      <td>False</td>\n",
       "      <td>False</td>\n",
       "      <td>False</td>\n",
       "      <td>False</td>\n",
       "      <td>False</td>\n",
       "      <td>...</td>\n",
       "      <td>True</td>\n",
       "      <td>False</td>\n",
       "      <td>False</td>\n",
       "      <td>False</td>\n",
       "      <td>False</td>\n",
       "      <td>False</td>\n",
       "      <td>False</td>\n",
       "      <td>False</td>\n",
       "      <td>False</td>\n",
       "      <td>0.686005</td>\n",
       "    </tr>\n",
       "  </tbody>\n",
       "</table>\n",
       "<p>5 rows × 26 columns</p>\n",
       "</div>"
      ],
      "text/plain": [
       "   Customer_ID  luxury_sales  fresh_sales  dry_sales  cluster_catgeory  \\\n",
       "0     10493832     -0.709489    -1.101399   0.180599                 4   \n",
       "1     10178643     -0.330507    -1.010208   0.390355                 1   \n",
       "2     10513916      0.365429    -0.883967   1.313829                 4   \n",
       "3     10334589      0.351545    -0.806410   1.297473                 4   \n",
       "4     10458365      0.421810    -0.707480   1.339778                 4   \n",
       "\n",
       "   outlet_city_Batticaloa  outlet_city_Colombo  \\\n",
       "0                   False                False   \n",
       "1                   False                False   \n",
       "2                   False                False   \n",
       "3                   False                False   \n",
       "4                   False                False   \n",
       "\n",
       "   outlet_city_Dehiwala-Mount Lavinia  outlet_city_Galle  outlet_city_Gampaha  \\\n",
       "0                               False              False                False   \n",
       "1                               False              False                False   \n",
       "2                               False              False                False   \n",
       "3                               False              False                False   \n",
       "4                               False              False                False   \n",
       "\n",
       "   ...  outlet_city_Kelaniya  outlet_city_Kotte  outlet_city_Moratuwa  \\\n",
       "0  ...                  True              False                 False   \n",
       "1  ...                 False              False                  True   \n",
       "2  ...                 False              False                 False   \n",
       "3  ...                 False              False                 False   \n",
       "4  ...                  True              False                 False   \n",
       "\n",
       "   outlet_city_Negombo  outlet_city_Nuwara Eliya  outlet_city_Panadura  \\\n",
       "0                False                     False                 False   \n",
       "1                False                     False                 False   \n",
       "2                False                     False                 False   \n",
       "3                False                     False                 False   \n",
       "4                False                     False                 False   \n",
       "\n",
       "   outlet_city_Peliyagoda  outlet_city_Trincomalee  outlet_city_Wattala  \\\n",
       "0                   False                    False                False   \n",
       "1                   False                    False                False   \n",
       "2                   False                    False                 True   \n",
       "3                   False                    False                 True   \n",
       "4                   False                    False                False   \n",
       "\n",
       "   total_sales  \n",
       "0    -0.982408  \n",
       "1    -0.617597  \n",
       "2     0.494808  \n",
       "3     0.544047  \n",
       "4     0.686005  \n",
       "\n",
       "[5 rows x 26 columns]"
      ]
     },
     "execution_count": 71,
     "metadata": {},
     "output_type": "execute_result"
    }
   ],
   "source": [
    "cleaned_train_df.head()"
   ]
  },
  {
   "cell_type": "code",
   "execution_count": 72,
   "id": "6c94fab9",
   "metadata": {
    "execution": {
     "iopub.execute_input": "2024-05-19T08:39:17.275756Z",
     "iopub.status.busy": "2024-05-19T08:39:17.275387Z",
     "iopub.status.idle": "2024-05-19T08:39:17.282387Z",
     "shell.execute_reply": "2024-05-19T08:39:17.281283Z"
    },
    "papermill": {
     "duration": 0.037757,
     "end_time": "2024-05-19T08:39:17.284778",
     "exception": false,
     "start_time": "2024-05-19T08:39:17.247021",
     "status": "completed"
    },
    "tags": []
   },
   "outputs": [
    {
     "data": {
      "text/plain": [
       "Index(['Customer_ID', 'luxury_sales', 'fresh_sales', 'dry_sales',\n",
       "       'luxury_sales_numeric', 'fresh_sales_numeric', 'dry_sales_numeric',\n",
       "       'total_sales', 'outlet_city_Anuradhapura', 'outlet_city_Batticaloa',\n",
       "       'outlet_city_Colombo', 'outlet_city_Dehiwala-Mount Lavinia',\n",
       "       'outlet_city_Galle', 'outlet_city_Gampaha', 'outlet_city_Homagama',\n",
       "       'outlet_city_Jaffna', 'outlet_city_Kaduwela', 'outlet_city_Kalmunai',\n",
       "       'outlet_city_Kandy', 'outlet_city_Katunayake', 'outlet_city_Kelaniya',\n",
       "       'outlet_city_Kotte', 'outlet_city_Madawachiya', 'outlet_city_MoraTuwa',\n",
       "       'outlet_city_Moratuwa', 'outlet_city_Negombo',\n",
       "       'outlet_city_Nuwara Eliya', 'outlet_city_Panadura',\n",
       "       'outlet_city_PeliyagodA', 'outlet_city_Peliyagoda',\n",
       "       'outlet_city_Trincomale', 'outlet_city_Trincomalee',\n",
       "       'outlet_city_Wattala', 'outlet_city_batticaloa',\n",
       "       'outlet_city_kalmunai'],\n",
       "      dtype='object')"
      ]
     },
     "execution_count": 72,
     "metadata": {},
     "output_type": "execute_result"
    }
   ],
   "source": [
    "test_df.columns"
   ]
  },
  {
   "cell_type": "code",
   "execution_count": 73,
   "id": "66e46c58",
   "metadata": {
    "execution": {
     "iopub.execute_input": "2024-05-19T08:39:17.340652Z",
     "iopub.status.busy": "2024-05-19T08:39:17.340268Z",
     "iopub.status.idle": "2024-05-19T08:39:17.347911Z",
     "shell.execute_reply": "2024-05-19T08:39:17.346837Z"
    },
    "papermill": {
     "duration": 0.038278,
     "end_time": "2024-05-19T08:39:17.350265",
     "exception": false,
     "start_time": "2024-05-19T08:39:17.311987",
     "status": "completed"
    },
    "tags": []
   },
   "outputs": [],
   "source": [
    "X_test = test_df[['luxury_sales', 'fresh_sales', 'dry_sales', \n",
    "       'outlet_city_Batticaloa', 'outlet_city_Colombo',\n",
    "       'outlet_city_Dehiwala-Mount Lavinia', 'outlet_city_Galle',\n",
    "       'outlet_city_Gampaha', 'outlet_city_Homagama', 'outlet_city_Jaffna',\n",
    "       'outlet_city_Kaduwela', 'outlet_city_Kalmunai', 'outlet_city_Kandy',\n",
    "       'outlet_city_Katunayake', 'outlet_city_Kelaniya', 'outlet_city_Kotte',\n",
    "       'outlet_city_Moratuwa', 'outlet_city_Negombo',\n",
    "       'outlet_city_Nuwara Eliya', 'outlet_city_Panadura',\n",
    "       'outlet_city_Peliyagoda', 'outlet_city_Trincomalee',\n",
    "       'outlet_city_Wattala','total_sales']]\n"
   ]
  },
  {
   "cell_type": "code",
   "execution_count": 74,
   "id": "27655803",
   "metadata": {
    "execution": {
     "iopub.execute_input": "2024-05-19T08:39:17.408260Z",
     "iopub.status.busy": "2024-05-19T08:39:17.407859Z",
     "iopub.status.idle": "2024-05-19T08:39:17.411692Z",
     "shell.execute_reply": "2024-05-19T08:39:17.410604Z"
    },
    "papermill": {
     "duration": 0.035812,
     "end_time": "2024-05-19T08:39:17.413788",
     "exception": false,
     "start_time": "2024-05-19T08:39:17.377976",
     "status": "completed"
    },
    "tags": []
   },
   "outputs": [],
   "source": [
    "# y_pred = clf.predict(X_test)"
   ]
  },
  {
   "cell_type": "code",
   "execution_count": 75,
   "id": "887267d5",
   "metadata": {
    "execution": {
     "iopub.execute_input": "2024-05-19T08:39:17.470445Z",
     "iopub.status.busy": "2024-05-19T08:39:17.470014Z",
     "iopub.status.idle": "2024-05-19T08:39:27.288767Z",
     "shell.execute_reply": "2024-05-19T08:39:27.287780Z"
    },
    "papermill": {
     "duration": 9.849522,
     "end_time": "2024-05-19T08:39:27.291270",
     "exception": false,
     "start_time": "2024-05-19T08:39:17.441748",
     "status": "completed"
    },
    "tags": []
   },
   "outputs": [],
   "source": [
    "\n",
    "cleaned_train_df.to_csv('cleanedTrain.csv',index=False)"
   ]
  }
 ],
 "metadata": {
  "kaggle": {
   "accelerator": "none",
   "dataSources": [
    {
     "databundleVersionId": 8564874,
     "sourceId": 78060,
     "sourceType": "competition"
    }
   ],
   "dockerImageVersionId": 30698,
   "isGpuEnabled": false,
   "isInternetEnabled": false,
   "language": "python",
   "sourceType": "notebook"
  },
  "kernelspec": {
   "display_name": "Python 3",
   "language": "python",
   "name": "python3"
  },
  "language_info": {
   "codemirror_mode": {
    "name": "ipython",
    "version": 3
   },
   "file_extension": ".py",
   "mimetype": "text/x-python",
   "name": "python",
   "nbconvert_exporter": "python",
   "pygments_lexer": "ipython3",
   "version": "3.10.13"
  },
  "papermill": {
   "default_parameters": {},
   "duration": 30.967403,
   "end_time": "2024-05-19T08:39:27.941850",
   "environment_variables": {},
   "exception": null,
   "input_path": "__notebook__.ipynb",
   "output_path": "__notebook__.ipynb",
   "parameters": {},
   "start_time": "2024-05-19T08:38:56.974447",
   "version": "2.5.0"
  }
 },
 "nbformat": 4,
 "nbformat_minor": 5
}
